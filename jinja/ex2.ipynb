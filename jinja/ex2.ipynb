{
 "cells": [
  {
   "cell_type": "markdown",
   "source": [
    "[Jinja2 #2: Экранирование и блоки raw, for, if](https://www.youtube.com/watch?v=F63wc5nPdho&list=PLA0M1Bcd0w8wfmtElObQrBbZjY6XeA06U&index=2&ab_channel=selfedu)"
   ],
   "metadata": {
    "collapsed": false,
    "pycharm": {
     "name": "#%% md\n"
    }
   }
  },
  {
   "cell_type": "code",
   "execution_count": 6,
   "outputs": [
    {
     "name": "stdout",
     "output_type": "stream",
     "text": [
      "Модуль Jinja вместо определения Alex подставляет соответствующее значение\n"
     ]
    }
   ],
   "source": [
    "from jinja2 import Template\n",
    "\n",
    "data = \"\"\"Модуль Jinja вместо определения {{ name }} подставляет соответствующее значение\"\"\"\n",
    "\n",
    "tm = Template(data)\n",
    "msg = tm.render(name='Alex')\n",
    "\n",
    "print(msg)"
   ],
   "metadata": {
    "collapsed": false,
    "pycharm": {
     "name": "#%%\n"
    }
   }
  },
  {
   "cell_type": "code",
   "execution_count": 10,
   "outputs": [
    {
     "name": "stdout",
     "output_type": "stream",
     "text": [
      " Модуль Jinja подставляет сырую строку \n"
     ]
    }
   ],
   "source": [
    "from jinja2 import Template\n",
    "\n",
    "data = \"\"\"{% raw %} Модуль Jinja подставляет сырую строку {% endraw %}\"\"\"\n",
    "\n",
    "tm = Template(data)\n",
    "msg = tm.render(name='Alex')\n",
    "\n",
    "print(msg)\n"
   ],
   "metadata": {
    "collapsed": false,
    "pycharm": {
     "name": "#%%\n"
    }
   }
  }
 ],
 "metadata": {
  "kernelspec": {
   "display_name": "Python 3",
   "language": "python",
   "name": "python3"
  },
  "language_info": {
   "codemirror_mode": {
    "name": "ipython",
    "version": 2
   },
   "file_extension": ".py",
   "mimetype": "text/x-python",
   "name": "python",
   "nbconvert_exporter": "python",
   "pygments_lexer": "ipython2",
   "version": "2.7.6"
  }
 },
 "nbformat": 4,
 "nbformat_minor": 0
}