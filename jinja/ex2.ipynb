{
 "cells": [
  {
   "cell_type": "markdown",
   "source": [
    "[Jinja2 #2: Экранирование и блоки raw, for, if](https://www.youtube.com/watch?v=F63wc5nPdho&list=PLA0M1Bcd0w8wfmtElObQrBbZjY6XeA06U&index=2&ab_channel=selfedu)"
   ],
   "metadata": {
    "collapsed": false
   }
  },
  {
   "cell_type": "code",
   "execution_count": 14,
   "outputs": [
    {
     "name": "stdout",
     "output_type": "stream",
     "text": [
      "Модуль Jinja вместо определения Alex подставляет соответствующее значение\n"
     ]
    }
   ],
   "source": [
    "from jinja2 import Template\n",
    "\n",
    "data = \"\"\"Модуль Jinja вместо определения {{ name }} подставляет соответствующее значение\"\"\"\n",
    "\n",
    "tm = Template(data)\n",
    "msg = tm.render(name='Alex')\n",
    "\n",
    "print(msg)"
   ],
   "metadata": {
    "collapsed": false
   }
  },
  {
   "cell_type": "code",
   "execution_count": 13,
   "outputs": [
    {
     "name": "stdout",
     "output_type": "stream",
     "text": [
      " Модуль Jinja подставляет сырую строку \n"
     ]
    }
   ],
   "source": [
    "from jinja2 import Template\n",
    "\n",
    "data = \"\"\"{% raw %} Модуль Jinja подставляет сырую строку {% endraw %}\"\"\"\n",
    "\n",
    "tm = Template(data)\n",
    "msg = tm.render(name='Alex')\n",
    "\n",
    "print(msg)\n"
   ],
   "metadata": {
    "collapsed": false
   }
  },
  {
   "cell_type": "markdown",
   "source": [
    "Экранирование"
   ],
   "metadata": {
    "collapsed": false
   }
  },
  {
   "cell_type": "code",
   "execution_count": 18,
   "outputs": [
    {
     "name": "stdout",
     "output_type": "stream",
     "text": [
      "&lt;a href=&#34;#&#34;&gt;Link&lt;/a&gt;\n"
     ]
    }
   ],
   "source": [
    "from jinja2 import Template\n",
    "\n",
    "link = \"\"\"<a href=\"#\">Link</a>\"\"\"\n",
    "\n",
    "tm = Template(\"{{ link | e }}\")\n",
    "msg = tm.render(link=link)\n",
    "\n",
    "print(msg)\n"
   ],
   "metadata": {
    "collapsed": false
   }
  },
  {
   "cell_type": "code",
   "execution_count": 20,
   "outputs": [
    {
     "name": "stdout",
     "output_type": "stream",
     "text": [
      "&lt;a href=&#34;#&#34;&gt;Link&lt;/a&gt;\n"
     ]
    },
    {
     "name": "stderr",
     "output_type": "stream",
     "text": [
      "C:\\Users\\LocAdmin\\AppData\\Local\\Temp/ipykernel_38784/1379100437.py:5: DeprecationWarning: 'jinja2.escape' is deprecated and will be removed in Jinja 3.1. Import 'markupsafe.escape' instead.\n",
      "  msg = escape(link)\n"
     ]
    }
   ],
   "source": [
    "# Или проще\n",
    "from jinja2 import escape\n",
    "\n",
    "link = \"\"\"<a href=\"#\">Link</a>\"\"\"\n",
    "msg = escape(link)\n",
    "print(msg)\n"
   ],
   "metadata": {
    "collapsed": false
   }
  },
  {
   "cell_type": "markdown",
   "source": [
    "FOR"
   ],
   "metadata": {
    "collapsed": false
   }
  },
  {
   "cell_type": "code",
   "execution_count": 27,
   "outputs": [
    {
     "name": "stdout",
     "output_type": "stream",
     "text": [
      "<select name=\"cities\">\n",
      "<option value=\"1\">New York City</option>\n",
      "<option value=\"2\">Los Angeles</option>\n",
      "<option value=\"3\">Chicago</option>\n",
      "<option value=\"4\">Houston</option>\n",
      "<option value=\"5\">Phoenix</option>\n",
      "\n"
     ]
    }
   ],
   "source": [
    "from jinja2 import Template\n",
    "\n",
    "cities = [\n",
    "    {\"id\": 1, \"name\": \"New York City\"},\n",
    "    {\"id\": 2, \"name\": \"Los Angeles\"},\n",
    "    {\"id\": 3, \"name\": \"Chicago\"},\n",
    "    {\"id\": 4, \"name\": \"Houston\"},\n",
    "    {\"id\": 5, \"name\": \"Phoenix\"}\n",
    "]\n",
    "\n",
    "# С помощью знака \"-\" можно убрать переносы строк\n",
    "\n",
    "link = \"\"\"<select name=\"cities\">\n",
    "{% for c in cities -%}\n",
    "    <option value=\"{{c['id']}}\">{{c['name']}}</option>\n",
    "{% endfor -%}\n",
    "\"\"\"\n",
    "\n",
    "tm = Template(link)\n",
    "msg = tm.render(cities=cities)\n",
    "print(msg)"
   ],
   "metadata": {
    "collapsed": false
   }
  },
  {
   "cell_type": "markdown",
   "source": [
    "### IF"
   ],
   "metadata": {
    "collapsed": false
   }
  },
  {
   "cell_type": "code",
   "execution_count": 33,
   "outputs": [
    {
     "name": "stdout",
     "output_type": "stream",
     "text": [
      "<select name=\"cities\">\n",
      "1\n",
      "2\n",
      "3\n",
      "<option value=\"4\">Houston</option>\n",
      "<option value=\"5\">Phoenix</option>\n",
      "\n"
     ]
    }
   ],
   "source": [
    "from jinja2 import Template\n",
    "\n",
    "cities = [\n",
    "    {\"id\": 1, \"name\": \"New York City\"},\n",
    "    {\"id\": 2, \"name\": \"Los Angeles\"},\n",
    "    {\"id\": 3, \"name\": \"Chicago\"},\n",
    "    {\"id\": 4, \"name\": \"Houston\"},\n",
    "    {\"id\": 5, \"name\": \"Phoenix\"}\n",
    "]\n",
    "\n",
    "# С помощью знака \"-\" можно убрать переносы строк\n",
    "\n",
    "link = \"\"\"<select name=\"cities\">\n",
    "{% for c in cities -%}\n",
    "{% if c.id > 3 -%}\n",
    "    <option value=\"{{c['id']}}\">{{c['name']}}</option>\n",
    "{% else -%}\n",
    "    {{c['id']}}\n",
    "{% endif -%}\n",
    "{% endfor -%}\n",
    "\"\"\"\n",
    "\n",
    "tm = Template(link)\n",
    "msg = tm.render(cities=cities)\n",
    "print(msg)"
   ],
   "metadata": {
    "collapsed": false
   }
  },
  {
   "cell_type": "code",
   "execution_count": null,
   "outputs": [],
   "source": [],
   "metadata": {
    "collapsed": false
   }
  }
 ],
 "metadata": {
  "kernelspec": {
   "display_name": "Python 3",
   "language": "python",
   "name": "python3"
  },
  "language_info": {
   "codemirror_mode": {
    "name": "ipython",
    "version": 2
   },
   "file_extension": ".py",
   "mimetype": "text/x-python",
   "name": "python",
   "nbconvert_exporter": "python",
   "pygments_lexer": "ipython2",
   "version": "2.7.6"
  }
 },
 "nbformat": 4,
 "nbformat_minor": 0
}
