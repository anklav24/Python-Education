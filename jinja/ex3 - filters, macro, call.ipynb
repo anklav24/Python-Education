{
 "cells": [
  {
   "cell_type": "markdown",
   "source": [
    "### Filters, macro, call"
   ],
   "metadata": {
    "collapsed": false
   }
  },
  {
   "cell_type": "code",
   "execution_count": 4,
   "outputs": [
    {
     "name": "stdout",
     "output_type": "stream",
     "text": [
      "Total sum 1157\n"
     ]
    }
   ],
   "source": [
    "from jinja2 import Template\n",
    "\n",
    "cars = [\n",
    "    {\"id\": 1, \"price\": 100},\n",
    "    {\"id\": 2, \"price\": 200},\n",
    "    {\"id\": 3, \"price\": 123},\n",
    "    {\"id\": 4, \"price\": 432},\n",
    "    {\"id\": 5, \"price\": 302}\n",
    "]\n",
    "\n",
    "tmp = \"Total sum {{ cs | sum(attribute='price') }}\"\n",
    "tm = Template(tmp)\n",
    "msg = tm.render(cs=cars)\n",
    "print(msg)"
   ],
   "metadata": {
    "collapsed": false
   }
  },
  {
   "cell_type": "code",
   "execution_count": 6,
   "outputs": [
    {
     "name": "stdout",
     "output_type": "stream",
     "text": [
      "Total sum 15\n"
     ]
    }
   ],
   "source": [
    "from jinja2 import Template\n",
    "\n",
    "digits = [1, 2, 3, 4, 5]\n",
    "\n",
    "tmp = \"Total sum {{ digits | sum }}\"\n",
    "tm = Template(tmp)\n",
    "msg = tm.render(digits=digits)\n",
    "print(msg)\n"
   ],
   "metadata": {
    "collapsed": false
   }
  },
  {
   "cell_type": "code",
   "execution_count": 8,
   "outputs": [
    {
     "name": "stdout",
     "output_type": "stream",
     "text": [
      "Total sum 5\n"
     ]
    }
   ],
   "source": [
    "from jinja2 import Template\n",
    "\n",
    "digits = [1, 2, 3, 4, 5]\n",
    "\n",
    "tmp = \"Total sum {{ digits | max }}\"\n",
    "tm = Template(tmp)\n",
    "msg = tm.render(digits=digits)\n",
    "print(msg)"
   ],
   "metadata": {
    "collapsed": false
   }
  },
  {
   "cell_type": "code",
   "execution_count": 10,
   "outputs": [
    {
     "name": "stdout",
     "output_type": "stream",
     "text": [
      "Total sum {'id': 4, 'price': 432}\n"
     ]
    }
   ],
   "source": [
    "from jinja2 import Template\n",
    "\n",
    "cars = [\n",
    "    {\"id\": 1, \"price\": 100},\n",
    "    {\"id\": 2, \"price\": 200},\n",
    "    {\"id\": 3, \"price\": 123},\n",
    "    {\"id\": 4, \"price\": 432},\n",
    "    {\"id\": 5, \"price\": 302}\n",
    "]\n",
    "\n",
    "tmp = \"Total sum {{ cs | max(attribute='price') }}\"\n",
    "tm = Template(tmp)\n",
    "msg = tm.render(cs=cars)\n",
    "print(msg)"
   ],
   "metadata": {
    "collapsed": false
   }
  },
  {
   "cell_type": "code",
   "execution_count": 13,
   "outputs": [
    {
     "name": "stdout",
     "output_type": "stream",
     "text": [
      "Total sum 4\n"
     ]
    }
   ],
   "source": [
    "from jinja2 import Template\n",
    "\n",
    "cars = [\n",
    "    {\"id\": 1, \"price\": 100},\n",
    "    {\"id\": 2, \"price\": 200},\n",
    "    {\"id\": 3, \"price\": 123},\n",
    "    {\"id\": 4, \"price\": 432},\n",
    "    {\"id\": 5, \"price\": 302}\n",
    "]\n",
    "\n",
    "tmp = \"Total sum {{ (cs | max(attribute='price')).id }}\"\n",
    "tm = Template(tmp)\n",
    "msg = tm.render(cs=cars)\n",
    "print(msg)"
   ],
   "metadata": {
    "collapsed": false
   }
  },
  {
   "cell_type": "code",
   "execution_count": 19,
   "outputs": [
    {
     "name": "stdout",
     "output_type": "stream",
     "text": [
      "Total sum {'id': 1, 'price': 100}\n"
     ]
    }
   ],
   "source": [
    "from jinja2 import Template\n",
    "\n",
    "cars = [\n",
    "    {\"id\": 1, \"price\": 100},\n",
    "    {\"id\": 2, \"price\": 200},\n",
    "    {\"id\": 3, \"price\": 123},\n",
    "    {\"id\": 4, \"price\": 432},\n",
    "    {\"id\": 5, \"price\": 302}\n",
    "]\n",
    "\n",
    "tmp = \"Total sum {{ cs | random }}\"\n",
    "tm = Template(tmp)\n",
    "msg = tm.render(cs=cars)\n",
    "print(msg)"
   ],
   "metadata": {
    "collapsed": false
   }
  },
  {
   "cell_type": "markdown",
   "source": [
    "### Filters"
   ],
   "metadata": {
    "collapsed": false
   }
  },
  {
   "cell_type": "code",
   "execution_count": 21,
   "outputs": [
    {
     "name": "stdout",
     "output_type": "stream",
     "text": [
      "NEW YORK CITY\n",
      "LOS ANGELES\n",
      "CHICAGO\n",
      "HOUSTON\n",
      "PHOENIX\n",
      "\n"
     ]
    }
   ],
   "source": [
    "from jinja2 import Template\n",
    "\n",
    "cities = [\n",
    "    {\"id\": 1, \"name\": \"New York City\"},\n",
    "    {\"id\": 2, \"name\": \"Los Angeles\"},\n",
    "    {\"id\": 3, \"name\": \"Chicago\"},\n",
    "    {\"id\": 4, \"name\": \"Houston\"},\n",
    "    {\"id\": 5, \"name\": \"Phoenix\"}\n",
    "]\n",
    "\n",
    "tmp = \"\"\"\n",
    "{%- for u in cities -%}\n",
    "{% filter upper %}{{u.name}}{% endfilter %}\n",
    "{% endfor -%}\n",
    "\"\"\"\n",
    "tm = Template(tmp)\n",
    "msg = tm.render(cities=cities)\n",
    "print(msg)"
   ],
   "metadata": {
    "collapsed": false
   }
  },
  {
   "cell_type": "markdown",
   "source": [
    "### Macro (DRY!) and call"
   ],
   "metadata": {
    "collapsed": false
   }
  },
  {
   "cell_type": "code",
   "execution_count": 27,
   "outputs": [
    {
     "name": "stdout",
     "output_type": "stream",
     "text": [
      "\n",
      "\n",
      "\n",
      "<html>\n",
      "<body>\n",
      "    <h1>Cars for Sale</h1>\n",
      "    \n",
      "        \n",
      "    <div>\n",
      "        <h2>1</h2>\n",
      "        <p>Price: $100</p>\n",
      "    </div>\n",
      "\n",
      "    \n",
      "        \n",
      "    <div>\n",
      "        <h2>2</h2>\n",
      "        <p>Price: $200</p>\n",
      "    </div>\n",
      "\n",
      "    \n",
      "        \n",
      "    <div>\n",
      "        <h2>3</h2>\n",
      "        <p>Price: $123</p>\n",
      "    </div>\n",
      "\n",
      "    \n",
      "        \n",
      "    <div>\n",
      "        <h2>4</h2>\n",
      "        <p>Price: $432</p>\n",
      "    </div>\n",
      "\n",
      "    \n",
      "        \n",
      "    <div>\n",
      "        <h2>5</h2>\n",
      "        <p>Price: $302</p>\n",
      "    </div>\n",
      "\n",
      "    \n",
      "</body>\n",
      "</html>\n"
     ]
    }
   ],
   "source": [
    "from jinja2 import Template\n",
    "\n",
    "cars = [\n",
    "    {\"id\": 1, \"price\": 100},\n",
    "    {\"id\": 2, \"price\": 200},\n",
    "    {\"id\": 3, \"price\": 123},\n",
    "    {\"id\": 4, \"price\": 432},\n",
    "    {\"id\": 5, \"price\": 302}\n",
    "]\n",
    "\n",
    "html = \"\"\"\n",
    "{% macro display_car(car) %}\n",
    "    <div>\n",
    "        <h2>{{ car.id }}</h2>\n",
    "        <p>Price: ${{ car.price }}</p>\n",
    "    </div>\n",
    "{% endmacro %}\n",
    "\n",
    "<html>\n",
    "<body>\n",
    "    <h1>Cars for Sale</h1>\n",
    "    {% for car in cars %}\n",
    "        {{ display_car(car) }}\n",
    "    {% endfor %}\n",
    "</body>\n",
    "</html>\n",
    "\"\"\"\n",
    "\n",
    "# {{ display_car(car) }} - Вызываем макро определение (Call)\n",
    "\n",
    "tm = Template(html)\n",
    "msg = tm.render(cars=cars)\n",
    "print(msg)"
   ],
   "metadata": {
    "collapsed": false
   }
  },
  {
   "cell_type": "markdown",
   "source": [
    "### Call"
   ],
   "metadata": {
    "collapsed": false
   }
  },
  {
   "cell_type": "code",
   "execution_count": 33,
   "outputs": [
    {
     "name": "stdout",
     "output_type": "stream",
     "text": [
      "\n",
      "\n",
      "\n",
      "<ul>\n",
      "<li>John Smith \n",
      "    <ul>\n",
      "    <li>age: 30\n",
      "    <li>weight: 75\n",
      "    </ul>\n",
      "<li>Jane Doe \n",
      "    <ul>\n",
      "    <li>age: 25\n",
      "    <li>weight: 55\n",
      "    </ul>\n",
      "<li>Bob Johnson \n",
      "    <ul>\n",
      "    <li>age: 35\n",
      "    <li>weight: 85\n",
      "    </ul>\n",
      "<li>Emily Davis \n",
      "    <ul>\n",
      "    <li>age: 28\n",
      "    <li>weight: 63\n",
      "    </ul>\n",
      "<li>Michael Brown \n",
      "    <ul>\n",
      "    <li>age: 40\n",
      "    <li>weight: 90\n",
      "    </ul>\n",
      "\n",
      "</ul>\n"
     ]
    }
   ],
   "source": [
    "persons = [\n",
    "    {\"name\": \"John Smith\", \"old\": 30, \"weight\": 75},\n",
    "    {\"name\": \"Jane Doe\", \"old\": 25, \"weight\": 55},\n",
    "    {\"name\": \"Bob Johnson\", \"old\": 35, \"weight\": 85},\n",
    "    {\"name\": \"Emily Davis\", \"old\": 28, \"weight\": 63},\n",
    "    {\"name\": \"Michael Brown\", \"old\": 40, \"weight\": 90}\n",
    "]\n",
    "\n",
    "html = \"\"\"\n",
    "{% macro list_users(list_of_user) -%}\n",
    "<ul>\n",
    "{% for u in list_of_user -%}\n",
    "    <li>{{u.name}} {{caller(u)}}\n",
    "{%- endfor %}\n",
    "</ul>\n",
    "{%- endmacro %}\n",
    "\n",
    "{% call(user) list_users(users) %}\n",
    "    <ul>\n",
    "    <li>age: {{user.old}}\n",
    "    <li>weight: {{user.weight}}\n",
    "    </ul>\n",
    "{% endcall -%}\n",
    "\"\"\"\n",
    "\n",
    "tm = Template(html)\n",
    "msg = tm.render(users=persons)\n",
    "print(msg)\n",
    "\n"
   ],
   "metadata": {
    "collapsed": false
   }
  }
 ],
 "metadata": {
  "kernelspec": {
   "display_name": "Python 3",
   "language": "python",
   "name": "python3"
  },
  "language_info": {
   "codemirror_mode": {
    "name": "ipython",
    "version": 2
   },
   "file_extension": ".py",
   "mimetype": "text/x-python",
   "name": "python",
   "nbconvert_exporter": "python",
   "pygments_lexer": "ipython2",
   "version": "2.7.6"
  }
 },
 "nbformat": 4,
 "nbformat_minor": 0
}
