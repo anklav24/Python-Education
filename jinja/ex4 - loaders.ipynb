{
 "cells": [
  {
   "cell_type": "code",
   "execution_count": 5,
   "metadata": {},
   "outputs": [
    {
     "name": "stdout",
     "output_type": "stream",
     "text": [
      "<html>\n",
      "<head>\n",
      "  <link rel=\"stylesheet\" type=\"text/css\" href=\"style.css\">\n",
      "</head>\n",
      "<body>\n",
      "<h1>List of persons</h1>\n",
      "<table>\n",
      "  <tr>\n",
      "    <th>Name</th>\n",
      "    <th>Age</th>\n",
      "    <th>Weight</th>\n",
      "  </tr>\n",
      "  \n",
      "    <tr>\n",
      "      <td>John Smith</td>\n",
      "      <td>30</td>\n",
      "      <td>75</td>\n",
      "    </tr>\n",
      "  \n",
      "    <tr>\n",
      "      <td>Jane Doe</td>\n",
      "      <td>25</td>\n",
      "      <td>55</td>\n",
      "    </tr>\n",
      "  \n",
      "    <tr>\n",
      "      <td>Bob Johnson</td>\n",
      "      <td>35</td>\n",
      "      <td>85</td>\n",
      "    </tr>\n",
      "  \n",
      "    <tr>\n",
      "      <td>Emily Davis</td>\n",
      "      <td>28</td>\n",
      "      <td>63</td>\n",
      "    </tr>\n",
      "  \n",
      "    <tr>\n",
      "      <td>Michael Brown</td>\n",
      "      <td>40</td>\n",
      "      <td>90</td>\n",
      "    </tr>\n",
      "  \n",
      "</table>\n",
      "</body>\n",
      "</html>\n"
     ]
    }
   ],
   "source": [
    "from jinja2 import Environment, FileSystemLoader\n",
    "\n",
    "# Load the template file\n",
    "env = Environment(loader=FileSystemLoader('templates'))\n",
    "template = env.get_template('main.html')\n",
    "\n",
    "# Define the data to be passed to the template\n",
    "persons = [\n",
    "    { \"name\": \"John Smith\", \"old\": 30, \"weight\": 75 },\n",
    "    { \"name\": \"Jane Doe\", \"old\": 25, \"weight\": 55 },\n",
    "    { \"name\": \"Bob Johnson\", \"old\": 35, \"weight\": 85 },\n",
    "    { \"name\": \"Emily Davis\", \"old\": 28, \"weight\": 63 },\n",
    "    { \"name\": \"Michael Brown\", \"old\": 40, \"weight\": 90 }\n",
    "]\n",
    "\n",
    "# Render the template with the data\n",
    "output = template.render(persons=persons)\n",
    "\n",
    "# Print the output or write it to a file\n",
    "print(output)\n"
   ]
  },
  {
   "cell_type": "code",
   "execution_count": null,
   "metadata": {},
   "outputs": [],
   "source": []
  }
 ],
 "metadata": {
  "kernelspec": {
   "display_name": "Python 3 (ipykernel)",
   "language": "python",
   "name": "python3"
  },
  "language_info": {
   "codemirror_mode": {
    "name": "ipython",
    "version": 3
   },
   "file_extension": ".py",
   "mimetype": "text/x-python",
   "name": "python",
   "nbconvert_exporter": "python",
   "pygments_lexer": "ipython3",
   "version": "3.9.13"
  }
 },
 "nbformat": 4,
 "nbformat_minor": 1
}
