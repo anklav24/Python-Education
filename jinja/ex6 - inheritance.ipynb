{
 "cells": [
  {
   "cell_type": "code",
   "execution_count": 1,
   "metadata": {
    "collapsed": true
   },
   "outputs": [
    {
     "name": "stdout",
     "output_type": "stream",
     "text": [
      "<!DOCTYPE html>\n",
      "<html>\n",
      "<head>\n",
      "    <title>My custom title</title>\n",
      "</head>\n",
      "<body>\n",
      "    <div class=\"container\">\n",
      "        \n",
      "    <h1>Welcome to my website</h1>\n",
      "    <p>Here you will find some interesting information.</p>\n",
      "    <ul>\n",
      "        <li>Item 1</li>\n",
      "        <li>Item 2</li>\n",
      "        <li>Item 3</li>\n",
      "    </ul>\n",
      "\n",
      "    </div>\n",
      "</body>\n",
      "</html>\n"
     ]
    }
   ],
   "source": [
    "from jinja2 import Environment, FileSystemLoader\n",
    "\n",
    "# Load the template file\n",
    "env = Environment(loader=FileSystemLoader('templates'))\n",
    "template = env.get_template('extend_main_ex6.html')\n",
    "\n",
    "# Render the template with the data\n",
    "output = template.render()\n",
    "\n",
    "# Print the output or write it to a file\n",
    "print(output)"
   ]
  }
 ],
 "metadata": {
  "kernelspec": {
   "display_name": "Python 3",
   "language": "python",
   "name": "python3"
  },
  "language_info": {
   "codemirror_mode": {
    "name": "ipython",
    "version": 2
   },
   "file_extension": ".py",
   "mimetype": "text/x-python",
   "name": "python",
   "nbconvert_exporter": "python",
   "pygments_lexer": "ipython2",
   "version": "2.7.6"
  }
 },
 "nbformat": 4,
 "nbformat_minor": 0
}
