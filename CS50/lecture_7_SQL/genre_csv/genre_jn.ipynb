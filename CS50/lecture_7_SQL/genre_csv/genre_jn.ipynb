{
 "cells": [
  {
   "cell_type": "code",
   "execution_count": 3,
   "metadata": {
    "collapsed": true
   },
   "outputs": [],
   "source": [
    "import csv\n",
    "import sqlite3\n",
    "\n",
    "\n",
    "con = sqlite3.connect('genre_db.sqlite')  # Create db if doesn't exist.\n",
    "cur = con.cursor()\n",
    "\n",
    "cur.execute(\"DROP table IF EXISTS shows\")\n",
    "cur.execute(\"DROP table IF EXISTS genres\")\n",
    "cur.execute(\"DROP table IF EXISTS shows_genres\")\n",
    "\n",
    "cur.execute(\"CREATE TABLE shows (id INTEGER, title TEXT, PRIMARY KEY(id));\")\n",
    "cur.execute(\"CREATE TABLE genres (id INTEGER, name TEXT, PRIMARY KEY(id));\")\n",
    "\n",
    "cur.execute(\"\"\"\n",
    "            CREATE TABLE shows_genres (\n",
    "            show_id INTEGER,\n",
    "            genre_id INTEGER,\n",
    "            FOREIGN KEY(show_id) REFERENCES shows(id),\n",
    "            FOREIGN KEY(genre_id) REFERENCES genres(id));\n",
    "            \"\"\")\n",
    "\n",
    "with open(\"Favorite TV Shows.csv\", \"r\") as file:\n",
    "    reader = csv.DictReader(file)\n",
    "    genre_set = set()\n",
    "    for row in reader:\n",
    "        title_row = row[\"title\"].strip().lower()\n",
    "\n",
    "        cur.execute(\"INSERT INTO shows (title) VALUES (?)\", (title_row,))\n",
    "        show_last_id = cur.lastrowid\n",
    "\n",
    "        for genre_row in row[\"genres\"].lower().split(\", \"):\n",
    "            cur.execute(\"INSERT INTO shows_genres (show_id, genre_id) VALUES (?, ?)\", (show_last_id, show_last_id))\n",
    "            genre_set.add(genre_row)\n",
    "\n",
    "    for genre in genre_set:\n",
    "        cur.execute(\"INSERT INTO genres (name) VALUES (?)\", (genre,))\n",
    "\n",
    "    con.commit()"
   ]
  },
  {
   "cell_type": "code",
   "execution_count": 6,
   "outputs": [
    {
     "data": {
      "text/plain": "   id         title   id       name\n0   1      punisher  1.0      crime\n1   2  breaking bad  2.0     comedy\n2   3       friends  3.0     action\n3   4    brooklyn99  4.0  adventure\n4   5    brooklyn99  5.0    romance\n5   6       friends  NaN       None",
      "text/html": "<div>\n<style scoped>\n    .dataframe tbody tr th:only-of-type {\n        vertical-align: middle;\n    }\n\n    .dataframe tbody tr th {\n        vertical-align: top;\n    }\n\n    .dataframe thead th {\n        text-align: right;\n    }\n</style>\n<table border=\"1\" class=\"dataframe\">\n  <thead>\n    <tr style=\"text-align: right;\">\n      <th></th>\n      <th>id</th>\n      <th>title</th>\n      <th>id</th>\n      <th>name</th>\n    </tr>\n  </thead>\n  <tbody>\n    <tr>\n      <th>0</th>\n      <td>1</td>\n      <td>punisher</td>\n      <td>1.0</td>\n      <td>crime</td>\n    </tr>\n    <tr>\n      <th>1</th>\n      <td>2</td>\n      <td>breaking bad</td>\n      <td>2.0</td>\n      <td>comedy</td>\n    </tr>\n    <tr>\n      <th>2</th>\n      <td>3</td>\n      <td>friends</td>\n      <td>3.0</td>\n      <td>action</td>\n    </tr>\n    <tr>\n      <th>3</th>\n      <td>4</td>\n      <td>brooklyn99</td>\n      <td>4.0</td>\n      <td>adventure</td>\n    </tr>\n    <tr>\n      <th>4</th>\n      <td>5</td>\n      <td>brooklyn99</td>\n      <td>5.0</td>\n      <td>romance</td>\n    </tr>\n    <tr>\n      <th>5</th>\n      <td>6</td>\n      <td>friends</td>\n      <td>NaN</td>\n      <td>None</td>\n    </tr>\n  </tbody>\n</table>\n</div>"
     },
     "execution_count": 6,
     "metadata": {},
     "output_type": "execute_result"
    }
   ],
   "source": [
    "import pandas as pd\n",
    "\n",
    "tables = pd.read_sql(\"SELECT * FROM shows LEFT JOIN genres ON shows.id = genres.id\", con)\n",
    "tables"
   ],
   "metadata": {
    "collapsed": false,
    "pycharm": {
     "name": "#%%\n"
    }
   }
  }
 ],
 "metadata": {
  "kernelspec": {
   "display_name": "Python 3",
   "language": "python",
   "name": "python3"
  },
  "language_info": {
   "codemirror_mode": {
    "name": "ipython",
    "version": 2
   },
   "file_extension": ".py",
   "mimetype": "text/x-python",
   "name": "python",
   "nbconvert_exporter": "python",
   "pygments_lexer": "ipython2",
   "version": "2.7.6"
  }
 },
 "nbformat": 4,
 "nbformat_minor": 0
}