{
 "cells": [
  {
   "cell_type": "code",
   "execution_count": 4,
   "outputs": [
    {
     "name": "stdout",
     "output_type": "stream",
     "text": [
      "{'a': 1}\n",
      "{'a': 2}\n"
     ]
    }
   ],
   "source": [
    "# Counted objects\n",
    "\n",
    "d = {}\n",
    "d['a'] = 1\n",
    "print(d)\n",
    "if 'a' in d:\n",
    "    d['a'] += 1\n",
    "else:\n",
    "    d['a'] = 1\n",
    "print(d)"
   ],
   "metadata": {
    "collapsed": false,
    "pycharm": {
     "name": "#%%\n"
    }
   }
  },
  {
   "cell_type": "code",
   "execution_count": 15,
   "metadata": {
    "collapsed": true
   },
   "outputs": [
    {
     "name": "stdout",
     "output_type": "stream",
     "text": [
      "{'a': 1}\n",
      "{'a': 1, 'b': 1}\n"
     ]
    }
   ],
   "source": [
    "# Counted objects\n",
    "\n",
    "d = {}\n",
    "d['a'] = 1\n",
    "print(d)\n",
    "if 'b' in d:\n",
    "    d['b'] += 1\n",
    "else:\n",
    "    d['b'] = 1\n",
    "print(d)"
   ]
  },
  {
   "cell_type": "code",
   "execution_count": 20,
   "outputs": [
    {
     "name": "stdout",
     "output_type": "stream",
     "text": [
      "{'q': 2, 'w': 2, 'e': 2, 'r': 2, 't': 1}\n"
     ]
    }
   ],
   "source": [
    "s = input()\n",
    "d = {}\n",
    "\n",
    "for i in s:\n",
    "    if i in d:\n",
    "        d[i] += 1\n",
    "    else:\n",
    "        d[i] = 1\n",
    "print(d)"
   ],
   "metadata": {
    "collapsed": false,
    "pycharm": {
     "name": "#%%\n"
    }
   }
  },
  {
   "cell_type": "code",
   "execution_count": null,
   "outputs": [],
   "source": [
    "s = input()\n",
    "d = {}\n",
    "\n",
    "for i in s:\n",
    "    if i.isalpha():\n",
    "        if i in d:\n",
    "            d[i] += 1\n",
    "        else:\n",
    "            d[i] = 1\n",
    "\n",
    "for key in sorted(d):\n",
    "    print(key, d[key])"
   ],
   "metadata": {
    "collapsed": false,
    "pycharm": {
     "name": "#%%\n"
    }
   }
  },
  {
   "cell_type": "code",
   "execution_count": 28,
   "outputs": [
    {
     "name": "stdout",
     "output_type": "stream",
     "text": [
      "e 2\n",
      "q 2\n",
      "r 2\n",
      "t 1\n",
      "w 2\n"
     ]
    }
   ],
   "source": [
    "# Количество букв в строке.\n",
    "# Numbers of letters per line.\n",
    "s = input()\n",
    "d = {}\n",
    "\n",
    "for i in s:\n",
    "    if i.isalpha():\n",
    "        d[i] = d.get(i, 0) + 1\n",
    "\n",
    "for key in sorted(d):\n",
    "    print(key, d[key])"
   ],
   "metadata": {
    "collapsed": false,
    "pycharm": {
     "name": "#%%\n"
    }
   }
  },
  {
   "cell_type": "code",
   "execution_count": 31,
   "outputs": [
    {
     "name": "stdout",
     "output_type": "stream",
     "text": [
      "{'q': 3, 'w': 3, 'e': 2, 'r': 2, 't': 1, 'a': 2, 's': 2}\n"
     ]
    }
   ],
   "source": [
    "# Замена разряженных списков.\n",
    "s = input()\n",
    "letters = [0] * 26\n",
    "for i in s.lower():\n",
    "    if i.isalpha():\n",
    "        d[i] = d.get(i, 0) + 1\n",
    "\n",
    "print(d)"
   ],
   "metadata": {
    "collapsed": false,
    "pycharm": {
     "name": "#%%\n"
    }
   }
  },
  {
   "cell_type": "code",
   "execution_count": 1,
   "outputs": [
    {
     "name": "stdout",
     "output_type": "stream",
     "text": [
      "Input translate this word cat\n",
      "Input translate this word кошка\n"
     ]
    }
   ],
   "source": [
    "# Установить соответствие между объектами.\n",
    "\n",
    "words = {}\n",
    "n = 0\n",
    "while n < 2 :\n",
    "    s = input()\n",
    "    if s in words:\n",
    "        print(\"Word\", s, \"translate as\", words[s])\n",
    "    else:\n",
    "        print(\"Input translate this word\", s)\n",
    "        words[s] = input()\n",
    "    n += 1\n"
   ],
   "metadata": {
    "collapsed": false,
    "pycharm": {
     "name": "#%%\n"
    }
   }
  },
  {
   "cell_type": "code",
   "execution_count": 20,
   "outputs": [
    {
     "name": "stdout",
     "output_type": "stream",
     "text": [
      "{'John Kennedy': {'birthday': '29 may 1917', 'city': 'Brookline', 'phone': None, 'children': 3}, 'Arnold Schwarzenegger': {'birthday': '30 july 1947', 'city': 'Gradec', 'phone': '555-555-555', 'children': 5}, 'Donald John Trump': {'birthday': '14 july 1946', 'city': 'New York', 'phone': '777-777-777', 'children': 4}}\n",
      "John Kennedy 3 Brookline None\n",
      "Arnold Schwarzenegger 5 Gradec 555-555-555\n",
      "Donald John Trump 4 New York 777-777-777\n",
      "\n",
      "John Kennedy\n",
      "birthday: 29 may 1917\n",
      "city: Brookline\n",
      "phone: None\n",
      "children: 3\n",
      "\n",
      "Arnold Schwarzenegger\n",
      "birthday: 30 july 1947\n",
      "city: Gradec\n",
      "phone: 555-555-555\n",
      "children: 5\n",
      "\n",
      "Donald John Trump\n",
      "birthday: 14 july 1946\n",
      "city: New York\n",
      "phone: 777-777-777\n",
      "children: 4\n",
      "\n"
     ]
    }
   ],
   "source": [
    "contacts = {\n",
    "    \"John Kennedy\": {\n",
    "        'birthday': \"29 may 1917\", 'city': 'Brookline',\n",
    "        'phone': None, 'children': 3\n",
    "    },\n",
    "    \"Arnold Schwarzenegger\": {\n",
    "        'birthday': \"30 july 1947\", 'city': 'Gradec',\n",
    "        'phone': '555-555-555', 'children': 5\n",
    "    },\n",
    "    \"Donald John Trump\": {\n",
    "        'birthday': \"14 july 1946\", 'city': 'New York',\n",
    "        'phone': '777-777-777', 'children': 4\n",
    "    }\n",
    "}\n",
    "\n",
    "print(contacts)\n",
    "\n",
    "people = [\"John Kennedy\", \"Arnold Schwarzenegger\", \"Donald John Trump\"]\n",
    "for person in people:\n",
    "    birthday = contacts[person]['birthday']\n",
    "    city = contacts[person]['city']\n",
    "    phone = contacts[person]['phone']\n",
    "    children = contacts[person]['children']\n",
    "    print(person, children, city, phone)\n",
    "print()\n",
    "\n",
    "for person in people:\n",
    "    print(person)\n",
    "    for data in contacts[person]:\n",
    "        print(data + \":\", contacts[person][data])\n",
    "    print()"
   ],
   "metadata": {
    "collapsed": false,
    "pycharm": {
     "name": "#%%\n"
    }
   }
  }
 ],
 "metadata": {
  "kernelspec": {
   "display_name": "Python 3",
   "language": "python",
   "name": "python3"
  },
  "language_info": {
   "codemirror_mode": {
    "name": "ipython",
    "version": 2
   },
   "file_extension": ".py",
   "mimetype": "text/x-python",
   "name": "python",
   "nbconvert_exporter": "python",
   "pygments_lexer": "ipython2",
   "version": "2.7.6"
  }
 },
 "nbformat": 4,
 "nbformat_minor": 0
}