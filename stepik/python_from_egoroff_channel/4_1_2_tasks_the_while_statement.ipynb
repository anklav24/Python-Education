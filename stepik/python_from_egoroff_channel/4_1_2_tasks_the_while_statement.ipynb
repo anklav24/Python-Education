{
 "cells": [
  {
   "cell_type": "code",
   "execution_count": null,
   "outputs": [],
   "source": [
    "n, i = int(input()), 1\n",
    "\n",
    "while i ** 2 <= n:\n",
    "    print(i ** 2)\n",
    "    i += 1"
   ],
   "metadata": {
    "collapsed": false,
    "pycharm": {
     "name": "#%%\n"
    }
   }
  },
  {
   "cell_type": "code",
   "execution_count": null,
   "outputs": [],
   "source": [
    "word = input()\n",
    "\n",
    "while len(word) > 0:\n",
    "    print(word)\n",
    "    word = word[1:-1]"
   ],
   "metadata": {
    "collapsed": false,
    "pycharm": {
     "name": "#%%\n"
    }
   }
  },
  {
   "cell_type": "code",
   "execution_count": null,
   "outputs": [],
   "source": [
    "# x, y = [int(i) for i in input().split()]\n",
    "x, y = map(int, input().split())\n",
    "day = 1\n",
    "\n",
    "while x < y:\n",
    "    x += x * 0.15\n",
    "    day += 1\n",
    "print(day)"
   ],
   "metadata": {
    "collapsed": false,
    "pycharm": {
     "name": "#%%\n"
    }
   }
  },
  {
   "cell_type": "code",
   "execution_count": null,
   "outputs": [],
   "source": [
    "n, m = map(int, input().split())\n",
    "day = 0\n",
    "while n > 0:\n",
    "    n -= 1\n",
    "    day += 1\n",
    "    if day % m == 0:\n",
    "        n += 1\n",
    "print(day)"
   ],
   "metadata": {
    "collapsed": false,
    "pycharm": {
     "name": "#%%\n"
    }
   }
  },
  {
   "cell_type": "code",
   "execution_count": 1,
   "outputs": [
    {
     "name": "stdout",
     "output_type": "stream",
     "text": [
      "4\n"
     ]
    }
   ],
   "source": [
    "a, b = map(int, input().split())\n",
    "year = 0\n",
    "\n",
    "while a <= b:\n",
    "    a *= 3\n",
    "    b *= 2\n",
    "    year += 1\n",
    "\n",
    "print(year)"
   ],
   "metadata": {
    "collapsed": false,
    "pycharm": {
     "name": "#%%\n"
    }
   }
  },
  {
   "cell_type": "code",
   "execution_count": 2,
   "outputs": [],
   "source": [
    "num = int(input())\n",
    "while num != 0:\n",
    "    num = int(input())"
   ],
   "metadata": {
    "collapsed": false,
    "pycharm": {
     "name": "#%%\n"
    }
   }
  },
  {
   "cell_type": "code",
   "execution_count": 59,
   "outputs": [
    {
     "name": "stdout",
     "output_type": "stream",
     "text": [
      "НЕТ\n"
     ]
    }
   ],
   "source": [
    "n, count = int(input()), 0\n",
    "\n",
    "if n % 2 == 0:\n",
    "    while 1 < n == count ** 2:\n",
    "        n /= 2\n",
    "        count += 1\n",
    "        print(count)\n",
    "    else:\n",
    "        print('НЕТ')\n",
    "\n",
    "elif n == 1:\n",
    "    print('1')\n",
    "else:\n",
    "    print('НЕТ')"
   ],
   "metadata": {
    "collapsed": false,
    "pycharm": {
     "name": "#%%\n"
    }
   }
  },
  {
   "cell_type": "code",
   "execution_count": 295,
   "outputs": [
    {
     "name": "stdout",
     "output_type": "stream",
     "text": [
      "0\n"
     ]
    }
   ],
   "source": [
    "n, count = int(input()), 0\n",
    "\n",
    "if n == 1:\n",
    "    print('0')\n",
    "elif n % 2 == 0:\n",
    "    while n > 1:\n",
    "        n /= 2\n",
    "        count += 1\n",
    "    if n == 1:\n",
    "         print(count)\n",
    "    else:\n",
    "        print('НЕТ')\n",
    "else:\n",
    "    print('НЕТ')"
   ],
   "metadata": {
    "collapsed": false,
    "pycharm": {
     "name": "#%%\n"
    }
   }
  },
  {
   "cell_type": "code",
   "execution_count": 3,
   "outputs": [],
   "source": [
    "# Community\n",
    "\n",
    "n, count = int(input()), 0\n",
    "\n",
    "while n % 2 == 0 and n >= 1:\n",
    "    n /= 2\n",
    "    count += 1\n",
    "# print(count if n == 1 else 'НЕТ')\n",
    "if n == 1:\n",
    "    print(count)\n",
    "else:\n",
    "    print('НЕТ')"
   ],
   "metadata": {
    "collapsed": false,
    "pycharm": {
     "name": "#%%\n"
    }
   }
  }
 ],
 "metadata": {
  "kernelspec": {
   "display_name": "Python 3",
   "language": "python",
   "name": "python3"
  },
  "language_info": {
   "codemirror_mode": {
    "name": "ipython",
    "version": 2
   },
   "file_extension": ".py",
   "mimetype": "text/x-python",
   "name": "python",
   "nbconvert_exporter": "python",
   "pygments_lexer": "ipython2",
   "version": "2.7.6"
  }
 },
 "nbformat": 4,
 "nbformat_minor": 0
}