{
 "cells": [
  {
   "cell_type": "code",
   "execution_count": null,
   "outputs": [],
   "source": [
    "n, i = int(input()), 1\n",
    "\n",
    "while i ** 2 <= n:\n",
    "    print(i ** 2)\n",
    "    i += 1"
   ],
   "metadata": {
    "collapsed": false,
    "pycharm": {
     "name": "#%%\n"
    }
   }
  },
  {
   "cell_type": "code",
   "execution_count": null,
   "outputs": [],
   "source": [
    "word = input()\n",
    "\n",
    "while len(word) > 0:\n",
    "    print(word)\n",
    "    word = word[1:-1]"
   ],
   "metadata": {
    "collapsed": false,
    "pycharm": {
     "name": "#%%\n"
    }
   }
  },
  {
   "cell_type": "code",
   "execution_count": null,
   "outputs": [],
   "source": [
    "# x, y = [int(i) for i in input().split()]\n",
    "x, y = map(int, input().split())\n",
    "day = 1\n",
    "\n",
    "while x < y:\n",
    "    x += x * 0.15\n",
    "    day += 1\n",
    "print(day)"
   ],
   "metadata": {
    "collapsed": false,
    "pycharm": {
     "name": "#%%\n"
    }
   }
  },
  {
   "cell_type": "code",
   "execution_count": null,
   "outputs": [],
   "source": [
    "n, m = map(int, input().split())\n",
    "day = 0\n",
    "while n > 0:\n",
    "    n -= 1\n",
    "    day += 1\n",
    "    if day % m == 0:\n",
    "        n += 1\n",
    "print(day)"
   ],
   "metadata": {
    "collapsed": false,
    "pycharm": {
     "name": "#%%\n"
    }
   }
  },
  {
   "cell_type": "code",
   "execution_count": 1,
   "outputs": [
    {
     "name": "stdout",
     "output_type": "stream",
     "text": [
      "4\n"
     ]
    }
   ],
   "source": [
    "a, b = map(int, input().split())\n",
    "year = 0\n",
    "\n",
    "while a <= b:\n",
    "    a *= 3\n",
    "    b *= 2\n",
    "    year += 1\n",
    "\n",
    "print(year)"
   ],
   "metadata": {
    "collapsed": false,
    "pycharm": {
     "name": "#%%\n"
    }
   }
  },
  {
   "cell_type": "code",
   "execution_count": 2,
   "outputs": [],
   "source": [
    "num = int(input())\n",
    "while num != 0:\n",
    "    num = int(input())"
   ],
   "metadata": {
    "collapsed": false,
    "pycharm": {
     "name": "#%%\n"
    }
   }
  },
  {
   "cell_type": "code",
   "execution_count": 59,
   "outputs": [
    {
     "name": "stdout",
     "output_type": "stream",
     "text": [
      "НЕТ\n"
     ]
    }
   ],
   "source": [
    "n, count = int(input()), 0\n",
    "\n",
    "if n % 2 == 0:\n",
    "    while 1 < n == count ** 2:\n",
    "        n /= 2\n",
    "        count += 1\n",
    "        print(count)\n",
    "    else:\n",
    "        print('НЕТ')\n",
    "\n",
    "elif n == 1:\n",
    "    print('1')\n",
    "else:\n",
    "    print('НЕТ')"
   ],
   "metadata": {
    "collapsed": false,
    "pycharm": {
     "name": "#%%\n"
    }
   }
  },
  {
   "cell_type": "code",
   "execution_count": null,
   "outputs": [],
   "source": [
    "n, count = int(input()), 0\n",
    "\n",
    "if n == 1:\n",
    "    print('0')\n",
    "elif n % 2 == 0:\n",
    "    while n > 1:\n",
    "        n /= 2\n",
    "        count += 1\n",
    "    if n == 1:\n",
    "         print(count)\n",
    "    else:\n",
    "        print('НЕТ')\n",
    "else:\n",
    "    print('НЕТ')"
   ],
   "metadata": {
    "collapsed": false,
    "pycharm": {
     "name": "#%%\n",
     "is_executing": true
    }
   }
  },
  {
   "cell_type": "code",
   "execution_count": null,
   "outputs": [],
   "source": [
    "# Community\n",
    "\n",
    "n, count = int(input()), 0\n",
    "\n",
    "while n % 2 == 0 and n >= 1:\n",
    "    n /= 2\n",
    "    count += 1\n",
    "# print(count if n == 1 else 'НЕТ')\n",
    "if n == 1:\n",
    "    print(count)\n",
    "else:\n",
    "    print('НЕТ')"
   ],
   "metadata": {
    "collapsed": false,
    "pycharm": {
     "name": "#%%\n",
     "is_executing": true
    }
   }
  },
  {
   "cell_type": "code",
   "execution_count": 67,
   "outputs": [
    {
     "name": "stdout",
     "output_type": "stream",
     "text": [
      "2500000000\n"
     ]
    }
   ],
   "source": [
    "n, first_symbol = int(input()), int(str(n)[0])\n",
    "while first_symbol != 1 and n < 10 ** 9:\n",
    "    n *= first_symbol\n",
    "    first_symbol = int(str(n)[0])\n",
    "print(n)"
   ],
   "metadata": {
    "collapsed": false,
    "pycharm": {
     "name": "#%%\n"
    }
   }
  },
  {
   "cell_type": "code",
   "execution_count": 68,
   "outputs": [
    {
     "name": "stdout",
     "output_type": "stream",
     "text": [
      "123\n"
     ]
    }
   ],
   "source": [
    "# Community через строки решил\n",
    "a = input()\n",
    "while int(a[0]) != 1 and len(a) < 10:\n",
    "    a = str(int(a[0])*int(a))\n",
    "print(a)"
   ],
   "metadata": {
    "collapsed": false,
    "pycharm": {
     "name": "#%%\n"
    }
   }
  },
  {
   "cell_type": "code",
   "execution_count": 98,
   "outputs": [
    {
     "name": "stdout",
     "output_type": "stream",
     "text": [
      "2\n"
     ]
    }
   ],
   "source": [
    "n = int(input())\n",
    "boys = sorted([int(i) for i in input().split()])\n",
    "m = int(input())\n",
    "girls = sorted([int(j) for j in input().split()])\n",
    "i = j = count = 0\n",
    "\n",
    "while i < len(boys) and j < len(girls):\n",
    "    if abs(boys[i] - girls[j]) <= 1:\n",
    "        i += 1\n",
    "        j += 1\n",
    "        count += 1\n",
    "    elif boys[i] < girls[j]:\n",
    "        i += 1\n",
    "    else:\n",
    "        j += 1\n",
    "print(count)"
   ],
   "metadata": {
    "collapsed": false,
    "pycharm": {
     "name": "#%%\n"
    }
   }
  },
  {
   "cell_type": "code",
   "execution_count": 1,
   "outputs": [
    {
     "name": "stdout",
     "output_type": "stream",
     "text": [
      "1 0 0\n",
      "2 1 1\n",
      "3 3 4\n",
      "4 6 10\n",
      "3\n"
     ]
    }
   ],
   "source": [
    "n, i, sum, total = int(input()), 0, 0, 0\n",
    "while total < n - i:\n",
    "    sum += i\n",
    "    total += sum\n",
    "    i += 1\n",
    "    print(i, sum, total)\n",
    "if i == 1:\n",
    "    print(1)\n",
    "else:\n",
    "    print(i - 1)"
   ],
   "metadata": {
    "collapsed": false,
    "pycharm": {
     "name": "#%%\n"
    }
   }
  },
  {
   "cell_type": "code",
   "execution_count": 2,
   "outputs": [
    {
     "name": "stdout",
     "output_type": "stream",
     "text": [
      "2 3 7\n",
      "3 6 1\n",
      "4 10 -9\n",
      "3\n"
     ]
    }
   ],
   "source": [
    "n = int(input())\n",
    "sum = i = 1\n",
    "while n > 0:\n",
    "    i += 1\n",
    "    sum += i\n",
    "    n -= sum\n",
    "    print(i, sum, n)\n",
    "print(i - 1)"
   ],
   "metadata": {
    "collapsed": false,
    "pycharm": {
     "name": "#%%\n"
    }
   }
  },
  {
   "cell_type": "code",
   "execution_count": 14,
   "outputs": [
    {
     "name": "stdout",
     "output_type": "stream",
     "text": [
      "0\n"
     ]
    }
   ],
   "source": [
    "n, m = map(int, input().split())\n",
    "\n",
    "a = 0\n",
    "b = 0\n",
    "s = [0]\n",
    "s1 = [0]\n",
    "count = 0\n",
    "\n",
    "while a ** 2 < n:\n",
    "    a = a + 1\n",
    "    s.append(a)\n",
    "\n",
    "while b ** 2 < m:\n",
    "    b = b + 1\n",
    "    s1.append(b)\n",
    "\n",
    "for i in s:\n",
    "    for l in s1:\n",
    "        if i ** 2 + l == n and l ** 2 + i == m:\n",
    "            count += 1\n",
    "            print(count)\n",
    "if count == 0:\n",
    "    print(count)"
   ],
   "metadata": {
    "collapsed": false,
    "pycharm": {
     "name": "#%%\n"
    }
   }
  },
  {
   "cell_type": "code",
   "execution_count": 21,
   "outputs": [
    {
     "name": "stdout",
     "output_type": "stream",
     "text": [
      "1\n"
     ]
    }
   ],
   "source": [
    "n, m = map(int, input().split())\n",
    "a = b = count = 0\n",
    "\n",
    "while a <= n:\n",
    "    while b <= m:\n",
    "        if a ** 2 + b == n and a + b ** 2 == m:\n",
    "            count += 1\n",
    "        b += 1\n",
    "    a += 1\n",
    "    b = 0\n",
    "\n",
    "print(count)"
   ],
   "metadata": {
    "collapsed": false,
    "pycharm": {
     "name": "#%%\n"
    }
   }
  }
 ],
 "metadata": {
  "kernelspec": {
   "display_name": "Python 3",
   "language": "python",
   "name": "python3"
  },
  "language_info": {
   "codemirror_mode": {
    "name": "ipython",
    "version": 2
   },
   "file_extension": ".py",
   "mimetype": "text/x-python",
   "name": "python",
   "nbconvert_exporter": "python",
   "pygments_lexer": "ipython2",
   "version": "2.7.6"
  }
 },
 "nbformat": 4,
 "nbformat_minor": 0
}