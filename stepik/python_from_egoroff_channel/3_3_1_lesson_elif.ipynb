{
 "cells": [
  {
   "cell_type": "code",
   "execution_count": 3,
   "outputs": [
    {
     "name": "stdout",
     "output_type": "stream",
     "text": [
      "1\n",
      "2\n",
      "end\n"
     ]
    }
   ],
   "source": [
    "if 5 > 1:\n",
    "    print(1)\n",
    "    print(2)\n",
    "elif 3 > 2:\n",
    "    print(3)\n",
    "    print(4)\n",
    "elif 6 > 4:\n",
    "    print(5)\n",
    "    print(6)\n",
    "else:\n",
    "    print('11')\n",
    "print('end')"
   ],
   "metadata": {
    "collapsed": false,
    "pycharm": {
     "name": "#%%\n"
    }
   }
  },
  {
   "cell_type": "code",
   "execution_count": 2,
   "metadata": {
    "collapsed": true
   },
   "outputs": [
    {
     "name": "stdout",
     "output_type": "stream",
     "text": [
      "3\n",
      "4\n",
      "end\n"
     ]
    }
   ],
   "source": [
    "if 5 < 1:\n",
    "    print(1)\n",
    "    print(2)\n",
    "elif 3 > 2:\n",
    "    print(3)\n",
    "    print(4)\n",
    "elif 6 > 4:\n",
    "    print(5)\n",
    "    print(6)\n",
    "else:\n",
    "    print('11')\n",
    "print('end')"
   ]
  },
  {
   "cell_type": "code",
   "execution_count": 7,
   "outputs": [
    {
     "name": "stdout",
     "output_type": "stream",
     "text": [
      "2 road\n"
     ]
    }
   ],
   "source": [
    "road = int(input())\n",
    "if road == 1:\n",
    "    print('1 road')\n",
    "elif road == 2:\n",
    "    print('2 road')\n",
    "elif road == 3:\n",
    "    print('3 road')\n",
    "else:\n",
    "    print('Error')"
   ],
   "metadata": {
    "collapsed": false,
    "pycharm": {
     "name": "#%%\n"
    }
   }
  },
  {
   "cell_type": "code",
   "execution_count": 11,
   "outputs": [
    {
     "name": "stdout",
     "output_type": "stream",
     "text": [
      "error\n"
     ]
    }
   ],
   "source": [
    "day = int(input())\n",
    "if day == 1:\n",
    "    print('monday')\n",
    "elif day == 2:\n",
    "    print('tuesday')\n",
    "elif day == 3:\n",
    "    print('wednesday')\n",
    "elif day == 4:\n",
    "    print('thursday')\n",
    "elif day == 5:\n",
    "    print('friday')\n",
    "elif day == 6:\n",
    "    print('saturday')\n",
    "elif day == 7:\n",
    "    print('sunday')\n",
    "else:\n",
    "    print('error')"
   ],
   "metadata": {
    "collapsed": false,
    "pycharm": {
     "name": "#%%\n"
    }
   }
  },
  {
   "cell_type": "code",
   "execution_count": 23,
   "outputs": [
    {
     "name": "stdout",
     "output_type": "stream",
     "text": [
      "1 even digit\n"
     ]
    }
   ],
   "source": [
    "a = int(input())  # a < 10000\n",
    "if a < 0 or a >= 10000:\n",
    "    print('error')\n",
    "elif a < 10:\n",
    "    if a % 2 == 0:\n",
    "        print('1 even digit')\n",
    "    else:\n",
    "        print('1 odd digit')\n",
    "elif a < 100:\n",
    "    print('2 digits')\n",
    "elif a < 1000:\n",
    "    print('3 digits')\n",
    "elif a < 10000:\n",
    "    print('4 digits')"
   ],
   "metadata": {
    "collapsed": false,
    "pycharm": {
     "name": "#%%\n"
    }
   }
  },
  {
   "cell_type": "code",
   "execution_count": null,
   "outputs": [],
   "source": [],
   "metadata": {
    "collapsed": false,
    "pycharm": {
     "name": "#%%\n"
    }
   }
  }
 ],
 "metadata": {
  "kernelspec": {
   "display_name": "Python 3",
   "language": "python",
   "name": "python3"
  },
  "language_info": {
   "codemirror_mode": {
    "name": "ipython",
    "version": 2
   },
   "file_extension": ".py",
   "mimetype": "text/x-python",
   "name": "python",
   "nbconvert_exporter": "python",
   "pygments_lexer": "ipython2",
   "version": "2.7.6"
  }
 },
 "nbformat": 4,
 "nbformat_minor": 0
}