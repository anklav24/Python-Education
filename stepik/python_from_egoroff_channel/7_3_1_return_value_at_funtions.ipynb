{
 "cells": [
  {
   "cell_type": "code",
   "execution_count": 4,
   "metadata": {
    "collapsed": true
   },
   "outputs": [
    {
     "name": "stdout",
     "output_type": "stream",
     "text": [
      "7\n",
      "25\n"
     ]
    }
   ],
   "source": [
    "a = abs(-7)\n",
    "b = max(4, abs(-5), 6, min(30, 25))\n",
    "print(a)\n",
    "print(b)"
   ]
  },
  {
   "cell_type": "code",
   "execution_count": 6,
   "outputs": [
    {
     "name": "stdout",
     "output_type": "stream",
     "text": [
      "36\n",
      "None\n",
      "36\n",
      "None\n"
     ]
    }
   ],
   "source": [
    "# These functions are the same and both return a None value.\n",
    "def square(x):\n",
    "    print(x ** 2)\n",
    "a = square(6)\n",
    "print(a)\n",
    "\n",
    "\n",
    "def square_return_none(x):\n",
    "    print(x ** 2)\n",
    "    return None\n",
    "\n",
    "\n",
    "b = square_return_none(6)\n",
    "print(b)"
   ],
   "metadata": {
    "collapsed": false,
    "pycharm": {
     "name": "#%%\n"
    }
   }
  },
  {
   "cell_type": "code",
   "execution_count": 7,
   "outputs": [
    {
     "name": "stdout",
     "output_type": "stream",
     "text": [
      "36\n"
     ]
    }
   ],
   "source": [
    "def square(x):\n",
    "    return x ** 2\n",
    "\n",
    "\n",
    "a = square(6)\n",
    "print(a)"
   ],
   "metadata": {
    "collapsed": false,
    "pycharm": {
     "name": "#%%\n"
    }
   }
  },
  {
   "cell_type": "code",
   "execution_count": 9,
   "outputs": [
    {
     "name": "stdout",
     "output_type": "stream",
     "text": [
      "16\n"
     ]
    }
   ],
   "source": [
    "# Nested function calls.\n",
    "\n",
    "def square(x):\n",
    "    return x ** 2\n",
    "\n",
    "\n",
    "a = square(square(2))\n",
    "print(a)"
   ],
   "metadata": {
    "collapsed": false,
    "pycharm": {
     "name": "#%%\n"
    }
   }
  },
  {
   "cell_type": "code",
   "execution_count": 10,
   "outputs": [
    {
     "name": "stdout",
     "output_type": "stream",
     "text": [
      "1\n",
      "2\n",
      "hello\n"
     ]
    }
   ],
   "source": [
    "# return works like break. after it is nothing executed.\n",
    "def example():\n",
    "    print(1)\n",
    "    print(2)\n",
    "    return 'hello'\n",
    "    print(3)\n",
    "    print(4)\n",
    "    return '2_hello'\n",
    "\n",
    "\n",
    "print(example())"
   ],
   "metadata": {
    "collapsed": false,
    "pycharm": {
     "name": "#%%\n"
    }
   }
  },
  {
   "cell_type": "code",
   "execution_count": 12,
   "outputs": [
    {
     "name": "stdout",
     "output_type": "stream",
     "text": [
      "1 False\n",
      "2 True\n",
      "3 False\n",
      "4 True\n",
      "5 False\n",
      "6 True\n",
      "7 False\n",
      "8 True\n",
      "9 False\n",
      "10 True\n"
     ]
    }
   ],
   "source": [
    "def even(x):\n",
    "    if x % 2 == 0:\n",
    "        return True\n",
    "    else:\n",
    "        return False\n",
    "\n",
    "\n",
    "for i in range(1, 11):\n",
    "    print(i, even(i))"
   ],
   "metadata": {
    "collapsed": false,
    "pycharm": {
     "name": "#%%\n"
    }
   }
  },
  {
   "cell_type": "code",
   "execution_count": 14,
   "outputs": [
    {
     "name": "stdout",
     "output_type": "stream",
     "text": [
      "1 False\n",
      "2 True\n",
      "3 False\n",
      "4 True\n",
      "5 False\n",
      "6 True\n",
      "7 False\n",
      "8 True\n",
      "9 False\n",
      "10 True\n"
     ]
    }
   ],
   "source": [
    "def even(x):\n",
    "    if x % 2 == 0:\n",
    "        return True  # Так как ретерн отработает как прерывание функции, то до return False мы просто не дойдем.\n",
    "    return False\n",
    "\n",
    "\n",
    "for i in range(1, 11):\n",
    "    print(i, even(i))"
   ],
   "metadata": {
    "collapsed": false,
    "pycharm": {
     "name": "#%%\n"
    }
   }
  },
  {
   "cell_type": "code",
   "execution_count": 13,
   "outputs": [
    {
     "name": "stdout",
     "output_type": "stream",
     "text": [
      "1 False\n",
      "2 True\n",
      "3 False\n",
      "4 True\n",
      "5 False\n",
      "6 True\n",
      "7 False\n",
      "8 True\n",
      "9 False\n",
      "10 True\n"
     ]
    }
   ],
   "source": [
    "# Best practice?\n",
    "def even(x):\n",
    "    return x % 2 == 0\n",
    "\n",
    "\n",
    "for i in range(1, 11):\n",
    "    print(i, even(i))"
   ],
   "metadata": {
    "collapsed": false,
    "pycharm": {
     "name": "#%%\n"
    }
   }
  },
  {
   "cell_type": "code",
   "execution_count": 1,
   "outputs": [
    {
     "name": "stdout",
     "output_type": "stream",
     "text": [
      "1 1\n",
      "2 2\n",
      "3 6\n",
      "4 24\n",
      "5 120\n",
      "6 720\n",
      "7 5040\n",
      "10.0\n"
     ]
    }
   ],
   "source": [
    "def factorial(x):\n",
    "    pr = 1\n",
    "    for i in range(2, x + 1):\n",
    "        pr = pr * i\n",
    "    return pr\n",
    "\n",
    "def sochet(n, k):\n",
    "    return factorial(n) / (factorial(k) * factorial(n - k))\n",
    "\n",
    "\n",
    "for i in range(1, 8):\n",
    "    print(i, factorial(i))\n",
    "\n",
    "print(sochet(5, 3))"
   ],
   "metadata": {
    "collapsed": false,
    "pycharm": {
     "name": "#%%\n"
    }
   }
  },
  {
   "cell_type": "code",
   "execution_count": 5,
   "outputs": [
    {
     "name": "stdout",
     "output_type": "stream",
     "text": [
      "(10, 14) <class 'tuple'>\n"
     ]
    }
   ],
   "source": [
    "def sq_and_per(a, b):\n",
    "    return a * b, 2 * (a + b)\n",
    "\n",
    "\n",
    "print(sq_and_per(2, 5), type(sq_and_per(3, 6)))"
   ],
   "metadata": {
    "collapsed": false,
    "pycharm": {
     "name": "#%%\n"
    }
   }
  },
  {
   "cell_type": "code",
   "execution_count": 6,
   "outputs": [
    {
     "name": "stdout",
     "output_type": "stream",
     "text": [
      "10 14\n"
     ]
    }
   ],
   "source": [
    "def sq_and_per(a, b):\n",
    "    return a * b, 2 * (a + b)\n",
    "\n",
    "\n",
    "square, perimeter = sq_and_per(2, 5)\n",
    "print(square, perimeter)"
   ],
   "metadata": {
    "collapsed": false,
    "pycharm": {
     "name": "#%%\n"
    }
   }
  },
  {
   "cell_type": "code",
   "execution_count": null,
   "outputs": [],
   "source": [
    "def factorial(number: int) -> int:\n",
    "    \"\"\"Calculates factorial of number\"\"\"\n",
    "    product_of_numbers = 1\n",
    "    for n in range(2, number + 1):\n",
    "        product_of_numbers *= n\n",
    "    return product_of_numbers\n",
    "\n",
    "\n",
    "factorial(4)"
   ],
   "metadata": {
    "collapsed": false,
    "pycharm": {
     "name": "#%%\n"
    }
   }
  },
  {
   "cell_type": "code",
   "execution_count": null,
   "outputs": [],
   "source": [
    "import math\n",
    "\n",
    "\n",
    "def factorial(number: int) -> int:\n",
    "    \"\"\"Calculates factorial of number\"\"\"\n",
    "    return factorial(number)\n",
    "\n",
    "\n",
    "factorial(4)"
   ],
   "metadata": {
    "collapsed": false,
    "pycharm": {
     "name": "#%%\n",
     "is_executing": true
    }
   }
  }
 ],
 "metadata": {
  "kernelspec": {
   "display_name": "Python 3",
   "language": "python",
   "name": "python3"
  },
  "language_info": {
   "codemirror_mode": {
    "name": "ipython",
    "version": 2
   },
   "file_extension": ".py",
   "mimetype": "text/x-python",
   "name": "python",
   "nbconvert_exporter": "python",
   "pygments_lexer": "ipython2",
   "version": "2.7.6"
  }
 },
 "nbformat": 4,
 "nbformat_minor": 0
}