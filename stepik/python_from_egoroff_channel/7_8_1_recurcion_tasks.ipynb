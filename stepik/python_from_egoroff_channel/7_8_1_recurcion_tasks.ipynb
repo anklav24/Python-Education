{
 "cells": [
  {
   "cell_type": "code",
   "execution_count": 17,
   "metadata": {
    "collapsed": true
   },
   "outputs": [
    {
     "name": "stdout",
     "output_type": "stream",
     "text": [
      "b (e (r) r) y\n",
      "l (es) s\n",
      "r (i (g) h) t\n",
      "hi\n"
     ]
    }
   ],
   "source": [
    "def rec(s):\n",
    "    if len(s) == 1 or len(s) == 2:\n",
    "        return s\n",
    "    # return f\"{s[0]} ({rec(s[1:-1])}) {s[-1]}\"  # Is it less readable?\n",
    "    return s[0] + ' (' + rec(s[1:-1]) + ') ' + s[-1]\n",
    "\n",
    "\n",
    "tpl = \"berry\", \"less\", \"right\", \"hi\"\n",
    "\n",
    "for string in tpl:\n",
    "    print(rec(string))"
   ]
  },
  {
   "cell_type": "code",
   "execution_count": 31,
   "outputs": [
    {
     "name": "stdout",
     "output_type": "stream",
     "text": [
      "1\n",
      "4\n",
      "27\n",
      "256\n",
      "0.04\n",
      "0.5\n"
     ]
    }
   ],
   "source": [
    "def power(x, n):\n",
    "    if n == 0:\n",
    "        return 1\n",
    "    if n < 0:\n",
    "        return 1 / power(x, -n)\n",
    "    if n % 2 == 0:\n",
    "        return power(x, n // 2) * power(x, n // 2)\n",
    "    else:\n",
    "        return power(x, n - 1) * x\n",
    "\n",
    "\n",
    "tpl = ((1, 1), (2, 2), (3, 3), (4, 4), (5, -2), (2, -1))\n",
    "\n",
    "for i in tpl:\n",
    "    x, n = i[0], i[1]\n",
    "    print(power(x, n))"
   ],
   "metadata": {
    "collapsed": false,
    "pycharm": {
     "name": "#%%\n"
    }
   }
  },
  {
   "cell_type": "code",
   "execution_count": 38,
   "outputs": [
    {
     "name": "stdout",
     "output_type": "stream",
     "text": [
      "[-3, -2, [-1, 0]] 1 [2, [3, 4, 5, [6, 7, 8, [9, 10]]]] level = 1\n",
      "-3 -2 [-1, 0] level = 2\n",
      "-1 0 level = 3\n",
      "2 [3, 4, 5, [6, 7, 8, [9, 10]]] level = 2\n",
      "3 4 5 [6, 7, 8, [9, 10]] level = 3\n",
      "6 7 8 [9, 10] level = 4\n",
      "9 10 level = 5\n"
     ]
    }
   ],
   "source": [
    "a = [[-3, -2, [-1, 0]],1 ,[2, [3, 4, 5, [6, 7, 8, [9, 10]]]]]\n",
    "\n",
    "def rec(lst, level=1):\n",
    "    print(*lst, f\"level = {level}\")\n",
    "    for i in lst:\n",
    "        if type(i) == list:\n",
    "            rec(i, level + 1)\n",
    "\n",
    "rec(a)"
   ],
   "metadata": {
    "collapsed": false,
    "pycharm": {
     "name": "#%%\n"
    }
   }
  },
  {
   "cell_type": "code",
   "execution_count": 28,
   "outputs": [
    {
     "name": "stdout",
     "output_type": "stream",
     "text": [
      "610\n",
      "\n",
      "0: 0\n",
      "1: 1\n",
      "2: 1\n",
      "3: 2\n",
      "4: 3\n",
      "5: 5\n",
      "6: 8\n",
      "7: 13\n",
      "8: 21\n",
      "9: 34\n",
      "10: 55\n",
      "11: 89\n",
      "12: 144\n",
      "13: 233\n",
      "14: 377\n",
      "15: 610\n"
     ]
    }
   ],
   "source": [
    "memo = {0:0, 1:1}\n",
    "def fibonacci_with_memory(n: int) -> int:\n",
    "    if n not in memo:\n",
    "        memo[n] = (fibonacci_with_memory(n - 1) + fibonacci_with_memory(n - 2))\n",
    "    return memo[n]\n",
    "\n",
    "\n",
    "print(fibonacci_with_memory(15))\n",
    "print()\n",
    "\n",
    "for items, values in memo.items():\n",
    "    print(f\"{items}: {values}\")"
   ],
   "metadata": {
    "collapsed": false,
    "pycharm": {
     "name": "#%%\n"
    }
   }
  }
 ],
 "metadata": {
  "kernelspec": {
   "display_name": "Python 3",
   "language": "python",
   "name": "python3"
  },
  "language_info": {
   "codemirror_mode": {
    "name": "ipython",
    "version": 2
   },
   "file_extension": ".py",
   "mimetype": "text/x-python",
   "name": "python",
   "nbconvert_exporter": "python",
   "pygments_lexer": "ipython2",
   "version": "2.7.6"
  }
 },
 "nbformat": 4,
 "nbformat_minor": 0
}