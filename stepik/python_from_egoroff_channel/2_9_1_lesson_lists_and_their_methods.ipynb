{
 "cells": [
  {
   "cell_type": "code",
   "execution_count": null,
   "metadata": {
    "collapsed": true
   },
   "outputs": [],
   "source": [
    "# Так как строки у нас неизменяемые объекты (immutable), то стоит обратить внимание на то, что\n",
    "# методы такие например как s.upper() НЕ ИЗМЕНЯЮТ СТРОКУ. С изменяемыми объектами\n",
    "# (mutable sequence types) наоборот."
   ]
  },
  {
   "cell_type": "code",
   "execution_count": 2,
   "outputs": [
    {
     "name": "stdout",
     "output_type": "stream",
     "text": [
      "[1, 3, 5, 10, 45]\n"
     ]
    }
   ],
   "source": [
    "a = [1, 3, 5, 10]\n",
    "a.append(45)\n",
    "print(a)"
   ],
   "metadata": {
    "collapsed": false,
    "pycharm": {
     "name": "#%%\n"
    }
   }
  },
  {
   "cell_type": "code",
   "execution_count": 3,
   "outputs": [
    {
     "name": "stdout",
     "output_type": "stream",
     "text": [
      "None\n"
     ]
    }
   ],
   "source": [
    "# Если присвоить значение, то потеряем все значения из списка.\n",
    "a = [1, 3, 5, 10]\n",
    "a = a.append(46)\n",
    "print(a)"
   ],
   "metadata": {
    "collapsed": false,
    "pycharm": {
     "name": "#%%\n"
    }
   }
  },
  {
   "cell_type": "code",
   "execution_count": 4,
   "outputs": [
    {
     "name": "stdout",
     "output_type": "stream",
     "text": [
      "[1, 3, 5, 10, 'Hello', 101, [1, 2, 3]]\n"
     ]
    }
   ],
   "source": [
    "a = [1, 3, 5, 10]\n",
    "a.append('Hello')\n",
    "a.append(101)\n",
    "a.append([1, 2, 3])\n",
    "print(a)"
   ],
   "metadata": {
    "collapsed": false,
    "pycharm": {
     "name": "#%%\n"
    }
   }
  },
  {
   "cell_type": "code",
   "execution_count": 5,
   "outputs": [
    {
     "name": "stdout",
     "output_type": "stream",
     "text": [
      "[]\n"
     ]
    }
   ],
   "source": [
    "a = [1, 3, 5, 10]\n",
    "a.clear()\n",
    "print(a)"
   ],
   "metadata": {
    "collapsed": false,
    "pycharm": {
     "name": "#%%\n"
    }
   }
  },
  {
   "cell_type": "code",
   "execution_count": 6,
   "outputs": [
    {
     "name": "stdout",
     "output_type": "stream",
     "text": [
      "[1, 3, 5, 10]\n",
      "[1, 3, 5, 10] [1, 3, 5, 10]\n",
      "[1, 3, 5, 10] [1, 3, 5, 10, 'abc']\n"
     ]
    }
   ],
   "source": [
    "a = [1, 3, 5, 10]\n",
    "print(a)\n",
    "b = a.copy()\n",
    "print(a, b)\n",
    "b.append(\"abc\")\n",
    "print(a, b)"
   ],
   "metadata": {
    "collapsed": false,
    "pycharm": {
     "name": "#%%\n"
    }
   }
  },
  {
   "cell_type": "code",
   "execution_count": 19,
   "outputs": [
    {
     "name": "stdout",
     "output_type": "stream",
     "text": [
      "1\n",
      "None\n",
      "2\n",
      "[1, 3, 5, 10, 1]\n",
      "0\n",
      "4\n"
     ]
    }
   ],
   "source": [
    "a = [1, 3, 5, 10]\n",
    "print(a.count(1))\n",
    "print(a.append(1))\n",
    "print(a.count(1))\n",
    "print(a)\n",
    "\n",
    "print(a.index(1))\n",
    "print(a.index(1, 2, len(a)))"
   ],
   "metadata": {
    "collapsed": false,
    "pycharm": {
     "name": "#%%\n"
    }
   }
  },
  {
   "cell_type": "code",
   "execution_count": 22,
   "outputs": [
    {
     "name": "stdout",
     "output_type": "stream",
     "text": [
      "[1, 3, 100, 5, 10]\n"
     ]
    }
   ],
   "source": [
    "a = [1, 3, 5, 10]\n",
    "a.insert(2, 100)\n",
    "print(a)"
   ],
   "metadata": {
    "collapsed": false,
    "pycharm": {
     "name": "#%%\n"
    }
   }
  },
  {
   "cell_type": "code",
   "execution_count": 27,
   "outputs": [
    {
     "name": "stdout",
     "output_type": "stream",
     "text": [
      "[1, 3, 5, 10]\n",
      "10\n",
      "[1, 3, 5]\n",
      "3\n",
      "[1, 5]\n"
     ]
    }
   ],
   "source": [
    "a = [1, 3, 5, 10]\n",
    "print(a)\n",
    "print(a.pop())\n",
    "print(a)\n",
    "print(a.pop(1))\n",
    "print(a)"
   ],
   "metadata": {
    "collapsed": false,
    "pycharm": {
     "name": "#%%\n"
    }
   }
  },
  {
   "cell_type": "code",
   "execution_count": 36,
   "outputs": [
    {
     "name": "stdout",
     "output_type": "stream",
     "text": [
      "[1, 3, 5, 10, 3]\n",
      "a.remove(3)\n",
      "[1, 5, 10, 3]\n"
     ]
    }
   ],
   "source": [
    "a = [1, 3, 5, 10, 3]\n",
    "print(a)\n",
    "print('a.remove(3)')\n",
    "a.remove(3)\n",
    "print(a)"
   ],
   "metadata": {
    "collapsed": false,
    "pycharm": {
     "name": "#%%\n"
    }
   }
  },
  {
   "cell_type": "code",
   "execution_count": 39,
   "outputs": [
    {
     "name": "stdout",
     "output_type": "stream",
     "text": [
      "[1, 3, 5, 10, 3]\n",
      "a.remove(3)\n",
      "a.remove(3)\n",
      "[1, 5, 10]\n"
     ]
    }
   ],
   "source": [
    "a = [1, 3, 5, 10, 3]\n",
    "print(a)\n",
    "\n",
    "while 3 in a:\n",
    "    print('a.remove(3)')\n",
    "    a.remove(3)\n",
    "\n",
    "print(a)"
   ],
   "metadata": {
    "collapsed": false,
    "pycharm": {
     "name": "#%%\n"
    }
   }
  },
  {
   "cell_type": "code",
   "execution_count": 46,
   "outputs": [
    {
     "name": "stdout",
     "output_type": "stream",
     "text": [
      "[1, 3, 5, 10, 3]\n",
      "[3, 10, 5, 3, 1]\n"
     ]
    }
   ],
   "source": [
    "a = [1, 3, 5, 10, 3]\n",
    "print(a)\n",
    "a.reverse() # Развернули список.\n",
    "print(a)"
   ],
   "metadata": {
    "collapsed": false,
    "pycharm": {
     "name": "#%%\n"
    }
   }
  },
  {
   "cell_type": "code",
   "execution_count": 45,
   "outputs": [
    {
     "name": "stdout",
     "output_type": "stream",
     "text": [
      "[1, 3, 5, 10, 3]\n",
      "[10, 5, 3, 3, 1]\n"
     ]
    }
   ],
   "source": [
    "a = [1, 3, 5, 10, 3]\n",
    "print(a)\n",
    "a.sort(reverse=True)  # Отсортировали и развернули список.\n",
    "print(a)\n"
   ],
   "metadata": {
    "collapsed": false,
    "pycharm": {
     "name": "#%%\n"
    }
   }
  }
 ],
 "metadata": {
  "kernelspec": {
   "display_name": "Python 3",
   "language": "python",
   "name": "python3"
  },
  "language_info": {
   "codemirror_mode": {
    "name": "ipython",
    "version": 2
   },
   "file_extension": ".py",
   "mimetype": "text/x-python",
   "name": "python",
   "nbconvert_exporter": "python",
   "pygments_lexer": "ipython2",
   "version": "2.7.6"
  }
 },
 "nbformat": 4,
 "nbformat_minor": 0
}