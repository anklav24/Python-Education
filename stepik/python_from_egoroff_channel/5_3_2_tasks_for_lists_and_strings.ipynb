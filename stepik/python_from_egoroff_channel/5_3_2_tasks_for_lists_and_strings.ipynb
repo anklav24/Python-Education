{
 "cells": [
  {
   "cell_type": "code",
   "execution_count": 8,
   "metadata": {
    "collapsed": true
   },
   "outputs": [
    {
     "name": "stdout",
     "output_type": "stream",
     "text": [
      "2\n",
      "qwer2\n"
     ]
    }
   ],
   "source": [
    "letter, string = input(), input().split()\n",
    "\n",
    "for i in range(len(string)):\n",
    "    if letter in string[i]:\n",
    "        print(string[i])"
   ]
  },
  {
   "cell_type": "code",
   "execution_count": 9,
   "outputs": [
    {
     "name": "stdout",
     "output_type": "stream",
     "text": [
      "3\n",
      "qwer3\n"
     ]
    }
   ],
   "source": [
    "letter, string = input(), input()\n",
    "\n",
    "for word in string.split():\n",
    "    if letter in word:\n",
    "        print(word)"
   ],
   "metadata": {
    "collapsed": false,
    "pycharm": {
     "name": "#%%\n"
    }
   }
  },
  {
   "cell_type": "code",
   "execution_count": null,
   "outputs": [],
   "source": [
    "letter, string = input(), input().split()\n",
    "\n",
    "for word in string:\n",
    "    if letter in word:\n",
    "        print(word)"
   ],
   "metadata": {
    "collapsed": false,
    "pycharm": {
     "name": "#%%\n"
    }
   }
  },
  {
   "cell_type": "code",
   "execution_count": 27,
   "outputs": [
    {
     "name": "stdout",
     "output_type": "stream",
     "text": [
      "2\n",
      "[2, 1, 2]\n"
     ]
    }
   ],
   "source": [
    "string, total = input().lower(), []\n",
    "\n",
    "for letter in string:\n",
    "    total.append(string.count(letter))\n",
    "\n",
    "print(max(total))"
   ],
   "metadata": {
    "collapsed": false,
    "pycharm": {
     "name": "#%%\n"
    }
   }
  }
 ],
 "metadata": {
  "kernelspec": {
   "display_name": "Python 3",
   "language": "python",
   "name": "python3"
  },
  "language_info": {
   "codemirror_mode": {
    "name": "ipython",
    "version": 2
   },
   "file_extension": ".py",
   "mimetype": "text/x-python",
   "name": "python",
   "nbconvert_exporter": "python",
   "pygments_lexer": "ipython2",
   "version": "2.7.6"
  }
 },
 "nbformat": 4,
 "nbformat_minor": 0
}