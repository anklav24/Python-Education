{
 "cells": [
  {
   "cell_type": "code",
   "execution_count": 1,
   "metadata": {
    "collapsed": true
   },
   "outputs": [
    {
     "name": "stdout",
     "output_type": "stream",
     "text": [
      "1\n",
      "2\n",
      "3\n"
     ]
    }
   ],
   "source": [
    "n = int(input())\n",
    "\n",
    "for i in range(1, n + 1):\n",
    "    print(i)"
   ]
  },
  {
   "cell_type": "code",
   "execution_count": 6,
   "outputs": [
    {
     "name": "stdout",
     "output_type": "stream",
     "text": [
      "1\n",
      "2\n",
      "3\n"
     ]
    },
    {
     "data": {
      "text/plain": "[None, None, None]"
     },
     "execution_count": 6,
     "metadata": {},
     "output_type": "execute_result"
    }
   ],
   "source": [
    "[print(i) for i in range(1, int(input()) + 1)]"
   ],
   "metadata": {
    "collapsed": false,
    "pycharm": {
     "name": "#%%\n"
    }
   }
  },
  {
   "cell_type": "code",
   "execution_count": 16,
   "outputs": [
    {
     "name": "stdout",
     "output_type": "stream",
     "text": [
      "3\n",
      "2\n",
      "1\n"
     ]
    }
   ],
   "source": [
    "for i in range(int(input()), 0, -1):\n",
    "    print(i)"
   ],
   "metadata": {
    "collapsed": false,
    "pycharm": {
     "name": "#%%\n"
    }
   }
  },
  {
   "cell_type": "code",
   "execution_count": 8,
   "outputs": [
    {
     "ename": "SyntaxError",
     "evalue": "unmatched ')' (<ipython-input-8-0fdbf87cd8c6>, line 4)",
     "output_type": "error",
     "traceback": [
      "\u001B[1;36m  File \u001B[1;32m\"<ipython-input-8-0fdbf87cd8c6>\"\u001B[1;36m, line \u001B[1;32m4\u001B[0m\n\u001B[1;33m    for i in range(n)):\u001B[0m\n\u001B[1;37m                     ^\u001B[0m\n\u001B[1;31mSyntaxError\u001B[0m\u001B[1;31m:\u001B[0m unmatched ')'\n"
     ]
    }
   ],
   "source": [
    "n, first_pl, second_pl = int(input()), 0, 0\n",
    "games = [input().split() for i in range(n)]\n",
    "\n",
    "for i in range(n):\n",
    "    if int(games[i][0]) > int(games[i][1]):\n",
    "        first_pl += 1\n",
    "    elif int(games[i][0]) < int(games[i][1]):\n",
    "        second_pl += 1\n",
    "\n",
    "if first_pl > second_pl:\n",
    "    print('Mishka')\n",
    "elif first_pl < second_pl:\n",
    "    print('Chris')\n",
    "else:\n",
    "    print('Friendship is magic!^^')"
   ],
   "metadata": {
    "collapsed": false,
    "pycharm": {
     "name": "#%%\n"
    }
   }
  },
  {
   "cell_type": "code",
   "execution_count": null,
   "outputs": [],
   "source": [
    "# Community\n",
    "Mishka_wins = 0\n",
    "Chris_wins = 0\n",
    "\n",
    "for i in range(int(input())):\n",
    "    m, c = map(int, input().split())\n",
    "    if m > c:\n",
    "        Mishka_wins += 1\n",
    "    elif m < c:\n",
    "        Chris_wins += 1\n",
    "\n",
    "if Mishka_wins > Chris_wins: print(\"Mishka\")\n",
    "elif Mishka_wins < Chris_wins: print(\"Chris\")\n",
    "else: print(\"Friendship is magic!^^\")"
   ],
   "metadata": {
    "collapsed": false,
    "pycharm": {
     "name": "#%%\n"
    }
   }
  },
  {
   "cell_type": "code",
   "execution_count": 15,
   "outputs": [
    {
     "name": "stdout",
     "output_type": "stream",
     "text": [
      "1 1\n"
     ]
    }
   ],
   "source": [
    "for i in range(1, int(input()) + 1):\n",
    "    string = input().lower()\n",
    "    if 'рок' in string:\n",
    "        print(i, string.find('рок') + 1)"
   ],
   "metadata": {
    "collapsed": false,
    "pycharm": {
     "name": "#%%\n"
    }
   }
  },
  {
   "cell_type": "code",
   "execution_count": 19,
   "outputs": [
    {
     "name": "stdout",
     "output_type": "stream",
     "text": [
      "1 1\n",
      "2 1\n",
      "3 5\n"
     ]
    }
   ],
   "source": [
    "n = int(input())\n",
    "for i in range(n):\n",
    "    s = input().lower()\n",
    "    if 'рок' in s:\n",
    "        print(i + 1, s.find('рок') + 1)"
   ],
   "metadata": {
    "collapsed": false,
    "pycharm": {
     "name": "#%%\n"
    }
   }
  },
  {
   "cell_type": "code",
   "execution_count": null,
   "outputs": [],
   "source": [
    "# Community\n",
    "n = int(input())\n",
    "for i in range(n):\n",
    "    a = input().lower().find('рок')\n",
    "    if a >= 0:\n",
    "        print(i+1, a+1)"
   ],
   "metadata": {
    "collapsed": false,
    "pycharm": {
     "name": "#%%\n"
    }
   }
  },
  {
   "cell_type": "code",
   "execution_count": 27,
   "outputs": [],
   "source": [
    "n = int(input())\n",
    "for i in range(n):\n",
    "    string = input()\n",
    "    if 'соль' not in string:\n",
    "        print(string, end='')\n",
    "        if i != n - 1:\n",
    "            print(', ', end='')"
   ],
   "metadata": {
    "collapsed": false,
    "pycharm": {
     "name": "#%%\n"
    }
   }
  },
  {
   "cell_type": "code",
   "execution_count": 28,
   "outputs": [
    {
     "name": "stdout",
     "output_type": "stream",
     "text": [
      "\n"
     ]
    }
   ],
   "source": [
    "# Community\n",
    "\n",
    "s = [input() for i in range(int(input()))]\n",
    "print(*[i for i in s if not 'соль' in i], sep=', ')"
   ],
   "metadata": {
    "collapsed": false,
    "pycharm": {
     "name": "#%%\n"
    }
   }
  }
 ],
 "metadata": {
  "kernelspec": {
   "display_name": "Python 3",
   "language": "python",
   "name": "python3"
  },
  "language_info": {
   "codemirror_mode": {
    "name": "ipython",
    "version": 2
   },
   "file_extension": ".py",
   "mimetype": "text/x-python",
   "name": "python",
   "nbconvert_exporter": "python",
   "pygments_lexer": "ipython2",
   "version": "2.7.6"
  }
 },
 "nbformat": 4,
 "nbformat_minor": 0
}