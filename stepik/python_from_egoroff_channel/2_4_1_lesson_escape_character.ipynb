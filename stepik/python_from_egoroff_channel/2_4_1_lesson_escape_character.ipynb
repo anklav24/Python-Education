{
 "cells": [
  {
   "cell_type": "markdown",
   "metadata": {
    "collapsed": true,
    "pycharm": {
     "name": "#%% md\n"
    }
   },
   "source": [
    "# lesson escape character\n",
    "# Экранирование символов"
   ]
  },
  {
   "cell_type": "code",
   "execution_count": 3,
   "outputs": [
    {
     "name": "stdout",
     "output_type": "stream",
     "text": [
      "abc\n",
      "def\n",
      "7\n",
      "abc\n",
      "def 7\n"
     ]
    }
   ],
   "source": [
    "# Спецсимволы включаются в длину строки как 1 символ.\n",
    "a = 'abc\\ndef'\n",
    "print(a)\n",
    "print(len(a))\n",
    "b = 'abcdef'\n",
    "print(a, len(a))"
   ],
   "metadata": {
    "collapsed": false,
    "pycharm": {
     "name": "#%%\n"
    }
   }
  },
  {
   "cell_type": "code",
   "execution_count": 7,
   "outputs": [
    {
     "name": "stdout",
     "output_type": "stream",
     "text": [
      "test_1 \n",
      "ewline\n",
      "test_1 \\ test_2\n",
      "test_1 ' test_2\n",
      "test_1 \" test_2\n",
      "test_1 \u0007 test_2\n",
      "test_1 \b test_2\n",
      "test_1 \f test_2\n",
      "test_1 \n",
      " test_2\n",
      " test_2\n",
      "test_1 \t test_2\n",
      "test_1 \u000B test_2\n"
     ]
    }
   ],
   "source": [
    "print('test_1 \\newline') # \\n - newline\n",
    "print('test_1 \\\\ test_2')\n",
    "print('test_1 \\' test_2')\n",
    "print('test_1 \\\" test_2')\n",
    "print('test_1 \\a test_2')\n",
    "print('test_1 \\b test_2')\n",
    "print('test_1 \\f test_2')\n",
    "print('test_1 \\n test_2')\n",
    "print('test_1 \\r test_2')\n",
    "print('test_1 \\t test_2') # tabulation\n",
    "print('test_1 \\v test_2')"
   ],
   "metadata": {
    "collapsed": false,
    "pycharm": {
     "name": "#%%\n"
    }
   }
  },
  {
   "cell_type": "markdown",
   "source": [
    "Внимательно обращайтесь со служебными символами особенно в Windows"
   ],
   "metadata": {
    "collapsed": false,
    "pycharm": {
     "name": "#%% md\n"
    }
   }
  },
  {
   "cell_type": "code",
   "execution_count": 11,
   "outputs": [
    {
     "name": "stdout",
     "output_type": "stream",
     "text": [
      "D:\typer-V\n",
      "umber3-VPC\n",
      "D:\\Hyper-V\\number3-VPC\n",
      "D:\\Hyper-V\\number3-VPC\n"
     ]
    }
   ],
   "source": [
    "print('D:\\typer-V\\number3-VPC') # Сочетания символов случайно дали служебный символ\n",
    "print(r'D:\\Hyper-V\\number3-VPC') # Удаляем служебные символы из строки\n",
    "print('D:\\\\Hyper-V\\\\number3-VPC') # Просто экранируем все обратные слэши."
   ],
   "metadata": {
    "collapsed": false,
    "pycharm": {
     "name": "#%%\n"
    }
   }
  },
  {
   "cell_type": "code",
   "execution_count": 12,
   "outputs": [
    {
     "name": "stdout",
     "output_type": "stream",
     "text": [
      "Что Вы сказали? фывайцук? Какое интересное слово\n"
     ]
    }
   ],
   "source": [
    "print(f'Что Вы сказали? {input()}? Какое интересное слово')\n"
   ],
   "metadata": {
    "collapsed": false,
    "pycharm": {
     "name": "#%%\n"
    }
   }
  }
 ],
 "metadata": {
  "kernelspec": {
   "display_name": "Python 3",
   "language": "python",
   "name": "python3"
  },
  "language_info": {
   "codemirror_mode": {
    "name": "ipython",
    "version": 2
   },
   "file_extension": ".py",
   "mimetype": "text/x-python",
   "name": "python",
   "nbconvert_exporter": "python",
   "pygments_lexer": "ipython2",
   "version": "2.7.6"
  }
 },
 "nbformat": 4,
 "nbformat_minor": 0
}