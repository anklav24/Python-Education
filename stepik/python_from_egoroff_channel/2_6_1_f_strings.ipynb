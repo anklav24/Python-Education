{
 "cells": [
  {
   "cell_type": "code",
   "execution_count": 3,
   "metadata": {
    "collapsed": true
   },
   "outputs": [
    {
     "name": "stdout",
     "output_type": "stream",
     "text": [
      "Дорогой Noname Nosurname, баланс вашего лицевого счета составляет 1060.1536.\n",
      "Дорогой Serge Kroch, ваш баланс 404.01000000000005\n",
      "['Semeqwer23n', 'semeqweWQERqnovich', 32.57]\n",
      "['Semen', 'semenovich', 32.57]\n",
      "['Semen', 'semenovich', 32.57]\n",
      "['Semen', 'semenovich', 32.57]\n",
      " Semeqwer23n semeqweWQERqnovich 32.57\n",
      " Semen semenovich 32.57\n",
      " Semen semenovich 32.57\n",
      " Semen semenovich 32.57\n"
     ]
    }
   ],
   "source": [
    "# Formatted string literals\n",
    "\n",
    "d = {\n",
    "    'name_d': 'Serge',\n",
    "    'surname_d': 'Kroch',\n",
    "    'balance_d': 20.1\n",
    "}\n",
    "name = 'nonAme'\n",
    "surname = 'NosUrname'\n",
    "balance = 32.56\n",
    "\n",
    "def balance_func(balance):\n",
    "    return balance ** 2\n",
    "\n",
    "text = f'Дорогой {name.capitalize()} {surname.capitalize()}, баланс вашего лицевого счета составляет {abs(balance_func(balance))}.'\n",
    "print(text)\n",
    "\n",
    "# Внимательно со скобками если у буквы f будет одинарная скобка ' то все сломается при использовании внутри выражений\n",
    "# Таких же одинарных скобок.\n",
    "print(f\"Дорогой {d['name_d'].capitalize()} {d['surname_d'].capitalize()}, ваш баланс {balance_func(d['balance_d'])}\")\n",
    "\n",
    "lst = [\n",
    "    ['Semeqwer23n', 'semeqweWQERqnovich', 32.57],\n",
    "    ['Semen', 'semenovich', 32.57],\n",
    "    ['Semen', 'semenovich', 32.57],\n",
    "    ['Semen', 'semenovich', 32.57]\n",
    "]\n",
    "\n",
    "# name, surname, balance = lst\n",
    "# print(name, surname, balance)\n",
    "\n",
    "for i in lst:\n",
    "    print(i)\n",
    "\n",
    "for name, surname, balance in lst:\n",
    "    print(f' {name} {surname} {balance}')\n"
   ]
  },
  {
   "cell_type": "code",
   "execution_count": null,
   "outputs": [],
   "source": [],
   "metadata": {
    "collapsed": false,
    "pycharm": {
     "name": "#%%\n"
    }
   }
  }
 ],
 "metadata": {
  "kernelspec": {
   "display_name": "Python 3",
   "language": "python",
   "name": "python3"
  },
  "language_info": {
   "codemirror_mode": {
    "name": "ipython",
    "version": 2
   },
   "file_extension": ".py",
   "mimetype": "text/x-python",
   "name": "python",
   "nbconvert_exporter": "python",
   "pygments_lexer": "ipython2",
   "version": "2.7.6"
  }
 },
 "nbformat": 4,
 "nbformat_minor": 0
}