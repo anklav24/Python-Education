{
 "cells": [
  {
   "cell_type": "code",
   "execution_count": 21,
   "metadata": {
    "collapsed": true
   },
   "outputs": [
    {
     "name": "stdout",
     "output_type": "stream",
     "text": [
      "5\n"
     ]
    }
   ],
   "source": [
    "n, a, s = int(input()), [], 0\n",
    "\n",
    "for i in range(n):\n",
    "    a.append([int(i) for i in input().split()])\n",
    "\n",
    "for i in range(n):\n",
    "    for j in range(n):\n",
    "        if i == j:\n",
    "            s += a[i][j]\n",
    "print(s)"
   ]
  },
  {
   "cell_type": "code",
   "execution_count": 22,
   "outputs": [
    {
     "name": "stdout",
     "output_type": "stream",
     "text": [
      "5\n"
     ]
    }
   ],
   "source": [
    "# Community\n",
    "n = int(input())\n",
    "s = 0\n",
    "for i in range(n):\n",
    "    s += int(input().split()[i])\n",
    "print(s)"
   ],
   "metadata": {
    "collapsed": false,
    "pycharm": {
     "name": "#%%\n"
    }
   }
  },
  {
   "cell_type": "code",
   "execution_count": null,
   "outputs": [],
   "source": [
    "# Community\n",
    "a=[]\n",
    "s=0\n",
    "n=int(input())\n",
    "for i in range(n):\n",
    "    a.append(input().split())\n",
    "for i in range(n):\n",
    "        s+=int(a[i][i])\n",
    "\n",
    "print(s)"
   ],
   "metadata": {
    "collapsed": false,
    "pycharm": {
     "name": "#%%\n"
    }
   }
  },
  {
   "cell_type": "code",
   "execution_count": 1,
   "outputs": [
    {
     "ename": "ValueError",
     "evalue": "invalid literal for int() with base 10: ''",
     "output_type": "error",
     "traceback": [
      "\u001B[1;31m---------------------------------------------------------------------------\u001B[0m",
      "\u001B[1;31mValueError\u001B[0m                                Traceback (most recent call last)",
      "\u001B[1;32m<ipython-input-1-c3a4138bac1e>\u001B[0m in \u001B[0;36m<module>\u001B[1;34m\u001B[0m\n\u001B[1;32m----> 1\u001B[1;33m \u001B[0mn\u001B[0m\u001B[1;33m,\u001B[0m \u001B[0ma\u001B[0m \u001B[1;33m=\u001B[0m \u001B[0mint\u001B[0m\u001B[1;33m(\u001B[0m\u001B[0minput\u001B[0m\u001B[1;33m(\u001B[0m\u001B[1;33m)\u001B[0m\u001B[1;33m)\u001B[0m\u001B[1;33m,\u001B[0m \u001B[1;33m[\u001B[0m\u001B[1;33m]\u001B[0m\u001B[1;33m\u001B[0m\u001B[1;33m\u001B[0m\u001B[0m\n\u001B[0m\u001B[0;32m      2\u001B[0m \u001B[1;33m\u001B[0m\u001B[0m\n\u001B[0;32m      3\u001B[0m \u001B[1;32mfor\u001B[0m \u001B[0mi\u001B[0m \u001B[1;32min\u001B[0m \u001B[0mrange\u001B[0m\u001B[1;33m(\u001B[0m\u001B[0mn\u001B[0m\u001B[1;33m)\u001B[0m\u001B[1;33m:\u001B[0m\u001B[1;33m\u001B[0m\u001B[1;33m\u001B[0m\u001B[0m\n\u001B[0;32m      4\u001B[0m     \u001B[0ma\u001B[0m\u001B[1;33m.\u001B[0m\u001B[0mappend\u001B[0m\u001B[1;33m(\u001B[0m\u001B[1;33m[\u001B[0m\u001B[0mint\u001B[0m\u001B[1;33m(\u001B[0m\u001B[0mi\u001B[0m\u001B[1;33m)\u001B[0m \u001B[1;32mfor\u001B[0m \u001B[0mi\u001B[0m \u001B[1;32min\u001B[0m \u001B[0minput\u001B[0m\u001B[1;33m(\u001B[0m\u001B[1;33m)\u001B[0m\u001B[1;33m.\u001B[0m\u001B[0msplit\u001B[0m\u001B[1;33m(\u001B[0m\u001B[1;33m)\u001B[0m\u001B[1;33m]\u001B[0m\u001B[1;33m)\u001B[0m\u001B[1;33m\u001B[0m\u001B[1;33m\u001B[0m\u001B[0m\n\u001B[0;32m      5\u001B[0m \u001B[1;33m\u001B[0m\u001B[0m\n",
      "\u001B[1;31mValueError\u001B[0m: invalid literal for int() with base 10: ''"
     ]
    }
   ],
   "source": [
    "n, a = int(input()), []\n",
    "\n",
    "for i in range(n):\n",
    "    a.append([int(i) for i in input().split()])\n",
    "\n",
    "for j in range(n):\n",
    "    for i in range(n):\n",
    "        print(a[i][j], end=' ')\n",
    "    print()"
   ],
   "metadata": {
    "collapsed": false,
    "pycharm": {
     "name": "#%%\n"
    }
   }
  },
  {
   "cell_type": "code",
   "execution_count": null,
   "outputs": [],
   "source": [
    "n = int(input())\n",
    "a = [[int(j) for j in input().split()] for i in range(n)]\n",
    "\n",
    "for column in range(n - 1, -1, -1):\n",
    "    for line in range(n - 1, -1, -1):\n",
    "        print(a[line][column], end=' ')\n",
    "    print()"
   ],
   "metadata": {
    "collapsed": false,
    "pycharm": {
     "name": "#%%\n"
    }
   }
  },
  {
   "cell_type": "code",
   "execution_count": null,
   "outputs": [],
   "source": [
    "n, m = map(int, input().split())\n",
    "a = [[int(j) for j in input().split()] for i in range(n)]\n",
    "\n",
    "for line in range(n):\n",
    "    for column in range(m - 1, -1, -1):\n",
    "        print(a[line][column], end=' ')\n",
    "    print()"
   ],
   "metadata": {
    "collapsed": false,
    "pycharm": {
     "name": "#%%\n"
    }
   }
  },
  {
   "cell_type": "code",
   "execution_count": null,
   "outputs": [],
   "source": [
    "n, m = map(int, input().split())\n",
    "a = [[int(j) for j in input().split()] for i in range(n)]\n",
    "\n",
    "for line in range(n -1, -1, -1):\n",
    "    for column in range(m):\n",
    "        print(a[line][column], end=' ')\n",
    "    print()"
   ],
   "metadata": {
    "collapsed": false,
    "pycharm": {
     "name": "#%%\n"
    }
   }
  },
  {
   "cell_type": "code",
   "execution_count": null,
   "outputs": [],
   "source": [
    "# for i in range(5):\n",
    "#     a = input().split()\n",
    "# print(a)\n",
    "a = [[0, 0, 0, 0, 0],\n",
    "    [0, 0, 0, 0, 1],\n",
    "    [0, 0, 0, 0, 0],\n",
    "    [0, 0, 0, 0, 0],\n",
    "    [0, 0, 0, 0, 0]\n",
    "]\n",
    "for i in a:\n",
    "    for j in i:\n",
    "        print(j, end=' ')\n",
    "    print()\n",
    "\n",
    "for i in range(len(a)):\n",
    "    for j in range(len(a)):\n",
    "        if a[i][j] == 1:\n",
    "            line, column = i, j\n",
    "            print(line, column)\n",
    "print(abs(line - 2))\n",
    "print(abs(column - 2))\n",
    "print(abs(line - 2) + abs(column - 2))"
   ],
   "metadata": {
    "collapsed": false,
    "pycharm": {
     "name": "#%%\n"
    }
   }
  },
  {
   "cell_type": "code",
   "execution_count": null,
   "outputs": [],
   "source": [
    "a = [[int(j) for j in input().split()] for i in range(5)]\n",
    "\n",
    "for i in range(len(a)):\n",
    "    for j in range(len(a)):\n",
    "        if a[i][j] == 1:\n",
    "            row, column = i, j\n",
    "\n",
    "print(abs(row - 2) + abs(column - 2))"
   ],
   "metadata": {
    "collapsed": false,
    "pycharm": {
     "name": "#%%\n"
    }
   }
  },
  {
   "cell_type": "code",
   "execution_count": null,
   "outputs": [],
   "source": [
    "rows, columns = map(int, input().split())\n",
    "array = [[int(j) for j in input().split()] for i in range(rows)]\n",
    "\n",
    "for row in array:\n",
    "    sum_row = 0\n",
    "    for column in row:\n",
    "        sum_row += column\n",
    "    print(sum_row, end=' ')\n",
    "print()\n",
    "\n",
    "for column in range(columns):\n",
    "    sum_col = 0\n",
    "    for row in range(rows):\n",
    "        sum_col += array[row][column]\n",
    "    print(sum_col, end=' ')"
   ],
   "metadata": {
    "collapsed": false,
    "pycharm": {
     "name": "#%%\n"
    }
   }
  },
  {
   "cell_type": "code",
   "execution_count": null,
   "outputs": [],
   "source": [
    "rows, columns = map(int, input().split())\n",
    "array = [[int(j) for j in input().split()] for i in range(rows)]\n",
    "\n",
    "for row in array:\n",
    "    print(sum(row), end=' ')\n",
    "print()\n",
    "\n",
    "for column in range(columns):\n",
    "    print(sum([row[column] for row in array]), end=' ')"
   ],
   "metadata": {
    "collapsed": false,
    "pycharm": {
     "name": "#%%\n"
    }
   }
  },
  {
   "cell_type": "code",
   "execution_count": null,
   "outputs": [],
   "source": [
    "n = int(input())\n",
    "a = [list(map(int, input().split())) for i in range(n)]\n",
    "left_corner = right_corner = 0\n",
    "\n",
    "for row in range(n):\n",
    "    for column in range(n):\n",
    "        if row > column:\n",
    "            left_corner += a[row][column]\n",
    "        elif row < column:\n",
    "            right_corner += a[row][column]\n",
    "\n",
    "print('Yes' if left_corner == right_corner else 'No')"
   ],
   "metadata": {
    "collapsed": false,
    "pycharm": {
     "name": "#%%\n"
    }
   }
  },
  {
   "cell_type": "code",
   "execution_count": null,
   "outputs": [],
   "source": [
    "n, status = int(input()), ''\n",
    "a = [list(map(int, input().split())) for i in range(n)]\n",
    "\n",
    "for row in range(n):\n",
    "    for column in range(n):\n",
    "        if a[row][column] != a[column][row]:\n",
    "            status = 'No'\n",
    "            break\n",
    "\n",
    "print('Yes' if status != 'No' else 'No')"
   ],
   "metadata": {
    "collapsed": false,
    "pycharm": {
     "name": "#%%\n"
    }
   }
  },
  {
   "cell_type": "code",
   "execution_count": null,
   "outputs": [],
   "source": [
    "n, m = map(int, input().split())\n",
    "a = [[int(j) for j in input().split()] for i in range(n)]\n",
    "max_value, indx = 0, 0\n",
    "\n",
    "for row in range(len(a)):\n",
    "    if sum(a[row]) > max_value:\n",
    "        max_value = sum(a[row])\n",
    "        indx = row\n",
    "\n",
    "print(max_value, indx, sep='\\n')"
   ],
   "metadata": {
    "collapsed": false,
    "pycharm": {
     "name": "#%%\n"
    }
   }
  },
  {
   "cell_type": "code",
   "execution_count": null,
   "outputs": [],
   "source": [
    "# Community\n",
    "\n",
    "rows, columns = map(int, input().split())\n",
    "array = [sum([int(j) for j in input().split()]) for i in range(rows)]\n",
    "print(max(array), array.index(max(array)), end='\\n')"
   ],
   "metadata": {
    "collapsed": false,
    "pycharm": {
     "name": "#%%\n"
    }
   }
  },
  {
   "cell_type": "code",
   "execution_count": null,
   "outputs": [],
   "source": [
    "rows, columns = map(int, input().split())\n",
    "array = [[int(j) for j in input().split()] for i in range(rows)]\n",
    "max_value = find_row = find_column = 0\n",
    "\n",
    "for row in range(rows):\n",
    "    for column in range(columns):\n",
    "        if array[row][column] > max_value:\n",
    "            max_value = array[row][column]\n",
    "            find_row = row\n",
    "            find_column = column\n",
    "\n",
    "print(max_value)\n",
    "print(find_row, find_column)"
   ],
   "metadata": {
    "collapsed": false,
    "pycharm": {
     "name": "#%%\n"
    }
   }
  },
  {
   "cell_type": "code",
   "execution_count": 7,
   "outputs": [
    {
     "name": "stdout",
     "output_type": "stream",
     "text": [
      "0 9 1 \n",
      "3 7 4 \n",
      "9 6 5 \n"
     ]
    }
   ],
   "source": [
    "rows, columns = map(int, input().split())\n",
    "array = [[int(j) for j in input().split()] for i in range(rows)]\n",
    "max_value = find_row = find_column = 0\n",
    "\n",
    "for row in range(rows):\n",
    "    for column in range(columns):\n",
    "        if array[row][column] > max_value:\n",
    "            max_value = array[row][column]\n",
    "            find_row = row\n",
    "            find_column = column\n",
    "\n",
    "print(max_value)\n",
    "print(find_row, find_column)\n"
   ],
   "metadata": {
    "collapsed": false,
    "pycharm": {
     "name": "#%%\n"
    }
   }
  },
  {
   "cell_type": "code",
   "execution_count": 10,
   "outputs": [
    {
     "name": "stdout",
     "output_type": "stream",
     "text": [
      "6 2 9 5 \n",
      "3 4 2 6 \n",
      "7 8 2 1 \n"
     ]
    }
   ],
   "source": [
    "n, m = map(int, input().split())\n",
    "a = [[int(j) for j in input().split()] for i in range(n)]\n",
    "\n",
    "for line in range(n):\n",
    "    for column in range(m - 1, -1, -1):\n",
    "        print(a[line][column], end=' ')\n",
    "    print()"
   ],
   "metadata": {
    "collapsed": false,
    "pycharm": {
     "name": "#%%\n"
    }
   }
  },
  {
   "cell_type": "code",
   "execution_count": null,
   "outputs": [],
   "source": [
    "n, m = map(int, input().split())\n",
    "a = [[int(j) for j in input().split()] for i in range(n)]\n",
    "\n",
    "for line in range(n -1, -1, -1):\n",
    "    for column in range(m):\n",
    "        print(a[line][column], end=' ')\n",
    "    print()"
   ],
   "metadata": {
    "collapsed": false,
    "pycharm": {
     "name": "#%%\n"
    }
   }
  },
  {
   "cell_type": "code",
   "execution_count": 77,
   "outputs": [
    {
     "name": "stdout",
     "output_type": "stream",
     "text": [
      "0 0 0 0 0 \n",
      "0 0 0 0 1 \n",
      "0 0 0 0 0 \n",
      "0 0 0 0 0 \n",
      "0 0 0 0 0 \n",
      "1 4\n",
      "1\n",
      "2\n",
      "3\n"
     ]
    }
   ],
   "source": [
    "# for i in range(5):\n",
    "#     a = input().split()\n",
    "# print(a)\n",
    "a = [[0, 0, 0, 0, 0],\n",
    "    [0, 0, 0, 0, 1],\n",
    "    [0, 0, 0, 0, 0],\n",
    "    [0, 0, 0, 0, 0],\n",
    "    [0, 0, 0, 0, 0]\n",
    "]\n",
    "for i in a:\n",
    "    for j in i:\n",
    "        print(j, end=' ')\n",
    "    print()\n",
    "\n",
    "for i in range(len(a)):\n",
    "    for j in range(len(a)):\n",
    "        if a[i][j] == 1:\n",
    "            line, column = i, j\n",
    "            print(line, column)\n",
    "print(abs(line - 2))\n",
    "print(abs(column - 2))\n",
    "print(abs(line - 2) + abs(column - 2))"
   ],
   "metadata": {
    "collapsed": false,
    "pycharm": {
     "name": "#%%\n"
    }
   }
  },
  {
   "cell_type": "code",
   "execution_count": 78,
   "outputs": [
    {
     "ename": "IndexError",
     "evalue": "list index out of range",
     "output_type": "error",
     "traceback": [
      "\u001B[1;31m---------------------------------------------------------------------------\u001B[0m",
      "\u001B[1;31mIndexError\u001B[0m                                Traceback (most recent call last)",
      "\u001B[1;32m<ipython-input-78-aff6bd7f0d9b>\u001B[0m in \u001B[0;36m<module>\u001B[1;34m\u001B[0m\n\u001B[0;32m      3\u001B[0m \u001B[1;32mfor\u001B[0m \u001B[0mi\u001B[0m \u001B[1;32min\u001B[0m \u001B[0mrange\u001B[0m\u001B[1;33m(\u001B[0m\u001B[0mlen\u001B[0m\u001B[1;33m(\u001B[0m\u001B[0ma\u001B[0m\u001B[1;33m)\u001B[0m\u001B[1;33m)\u001B[0m\u001B[1;33m:\u001B[0m\u001B[1;33m\u001B[0m\u001B[1;33m\u001B[0m\u001B[0m\n\u001B[0;32m      4\u001B[0m     \u001B[1;32mfor\u001B[0m \u001B[0mj\u001B[0m \u001B[1;32min\u001B[0m \u001B[0mrange\u001B[0m\u001B[1;33m(\u001B[0m\u001B[0mlen\u001B[0m\u001B[1;33m(\u001B[0m\u001B[0ma\u001B[0m\u001B[1;33m)\u001B[0m\u001B[1;33m)\u001B[0m\u001B[1;33m:\u001B[0m\u001B[1;33m\u001B[0m\u001B[1;33m\u001B[0m\u001B[0m\n\u001B[1;32m----> 5\u001B[1;33m         \u001B[1;32mif\u001B[0m \u001B[0ma\u001B[0m\u001B[1;33m[\u001B[0m\u001B[0mi\u001B[0m\u001B[1;33m]\u001B[0m\u001B[1;33m[\u001B[0m\u001B[0mj\u001B[0m\u001B[1;33m]\u001B[0m \u001B[1;33m==\u001B[0m \u001B[1;36m1\u001B[0m\u001B[1;33m:\u001B[0m\u001B[1;33m\u001B[0m\u001B[1;33m\u001B[0m\u001B[0m\n\u001B[0m\u001B[0;32m      6\u001B[0m             \u001B[0mrow\u001B[0m\u001B[1;33m,\u001B[0m \u001B[0mcolumn\u001B[0m \u001B[1;33m=\u001B[0m \u001B[0mi\u001B[0m\u001B[1;33m,\u001B[0m \u001B[0mj\u001B[0m\u001B[1;33m\u001B[0m\u001B[1;33m\u001B[0m\u001B[0m\n\u001B[0;32m      7\u001B[0m \u001B[1;33m\u001B[0m\u001B[0m\n",
      "\u001B[1;31mIndexError\u001B[0m: list index out of range"
     ]
    }
   ],
   "source": [
    "a = [[int(j) for j in input().split()] for i in range(5)]\n",
    "\n",
    "for i in range(len(a)):\n",
    "    for j in range(len(a)):\n",
    "        if a[i][j] == 1:\n",
    "            row, column = i, j\n",
    "\n",
    "print(abs(row - 2) + abs(column - 2))"
   ],
   "metadata": {
    "collapsed": false,
    "pycharm": {
     "name": "#%%\n"
    }
   }
  },
  {
   "cell_type": "code",
   "execution_count": 82,
   "outputs": [
    {
     "ename": "ValueError",
     "evalue": "not enough values to unpack (expected 2, got 0)",
     "output_type": "error",
     "traceback": [
      "\u001B[1;31m---------------------------------------------------------------------------\u001B[0m",
      "\u001B[1;31mValueError\u001B[0m                                Traceback (most recent call last)",
      "\u001B[1;32m<ipython-input-82-735b19f9fffa>\u001B[0m in \u001B[0;36m<module>\u001B[1;34m\u001B[0m\n\u001B[1;32m----> 1\u001B[1;33m \u001B[0mrows\u001B[0m\u001B[1;33m,\u001B[0m \u001B[0mcolumns\u001B[0m \u001B[1;33m=\u001B[0m \u001B[0mmap\u001B[0m\u001B[1;33m(\u001B[0m\u001B[0mint\u001B[0m\u001B[1;33m,\u001B[0m \u001B[0minput\u001B[0m\u001B[1;33m(\u001B[0m\u001B[1;33m)\u001B[0m\u001B[1;33m.\u001B[0m\u001B[0msplit\u001B[0m\u001B[1;33m(\u001B[0m\u001B[1;33m)\u001B[0m\u001B[1;33m)\u001B[0m\u001B[1;33m\u001B[0m\u001B[1;33m\u001B[0m\u001B[0m\n\u001B[0m\u001B[0;32m      2\u001B[0m \u001B[0marray\u001B[0m \u001B[1;33m=\u001B[0m \u001B[1;33m[\u001B[0m\u001B[1;33m[\u001B[0m\u001B[0mint\u001B[0m\u001B[1;33m(\u001B[0m\u001B[0mj\u001B[0m\u001B[1;33m)\u001B[0m \u001B[1;32mfor\u001B[0m \u001B[0mj\u001B[0m \u001B[1;32min\u001B[0m \u001B[0minput\u001B[0m\u001B[1;33m(\u001B[0m\u001B[1;33m)\u001B[0m\u001B[1;33m.\u001B[0m\u001B[0msplit\u001B[0m\u001B[1;33m(\u001B[0m\u001B[1;33m)\u001B[0m\u001B[1;33m]\u001B[0m \u001B[1;32mfor\u001B[0m \u001B[0mi\u001B[0m \u001B[1;32min\u001B[0m \u001B[0mrange\u001B[0m\u001B[1;33m(\u001B[0m\u001B[0mrows\u001B[0m\u001B[1;33m)\u001B[0m\u001B[1;33m]\u001B[0m\u001B[1;33m\u001B[0m\u001B[1;33m\u001B[0m\u001B[0m\n\u001B[0;32m      3\u001B[0m \u001B[1;33m\u001B[0m\u001B[0m\n\u001B[0;32m      4\u001B[0m \u001B[1;32mfor\u001B[0m \u001B[0mrow\u001B[0m \u001B[1;32min\u001B[0m \u001B[0marray\u001B[0m\u001B[1;33m:\u001B[0m\u001B[1;33m\u001B[0m\u001B[1;33m\u001B[0m\u001B[0m\n\u001B[0;32m      5\u001B[0m     \u001B[0msum_row\u001B[0m \u001B[1;33m=\u001B[0m \u001B[1;36m0\u001B[0m\u001B[1;33m\u001B[0m\u001B[1;33m\u001B[0m\u001B[0m\n",
      "\u001B[1;31mValueError\u001B[0m: not enough values to unpack (expected 2, got 0)"
     ]
    }
   ],
   "source": [
    "rows, columns = map(int, input().split())\n",
    "array = [[int(j) for j in input().split()] for i in range(rows)]\n",
    "\n",
    "for row in array:\n",
    "    sum_row = 0\n",
    "    for column in row:\n",
    "        sum_row += column\n",
    "    print(sum_row, end=' ')\n",
    "print()\n",
    "\n",
    "for column in range(columns):\n",
    "    sum_col = 0\n",
    "    for row in range(rows):\n",
    "        sum_col += array[row][column]\n",
    "    print(sum_col, end=' ')"
   ],
   "metadata": {
    "collapsed": false,
    "pycharm": {
     "name": "#%%\n"
    }
   }
  },
  {
   "cell_type": "code",
   "execution_count": 85,
   "outputs": [
    {
     "name": "stdout",
     "output_type": "stream",
     "text": [
      "3 7 \n",
      "4 6 "
     ]
    }
   ],
   "source": [
    "rows, columns = map(int, input().split())\n",
    "array = [[int(j) for j in input().split()] for i in range(rows)]\n",
    "\n",
    "for row in array:\n",
    "    print(sum(row), end=' ')\n",
    "print()\n",
    "\n",
    "for column in range(columns):\n",
    "    print(sum([row[column] for row in array]), end=' ')"
   ],
   "metadata": {
    "collapsed": false,
    "pycharm": {
     "name": "#%%\n"
    }
   }
  },
  {
   "cell_type": "code",
   "execution_count": 88,
   "outputs": [
    {
     "name": "stdout",
     "output_type": "stream",
     "text": [
      "Yes\n"
     ]
    }
   ],
   "source": [
    "n = int(input())\n",
    "a = [list(map(int, input().split())) for i in range(n)]\n",
    "left_corner = right_corner = 0\n",
    "\n",
    "for row in range(n):\n",
    "    for column in range(n):\n",
    "        if row > column:\n",
    "            left_corner += a[row][column]\n",
    "        elif row < column:\n",
    "            right_corner += a[row][column]\n",
    "\n",
    "print('Yes' if left_corner == right_corner else 'No')"
   ],
   "metadata": {
    "collapsed": false,
    "pycharm": {
     "name": "#%%\n"
    }
   }
  },
  {
   "cell_type": "code",
   "execution_count": 94,
   "outputs": [
    {
     "name": "stdout",
     "output_type": "stream",
     "text": [
      "No\n"
     ]
    }
   ],
   "source": [
    "n, status = int(input()), ''\n",
    "a = [list(map(int, input().split())) for i in range(n)]\n",
    "\n",
    "for row in range(n):\n",
    "    for column in range(n):\n",
    "        if a[row][column] != a[column][row]:\n",
    "            status = 'No'\n",
    "            break\n",
    "\n",
    "print('Yes' if status != 'No' else 'No')"
   ],
   "metadata": {
    "collapsed": false,
    "pycharm": {
     "name": "#%%\n"
    }
   }
  },
  {
   "cell_type": "code",
   "execution_count": 106,
   "outputs": [
    {
     "name": "stdout",
     "output_type": "stream",
     "text": [
      "9 0\n"
     ]
    }
   ],
   "source": [
    "n, m = map(int, input().split())\n",
    "a = [[int(j) for j in input().split()] for i in range(n)]\n",
    "max_value, indx = 0, 0\n",
    "\n",
    "for row in range(len(a)):\n",
    "    if sum(a[row]) > max_value:\n",
    "        max_value = sum(a[row])\n",
    "        indx = row\n",
    "\n",
    "print(max_value, indx, sep='\\n')"
   ],
   "metadata": {
    "collapsed": false,
    "pycharm": {
     "name": "#%%\n"
    }
   }
  },
  {
   "cell_type": "code",
   "execution_count": 107,
   "outputs": [
    {
     "name": "stdout",
     "output_type": "stream",
     "text": [
      "7 1\n"
     ]
    }
   ],
   "source": [
    "# Community\n",
    "\n",
    "rows, columns = map(int, input().split())\n",
    "array = [sum([int(j) for j in input().split()]) for i in range(rows)]\n",
    "print(max(array), array.index(max(array)), end='\\n')"
   ],
   "metadata": {
    "collapsed": false,
    "pycharm": {
     "name": "#%%\n"
    }
   }
  },
  {
   "cell_type": "code",
   "execution_count": 128,
   "outputs": [
    {
     "name": "stdout",
     "output_type": "stream",
     "text": [
      "4\n",
      "0 0\n"
     ]
    }
   ],
   "source": [
    "rows, columns = map(int, input().split())\n",
    "array = [[int(j) for j in input().split()] for i in range(rows)]\n",
    "max_value = find_row = find_column = 0\n",
    "\n",
    "for row in range(rows):\n",
    "    for column in range(columns):\n",
    "        if array[row][column] > max_value:\n",
    "            max_value = array[row][column]\n",
    "            find_row = row\n",
    "            find_column = column\n",
    "\n",
    "print(max_value)\n",
    "print(find_row, find_column)\n"
   ],
   "metadata": {
    "collapsed": false,
    "pycharm": {
     "name": "#%%\n"
    }
   }
  }
 ],
 "metadata": {
  "kernelspec": {
   "display_name": "Python 3",
   "language": "python",
   "name": "python3"
  },
  "language_info": {
   "codemirror_mode": {
    "name": "ipython",
    "version": 2
   },
   "file_extension": ".py",
   "mimetype": "text/x-python",
   "name": "python",
   "nbconvert_exporter": "python",
   "pygments_lexer": "ipython2",
   "version": "2.7.6"
  }
 },
 "nbformat": 4,
 "nbformat_minor": 0
}