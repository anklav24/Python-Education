{
 "cells": [
  {
   "cell_type": "code",
   "execution_count": 11,
   "metadata": {
    "collapsed": true,
    "pycharm": {
     "name": "#%%\n"
    }
   },
   "outputs": [
    {
     "name": "stdout",
     "output_type": "stream",
     "text": [
      "{'one': 1, 'two': 2, 'three': 3}\n",
      "{'one': 1, 'two': 2, 'three': 3}\n",
      "{'one': 1, 'two': 2, 'three': 3}\n",
      "{'one': 1, 'two': 2, 'three': 3}\n",
      "{'two': 2, 'one': 1, 'three': 3}\n",
      "{'three': 3, 'one': 1, 'two': 2}\n",
      "True\n"
     ]
    }
   ],
   "source": [
    "a = dict(one=1, two=2, three=3)\n",
    "print(a)\n",
    "\n",
    "b = {'one': 1, 'two': 2, 'three': 3}\n",
    "print(b)\n",
    "\n",
    "c = {'one': 1,\n",
    "     'two': 2,\n",
    "     'three': 3\n",
    "}\n",
    "print(c)\n",
    "\n",
    "d = dict(zip(['one', 'two', 'three'], [1, 2, 3]))\n",
    "print(d)\n",
    "\n",
    "e = dict([('two', 2), ('one', 1), ('three', 3)])\n",
    "print(e)\n",
    "\n",
    "f = dict({'three': 3, 'one': 1, 'two': 2})\n",
    "print(f)\n",
    "\n",
    "print(a == b == c == d == e)\n"
   ]
  },
  {
   "cell_type": "code",
   "execution_count": 9,
   "outputs": [
    {
     "name": "stdout",
     "output_type": "stream",
     "text": [
      "['one', 'two', 'three']\n",
      "3\n",
      "1 2 3\n"
     ]
    }
   ],
   "source": [
    "d = {'one': 1,\n",
    "     'two': 2,\n",
    "     'three': 3\n",
    "}\n",
    "\n",
    "print(list(d))\n",
    "print(len(d))\n",
    "print(d['one'], d['two'], d['three'])"
   ],
   "metadata": {
    "collapsed": false,
    "pycharm": {
     "name": "#%%\n"
    }
   }
  },
  {
   "cell_type": "code",
   "execution_count": 48,
   "outputs": [
    {
     "name": "stdout",
     "output_type": "stream",
     "text": [
      "0\n",
      "1\n"
     ]
    }
   ],
   "source": [
    "c = {'one': 1,\n",
    "     'two': 2,\n",
    "     'three': 3\n",
    "}\n",
    "\n",
    "class Counter(dict):\n",
    "    def __missing__(self, key):\n",
    "        return 0\n",
    "\n",
    "\n",
    "c = Counter()\n",
    "print(c['red'])\n",
    "c['red'] += 1\n",
    "print(c['red'])"
   ],
   "metadata": {
    "collapsed": false,
    "pycharm": {
     "name": "#%%\n"
    }
   }
  },
  {
   "cell_type": "code",
   "execution_count": 49,
   "outputs": [
    {
     "ename": "KeyError",
     "evalue": "'red'",
     "output_type": "error",
     "traceback": [
      "\u001B[1;31m---------------------------------------------------------------------------\u001B[0m",
      "\u001B[1;31mKeyError\u001B[0m                                  Traceback (most recent call last)",
      "\u001B[1;32m<ipython-input-49-4cfbba04d7a7>\u001B[0m in \u001B[0;36m<module>\u001B[1;34m\u001B[0m\n\u001B[0;32m      4\u001B[0m }\n\u001B[0;32m      5\u001B[0m \u001B[1;33m\u001B[0m\u001B[0m\n\u001B[1;32m----> 6\u001B[1;33m \u001B[0mprint\u001B[0m\u001B[1;33m(\u001B[0m\u001B[0md\u001B[0m\u001B[1;33m[\u001B[0m\u001B[1;34m'red'\u001B[0m\u001B[1;33m]\u001B[0m\u001B[1;33m)\u001B[0m\u001B[1;33m\u001B[0m\u001B[1;33m\u001B[0m\u001B[0m\n\u001B[0m\u001B[0;32m      7\u001B[0m \u001B[0md\u001B[0m\u001B[1;33m[\u001B[0m\u001B[1;34m'red'\u001B[0m\u001B[1;33m]\u001B[0m \u001B[1;33m+=\u001B[0m \u001B[1;36m1\u001B[0m\u001B[1;33m\u001B[0m\u001B[1;33m\u001B[0m\u001B[0m\n\u001B[0;32m      8\u001B[0m \u001B[0mprint\u001B[0m\u001B[1;33m(\u001B[0m\u001B[0md\u001B[0m\u001B[1;33m[\u001B[0m\u001B[1;34m'red'\u001B[0m\u001B[1;33m]\u001B[0m\u001B[1;33m)\u001B[0m\u001B[1;33m\u001B[0m\u001B[1;33m\u001B[0m\u001B[0m\n",
      "\u001B[1;31mKeyError\u001B[0m: 'red'"
     ]
    }
   ],
   "source": [
    "d = {'one': 1,\n",
    "     'two': 2,\n",
    "     'three': 3\n",
    "}\n",
    "\n",
    "print(d['red'])\n",
    "d['red'] += 1\n",
    "print(d['red'])"
   ],
   "metadata": {
    "collapsed": false,
    "pycharm": {
     "name": "#%%\n"
    }
   }
  },
  {
   "cell_type": "code",
   "execution_count": 72,
   "outputs": [
    {
     "name": "stdout",
     "output_type": "stream",
     "text": [
      "{'one': '111', 'two': 2, 'three': 3}\n",
      "{'two': 2, 'three': 3}\n",
      "False\n",
      "True\n",
      "True\n",
      "3\n",
      "<dict_keyiterator object at 0x0000016AED9624F0>\n",
      "<dict_keyiterator object at 0x0000016AED9624F0>\n",
      "{'two': 2, 'three': 3}\n",
      "{}\n",
      "{'two': 2, 'three': 3}\n",
      "{'q': None, 'w': None, 'e': None, 'r': None, 't': None, 'y': None}\n"
     ]
    }
   ],
   "source": [
    "d = {'one': 1,\n",
    "     'two': 2,\n",
    "     'three': 3\n",
    "}\n",
    "\n",
    "d['one'] = '111'\n",
    "print(d)\n",
    "\n",
    "del d['one']\n",
    "print(d)\n",
    "\n",
    "print('one' in d)\n",
    "print('one' not in d)\n",
    "print('two' in d)\n",
    "\n",
    "print(d.get('three'))\n",
    "\n",
    "print(iter(d))\n",
    "print(iter(d.keys()))\n",
    "\n",
    "c = d.copy()\n",
    "print(c)\n",
    "\n",
    "d.clear()\n",
    "print(d)\n",
    "print(c)\n",
    "\n",
    "e = c.fromkeys('qwerty')\n",
    "print(e)"
   ],
   "metadata": {
    "collapsed": false,
    "pycharm": {
     "name": "#%%\n"
    }
   }
  },
  {
   "cell_type": "code",
   "execution_count": 77,
   "outputs": [
    {
     "name": "stdout",
     "output_type": "stream",
     "text": [
      "dict_keys(['one', 2, 'three'])\n",
      "dict_values([1, 2, 3])\n",
      "dict_items([('one', 1), (2, 2), ('three', 3)])\n"
     ]
    }
   ],
   "source": [
    "d = {'one': 1, 2: 2, 'three': 3}\n",
    "print(d.keys())\n",
    "print(d.values())\n",
    "print(d.items())"
   ],
   "metadata": {
    "collapsed": false,
    "pycharm": {
     "name": "#%%\n"
    }
   }
  },
  {
   "cell_type": "code",
   "execution_count": 86,
   "outputs": [
    {
     "name": "stdout",
     "output_type": "stream",
     "text": [
      "{'one': 1, 'two': 2, 'three': 3}\n",
      "2\n",
      "{'one': 1, 'three': 3}\n",
      "('three', 3)\n",
      "('one', 1)\n",
      "{}\n"
     ]
    }
   ],
   "source": [
    "d = {'one': 1, 'two': 2, 'three': 3}\n",
    "print(d)\n",
    "print(d.pop('two'))\n",
    "print(d)\n",
    "print(d.popitem())\n",
    "print(d.popitem())\n",
    "print(d)\n"
   ],
   "metadata": {
    "collapsed": false,
    "pycharm": {
     "name": "#%%\n"
    }
   }
  },
  {
   "cell_type": "code",
   "execution_count": 99,
   "outputs": [
    {
     "name": "stdout",
     "output_type": "stream",
     "text": [
      "<dict_reversekeyiterator object at 0x0000016AEEB6DE00>\n",
      "three 3\n",
      "two 2\n",
      "one 1\n"
     ]
    }
   ],
   "source": [
    "d = {'one': 1, 'two': 2, 'three': 3}\n",
    "print(reversed(d))\n",
    "\n",
    "for key, value in reversed(d.items()):\n",
    "    print(key, value)"
   ],
   "metadata": {
    "collapsed": false,
    "pycharm": {
     "name": "#%%\n"
    }
   }
  },
  {
   "cell_type": "code",
   "execution_count": 125,
   "outputs": [
    {
     "name": "stdout",
     "output_type": "stream",
     "text": [
      "3\n",
      "{'one': 1, 'two': 2, 'three': 3, 'four': 3}\n"
     ]
    }
   ],
   "source": [
    "d = {'one': 1, 'two': 2, 'three': 3}\n",
    "print(d.setdefault('four', 3))\n",
    "print(d)"
   ],
   "metadata": {
    "collapsed": false,
    "pycharm": {
     "name": "#%%\n"
    }
   }
  },
  {
   "cell_type": "code",
   "execution_count": 124,
   "outputs": [
    {
     "name": "stdout",
     "output_type": "stream",
     "text": [
      "None\n",
      "{'one': 1, 'two': 2, 'three': 3, 'four': None}\n"
     ]
    }
   ],
   "source": [
    "d = {'one': 1, 'two': 2, 'three': 3}\n",
    "print(d.setdefault('four'))\n",
    "print(d)"
   ],
   "metadata": {
    "collapsed": false,
    "pycharm": {
     "name": "#%%\n"
    }
   }
  },
  {
   "cell_type": "code",
   "execution_count": 131,
   "outputs": [
    {
     "name": "stdout",
     "output_type": "stream",
     "text": [
      "{'one': 111, 'two': 2, 'three': 3, 'red': 1, 'blue': 2}\n"
     ]
    }
   ],
   "source": [
    "d = {'one': 1, 'two': 2, 'three': 3}\n",
    "d.update(one=111, red=1, blue=2)\n",
    "print(d)"
   ],
   "metadata": {
    "collapsed": false,
    "pycharm": {
     "name": "#%%\n"
    }
   }
  }
 ],
 "metadata": {
  "kernelspec": {
   "display_name": "Python 3",
   "language": "python",
   "name": "python3"
  },
  "language_info": {
   "codemirror_mode": {
    "name": "ipython",
    "version": 2
   },
   "file_extension": ".py",
   "mimetype": "text/x-python",
   "name": "python",
   "nbconvert_exporter": "python",
   "pygments_lexer": "ipython2",
   "version": "2.7.6"
  }
 },
 "nbformat": 4,
 "nbformat_minor": 0
}