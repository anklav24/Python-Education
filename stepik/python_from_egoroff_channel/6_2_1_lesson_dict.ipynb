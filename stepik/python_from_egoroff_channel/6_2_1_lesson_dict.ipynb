{
 "cells": [
  {
   "cell_type": "code",
   "execution_count": 11,
   "metadata": {
    "collapsed": true,
    "pycharm": {
     "name": "#%%\n"
    }
   },
   "outputs": [
    {
     "name": "stdout",
     "output_type": "stream",
     "text": [
      "{'one': 1, 'two': 2, 'three': 3}\n",
      "{'one': 1, 'two': 2, 'three': 3}\n",
      "{'one': 1, 'two': 2, 'three': 3}\n",
      "{'one': 1, 'two': 2, 'three': 3}\n",
      "{'two': 2, 'one': 1, 'three': 3}\n",
      "{'three': 3, 'one': 1, 'two': 2}\n",
      "True\n"
     ]
    }
   ],
   "source": [
    "a = dict(one=1, two=2, three=3)\n",
    "print(a)\n",
    "\n",
    "b = {'one': 1, 'two': 2, 'three': 3}\n",
    "print(b)\n",
    "\n",
    "c = {'one': 1,\n",
    "     'two': 2,\n",
    "     'three': 3\n",
    "}\n",
    "print(c)\n",
    "\n",
    "d = dict(zip(['one', 'two', 'three'], [1, 2, 3]))\n",
    "print(d)\n",
    "\n",
    "e = dict([('two', 2), ('one', 1), ('three', 3)])\n",
    "print(e)\n",
    "\n",
    "f = dict({'three': 3, 'one': 1, 'two': 2})\n",
    "print(f)\n",
    "\n",
    "print(a == b == c == d == e)\n"
   ]
  },
  {
   "cell_type": "code",
   "execution_count": 9,
   "outputs": [
    {
     "name": "stdout",
     "output_type": "stream",
     "text": [
      "['one', 'two', 'three']\n",
      "3\n",
      "1 2 3\n"
     ]
    }
   ],
   "source": [
    "d = {'one': 1,\n",
    "     'two': 2,\n",
    "     'three': 3\n",
    "}\n",
    "\n",
    "print(list(d))\n",
    "print(len(d))\n",
    "print(d['one'], d['two'], d['three'])"
   ],
   "metadata": {
    "collapsed": false,
    "pycharm": {
     "name": "#%%\n"
    }
   }
  },
  {
   "cell_type": "code",
   "execution_count": 48,
   "outputs": [
    {
     "name": "stdout",
     "output_type": "stream",
     "text": [
      "0\n",
      "1\n"
     ]
    }
   ],
   "source": [
    "c = {'one': 1,\n",
    "     'two': 2,\n",
    "     'three': 3\n",
    "}\n",
    "\n",
    "class Counter(dict):\n",
    "    def __missing__(self, key):\n",
    "        return 0\n",
    "\n",
    "\n",
    "c = Counter()\n",
    "print(c['red'])\n",
    "c['red'] += 1\n",
    "print(c['red'])"
   ],
   "metadata": {
    "collapsed": false,
    "pycharm": {
     "name": "#%%\n"
    }
   }
  },
  {
   "cell_type": "code",
   "execution_count": 49,
   "outputs": [
    {
     "ename": "KeyError",
     "evalue": "'red'",
     "output_type": "error",
     "traceback": [
      "\u001B[1;31m---------------------------------------------------------------------------\u001B[0m",
      "\u001B[1;31mKeyError\u001B[0m                                  Traceback (most recent call last)",
      "\u001B[1;32m<ipython-input-49-4cfbba04d7a7>\u001B[0m in \u001B[0;36m<module>\u001B[1;34m\u001B[0m\n\u001B[0;32m      4\u001B[0m }\n\u001B[0;32m      5\u001B[0m \u001B[1;33m\u001B[0m\u001B[0m\n\u001B[1;32m----> 6\u001B[1;33m \u001B[0mprint\u001B[0m\u001B[1;33m(\u001B[0m\u001B[0md\u001B[0m\u001B[1;33m[\u001B[0m\u001B[1;34m'red'\u001B[0m\u001B[1;33m]\u001B[0m\u001B[1;33m)\u001B[0m\u001B[1;33m\u001B[0m\u001B[1;33m\u001B[0m\u001B[0m\n\u001B[0m\u001B[0;32m      7\u001B[0m \u001B[0md\u001B[0m\u001B[1;33m[\u001B[0m\u001B[1;34m'red'\u001B[0m\u001B[1;33m]\u001B[0m \u001B[1;33m+=\u001B[0m \u001B[1;36m1\u001B[0m\u001B[1;33m\u001B[0m\u001B[1;33m\u001B[0m\u001B[0m\n\u001B[0;32m      8\u001B[0m \u001B[0mprint\u001B[0m\u001B[1;33m(\u001B[0m\u001B[0md\u001B[0m\u001B[1;33m[\u001B[0m\u001B[1;34m'red'\u001B[0m\u001B[1;33m]\u001B[0m\u001B[1;33m)\u001B[0m\u001B[1;33m\u001B[0m\u001B[1;33m\u001B[0m\u001B[0m\n",
      "\u001B[1;31mKeyError\u001B[0m: 'red'"
     ]
    }
   ],
   "source": [
    "d = {'one': 1,\n",
    "     'two': 2,\n",
    "     'three': 3\n",
    "}\n",
    "\n",
    "print(d['red'])\n",
    "d['red'] += 1\n",
    "print(d['red'])"
   ],
   "metadata": {
    "collapsed": false,
    "pycharm": {
     "name": "#%%\n"
    }
   }
  },
  {
   "cell_type": "code",
   "execution_count": 72,
   "outputs": [
    {
     "name": "stdout",
     "output_type": "stream",
     "text": [
      "{'one': '111', 'two': 2, 'three': 3}\n",
      "{'two': 2, 'three': 3}\n",
      "False\n",
      "True\n",
      "True\n",
      "3\n",
      "<dict_keyiterator object at 0x0000016AED9624F0>\n",
      "<dict_keyiterator object at 0x0000016AED9624F0>\n",
      "{'two': 2, 'three': 3}\n",
      "{}\n",
      "{'two': 2, 'three': 3}\n",
      "{'q': None, 'w': None, 'e': None, 'r': None, 't': None, 'y': None}\n"
     ]
    }
   ],
   "source": [
    "d = {'one': 1,\n",
    "     'two': 2,\n",
    "     'three': 3\n",
    "}\n",
    "\n",
    "d['one'] = '111'\n",
    "print(d)\n",
    "\n",
    "del d['one']\n",
    "print(d)\n",
    "\n",
    "print('one' in d)\n",
    "print('one' not in d)\n",
    "print('two' in d)\n",
    "\n",
    "print(d.get('three'))\n",
    "\n",
    "print(iter(d))\n",
    "print(iter(d.keys()))\n",
    "\n",
    "c = d.copy()\n",
    "print(c)\n",
    "\n",
    "d.clear()\n",
    "print(d)\n",
    "print(c)\n",
    "\n",
    "e = c.fromkeys('qwerty')\n",
    "print(e)"
   ],
   "metadata": {
    "collapsed": false,
    "pycharm": {
     "name": "#%%\n"
    }
   }
  },
  {
   "cell_type": "code",
   "execution_count": 77,
   "outputs": [
    {
     "name": "stdout",
     "output_type": "stream",
     "text": [
      "dict_keys(['one', 2, 'three'])\n",
      "dict_values([1, 2, 3])\n",
      "dict_items([('one', 1), (2, 2), ('three', 3)])\n"
     ]
    }
   ],
   "source": [
    "d = {'one': 1, 2: 2, 'three': 3}\n",
    "print(d.keys())\n",
    "print(d.values())\n",
    "print(d.items())"
   ],
   "metadata": {
    "collapsed": false,
    "pycharm": {
     "name": "#%%\n"
    }
   }
  },
  {
   "cell_type": "code",
   "execution_count": 86,
   "outputs": [
    {
     "name": "stdout",
     "output_type": "stream",
     "text": [
      "{'one': 1, 'two': 2, 'three': 3}\n",
      "2\n",
      "{'one': 1, 'three': 3}\n",
      "('three', 3)\n",
      "('one', 1)\n",
      "{}\n"
     ]
    }
   ],
   "source": [
    "d = {'one': 1, 'two': 2, 'three': 3}\n",
    "print(d)\n",
    "print(d.pop('two'))\n",
    "print(d)\n",
    "print(d.popitem())\n",
    "print(d.popitem())\n",
    "print(d)\n"
   ],
   "metadata": {
    "collapsed": false,
    "pycharm": {
     "name": "#%%\n"
    }
   }
  },
  {
   "cell_type": "code",
   "execution_count": 99,
   "outputs": [
    {
     "name": "stdout",
     "output_type": "stream",
     "text": [
      "<dict_reversekeyiterator object at 0x0000016AEEB6DE00>\n",
      "three 3\n",
      "two 2\n",
      "one 1\n"
     ]
    }
   ],
   "source": [
    "d = {'one': 1, 'two': 2, 'three': 3}\n",
    "print(reversed(d))\n",
    "\n",
    "for key, value in reversed(d.items()):\n",
    "    print(key, value)"
   ],
   "metadata": {
    "collapsed": false,
    "pycharm": {
     "name": "#%%\n"
    }
   }
  },
  {
   "cell_type": "code",
   "execution_count": 125,
   "outputs": [
    {
     "name": "stdout",
     "output_type": "stream",
     "text": [
      "3\n",
      "{'one': 1, 'two': 2, 'three': 3, 'four': 3}\n"
     ]
    }
   ],
   "source": [
    "d = {'one': 1, 'two': 2, 'three': 3}\n",
    "print(d.setdefault('four', 3))\n",
    "print(d)"
   ],
   "metadata": {
    "collapsed": false,
    "pycharm": {
     "name": "#%%\n"
    }
   }
  },
  {
   "cell_type": "code",
   "execution_count": 124,
   "outputs": [
    {
     "name": "stdout",
     "output_type": "stream",
     "text": [
      "None\n",
      "{'one': 1, 'two': 2, 'three': 3, 'four': None}\n"
     ]
    }
   ],
   "source": [
    "d = {'one': 1, 'two': 2, 'three': 3}\n",
    "print(d.setdefault('four'))\n",
    "print(d)"
   ],
   "metadata": {
    "collapsed": false,
    "pycharm": {
     "name": "#%%\n"
    }
   }
  },
  {
   "cell_type": "code",
   "execution_count": 1,
   "outputs": [
    {
     "name": "stdout",
     "output_type": "stream",
     "text": [
      "{'one': 111, 'two': 2, 'three': 3, 'red': 1, 'blue': 2}\n"
     ]
    }
   ],
   "source": [
    "d = {'one': 1, 'two': 2, 'three': 3}\n",
    "d.update(one=111, red=1, blue=2)\n",
    "print(d)"
   ],
   "metadata": {
    "collapsed": false,
    "pycharm": {
     "name": "#%%\n"
    }
   }
  },
  {
   "cell_type": "code",
   "execution_count": 8,
   "outputs": [
    {
     "name": "stdout",
     "output_type": "stream",
     "text": [
      "{'one': 1, 'two': 2, 'three': 3, 'four': 4}\n",
      "['one', 'two', 'three', 'four']\n",
      "[1, 2, 3, 4]\n",
      "1\n",
      "{'one': 1, 'two': 2, 'three': 3, 'four': 4}\n",
      "{'one': 1, 'three': 3, 'four': 4}\n",
      "{'one': 1, 'three': 3, 'four': 4, 'two': 2}\n"
     ]
    }
   ],
   "source": [
    "d = {\"one\": 1, \"two\": 2, \"three\": 3, \"four\": 4}\n",
    "print(d)\n",
    "print(list(d))\n",
    "print(list(d.values()))\n",
    "print(d[\"one\"])\n",
    "print(d)\n",
    "del d[\"two\"]\n",
    "print(d)\n",
    "d[\"two\"] = 2\n",
    "print(d)"
   ],
   "metadata": {
    "collapsed": false,
    "pycharm": {
     "name": "#%%\n"
    }
   }
  },
  {
   "cell_type": "code",
   "execution_count": 10,
   "outputs": [
    {
     "name": "stdout",
     "output_type": "stream",
     "text": [
      "{'one': 1, 'two': 2, 'three': 3, 'four': 4}\n",
      "['four', 'three', 'two', 'one']\n",
      "[4, 3, 2, 1]\n",
      "[('four', 4), ('three', 3), ('two', 2), ('one', 1)]\n",
      "<dict_reversekeyiterator object at 0x0000027875F9EA40>\n"
     ]
    }
   ],
   "source": [
    "# Dictionaries and dictionary views are reversible.\n",
    "d = {\"one\": 1, \"two\": 2, \"three\": 3, \"four\": 4}\n",
    "print(d)\n",
    "print(list(reversed(d)))\n",
    "print(list(reversed(d.values())))\n",
    "print(list(reversed(d.items())))\n",
    "print(reversed(d))"
   ],
   "metadata": {
    "collapsed": false,
    "pycharm": {
     "name": "#%%\n"
    }
   }
  },
  {
   "cell_type": "code",
   "execution_count": 25,
   "outputs": [
    {
     "name": "stdout",
     "output_type": "stream",
     "text": [
      "4 4 4\n",
      "<dict_itemiterator object at 0x0000027875EA2EA0> <dict_keyiterator object at 0x000002787575F6D0> <dict_valueiterator object at 0x000002787575F720>\n",
      "True True False True\n",
      "\n"
     ]
    }
   ],
   "source": [
    "# Dictionary view objects.\n",
    "# d.items, d.keys and d.values are view objects.\n",
    "d = {\"one\": 1, \"two\": 2, \"three\": 3, \"four\": [4, 5, 6]}\n",
    "print(len(d.items()), len(d.keys()), len(d.values()))\n",
    "print(iter(d.items()), iter(d.keys()), iter(d.values()))\n",
    "print((\"one\", 1) in d.items(), \"one\" in d, 1 in d, 1 in d.values())  # x in dictview\n",
    "print()"
   ],
   "metadata": {
    "collapsed": false,
    "pycharm": {
     "name": "#%%\n"
    }
   }
  },
  {
   "cell_type": "code",
   "execution_count": 36,
   "outputs": [
    {
     "name": "stdout",
     "output_type": "stream",
     "text": [
      "504\n",
      "\n",
      "{'eggs': 2, 'sausage': 1, 'bacon': 1, 'spam': 500}\n",
      "dict_keys(['eggs', 'sausage', 'bacon', 'spam'])\n",
      "dict_values([2, 1, 1, 500])\n",
      "['bacon', 'spam']\n",
      "\n",
      "dict_keys(['bacon', 'spam'])\n",
      "{'bacon'}\n",
      "{'salad', 'spam', 'eggs'}\n"
     ]
    }
   ],
   "source": [
    "dishes = {'eggs': 2, 'sausage':1, 'bacon':1, 'spam': 500}\n",
    "keys = dishes.keys()\n",
    "values = dishes.values()\n",
    "\n",
    "# iteration\n",
    "n = 0\n",
    "for val in values:\n",
    "    n += val\n",
    "print(n)\n",
    "print()\n",
    "\n",
    "# Keys and values are iterated over in the same order(insertion order)\n",
    "print(dishes)\n",
    "print(keys)\n",
    "print(values)\n",
    "\n",
    "# View objects are dynamic and reflect dict changes.\n",
    "del dishes['eggs']\n",
    "del dishes['sausage']\n",
    "print(list(keys))\n",
    "print()\n",
    "\n",
    "# set operations with a dictionary view object key. For example.\n",
    "print(keys)\n",
    "print(keys & {'eggs', 'bacon', 'salad'})  # intersection\n",
    "print(keys ^ {'eggs', 'bacon', 'salad'})  # symmetric_difference"
   ],
   "metadata": {
    "collapsed": false,
    "pycharm": {
     "name": "#%%\n"
    }
   }
  },
  {
   "cell_type": "code",
   "execution_count": 27,
   "outputs": [
    {
     "data": {
      "text/plain": "['eggs', 'sausage', 'bacon', 'spam']"
     },
     "execution_count": 27,
     "metadata": {},
     "output_type": "execute_result"
    }
   ],
   "source": [],
   "metadata": {
    "collapsed": false,
    "pycharm": {
     "name": "#%%\n"
    }
   }
  }
 ],
 "metadata": {
  "kernelspec": {
   "display_name": "Python 3",
   "language": "python",
   "name": "python3"
  },
  "language_info": {
   "codemirror_mode": {
    "name": "ipython",
    "version": 2
   },
   "file_extension": ".py",
   "mimetype": "text/x-python",
   "name": "python",
   "nbconvert_exporter": "python",
   "pygments_lexer": "ipython2",
   "version": "2.7.6"
  }
 },
 "nbformat": 4,
 "nbformat_minor": 0
}