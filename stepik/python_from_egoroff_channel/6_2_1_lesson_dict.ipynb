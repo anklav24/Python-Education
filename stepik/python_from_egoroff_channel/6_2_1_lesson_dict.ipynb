{
 "cells": [
  {
   "cell_type": "code",
   "execution_count": 11,
   "metadata": {
    "collapsed": true,
    "pycharm": {
     "name": "#%%\n"
    }
   },
   "outputs": [
    {
     "name": "stdout",
     "output_type": "stream",
     "text": [
      "{'one': 1, 'two': 2, 'three': 3}\n",
      "{'one': 1, 'two': 2, 'three': 3}\n",
      "{'one': 1, 'two': 2, 'three': 3}\n",
      "{'one': 1, 'two': 2, 'three': 3}\n",
      "{'two': 2, 'one': 1, 'three': 3}\n",
      "{'three': 3, 'one': 1, 'two': 2}\n",
      "True\n"
     ]
    }
   ],
   "source": [
    "a = dict(one=1, two=2, three=3)\n",
    "print(a)\n",
    "\n",
    "b = {'one': 1, 'two': 2, 'three': 3}\n",
    "print(b)\n",
    "\n",
    "c = {'one': 1,\n",
    "     'two': 2,\n",
    "     'three': 3\n",
    "}\n",
    "print(c)\n",
    "\n",
    "d = dict(zip(['one', 'two', 'three'], [1, 2, 3]))\n",
    "print(d)\n",
    "\n",
    "e = dict([('two', 2), ('one', 1), ('three', 3)])\n",
    "print(e)\n",
    "\n",
    "f = dict({'three': 3, 'one': 1, 'two': 2})\n",
    "print(f)\n",
    "\n",
    "print(a == b == c == d == e)\n",
    "\n"
   ]
  }
 ],
 "metadata": {
  "kernelspec": {
   "display_name": "Python 3",
   "language": "python",
   "name": "python3"
  },
  "language_info": {
   "codemirror_mode": {
    "name": "ipython",
    "version": 2
   },
   "file_extension": ".py",
   "mimetype": "text/x-python",
   "name": "python",
   "nbconvert_exporter": "python",
   "pygments_lexer": "ipython2",
   "version": "2.7.6"
  }
 },
 "nbformat": 4,
 "nbformat_minor": 0
}