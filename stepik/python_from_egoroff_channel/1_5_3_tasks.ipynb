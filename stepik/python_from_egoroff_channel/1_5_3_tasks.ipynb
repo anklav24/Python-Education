{
 "cells": [
  {
   "cell_type": "code",
   "execution_count": 1,
   "metadata": {
    "collapsed": true,
    "pycharm": {
     "is_executing": false
    }
   },
   "outputs": [
    {
     "name": "stdout",
     "text": [
      "214\n"
     ],
     "output_type": "stream"
    }
   ],
   "source": [
    "print(int(input()) + 1)"
   ]
  },
  {
   "cell_type": "code",
   "execution_count": 2,
   "outputs": [
    {
     "name": "stdout",
     "text": [
      "3\n"
     ],
     "output_type": "stream"
    }
   ],
   "source": [
    "a, b = map(int, input().split())\n",
    "\n",
    "print(a + b)"
   ],
   "metadata": {
    "collapsed": false,
    "pycharm": {
     "name": "#%%\n",
     "is_executing": false
    }
   }
  },
  {
   "cell_type": "markdown",
   "source": [
    "Петя, Катя и Сережа делают из бумаги журавликов. Вместе они сделали S журавликов.\n",
    "Сколько журавликов сделал каждый ребенок, если известно, что Петя и Сережа сделали одинаковое\n",
    "количество журавликов, а Катя сделала в два раза больше журавликов, чем Петя и Сережа вместе?\n",
    "\n",
    "2x + 4x = s 6x = s x = s // 6"
   ],
   "metadata": {
    "collapsed": false,
    "pycharm": {
     "name": "#%% md\n",
     "is_executing": false
    }
   }
  },
  {
   "cell_type": "code",
   "execution_count": null,
   "outputs": [],
   "source": [
    "s = int(input())\n",
    "x1 = s // 6\n",
    "x2 = x1 * 4\n",
    "print(x1, x2, x1)"
   ],
   "metadata": {
    "collapsed": false,
    "pycharm": {
     "name": "#%%\n"
    }
   }
  },
  {
   "cell_type": "markdown",
   "source": [
    "Однажды, посетив магазин канцелярских товаров, Вася купил X карандашей, Y ручек и Z фломастеров. Известно, что\n",
    "цена ручки на 2 рубля больше цены карандаша и на 7 рублей меньше цены фломастера. Также известно, что стоимость\n",
    "карандаша составляет 3 рубля. Требуется определить общую стоимость покупки."
   ],
   "metadata": {
    "collapsed": false,
    "pycharm": {
     "name": "#%% md\n"
    }
   }
  },
  {
   "cell_type": "code",
   "execution_count": 22,
   "outputs": [
    {
     "name": "stdout",
     "text": [
      "40\n"
     ],
     "output_type": "stream"
    }
   ],
   "source": [
    "x, y, z = map(int, input().split())\n",
    "\n",
    "pencil = 3 \n",
    "pen = pencil + 2\n",
    "felt_tip = pen + 7\n",
    "\n",
    "print(x * pencil + y * pen + z * felt_tip)"
   ],
   "metadata": {
    "collapsed": false,
    "pycharm": {
     "name": "#%%\n",
     "is_executing": false
    }
   }
  },
  {
   "cell_type": "markdown",
   "source": [
    "Известно, что на обработку одного квадратного метра панели требуется 1г сульфида.\n",
    "Всего необходимо обработать N прямоугольных панелей размером A на B метров.\n",
    "Вам необходимо подсчитать, сколько всего сульфида необходимо на обработку всех панелей.\n",
    "И не забудьте, что панели требуют обработки с обеих сторон.\n",
    "\n",
    "На вход программе подаются 3 положительных числа N,A,B\n",
    "\n",
    "Sample Input:\n",
    "5 2 3\n",
    "\n",
    "Sample Output:\n",
    "60"
   ],
   "metadata": {
    "collapsed": false,
    "pycharm": {
     "name": "#%% md\n"
    }
   }
  },
  {
   "cell_type": "code",
   "execution_count": 2,
   "outputs": [
    {
     "name": "stdout",
     "text": [
      "60\n"
     ],
     "output_type": "stream"
    }
   ],
   "source": [
    "N, A, B = map(int, input().split())\n",
    "grams = A * B * 2 * N\n",
    "print(grams)"
   ],
   "metadata": {
    "collapsed": false,
    "pycharm": {
     "name": "#%%\n",
     "is_executing": false
    }
   }
  },
  {
   "cell_type": "markdown",
   "source": [
    "Напишите программу, которая вычисляет средний балл ученика за решение четырех\n",
    "задач по введенным оценкам (числа от 2 до 5).\n",
    "\n",
    "Sample Input:\n",
    "2 3 4 5\n",
    "\n",
    "Sample Output:\n",
    "3.5"
   ],
   "metadata": {
    "collapsed": false,
    "pycharm": {
     "name": "#%% md\n"
    }
   }
  },
  {
   "cell_type": "code",
   "execution_count": 15,
   "outputs": [
    {
     "name": "stdout",
     "text": [
      "3.5\n"
     ],
     "output_type": "stream"
    }
   ],
   "source": [
    "average = sum([int(i) for i in input().split()]) / 4\n",
    "print(average)"
   ],
   "metadata": {
    "collapsed": false,
    "pycharm": {
     "name": "#%%\n",
     "is_executing": false
    }
   }
  },
  {
   "cell_type": "markdown",
   "source": [
    "Напишите программу, которая вычисляет длину отрезка (т.е. расстояние между\n",
    "двумя точками), заданного двумя значениями x1 и x2 (вещественные числа).\n",
    "\n",
    "Sample Input 1:\n",
    "-2 6.5\n",
    "\n",
    "Sample Output 1:\n",
    "8.5\n",
    "\n",
    "Sample Input 2:\n",
    "3 -9\n",
    "\n",
    "Sample Output 2:\n",
    "12.0\n",
    "\n",
    "Sample Input 3:\n",
    "5 3\n",
    "\n",
    "Sample Output 3:\n",
    "2.0"
   ],
   "metadata": {
    "collapsed": false,
    "pycharm": {
     "name": "#%% md\n"
    }
   }
  },
  {
   "cell_type": "code",
   "execution_count": 20,
   "outputs": [
    {
     "name": "stdout",
     "text": [
      "2.0\n"
     ],
     "output_type": "stream"
    }
   ],
   "source": [
    "x1, x2 = map(float, input().split())\n",
    "print(abs(x2 - x1))"
   ],
   "metadata": {
    "collapsed": false,
    "pycharm": {
     "name": "#%%\n",
     "is_executing": false
    }
   }
  },
  {
   "cell_type": "code",
   "source": [
    "garrys_banks, larrys_banks = map(int, input().split())\n",
    "garry = larrys_banks - 1\n",
    "larry = garrys_banks - 1\n",
    "print(garry, larry)"
   ],
   "metadata": {
    "collapsed": false,
    "pycharm": {
     "name": "#%% \n",
     "is_executing": false
    }
   },
   "execution_count": 21,
   "outputs": [
    {
     "name": "stdout",
     "text": [
      "6 3\n"
     ],
     "output_type": "stream"
    }
   ]
  },
  {
   "cell_type": "code",
   "source": [
    "a, b, c = int(input()), int(input()), int(input())\n",
    "lst = [a + b * c]\n",
    "lst += [a * (b + c)]\n",
    "lst += [a * b * c]\n",
    "lst += [(a + b) * c]\n",
    "print(max(lst))"
   ],
   "metadata": {
    "collapsed": false,
    "pycharm": {
     "name": "#%%\n",
     "is_executing": false
    }
   },
   "execution_count": 24,
   "outputs": [
    {
     "name": "stdout",
     "text": [
      "9\n"
     ],
     "output_type": "stream"
    }
   ]
  },
  {
   "cell_type": "code",
   "execution_count": null,
   "outputs": [],
   "source": [],
   "metadata": {
    "collapsed": false,
    "pycharm": {
     "name": "#%%\n"
    }
   }
  }
 ],
 "metadata": {
  "kernelspec": {
   "display_name": "Python 3",
   "language": "python",
   "name": "python3"
  },
  "language_info": {
   "codemirror_mode": {
    "name": "ipython",
    "version": 2
   },
   "file_extension": ".py",
   "mimetype": "text/x-python",
   "name": "python",
   "nbconvert_exporter": "python",
   "pygments_lexer": "ipython2",
   "version": "2.7.6"
  },
  "pycharm": {
   "stem_cell": {
    "cell_type": "raw",
    "source": [],
    "metadata": {
     "collapsed": false
    }
   }
  }
 },
 "nbformat": 4,
 "nbformat_minor": 0
}