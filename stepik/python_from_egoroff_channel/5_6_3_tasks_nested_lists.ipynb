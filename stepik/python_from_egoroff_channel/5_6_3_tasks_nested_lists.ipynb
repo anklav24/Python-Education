{
 "cells": [
  {
   "cell_type": "code",
   "execution_count": 24,
   "metadata": {
    "collapsed": true
   },
   "outputs": [
    {
     "name": "stdout",
     "output_type": "stream",
     "text": [
      "[3, 7]\n",
      "4\n",
      "[[0, 1], [0, 2], [1, 3], [1, 4]]\n"
     ]
    }
   ],
   "source": [
    "rows, columns = map(int, input().split())\n",
    "array = [[int(j) for j in input().split()] for i in range(rows)]\n",
    "result_sum, best_pl_attempts = [], []\n",
    "best_attempt = 0\n",
    "\n",
    "# for row in range(rows):\n",
    "\n",
    "for row in range(rows):\n",
    "    result_sum.append(sum(array[row]))\n",
    "    for column in range(columns):\n",
    "        if array[row][column] >= best_attempt:\n",
    "            best_pl_attempts.append([row, array[row][column]])\n",
    "            best_attempt = array[row][column]\n",
    "\n",
    "\n",
    "print(result_sum)\n",
    "print(best_attempt)\n",
    "print(best_pl_attempts)"
   ]
  },
  {
   "cell_type": "code",
   "execution_count": null,
   "outputs": [],
   "source": [
    "rows, columns = map(int, input().split())\n",
    "array = [[int(j) for j in input().split()] for i in range(rows)]\n",
    "best_attempt = 0\n",
    "best_pl_array, best_pl_sum = [], []\n",
    "\n",
    "for row in range(rows):\n",
    "    for column in range(columns):\n",
    "        if array[row][column] > best_attempt:\n",
    "            best_attempt = array[row][column]\n",
    "\n",
    "for row in range(rows):\n",
    "    if best_attempt in array[row]:\n",
    "        best_pl_array.append([row ,array[row]])\n",
    "\n",
    "if len(best_pl_array) > 1:\n",
    "    for row in range(len(best_pl_array)):\n",
    "        best_pl_sum.append(sum(best_pl_array[row]))\n",
    "\n",
    "print(best_pl_array)\n",
    "print(best_pl_sum)\n",
    "print(best_attempt)"
   ],
   "metadata": {
    "collapsed": false,
    "pycharm": {
     "name": "#%%\n",
     "is_executing": true
    }
   }
  },
  {
   "cell_type": "code",
   "execution_count": null,
   "outputs": [],
   "source": [
    "rows, columns = map(int, input().split())\n",
    "array = [[int(j) for j in input().split()] for i in range(rows)]\n",
    "best_attempt = 0\n",
    "best_pl_sum_index = 0\n",
    "best_pl_sum = 0\n",
    "best_attempt_index = 0\n",
    "best_attempt_sum = 0\n",
    "\n",
    "for row in range(rows):\n",
    "    for column in range(columns):\n",
    "        if array[row][column] > best_attempt:\n",
    "            best_attempt_index = row\n",
    "            best_attempt_sum = sum(array[row])\n",
    "            best_attempt = array[row][column]\n",
    "\n",
    "for row in range(rows):\n",
    "    if sum(array[row]) > best_pl_sum:\n",
    "        best_pl_sum_index = row\n",
    "        best_pl_sum = sum(array[row])\n",
    "\n",
    "print(best_attempt_index, best_attempt_sum, best_attempt)\n",
    "print(best_pl_sum_index, best_pl_sum)\n",
    "\n",
    "if best_pl_sum > best_attempt_sum:\n",
    "    print(best_pl_sum_index)\n",
    "else:\n",
    "    print(best_attempt_index)"
   ],
   "metadata": {
    "collapsed": false,
    "pycharm": {
     "name": "#%%\n",
     "is_executing": true
    }
   }
  },
  {
   "cell_type": "code",
   "execution_count": 5,
   "outputs": [
    {
     "name": "stdout",
     "output_type": "stream",
     "text": [
      "1\n"
     ]
    }
   ],
   "source": [
    "# Community\n",
    "a, b = map(int, input().split())\n",
    "l = []\n",
    "smax=-1\n",
    "\n",
    "row=-1\n",
    "summa=-1\n",
    "for i in range(a):\n",
    "    l.append(list(map(int, input().split())))\n",
    "    if smax<max(l[i]):\n",
    "        smax=max(l[i])\n",
    "        summa=sum(l[i])\n",
    "        row=i\n",
    "\n",
    "\n",
    "for i in range(a):\n",
    "    for j in range(b):\n",
    "        if smax==l[i][j] and summa<sum(l[i]):\n",
    "            summa = sum(l[i])\n",
    "            row=i\n",
    "print(row)"
   ],
   "metadata": {
    "collapsed": false,
    "pycharm": {
     "name": "#%%\n"
    }
   }
  },
  {
   "cell_type": "code",
   "execution_count": 7,
   "outputs": [
    {
     "name": "stdout",
     "output_type": "stream",
     "text": [
      "1\n",
      "[4, 8]\n"
     ]
    }
   ],
   "source": [
    "# Community\n",
    "n, m = map(int, input().split())\n",
    "a = [[int(j) for j in input().split()] for i in range(n)]\n",
    "b = []\n",
    "\n",
    "for i in range(n):\n",
    "    b.append([max(a[i]), sum(a[i])])\n",
    "\n",
    "print(b.index(max(b)))\n",
    "print(max(b))"
   ],
   "metadata": {
    "collapsed": false,
    "pycharm": {
     "name": "#%%\n"
    }
   }
  },
  {
   "cell_type": "code",
   "execution_count": 32,
   "outputs": [
    {
     "name": "stdout",
     "output_type": "stream",
     "text": [
      "[4, 3, -1] 2\n",
      "[3, 4]\n"
     ]
    }
   ],
   "source": [
    "a = [[1, 2],\n",
    "     [3, 4],\n",
    "     [4, 3, -1],\n",
    "     [4, 3]]\n",
    "print(max(a), a.index(max(a)))\n",
    "print(max(a, key=lambda x: x[1]))"
   ],
   "metadata": {
    "collapsed": false,
    "pycharm": {
     "name": "#%%\n"
    }
   }
  },
  {
   "cell_type": "code",
   "execution_count": 44,
   "outputs": [
    {
     "name": "stdout",
     "output_type": "stream",
     "text": [
      "[4, 6, [4, 5]] 3\n",
      "[3, 4, [3, 8]]\n"
     ]
    }
   ],
   "source": [
    "a = [[1, 2, [3, 5]],\n",
    "     [3, 4, [3, 8]],\n",
    "     [4, 3, [3, 5]],\n",
    "     [4, 6, [4, 5]]]\n",
    "print(max(a), a.index(max(a)))\n",
    "print(max(a, key=lambda x: x[2][1]))"
   ],
   "metadata": {
    "collapsed": false,
    "pycharm": {
     "name": "#%%\n"
    }
   }
  },
  {
   "cell_type": "code",
   "execution_count": 63,
   "outputs": [
    {
     "name": "stdout",
     "output_type": "stream",
     "text": [
      "3 4\n"
     ]
    }
   ],
   "source": [
    "n, m = map(int, input().split())\n",
    "a = [[int(j) for j in input().split()] for i in range(n)]\n",
    "best_attempt, best_attempt_count = 0, 0\n",
    "\n",
    "for i in range(n):\n",
    "    if max(a[i]) > best_attempt:\n",
    "        best_attempt = max(a[i])\n",
    "\n",
    "for row in range(n):\n",
    "    if best_attempt == max(a[row]):\n",
    "        best_attempt_count += 1\n",
    "\n",
    "print(best_attempt_count)"
   ],
   "metadata": {
    "collapsed": false,
    "pycharm": {
     "name": "#%%\n"
    }
   }
  },
  {
   "cell_type": "code",
   "execution_count": 65,
   "outputs": [
    {
     "name": "stdout",
     "output_type": "stream",
     "text": [
      "2\n"
     ]
    }
   ],
   "source": [
    "n, m = map(int, input().split())\n",
    "a = [max([int(j) for j in input().split()]) for i in range(n)]\n",
    "\n",
    "print(a.count(max(a)))"
   ],
   "metadata": {
    "collapsed": false,
    "pycharm": {
     "name": "#%%\n"
    }
   }
  },
  {
   "cell_type": "code",
   "execution_count": 88,
   "outputs": [
    {
     "name": "stdout",
     "output_type": "stream",
     "text": [
      "Yes\n"
     ]
    }
   ],
   "source": [
    "a= [list(input()) for i in range(4)]\n",
    "answer = ''\n",
    "\n",
    "for i in range(4):\n",
    "    for j in range(4):\n",
    "        if a[i][j] == a[i - 1][j - 1] == a[i - 1][j] == a[i - 1][j + 1 - len(a)] \\\n",
    "        and a[i][j] == a[i][j - 1] == a[i][j] == a[i][j + 1 - len(a)] \\\n",
    "        and a[i][j] == a[i + 1 - len(a)][j - 1] == a[i + 1 - len(a)][j] == a[i + 1 - len(a)][j + 1 - len(a)]:\n",
    "            answer = 'No'\n",
    "\n",
    "print('Yes' if answer != 'No' else 'No')\n",
    "\n",
    "# if answer == 'No':\n",
    "#     print('No')\n",
    "# else:\n",
    "#     print('Yes')\n",
    "        # print(a[i - 1][j - 1], a[i - 1][j], a[i - 1][j + 1 - len(a)])\n",
    "        # print(a[i][j - 1], a[i][j], a[i][j + 1 - len(a)])\n",
    "        # print(a[i + 1 - len(a)][j - 1], a[i + 1 - len(a)][j], a[i + 1 - len(a)][j + 1 - len(a)])\n",
    "\n",
    "\n"
   ],
   "metadata": {
    "collapsed": false,
    "pycharm": {
     "name": "#%%\n"
    }
   }
  },
  {
   "cell_type": "code",
   "execution_count": 93,
   "outputs": [
    {
     "name": "stdout",
     "output_type": "stream",
     "text": [
      "Yes\n"
     ]
    }
   ],
   "source": [
    "#Community\n",
    "\n",
    "a = [list(input()) for i in range(4)]\n",
    "answer = 'No'\n",
    "\n",
    "for i in range(4):\n",
    "    for j in range(4):\n",
    "        if a[i][j] != a[j][i] != a[j][j] != a[i][i]:\n",
    "            answer = 'Yes'\n",
    "\n",
    "print(answer)"
   ],
   "metadata": {
    "collapsed": false,
    "pycharm": {
     "name": "#%%\n"
    }
   }
  },
  {
   "cell_type": "code",
   "execution_count": 4,
   "outputs": [
    {
     "ename": "ValueError",
     "evalue": "not enough values to unpack (expected 2, got 0)",
     "output_type": "error",
     "traceback": [
      "\u001B[1;31m---------------------------------------------------------------------------\u001B[0m",
      "\u001B[1;31mValueError\u001B[0m                                Traceback (most recent call last)",
      "\u001B[1;32m<ipython-input-4-3c191b170b37>\u001B[0m in \u001B[0;36m<module>\u001B[1;34m\u001B[0m\n\u001B[0;32m      1\u001B[0m \u001B[1;31m# pydev_debug_cell\u001B[0m\u001B[1;33m\u001B[0m\u001B[1;33m\u001B[0m\u001B[1;33m\u001B[0m\u001B[0m\n\u001B[1;32m----> 2\u001B[1;33m \u001B[0mrows\u001B[0m\u001B[1;33m,\u001B[0m \u001B[0mcolums\u001B[0m \u001B[1;33m=\u001B[0m \u001B[0mmap\u001B[0m\u001B[1;33m(\u001B[0m\u001B[0mint\u001B[0m\u001B[1;33m,\u001B[0m \u001B[0minput\u001B[0m\u001B[1;33m(\u001B[0m\u001B[1;33m)\u001B[0m\u001B[1;33m.\u001B[0m\u001B[0msplit\u001B[0m\u001B[1;33m(\u001B[0m\u001B[1;33m)\u001B[0m\u001B[1;33m)\u001B[0m\u001B[1;33m\u001B[0m\u001B[1;33m\u001B[0m\u001B[0m\n\u001B[0m\u001B[0;32m      3\u001B[0m \u001B[0minput_array\u001B[0m \u001B[1;33m=\u001B[0m \u001B[1;33m[\u001B[0m\u001B[0mlist\u001B[0m\u001B[1;33m(\u001B[0m\u001B[0minput\u001B[0m\u001B[1;33m(\u001B[0m\u001B[1;33m)\u001B[0m\u001B[1;33m)\u001B[0m \u001B[1;32mfor\u001B[0m \u001B[0mi\u001B[0m \u001B[1;32min\u001B[0m \u001B[0mrange\u001B[0m\u001B[1;33m(\u001B[0m\u001B[0mrows\u001B[0m\u001B[1;33m)\u001B[0m\u001B[1;33m]\u001B[0m\u001B[1;33m\u001B[0m\u001B[1;33m\u001B[0m\u001B[0m\n\u001B[0;32m      4\u001B[0m \u001B[0moutput_array\u001B[0m \u001B[1;33m=\u001B[0m \u001B[1;33m[\u001B[0m\u001B[0mlist\u001B[0m\u001B[1;33m(\u001B[0m\u001B[0minput\u001B[0m\u001B[1;33m(\u001B[0m\u001B[1;33m)\u001B[0m\u001B[1;33m)\u001B[0m \u001B[1;32mfor\u001B[0m \u001B[0mi\u001B[0m \u001B[1;32min\u001B[0m \u001B[0mrange\u001B[0m\u001B[1;33m(\u001B[0m\u001B[0mrows\u001B[0m\u001B[1;33m)\u001B[0m\u001B[1;33m]\u001B[0m\u001B[1;33m\u001B[0m\u001B[1;33m\u001B[0m\u001B[0m\n\u001B[0;32m      5\u001B[0m \u001B[0merrors\u001B[0m \u001B[1;33m=\u001B[0m \u001B[1;36m0\u001B[0m\u001B[1;33m\u001B[0m\u001B[1;33m\u001B[0m\u001B[0m\n",
      "\u001B[1;31mValueError\u001B[0m: not enough values to unpack (expected 2, got 0)"
     ]
    }
   ],
   "source": [
    "rows, colums = map(int, input().split())\n",
    "input_array = [list(input()) for i in range(rows)]\n",
    "input()\n",
    "output_array = [list(input()) for i in range(rows)]\n",
    "errors = 0\n",
    "\n",
    "for i in range(rows):\n",
    "    for j in range(colums):\n",
    "        if input_array[i][j] == output_array[i][j]:\n",
    "            errors += 1\n",
    "\n",
    "print(errors)"
   ],
   "metadata": {
    "collapsed": false,
    "pycharm": {
     "name": "#%%\n"
    }
   }
  },
  {
   "cell_type": "code",
   "execution_count": null,
   "outputs": [],
   "source": [
    "size, number = map(int, input().split())\n",
    "array = [[i * j for j in range(1, size + 1)].count(number) for i in range(1, size + 1)]\n",
    "\n",
    "print(sum(array))"
   ],
   "metadata": {
    "collapsed": false,
    "pycharm": {
     "name": "#%%\n"
    }
   }
  },
  {
   "cell_type": "code",
   "execution_count": 23,
   "outputs": [
    {
     "name": "stdout",
     "output_type": "stream",
     "text": [
      "2\n"
     ]
    }
   ],
   "source": [
    "n, x = map(int, input().split())\n",
    "s = 0\n",
    "\n",
    "for i in range(1, n + 1):\n",
    "    if x % i == 0 and x / i <= n:\n",
    "        s += 1\n",
    "\n",
    "print(s)"
   ],
   "metadata": {
    "collapsed": false,
    "pycharm": {
     "name": "#%%\n"
    }
   }
  },
  {
   "cell_type": "code",
   "execution_count": 26,
   "outputs": [
    {
     "name": "stdout",
     "output_type": "stream",
     "text": [
      "1 2\n",
      "2 4\n",
      "3 4\n",
      "1\n"
     ]
    }
   ],
   "source": [
    "n, count = int(input()), 0\n",
    "a = [[int(j) for j in input().split()] for i in range(n)]\n",
    "\n",
    "for i in range(n):\n",
    "    for j in range(n):\n",
    "        if a[i][0] == a[j][1]:\n",
    "            count += 1\n",
    "\n",
    "print(count)"
   ],
   "metadata": {
    "collapsed": false,
    "pycharm": {
     "name": "#%%\n"
    }
   }
  },
  {
   "cell_type": "code",
   "execution_count": 43,
   "outputs": [
    {
     "name": "stdout",
     "output_type": "stream",
     "text": [
      "* * * !\n",
      ". . . !\n",
      ". . . !\n",
      "* * * !\n",
      "4\n"
     ]
    }
   ],
   "source": [
    "n, m = map(int, input().split())\n",
    "a = [list(input()) for i in range(n)]\n",
    "count, c = 0, 0\n",
    "\n",
    "if n != m and n == max(n, m):\n",
    "    c = n - m\n",
    "    for i in range(n):\n",
    "        a[i].append('!')\n",
    "\n",
    "for i in a:\n",
    "    print(*i)\n",
    "\n",
    "for i in range(n):\n",
    "    for j in range(m):\n",
    "        if a[i][j] == a[j][i] == a[i][i] == a[j][j] == '.':\n",
    "            count += 1\n",
    "\n",
    "print(count)"
   ],
   "metadata": {
    "collapsed": false,
    "pycharm": {
     "name": "#%%\n"
    }
   }
  },
  {
   "cell_type": "code",
   "execution_count": 125,
   "outputs": [
    {
     "name": "stdout",
     "output_type": "stream",
     "text": [
      "0\n"
     ]
    }
   ],
   "source": [
    "n, m = map(int, input().split())\n",
    "a = ['.' + input() + '.' for i in range(n)]\n",
    "count = 0\n",
    "\n",
    "# Создаем границу игрового поля сверху и снизу.\n",
    "a.insert(0, '.' * (m + 2))\n",
    "a.append('.' * (m + 2))\n",
    "\n",
    "# Обходим массив по координатам игрового поля, не включая границы.\n",
    "for i in range(1, n + 1):\n",
    "    for j in range(1, m + 1):\n",
    "        if a[i][j] == a[i - 1][j] == a[i + 1][j] == a[i][j - 1] == a[i][j + 1] == '.':\n",
    "            count += 1\n",
    "\n",
    "print(count)"
   ],
   "metadata": {
    "collapsed": false,
    "pycharm": {
     "name": "#%%\n"
    }
   }
  },
  {
   "cell_type": "code",
   "execution_count": 42,
   "outputs": [
    {
     "name": "stdout",
     "output_type": "stream",
     "text": [
      "0  1  2  3\n",
      " 7 6 5 4\n",
      " 8 9 10 11\n",
      " 15 14 13 12\n"
     ]
    }
   ],
   "source": [
    "rows, columns = map(int, input().split())\n",
    "a, count = [], 0\n",
    "\n",
    "for row in range(rows):\n",
    "    a.append([])\n",
    "    for column in range(columns):\n",
    "        a[row].append(count)\n",
    "        count += 1\n",
    "    if row % 2 != 0:\n",
    "        a[row].reverse()\n",
    "\n",
    "print(*a[0], sep='  ')\n",
    "for i in range(1, rows):\n",
    "    print('', *a[i])\n"
   ],
   "metadata": {
    "collapsed": false,
    "pycharm": {
     "name": "#%%\n"
    }
   }
  }
 ],
 "metadata": {
  "kernelspec": {
   "display_name": "Python 3",
   "language": "python",
   "name": "python3"
  },
  "language_info": {
   "codemirror_mode": {
    "name": "ipython",
    "version": 2
   },
   "file_extension": ".py",
   "mimetype": "text/x-python",
   "name": "python",
   "nbconvert_exporter": "python",
   "pygments_lexer": "ipython2",
   "version": "2.7.6"
  }
 },
 "nbformat": 4,
 "nbformat_minor": 0
}