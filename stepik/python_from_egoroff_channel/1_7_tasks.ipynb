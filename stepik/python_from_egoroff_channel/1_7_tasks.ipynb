{
 "cells": [
  {
   "cell_type": "code",
   "execution_count": 2,
   "metadata": {
    "collapsed": true,
    "pycharm": {
     "is_executing": false,
     "name": "#%%\n"
    }
   },
   "outputs": [
    {
     "name": "stdout",
     "text": [
      "4\n"
     ],
     "output_type": "stream"
    }
   ],
   "source": [
    "number = int(input())\n",
    "print(number % 10)"
   ]
  },
  {
   "cell_type": "code",
   "execution_count": 9,
   "outputs": [
    {
     "name": "stdout",
     "text": [
      "1\n"
     ],
     "output_type": "stream"
    }
   ],
   "source": [
    "print(int(input()) // 100 % 10)"
   ],
   "metadata": {
    "collapsed": false,
    "pycharm": {
     "name": "#%%\n",
     "is_executing": false
    }
   }
  },
  {
   "cell_type": "code",
   "execution_count": 10,
   "outputs": [
    {
     "name": "stdout",
     "text": [
      "6\n"
     ],
     "output_type": "stream"
    }
   ],
   "source": [
    "number = int(input())\n",
    "a = number // 100 % 10\n",
    "b = number // 10 % 10\n",
    "c = number % 10\n",
    "print(a + b + c)"
   ],
   "metadata": {
    "collapsed": false,
    "pycharm": {
     "name": "#%%\n",
     "is_executing": false
    }
   }
  },
  {
   "cell_type": "markdown",
   "source": [
    "n школьников делят k яблок поровну, неделяющийся остаток остается в корзинке. Сколько яблок достанется\n",
    "каждому школьнику? Программа получает на вход сперва число n, а потом k."
   ],
   "metadata": {
    "collapsed": false,
    "pycharm": {
     "name": "#%% md\n"
    }
   }
  },
  {
   "cell_type": "code",
   "execution_count": 11,
   "outputs": [
    {
     "name": "stdout",
     "text": [
      "2\n"
     ],
     "output_type": "stream"
    }
   ],
   "source": [
    "n, k = int(input()), int(input())\n",
    "print(k // n)"
   ],
   "metadata": {
    "collapsed": false,
    "pycharm": {
     "name": "#%%\n",
     "is_executing": false
    }
   }
  },
  {
   "cell_type": "code",
   "execution_count": 12,
   "outputs": [
    {
     "name": "stdout",
     "text": [
      "3\n"
     ],
     "output_type": "stream"
    }
   ],
   "source": [
    "n, r = int(input()), int(input())\n",
    "print(n // r)"
   ],
   "metadata": {
    "collapsed": false,
    "pycharm": {
     "name": "#%%\n",
     "is_executing": false
    }
   }
  },
  {
   "cell_type": "code",
   "execution_count": 30,
   "outputs": [
    {
     "name": "stdout",
     "text": [
      "10000\n"
     ],
     "output_type": "stream"
    }
   ],
   "source": [
    "n = int(input())\n",
    "a = n // 100\n",
    "b = n % 100 // 20\n",
    "c = n % 20 // 10\n",
    "d = n % 10 // 5\n",
    "e = n % 5 // 1\n",
    "print(a + b + c + d + e)"
   ],
   "metadata": {
    "collapsed": false,
    "pycharm": {
     "name": "#%%\n",
     "is_executing": false
    }
   }
  },
  {
   "cell_type": "code",
   "execution_count": 38,
   "outputs": [
    {
     "name": "stdout",
     "text": [
      "1 9\n"
     ],
     "output_type": "stream"
    }
   ],
   "source": [
    "time_passed = int(input())\n",
    "hour = time_passed // 60 % 24\n",
    "minute = time_passed % 60 \n",
    "print(hour, minute)"
   ],
   "metadata": {
    "collapsed": false,
    "pycharm": {
     "name": "#%%\n",
     "is_executing": false
    }
   }
  },
  {
   "cell_type": "code",
   "execution_count": 55,
   "outputs": [
    {
     "name": "stdout",
     "text": [
      "124\n"
     ],
     "output_type": "stream"
    }
   ],
   "source": [
    "# Следующее четное число.\n",
    "\n",
    "n = int(input())\n",
    "print((n + 1) + (n + 1) % 2)"
   ],
   "metadata": {
    "collapsed": false,
    "pycharm": {
     "name": "#%%\n",
     "is_executing": false
    }
   }
  },
  {
   "cell_type": "code",
   "execution_count": 57,
   "outputs": [
    {
     "name": "stdout",
     "text": [
      "124\n"
     ],
     "output_type": "stream"
    }
   ],
   "source": [
    "n = int(input())\n",
    "print(n + 2 - n % 2)"
   ],
   "metadata": {
    "collapsed": false,
    "pycharm": {
     "name": "#%%\n",
     "is_executing": false
    }
   }
  },
  {
   "cell_type": "code",
   "execution_count": 73,
   "outputs": [
    {
     "name": "stdout",
     "text": [
      "1:23:20\n"
     ],
     "output_type": "stream"
    }
   ],
   "source": [
    "time = int(input())\n",
    "hours = time // 3600 % 24\n",
    "minutes_1 = time // 60 % 60 // 10\n",
    "minutes_2 = time // 60 % 60 % 10\n",
    "seconds_1 = time % 60 // 10\n",
    "seconds_2 = time % 60 % 10\n",
    "print(f'{hours}:{minutes_1}{minutes_2}:{seconds_1}{seconds_2}')\n"
   ],
   "metadata": {
    "collapsed": false,
    "pycharm": {
     "name": "#%%\n",
     "is_executing": false
    }
   }
  }
 ],
 "metadata": {
  "kernelspec": {
   "display_name": "Python 3",
   "language": "python",
   "name": "python3"
  },
  "language_info": {
   "codemirror_mode": {
    "name": "ipython",
    "version": 2
   },
   "file_extension": ".py",
   "mimetype": "text/x-python",
   "name": "python",
   "nbconvert_exporter": "python",
   "pygments_lexer": "ipython2",
   "version": "2.7.6"
  },
  "pycharm": {
   "stem_cell": {
    "cell_type": "raw",
    "source": [],
    "metadata": {
     "collapsed": false
    }
   }
  }
 },
 "nbformat": 4,
 "nbformat_minor": 0
}