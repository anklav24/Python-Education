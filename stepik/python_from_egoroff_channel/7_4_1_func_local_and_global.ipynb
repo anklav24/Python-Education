{
 "cells": [
  {
   "cell_type": "code",
   "execution_count": null,
   "outputs": [],
   "source": [
    "# Keywords\n",
    "# scope defines the visibility\n",
    "# https://docs.python.org/3.3/reference/executionmodel.html\n",
    "#\n",
    "# What are the rules for local and global variables in Python?\n",
    "# https://docs.python.org/3/faq/programming.html#what-are-the-rules-for-local-and-global-variables-in-python\n",
    "#\n",
    "# The global statement and The nonlocal statement\n",
    "# https://docs.python.org/3/reference/simple_stmts.html#grammar-token-global-stmt\n"
   ],
   "metadata": {
    "collapsed": false,
    "pycharm": {
     "name": "#%%\n"
    }
   }
  },
  {
   "cell_type": "code",
   "execution_count": 1,
   "metadata": {
    "collapsed": true
   },
   "outputs": [
    {
     "name": "stdout",
     "output_type": "stream",
     "text": [
      "1 2 3\n"
     ]
    },
    {
     "ename": "NameError",
     "evalue": "name 'e' is not defined",
     "output_type": "error",
     "traceback": [
      "\u001B[1;31m---------------------------------------------------------------------------\u001B[0m",
      "\u001B[1;31mNameError\u001B[0m                                 Traceback (most recent call last)",
      "\u001B[1;32m<ipython-input-1-f8cb1a2267ee>\u001B[0m in \u001B[0;36m<module>\u001B[1;34m\u001B[0m\n\u001B[0;32m      6\u001B[0m \u001B[1;33m\u001B[0m\u001B[0m\n\u001B[0;32m      7\u001B[0m \u001B[0ms\u001B[0m\u001B[1;33m(\u001B[0m\u001B[1;33m)\u001B[0m\u001B[1;33m\u001B[0m\u001B[1;33m\u001B[0m\u001B[0m\n\u001B[1;32m----> 8\u001B[1;33m \u001B[0mprint\u001B[0m\u001B[1;33m(\u001B[0m\u001B[0me\u001B[0m\u001B[1;33m)\u001B[0m\u001B[1;33m\u001B[0m\u001B[1;33m\u001B[0m\u001B[0m\n\u001B[0m\u001B[0;32m      9\u001B[0m \u001B[1;33m\u001B[0m\u001B[0m\n",
      "\u001B[1;31mNameError\u001B[0m: name 'e' is not defined"
     ]
    }
   ],
   "source": [
    "def s():\n",
    "    # local\n",
    "    a, b, c = 1, 2, 3\n",
    "    print(a, b, c)\n",
    "\n",
    "\n",
    "s()\n",
    "print(e)"
   ]
  },
  {
   "cell_type": "code",
   "execution_count": 2,
   "outputs": [
    {
     "name": "stdout",
     "output_type": "stream",
     "text": [
      "1 5\n"
     ]
    }
   ],
   "source": [
    "def q():\n",
    "    r, t = 1, 5\n",
    "    print(r, t)\n",
    "\n",
    "\n",
    "q()"
   ],
   "metadata": {
    "collapsed": false,
    "pycharm": {
     "name": "#%%\n"
    }
   }
  },
  {
   "cell_type": "code",
   "execution_count": 3,
   "outputs": [
    {
     "name": "stdout",
     "output_type": "stream",
     "text": [
      "1 2 3 HELLO 1729496542768\n",
      "hello 1729496541104\n"
     ]
    },
    {
     "data": {
      "text/plain": "'These variables do not match. They even have different id'"
     },
     "execution_count": 3,
     "metadata": {},
     "output_type": "execute_result"
    }
   ],
   "source": [
    "def s():\n",
    "    # local variables\n",
    "    a, b, c = 1, 2, 3\n",
    "    w = \"HELLO\"\n",
    "    print(a, b, c, w, id(w))  # w - the global variable\n",
    "\n",
    "\n",
    "# global variables\n",
    "w = \"hello\"\n",
    "y = 100\n",
    "s()\n",
    "print(w, id(w))\n",
    "\n",
    "\"\"\"These variables do not match. They even have different id\"\"\""
   ],
   "metadata": {
    "collapsed": false,
    "pycharm": {
     "name": "#%%\n"
    }
   }
  },
  {
   "cell_type": "code",
   "execution_count": null,
   "outputs": [],
   "source": [
    "def s():\n",
    "    # local variables\n",
    "    a, b, c = 1, 2, 3\n",
    "    # w = \"HELLO\"\n",
    "    print(a, b, c, w, id(w))  # w - the global variable\n",
    "\n",
    "\n",
    "# global variables\n",
    "w = \"hello\"\n",
    "y = 100\n",
    "s()\n",
    "print(w, id(w))\n",
    "\n",
    "\"\"\"Python search a variable \"w\" in a global scope.\"\"\""
   ],
   "metadata": {
    "collapsed": false,
    "pycharm": {
     "name": "#%%\n"
    }
   }
  },
  {
   "cell_type": "code",
   "execution_count": null,
   "outputs": [],
   "source": [
    "def s():\n",
    "    # local variables\n",
    "    print(w)  # UnboundLocalError: local variable 'w' referenced before assignment\n",
    "    a, b, c = 1, 2, 3\n",
    "    w = \"HELLO\"\n",
    "    print(a, b, c, w, id(w))  # w - the global variable\n",
    "\n",
    "\n",
    "# global variables\n",
    "w = \"hello\"\n",
    "y = 100\n",
    "s()\n",
    "print(w, id(w))\n",
    "\n",
    "\"\"\"Python search a variable \"w\" in a local scope.\"\"\""
   ],
   "metadata": {
    "collapsed": false,
    "pycharm": {
     "name": "#%%\n"
    }
   }
  },
  {
   "cell_type": "code",
   "execution_count": 9,
   "outputs": [
    {
     "name": "stdout",
     "output_type": "stream",
     "text": [
      "hello\n",
      "1 2 3 hello 1729496541104\n",
      "hello 1729496541104\n"
     ]
    },
    {
     "data": {
      "text/plain": "'Python search a variable \"w\" in a global scope.'"
     },
     "execution_count": 9,
     "metadata": {},
     "output_type": "execute_result"
    }
   ],
   "source": [
    "def s():\n",
    "    # local variables\n",
    "    print(w)  # 2) The Python is trying to find this variable in the global scope.\n",
    "    a, b, c = 1, 2, 3\n",
    "    # w = \"HELLO\"  # 1) When we commented out this row.\n",
    "    print(a, b, c, w, id(w))  # w - the global variable\n",
    "\n",
    "\n",
    "# global variables\n",
    "w = \"hello\"\n",
    "s()\n",
    "print(w, id(w))\n",
    "\n",
    "\"\"\"Python search a variable \"w\" in a global scope.\"\"\""
   ],
   "metadata": {
    "collapsed": false,
    "pycharm": {
     "name": "#%%\n"
    }
   }
  },
  {
   "cell_type": "code",
   "execution_count": null,
   "outputs": [],
   "source": [
    "def s():\n",
    "    b = 22, \"local\"\n",
    "    c = 33, \"local\"\n",
    "    print((\"local func s()\", a, b, c))\n",
    "\n",
    "\n",
    "a = 100, \"global\"\n",
    "b = 200, \"global\"\n",
    "c = 300, \"global\"\n",
    "print(s())\n",
    "print(\"global print()\", a, b, c)"
   ],
   "metadata": {
    "collapsed": false,
    "pycharm": {
     "name": "#%%\n"
    }
   }
  },
  {
   "cell_type": "code",
   "execution_count": 39,
   "outputs": [
    {
     "name": "stdout",
     "output_type": "stream",
     "text": [
      "('local func s()', (100, 'global'), 1729538014080, (22, 'local'), 1729542363072, (33, 'local'), 1729542812672)\n",
      "None\n",
      "global print() (100, 'global') 1729538014080 (200, 'global') 1729542659328 (300, 'global') 1729541252032\n"
     ]
    }
   ],
   "source": [
    "def s(a, b, c):\n",
    "    b = 22, \"local\"\n",
    "    c = 33, \"local\"\n",
    "    print((\"local func s()\", a, id(a), b, id(b), c, id(c)))\n",
    "\n",
    "\n",
    "a = 100, \"global\"\n",
    "b = 200, \"global\"\n",
    "c = 300, \"global\"\n",
    "print(s(a, b, c))\n",
    "print(\"global print()\", a, id(a), b, id(b), c, id(c))\n",
    "# Если мы передаем значение в функцию и переназначаем его, то переназначение в локальной\n",
    "# области видимости не меняет значения глобальных переменных. id у них разные."
   ],
   "metadata": {
    "collapsed": false,
    "pycharm": {
     "name": "#%%\n"
    }
   }
  },
  {
   "cell_type": "code",
   "execution_count": 42,
   "outputs": [
    {
     "name": "stdout",
     "output_type": "stream",
     "text": [
      "Local func [1, 666, 3, 4, 5] 1729550306944\n",
      "Global [1, 666, 3, 4, 5] 1729550306944\n"
     ]
    }
   ],
   "source": [
    "def s(a):\n",
    "    # Local\n",
    "    a[1] = 666\n",
    "    print(\"Local func\", a, id(a))\n",
    "\n",
    "\n",
    "# Global\n",
    "a = [1, 2, 3, 4, 5]\n",
    "s(a)\n",
    "print(\"Global\", a, id(a))\n",
    "\n",
    "# Для изменяемых объектов изменение в локальной области видимости влияет на глобальную область видимости.\n",
    "# When mutable objects are changed by us in local scope, they are changed in global scope too."
   ],
   "metadata": {
    "collapsed": false,
    "pycharm": {
     "name": "#%%\n"
    }
   }
  },
  {
   "cell_type": "code",
   "execution_count": 64,
   "outputs": [
    {
     "name": "stdout",
     "output_type": "stream",
     "text": [
      "(30, 'local')\n",
      "(30, 'local')\n",
      "30 global\n"
     ]
    }
   ],
   "source": [
    "def s():\n",
    "    global a\n",
    "    a = 30\n",
    "    return a, \"local\"\n",
    "\n",
    "\n",
    "def q():\n",
    "    return s()\n",
    "\n",
    "\n",
    "a = [1, 2, 3, 4, 5]\n",
    "\n",
    "print(s())\n",
    "print(q())\n",
    "print(a, 'global')\n",
    "# Глобальная переменная видна везде. Изменения на нее применяются из любой области видимости."
   ],
   "metadata": {
    "collapsed": false,
    "pycharm": {
     "name": "#%%\n"
    }
   }
  },
  {
   "cell_type": "code",
   "execution_count": 73,
   "outputs": [
    {
     "name": "stdout",
     "output_type": "stream",
     "text": [
      "25\n"
     ]
    }
   ],
   "source": [
    "# Use ctrl + space in Pycharm to see global scope.\n",
    "\n",
    "def w(x):\n",
    "    return x ** 2\n",
    "\n",
    "abs = w\n",
    "print(abs(-5))\n",
    "\n",
    "min, max = max, min\n"
   ],
   "metadata": {
    "collapsed": false,
    "pycharm": {
     "name": "#%% You can give an alias name for your built-in fuctions.\n"
    }
   }
  },
  {
   "cell_type": "code",
   "execution_count": 86,
   "outputs": [
    {
     "name": "stdout",
     "output_type": "stream",
     "text": [
      "abs='hello', 1729542188656 'func q()\n",
      "abs=200, 140729506914176 func s()\n",
      "abs=[1, 2, 3], 1729542279040 global print\n"
     ]
    }
   ],
   "source": [
    "def s():\n",
    "    # Enclosing scope\n",
    "    # LEGB Rule\n",
    "    # https://realpython.com/python-scope-legb-rule/#:~:text=Enclosing%20(or%20nonlocal)%20scope%20is,define%20in%20the%20enclosing%20function.\n",
    "    # https://docs.python.org/3.3/reference/executionmodel.html\n",
    "    abs = 200\n",
    "    def q():\n",
    "        # nested local scope\n",
    "        abs = \"hello\"\n",
    "        print(f\"{abs=}, {id(abs)} 'func q()\")\n",
    "    q()\n",
    "    print(f\"{abs=}, {id(abs)} func s()\")\n",
    "\n",
    "\n",
    "# global scope\n",
    "abs = [1, 2, 3]\n",
    "s()\n",
    "print(f\"{abs=}, {id(abs)} global print\")"
   ],
   "metadata": {
    "collapsed": false,
    "pycharm": {
     "name": "#%%\n"
    }
   }
  },
  {
   "cell_type": "code",
   "execution_count": 88,
   "outputs": [
    {
     "name": "stdout",
     "output_type": "stream",
     "text": [
      "abs='hello', 1729542188656 'func q()\n",
      "abs='hello', 1729542188656 func s()\n",
      "abs=[1, 2, 3], 1729544533568 global print\n"
     ]
    }
   ],
   "source": [
    "def s():\n",
    "    # Enclosing scope\n",
    "    # LEGB Rule\n",
    "    # https://realpython.com/python-scope-legb-rule/#:~:text=Enclosing%20(or%20nonlocal)%20scope%20is,define%20in%20the%20enclosing%20function.\n",
    "    # https://docs.python.org/3/reference/executionmodel.html\n",
    "    abs = 200\n",
    "    def q():\n",
    "        # nested local scope\n",
    "        nonlocal abs  # WE USE NONLOCAL abs value from Enclosing scope!!!\n",
    "        abs = \"hello\"\n",
    "        print(f\"{abs=}, {id(abs)} 'func q()\")\n",
    "    q()\n",
    "    print(f\"{abs=}, {id(abs)} func s()\")\n",
    "\n",
    "\n",
    "# global scope\n",
    "abs = [1, 2, 3]\n",
    "s()\n",
    "print(f\"{abs=}, {id(abs)} global print\")"
   ],
   "metadata": {
    "collapsed": false,
    "pycharm": {
     "name": "#%%\n"
    }
   }
  },
  {
   "cell_type": "code",
   "execution_count": 49,
   "outputs": [
    {
     "name": "stdout",
     "output_type": "stream",
     "text": [
      "hello\n",
      "[1, 2, 3]\n"
     ]
    }
   ],
   "source": [
    "def s():\n",
    "    # local\n",
    "    abs = 200\n",
    "    def q():\n",
    "        nonlocal abs\n",
    "        abs = \"hello\"\n",
    "        print(abs)\n",
    "    q()\n",
    "\n",
    "\n",
    "#global\n",
    "abs = [1, 2, 3]\n",
    "s()\n",
    "print(abs)"
   ],
   "metadata": {
    "collapsed": false,
    "pycharm": {
     "name": "#%%\n"
    }
   }
  }
 ],
 "metadata": {
  "kernelspec": {
   "display_name": "Python 3",
   "language": "python",
   "name": "python3"
  },
  "language_info": {
   "codemirror_mode": {
    "name": "ipython",
    "version": 2
   },
   "file_extension": ".py",
   "mimetype": "text/x-python",
   "name": "python",
   "nbconvert_exporter": "python",
   "pygments_lexer": "ipython2",
   "version": "2.7.6"
  }
 },
 "nbformat": 4,
 "nbformat_minor": 0
}