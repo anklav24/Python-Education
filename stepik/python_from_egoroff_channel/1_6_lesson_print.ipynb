{
 "cells": [
  {
   "cell_type": "code",
   "execution_count": 6,
   "metadata": {
    "collapsed": true,
    "pycharm": {
     "is_executing": false
    }
   },
   "outputs": [
    {
     "name": "stdout",
     "text": [
      "1@2@3 4???5\t6\n"
     ],
     "output_type": "stream"
    }
   ],
   "source": [
    "print(1,2,3, sep='@', end=' ')\n",
    "print(4,5, sep='???', end='\\t')\n",
    "print(6, sep='%%%')"
   ]
  },
  {
   "cell_type": "code",
   "execution_count": 17,
   "outputs": [
    {
     "name": "stdout",
     "text": [
      "У меня есть rub рублей и kop копеек\n",
      "У меня есть 10 рублей и 99 копеек\n",
      "У меня есть 10 рублей и 99 копеек\n",
      "У меня есть 10 рублей и 99 копеек\n"
     ],
     "output_type": "stream"
    }
   ],
   "source": [
    "rub = 10\n",
    "kop = 99\n",
    "\n",
    "print('У меня есть rub рублей и kop копеек')\n",
    "print('У меня есть', rub, 'рублей и', kop, 'копеек')\n",
    "# print('У меня есть %s рублей и s% копеек'%(rub, kop))\n",
    "print('У меня есть {} рублей и {} копеек'.format(rub, kop))\n",
    "print(f'У меня есть {rub} рублей и {kop} копеек')"
   ],
   "metadata": {
    "collapsed": false,
    "pycharm": {
     "name": "#%%\n",
     "is_executing": false
    }
   }
  },
  {
   "cell_type": "code",
   "execution_count": 20,
   "outputs": [
    {
     "name": "stdout",
     "text": [
      "1,2,3\n"
     ],
     "output_type": "stream"
    }
   ],
   "source": [
    "# Введите три числа и выведите их через запятую\n",
    "\n",
    "first, second, third = map(int, input().split())\n",
    "print(first, second, third, sep=',')"
   ],
   "metadata": {
    "collapsed": false,
    "pycharm": {
     "name": "#%%\n",
     "is_executing": false
    }
   }
  },
  {
   "cell_type": "code",
   "execution_count": 24,
   "outputs": [
    {
     "name": "stdout",
     "text": [
      "Здравствуйте, Криворогов Сергей!\n"
     ],
     "output_type": "stream"
    }
   ],
   "source": [
    "name, surname = input(), input()\n",
    "print(f'Здравствуйте, {surname} {name}!')"
   ],
   "metadata": {
    "collapsed": false,
    "pycharm": {
     "name": "#%%\n",
     "is_executing": false
    }
   }
  },
  {
   "cell_type": "code",
   "execution_count": 25,
   "outputs": [
    {
     "name": "stdout",
     "text": [
      "14 < 15 < 16\n"
     ],
     "output_type": "stream"
    }
   ],
   "source": [
    "number = int(input())\n",
    "print(f'{number - 1} < {number} < {number + 1}')"
   ],
   "metadata": {
    "collapsed": false,
    "pycharm": {
     "name": "#%%\n",
     "is_executing": false
    }
   }
  },
  {
   "cell_type": "code",
   "execution_count": 24,
   "outputs": [
    {
     "name": "stdout",
     "output_type": "stream",
     "text": [
      "1asd2asd3asd4asd5\n"
     ]
    }
   ],
   "source": [
    "separator = input()\n",
    "print(1, 2, 3, 4, 5, sep=separator)\n"
   ],
   "metadata": {
    "collapsed": false,
    "pycharm": {
     "name": "#%%\n"
    }
   }
  }
 ],
 "metadata": {
  "kernelspec": {
   "display_name": "Python 3",
   "language": "python",
   "name": "python3"
  },
  "language_info": {
   "codemirror_mode": {
    "name": "ipython",
    "version": 2
   },
   "file_extension": ".py",
   "mimetype": "text/x-python",
   "name": "python",
   "nbconvert_exporter": "python",
   "pygments_lexer": "ipython2",
   "version": "2.7.6"
  }
 },
 "nbformat": 4,
 "nbformat_minor": 0
}