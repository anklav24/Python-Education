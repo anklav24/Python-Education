{
 "cells": [
  {
   "cell_type": "code",
   "execution_count": 4,
   "outputs": [
    {
     "name": "stdout",
     "output_type": "stream",
     "text": [
      "0\n",
      "1\n",
      "2\n",
      "3\n",
      "4\n"
     ]
    }
   ],
   "source": [
    "for i in range(5):\n",
    "    print(i)"
   ],
   "metadata": {
    "collapsed": false,
    "pycharm": {
     "name": "#%%\n"
    }
   }
  },
  {
   "cell_type": "code",
   "execution_count": 3,
   "metadata": {
    "collapsed": true
   },
   "outputs": [
    {
     "name": "stdout",
     "output_type": "stream",
     "text": [
      "0\n",
      "1\n",
      "2\n",
      "3\n",
      "4\n"
     ]
    }
   ],
   "source": [
    "for name in range(5):\n",
    "    print(name)"
   ]
  },
  {
   "cell_type": "code",
   "execution_count": 7,
   "outputs": [
    {
     "name": "stdout",
     "output_type": "stream",
     "text": [
      "0\n",
      "inside name\n",
      "1\n",
      "inside name\n",
      "2\n",
      "inside name\n",
      "3\n",
      "inside name\n",
      "4\n",
      "inside name\n",
      "Outside name\n"
     ]
    }
   ],
   "source": [
    "for i in range(5):\n",
    "    print(i)\n",
    "    i = 'name'  # Это присвоение цикл for проигнорирует\n",
    "    print('inside', i)\n",
    "print('Outside', i)"
   ],
   "metadata": {
    "collapsed": false,
    "pycharm": {
     "name": "#%%\n"
    }
   }
  },
  {
   "cell_type": "code",
   "execution_count": 9,
   "outputs": [
    {
     "name": "stdout",
     "output_type": "stream",
     "text": [
      "112\n",
      "126\n",
      "140\n",
      "154\n",
      "168\n",
      "182\n",
      "196\n",
      "210\n",
      "224\n",
      "238\n",
      "252\n",
      "266\n",
      "280\n",
      "294\n",
      "308\n",
      "322\n",
      "336\n",
      "350\n",
      "364\n",
      "378\n",
      "392\n",
      "406\n",
      "420\n",
      "434\n",
      "448\n",
      "462\n",
      "476\n",
      "490\n",
      "504\n",
      "518\n",
      "532\n",
      "546\n",
      "560\n",
      "574\n",
      "588\n",
      "602\n",
      "616\n",
      "630\n",
      "644\n",
      "658\n",
      "672\n",
      "686\n",
      "700\n",
      "714\n",
      "728\n",
      "742\n",
      "756\n",
      "770\n",
      "784\n",
      "798\n",
      "812\n",
      "826\n",
      "840\n",
      "854\n",
      "868\n",
      "882\n",
      "896\n",
      "910\n",
      "924\n",
      "938\n",
      "952\n",
      "966\n",
      "980\n",
      "994\n"
     ]
    }
   ],
   "source": [
    "for i in range(100, 1000):\n",
    "    if i % 2 == 0 and i % 7 == 0:\n",
    "        print(i)"
   ],
   "metadata": {
    "collapsed": false,
    "pycharm": {
     "name": "#%%\n"
    }
   }
  },
  {
   "cell_type": "code",
   "execution_count": 14,
   "outputs": [
    {
     "name": "stdout",
     "output_type": "stream",
     "text": [
      "6\n"
     ]
    }
   ],
   "source": [
    "# Сумма арифметической прогрессии\n",
    "# 1 + 2 + 3 = 6\n",
    "s = 0\n",
    "for i in range(1,4):\n",
    "    s += i\n",
    "print(s)"
   ],
   "metadata": {
    "collapsed": false,
    "pycharm": {
     "name": "#%%\n"
    }
   }
  },
  {
   "cell_type": "code",
   "execution_count": 26,
   "outputs": [
    {
     "name": "stdout",
     "output_type": "stream",
     "text": [
      "24\n"
     ]
    }
   ],
   "source": [
    "# Факториал числа 4\n",
    "# !4 = 1 * 2 * 3 * 4 = 24\n",
    "\n",
    "pr = 1\n",
    "for i in range(1, 5):\n",
    "    pr *= i\n",
    "print(pr)"
   ],
   "metadata": {
    "collapsed": false,
    "pycharm": {
     "name": "#%%\n"
    }
   }
  },
  {
   "cell_type": "code",
   "execution_count": 32,
   "outputs": [],
   "source": [
    "# Факториал n-го числа\n",
    "# n! = 1 * 2 * ... * (n - 1) * n\n",
    "\n",
    "n = int(input())\n",
    "pr = 1\n",
    "\n",
    "for i in range(1, n + 1):\n",
    "    pr *= i"
   ],
   "metadata": {
    "collapsed": false,
    "pycharm": {
     "name": "#%%\n"
    }
   }
  },
  {
   "cell_type": "code",
   "execution_count": 29,
   "outputs": [
    {
     "name": "stdout",
     "output_type": "stream",
     "text": [
      "Hello\n",
      "Hello\n",
      "Hello\n"
     ]
    }
   ],
   "source": [
    "n = int(input())\n",
    "for i in range(n):\n",
    "    print('Hello')"
   ],
   "metadata": {
    "collapsed": false,
    "pycharm": {
     "name": "#%%\n"
    }
   }
  },
  {
   "cell_type": "code",
   "execution_count": 55,
   "outputs": [
    {
     "name": "stdout",
     "output_type": "stream",
     "text": [
      "1 10 5 \n",
      "16\n"
     ]
    }
   ],
   "source": [
    "from random import randint\n",
    "\n",
    "s = 0\n",
    "for i in range(3):\n",
    "    a = randint(1, 10)\n",
    "    s += a\n",
    "    print(a, end=' ')\n",
    "print()\n",
    "print(s)"
   ],
   "metadata": {
    "collapsed": false,
    "pycharm": {
     "name": "#%%\n"
    }
   }
  },
  {
   "cell_type": "code",
   "execution_count": 56,
   "outputs": [
    {
     "name": "stdout",
     "output_type": "stream",
     "text": [
      "*\n",
      "**\n",
      "***\n",
      "****\n",
      "*****\n",
      "******\n",
      "*******\n",
      "********\n",
      "*********\n"
     ]
    }
   ],
   "source": [
    "for i in range(1, 10):\n",
    "    print('*' * i)"
   ],
   "metadata": {
    "collapsed": false,
    "pycharm": {
     "name": "#%%\n"
    }
   }
  },
  {
   "cell_type": "code",
   "execution_count": 57,
   "outputs": [
    {
     "name": "stdout",
     "output_type": "stream",
     "text": [
      "1\n",
      "4\n",
      "9\n",
      "16\n",
      "25\n",
      "36\n",
      "49\n",
      "64\n",
      "81\n"
     ]
    }
   ],
   "source": [
    "for i in range(1, 10):\n",
    "    print(i ** 2)"
   ],
   "metadata": {
    "collapsed": false,
    "pycharm": {
     "name": "#%%\n"
    }
   }
  },
  {
   "cell_type": "code",
   "execution_count": 60,
   "outputs": [
    {
     "name": "stdout",
     "output_type": "stream",
     "text": [
      "current s: 2\n",
      "current s: 3\n",
      "current s: 6\n",
      "total 6\n",
      "Среднее арифметическое 2.0\n"
     ]
    }
   ],
   "source": [
    "n = int(input())\n",
    "s = 0\n",
    "for i in range(n):\n",
    "    a = int(input())\n",
    "    s += a\n",
    "    print('current s:', s)\n",
    "print('total', s)\n",
    "print('Среднее арифметическое', s / n)"
   ],
   "metadata": {
    "collapsed": false,
    "pycharm": {
     "name": "#%%\n"
    }
   }
  },
  {
   "cell_type": "code",
   "execution_count": null,
   "outputs": [],
   "source": [],
   "metadata": {
    "collapsed": false,
    "pycharm": {
     "name": "#%%\n"
    }
   }
  },
  {
   "cell_type": "code",
   "execution_count": 75,
   "outputs": [
    {
     "name": "stdout",
     "output_type": "stream",
     "text": [
      "[0, 1, 2, 3]\n"
     ]
    }
   ],
   "source": [
    "a = [-3, -2, -1, 0, 1, 2, 3]\n",
    "\n",
    "for x in a[:]:\n",
    "    if x < 0: a.remove(x)\n",
    "\n",
    "print(a)"
   ],
   "metadata": {
    "collapsed": false,
    "pycharm": {
     "name": "#%%\n"
    }
   }
  },
  {
   "cell_type": "code",
   "execution_count": 78,
   "outputs": [
    {
     "name": "stdout",
     "output_type": "stream",
     "text": [
      "[-2, 0, 1, 2, 3]\n"
     ]
    }
   ],
   "source": [
    "\"\"\"\n",
    "Note There is a subtlety when the sequence is being modified by the loop\n",
    "(this can only occur for mutable sequences, e.g. lists). An internal counter\n",
    "is used to keep track of which item is used next, and this is incremented on\n",
    "each iteration. When this counter has reached the length of the sequence the\n",
    "loop terminates. This means that if the suite deletes the current (or a previous)\n",
    "item from the sequence, the next item will be skipped (since it gets the index\n",
    "of the current item which has already been treated). Likewise, if the suite\n",
    "inserts an item in the sequence before the current item, the current item will\n",
    "be treated again the next time through the loop. This can lead to nasty bugs\n",
    "that can be avoided by making a temporary copy using a slice of the whole\n",
    "sequence, e.g.,\n",
    "\"\"\"\n",
    "# Баг который возникает если изменять итерируемый объет внутри цикла.\n",
    "# Можно избежать например если сделать временную копию с помощью слайсов. ВЫШЕ ПРИМЕР\n",
    "a = [-3, -2, -1, 0, 1, 2, 3]\n",
    "\n",
    "for x in a:\n",
    "    if x < 0: a.remove(x)\n",
    "\n",
    "print(a)\n"
   ],
   "metadata": {
    "collapsed": false,
    "pycharm": {
     "name": "#%%\n"
    }
   }
  }
 ],
 "metadata": {
  "kernelspec": {
   "display_name": "Python 3",
   "language": "python",
   "name": "python3"
  },
  "language_info": {
   "codemirror_mode": {
    "name": "ipython",
    "version": 2
   },
   "file_extension": ".py",
   "mimetype": "text/x-python",
   "name": "python",
   "nbconvert_exporter": "python",
   "pygments_lexer": "ipython2",
   "version": "2.7.6"
  }
 },
 "nbformat": 4,
 "nbformat_minor": 0
}