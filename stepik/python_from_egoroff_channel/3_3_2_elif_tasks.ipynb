{
 "cells": [
  {
   "cell_type": "code",
   "execution_count": 17,
   "metadata": {
    "collapsed": true
   },
   "outputs": [
    {
     "name": "stdout",
     "output_type": "stream",
     "text": [
      "0\n"
     ]
    }
   ],
   "source": [
    "a, b, c = [int(input()) for i in range(3)]\n",
    "if a == b == c:\n",
    "    print('3')\n",
    "elif a == b or b == c or c == a:\n",
    "    print('2')\n",
    "else:\n",
    "    print('0')"
   ]
  },
  {
   "cell_type": "code",
   "execution_count": 68,
   "outputs": [
    {
     "name": "stdout",
     "output_type": "stream",
     "text": [
      "obtuse\n"
     ]
    }
   ],
   "source": [
    "abc = [int(input()) for i in range(3)]\n",
    "abc.sort()\n",
    "a, b, c = abc\n",
    "if c >= a + b:\n",
    "    print('impossible')\n",
    "elif c ** 2 == a ** 2 + b ** 2:\n",
    "    print('right')\n",
    "elif c ** 2 > a ** 2 + b ** 2:\n",
    "    print('obtuse')\n",
    "elif c ** 2 < a ** 2 + b ** 2:\n",
    "    print('acute')"
   ],
   "metadata": {
    "collapsed": false,
    "pycharm": {
     "name": "#%%\n"
    }
   }
  },
  {
   "cell_type": "code",
   "execution_count": 70,
   "outputs": [
    {
     "name": "stdout",
     "output_type": "stream",
     "text": [
      "right\n"
     ]
    }
   ],
   "source": [
    "a, b, c = sorted([int(input()) for i in range(3)])\n",
    "if c >= a + b:\n",
    "    print('impossible')\n",
    "elif c ** 2 == a ** 2 + b ** 2:\n",
    "    print('right')\n",
    "elif c ** 2 > a ** 2 + b ** 2:\n",
    "    print('obtuse')\n",
    "elif c ** 2 < a ** 2 + b ** 2:\n",
    "    print('acute')"
   ],
   "metadata": {
    "collapsed": false,
    "pycharm": {
     "name": "#%%\n"
    }
   }
  },
  {
   "cell_type": "code",
   "execution_count": 77,
   "outputs": [
    {
     "name": "stdout",
     "output_type": "stream",
     "text": [
      "Январь\n"
     ]
    }
   ],
   "source": [
    "month = int(input())\n",
    "\n",
    "if month == 1:\n",
    "    print('Январь')\n",
    "elif month == 2:\n",
    "    print('Февраль')\n",
    "elif month == 3:\n",
    "    print('Март')\n",
    "elif month == 4:\n",
    "    print('Апрель')\n",
    "elif month == 5:\n",
    "    print('Май')\n",
    "elif month == 6:\n",
    "    print('Июнь')\n",
    "elif month == 7:\n",
    "    print('Июль')\n",
    "elif month == 8:\n",
    "    print('Август')\n",
    "elif month == 9:\n",
    "    print('Сентябрь')\n",
    "elif month == 10:\n",
    "    print('Октябрь')\n",
    "elif month == 11:\n",
    "    print('Ноябрь')\n",
    "elif month == 12:\n",
    "    print('Декабрь')"
   ],
   "metadata": {
    "collapsed": false,
    "pycharm": {
     "name": "#%%\n"
    }
   }
  },
  {
   "cell_type": "code",
   "execution_count": 81,
   "outputs": [
    {
     "name": "stdout",
     "output_type": "stream",
     "text": [
      "Январь\n"
     ]
    }
   ],
   "source": [
    "months = ['Январь', 'Февраль', 'Март',\n",
    "          'Апрель', 'Июнь', 'Июль', 'Август',\n",
    "          'Сентябрь', 'Октябрь', 'Декабрь']\n",
    "print(months[int(input()) - 1])"
   ],
   "metadata": {
    "collapsed": false,
    "pycharm": {
     "name": "#%%\n"
    }
   }
  },
  {
   "cell_type": "code",
   "execution_count": null,
   "outputs": [],
   "source": [
    "age = int(input())\n",
    "\n",
    "if age < 2:\n",
    "    print('Младенец')\n",
    "elif 2 <= age < 4:\n",
    "    print('Малыш')\n",
    "elif 4 <= age < 12:\n",
    "    print('Ребенок')\n",
    "elif 12 <= age < 19:\n",
    "    print('Подросток')\n",
    "elif 19 <= age < 65:\n",
    "    print('Взрослый человек')\n",
    "elif 65 <= age:\n",
    "    print('Пожилой человек')"
   ],
   "metadata": {
    "collapsed": false,
    "pycharm": {
     "name": "#%%\n"
    }
   }
  },
  {
   "cell_type": "code",
   "execution_count": 84,
   "outputs": [
    {
     "name": "stdout",
     "output_type": "stream",
     "text": [
      "Малыш\n"
     ]
    },
    {
     "ename": "ValueError",
     "evalue": "invalid literal for int() with base 10: ''",
     "output_type": "error",
     "traceback": [
      "\u001B[1;31m---------------------------------------------------------------------------\u001B[0m",
      "\u001B[1;31mValueError\u001B[0m                                Traceback (most recent call last)",
      "\u001B[1;32m<ipython-input-84-bf247f853cef>\u001B[0m in \u001B[0;36m<module>\u001B[1;34m\u001B[0m\n\u001B[0;32m     13\u001B[0m     \u001B[0mprint\u001B[0m\u001B[1;33m(\u001B[0m\u001B[1;34m\"Пожилой человек\"\u001B[0m\u001B[1;33m)\u001B[0m\u001B[1;31m#%%\u001B[0m\u001B[1;33m\u001B[0m\u001B[1;33m\u001B[0m\u001B[0m\n\u001B[0;32m     14\u001B[0m \u001B[1;33m\u001B[0m\u001B[0m\n\u001B[1;32m---> 15\u001B[1;33m \u001B[0mage\u001B[0m \u001B[1;33m=\u001B[0m \u001B[0mint\u001B[0m\u001B[1;33m(\u001B[0m\u001B[0minput\u001B[0m\u001B[1;33m(\u001B[0m\u001B[1;33m)\u001B[0m\u001B[1;33m)\u001B[0m\u001B[1;33m\u001B[0m\u001B[1;33m\u001B[0m\u001B[0m\n\u001B[0m\u001B[0;32m     16\u001B[0m \u001B[1;32mif\u001B[0m \u001B[0mage\u001B[0m \u001B[1;33m<\u001B[0m \u001B[1;36m2\u001B[0m\u001B[1;33m:\u001B[0m \u001B[0mprint\u001B[0m\u001B[1;33m(\u001B[0m\u001B[1;34m\"Младенец\"\u001B[0m\u001B[1;33m)\u001B[0m\u001B[1;33m\u001B[0m\u001B[1;33m\u001B[0m\u001B[0m\n\u001B[0;32m     17\u001B[0m \u001B[1;32melif\u001B[0m \u001B[0mage\u001B[0m \u001B[1;33m<\u001B[0m \u001B[1;36m4\u001B[0m\u001B[1;33m:\u001B[0m \u001B[0mprint\u001B[0m\u001B[1;33m(\u001B[0m\u001B[1;34m\"Малыш\"\u001B[0m\u001B[1;33m)\u001B[0m\u001B[1;33m\u001B[0m\u001B[1;33m\u001B[0m\u001B[0m\n",
      "\u001B[1;31mValueError\u001B[0m: invalid literal for int() with base 10: ''"
     ]
    }
   ],
   "source": [
    "age = int(input())\n",
    "if age < 2:\n",
    "    print(\"Младенец\")\n",
    "elif age < 4:\n",
    "    print(\"Малыш\")\n",
    "elif age < 12:\n",
    "    print(\"Ребенок\")\n",
    "elif age < 19:\n",
    "    print(\"Подросток\")\n",
    "elif age < 65:\n",
    "    print(\"Взрослый человек\")\n",
    "else:\n",
    "    print(\"Пожилой человек\")#%%"
   ],
   "metadata": {
    "collapsed": false,
    "pycharm": {
     "name": "#%%\n"
    }
   }
  },
  {
   "cell_type": "code",
   "execution_count": 88,
   "outputs": [
    {
     "name": "stdout",
     "output_type": "stream",
     "text": [
      "Еще не родился\n"
     ]
    }
   ],
   "source": [
    "age = int(input())\n",
    "if age < 0: print(\"Еще не родился\")\n",
    "elif age < 2: print(\"Младенец\")\n",
    "elif age < 4: print(\"Малыш\")\n",
    "elif age < 12: print(\"Ребенок\")\n",
    "elif age < 19: print(\"Подросток\")\n",
    "elif age < 65: print(\"Взрослый человек\")\n",
    "elif age < 146: print(\"Пожилой человек\")\n",
    "else: print(\"Да вы рекордсмен долгожитель!\")"
   ],
   "metadata": {
    "collapsed": false,
    "pycharm": {
     "name": "#%%\n"
    }
   }
  },
  {
   "cell_type": "code",
   "execution_count": 89,
   "outputs": [
    {
     "name": "stdout",
     "output_type": "stream",
     "text": [
      "3.0\n"
     ]
    }
   ],
   "source": [
    "a, b, opr, operators = float(input()), float(input()), input(), '+-*/'\n",
    "\n",
    "if opr in operators:\n",
    "   if opr == '+': print(int(a + b))\n",
    "   elif opr == '-': print(int(a - b))\n",
    "   elif opr == '*': print(int(a * b))\n",
    "   else:\n",
    "       if b != 0: print(a / b)\n",
    "       else: print('Неизвестно')\n",
    "else: print('Неизвестно')"
   ],
   "metadata": {
    "collapsed": false,
    "pycharm": {
     "name": "#%%\n"
    }
   }
  },
  {
   "cell_type": "code",
   "execution_count": 94,
   "outputs": [
    {
     "name": "stdout",
     "output_type": "stream",
     "text": [
      "Неизвестно\n"
     ]
    }
   ],
   "source": [
    "a, b, opr = float(input()), float(input()), input()\n",
    "\n",
    "if opr == '+': print(int(a + b))\n",
    "elif opr == '*': print(int(a * b))\n",
    "elif opr == '-': print(int(a - b))\n",
    "elif opr == '/' and b != 0: print(a / b)\n",
    "else: print('Неизвестно')"
   ],
   "metadata": {
    "collapsed": false,
    "pycharm": {
     "name": "#%%\n"
    }
   }
  },
  {
   "cell_type": "code",
   "execution_count": null,
   "outputs": [],
   "source": [
    "pass_1, pass_2 = input(), input()\n",
    "if len(pass_1) < 7:\n",
    "    print('Short')\n",
    "elif pass_1 != pass_2:\n",
    "    print('Difference')\n",
    "else:\n",
    "    print('OK')"
   ],
   "metadata": {
    "collapsed": false,
    "pycharm": {
     "name": "#%%\n"
    }
   }
  }
 ],
 "metadata": {
  "kernelspec": {
   "display_name": "Python 3",
   "language": "python",
   "name": "python3"
  },
  "language_info": {
   "codemirror_mode": {
    "name": "ipython",
    "version": 2
   },
   "file_extension": ".py",
   "mimetype": "text/x-python",
   "name": "python",
   "nbconvert_exporter": "python",
   "pygments_lexer": "ipython2",
   "version": "2.7.6"
  }
 },
 "nbformat": 4,
 "nbformat_minor": 0
}