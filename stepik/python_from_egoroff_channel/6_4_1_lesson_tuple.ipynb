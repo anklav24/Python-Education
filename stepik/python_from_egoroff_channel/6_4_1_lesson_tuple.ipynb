{
 "cells": [
  {
   "cell_type": "code",
   "execution_count": 31,
   "metadata": {
    "collapsed": true
   },
   "outputs": [
    {
     "name": "stdout",
     "output_type": "stream",
     "text": [
      "(1,) (1, 2, 3) () (1,)\n",
      "\n",
      "tuple()\n",
      "() ('1',) ('1', '2', '3') (1, 2, 3) (1, 2, 'str')\n",
      "\n",
      "1\n",
      "0\n",
      "False True\n",
      "('1', '2', '3', 1, 2, 'str') (1, 2, 'str', '1', '2', '3')\n",
      "('1', '2', '3', '1', '2', '3', '1', '2', '3')\n",
      "1 3\n",
      "6\n",
      "str\n",
      "0\n",
      "1\n"
     ]
    }
   ],
   "source": [
    "# Tuples may be constructed in a number of ways:\n",
    "# Tuples are immutable objects.\n",
    "a = 1,\n",
    "b = 1, 2, 3\n",
    "c = ()\n",
    "d = (1,)\n",
    "ee = tuple()\n",
    "e = tuple('1')\n",
    "f = tuple('123')\n",
    "g = tuple([1, 2, 3])\n",
    "k = tuple((1, 2, \"str\"))\n",
    "\n",
    "print(a, b, c, d)\n",
    "print()\n",
    "print(\"tuple()\")\n",
    "print(ee, e, f, g, k)\n",
    "print()\n",
    "\n",
    "print(len(a))\n",
    "print(len(c))\n",
    "print(2 in a, 1 in a)\n",
    "print(f + k, k + f)\n",
    "print(f * 3)\n",
    "print(min(g), max(g))\n",
    "print(sum(g))\n",
    "print(k[2])\n",
    "print(a.index(1))\n",
    "print(a.count(1))"
   ]
  },
  {
   "cell_type": "code",
   "execution_count": 35,
   "outputs": [
    {
     "name": "stdout",
     "output_type": "stream",
     "text": [
      "(1, 'hello', 3, [10, 20, 30], False, 5) <class 'tuple'>\n",
      "[10, 20, 30]\n",
      "[10, 20, 30, 40]\n",
      "(1, 'hello', 3, [10, 20, 30, 40], False, 5) <class 'tuple'>\n"
     ]
    }
   ],
   "source": [
    "\"\"\"\n",
    "Хоть кортежи являются неизменяемыми объектами мы вполне можем внутри\n",
    "них хранить изменямые объекты и производить над ними действия.\n",
    "\"\"\"\n",
    "a = 1, \"hello\", 3, [10, 20, 30], False, 5\n",
    "print(a, type(a))\n",
    "print(a[3])\n",
    "a[3].append(40)\n",
    "print(a[3])\n",
    "print(a, type(a))"
   ],
   "metadata": {
    "collapsed": false,
    "pycharm": {
     "name": "#%%\n"
    }
   }
  },
  {
   "cell_type": "code",
   "execution_count": 39,
   "outputs": [
    {
     "name": "stdout",
     "output_type": "stream",
     "text": [
      "88\n",
      "72\n"
     ]
    }
   ],
   "source": [
    "# Когда нужны кортежи\n",
    "# Нужно обеспечить неизменность данных\n",
    "# Кортежи занимают меньше места в памяти и немного быстрей листов?\n",
    "\n",
    "a = [1, 'hello', 3, [10, 20, 30], False, 5]\n",
    "b = tuple([1, 'hello', 3, [10, 20, 30], False, 5])\n",
    "print(a.__sizeof__())\n",
    "print(b.__sizeof__())"
   ],
   "metadata": {
    "collapsed": false,
    "pycharm": {
     "name": "#%%\n"
    }
   }
  },
  {
   "cell_type": "code",
   "execution_count": 42,
   "outputs": [
    {
     "name": "stdout",
     "output_type": "stream",
     "text": [
      "{(1, 2, 3): 'hello'}\n"
     ]
    }
   ],
   "source": [
    "# Кортежи можно использовать в качестве ключей словаря, так как они являются хешируемыми объектами.\n",
    "a = (1, 2, 3)\n",
    "b = {}\n",
    "b[a] = 'hello'\n",
    "print(b)"
   ],
   "metadata": {
    "collapsed": false,
    "pycharm": {
     "name": "#%%\n"
    }
   }
  },
  {
   "cell_type": "code",
   "execution_count": 41,
   "outputs": [
    {
     "ename": "TypeError",
     "evalue": "unhashable type: 'list'",
     "output_type": "error",
     "traceback": [
      "\u001B[1;31m---------------------------------------------------------------------------\u001B[0m",
      "\u001B[1;31mTypeError\u001B[0m                                 Traceback (most recent call last)",
      "\u001B[1;32m<ipython-input-41-f07d7d60bb65>\u001B[0m in \u001B[0;36m<module>\u001B[1;34m\u001B[0m\n\u001B[0;32m      2\u001B[0m \u001B[0mc\u001B[0m \u001B[1;33m=\u001B[0m \u001B[1;33m[\u001B[0m\u001B[1;36m1\u001B[0m\u001B[1;33m,\u001B[0m \u001B[1;36m2\u001B[0m\u001B[1;33m,\u001B[0m \u001B[1;36m3\u001B[0m\u001B[1;33m]\u001B[0m\u001B[1;33m\u001B[0m\u001B[1;33m\u001B[0m\u001B[0m\n\u001B[0;32m      3\u001B[0m \u001B[0mb\u001B[0m \u001B[1;33m=\u001B[0m \u001B[1;33m{\u001B[0m\u001B[1;33m}\u001B[0m\u001B[1;33m\u001B[0m\u001B[1;33m\u001B[0m\u001B[0m\n\u001B[1;32m----> 4\u001B[1;33m \u001B[0mb\u001B[0m\u001B[1;33m[\u001B[0m\u001B[0mc\u001B[0m\u001B[1;33m]\u001B[0m \u001B[1;33m=\u001B[0m \u001B[1;34m'hi'\u001B[0m\u001B[1;33m\u001B[0m\u001B[1;33m\u001B[0m\u001B[0m\n\u001B[0m\u001B[0;32m      5\u001B[0m \u001B[0mprint\u001B[0m\u001B[1;33m(\u001B[0m\u001B[0mb\u001B[0m\u001B[1;33m)\u001B[0m\u001B[1;33m\u001B[0m\u001B[1;33m\u001B[0m\u001B[0m\n",
      "\u001B[1;31mTypeError\u001B[0m: unhashable type: 'list'"
     ]
    }
   ],
   "source": [
    "# Кортежи можно использовать в качестве ключей словаря, так как они являются хешируемыми объектами.\n",
    "c = [1, 2, 3]\n",
    "b = {}\n",
    "b[c] = 'hi'\n",
    "print(b)"
   ],
   "metadata": {
    "collapsed": false,
    "pycharm": {
     "name": "#%%\n"
    }
   }
  },
  {
   "cell_type": "code",
   "execution_count": 45,
   "outputs": [
    {
     "name": "stdout",
     "output_type": "stream",
     "text": [
      "(1, 2, 3) <class 'tuple'>\n",
      "[1, 2, 3] <class 'list'>\n",
      "(1, 2, 3, 100) <class 'tuple'>\n"
     ]
    }
   ],
   "source": [
    "a = (1, 2, 3)\n",
    "print(a, type(a))\n",
    "a = list(a)\n",
    "print(a, type(a))\n",
    "a.append(100)\n",
    "a = tuple(a)\n",
    "print(a, type(a))"
   ],
   "metadata": {
    "collapsed": false,
    "pycharm": {
     "name": "#%%\n"
    }
   }
  },
  {
   "cell_type": "code",
   "execution_count": 49,
   "outputs": [
    {
     "name": "stdout",
     "output_type": "stream",
     "text": [
      "1\n",
      "2\n",
      "3\n",
      "hello\n"
     ]
    }
   ],
   "source": [
    "a = (1, 2, 3, 'hello')\n",
    "for i in a:\n",
    "    print(i)"
   ],
   "metadata": {
    "collapsed": false,
    "pycharm": {
     "name": "#%%\n"
    }
   }
  },
  {
   "cell_type": "code",
   "execution_count": 48,
   "outputs": [
    {
     "name": "stdout",
     "output_type": "stream",
     "text": [
      "1\n",
      "2\n",
      "3\n",
      "hello\n"
     ]
    }
   ],
   "source": [
    "a = (1, 2, 3, 'hello')\n",
    "for i in range(len(a)):\n",
    "    print(a[i])"
   ],
   "metadata": {
    "collapsed": false,
    "pycharm": {
     "name": "#%%\n"
    }
   }
  }
 ],
 "metadata": {
  "kernelspec": {
   "display_name": "Python 3",
   "language": "python",
   "name": "python3"
  },
  "language_info": {
   "codemirror_mode": {
    "name": "ipython",
    "version": 2
   },
   "file_extension": ".py",
   "mimetype": "text/x-python",
   "name": "python",
   "nbconvert_exporter": "python",
   "pygments_lexer": "ipython2",
   "version": "2.7.6"
  }
 },
 "nbformat": 4,
 "nbformat_minor": 0
}