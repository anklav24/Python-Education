{
 "cells": [
  {
   "cell_type": "code",
   "execution_count": 2,
   "metadata": {
    "collapsed": true
   },
   "outputs": [
    {
     "name": "stdout",
     "output_type": "stream",
     "text": [
      "1\n",
      "2\n",
      "3\n",
      "3\n",
      "2\n",
      "1\n"
     ]
    }
   ],
   "source": [
    "def rec(x):\n",
    "    if x < 4:\n",
    "        print(x)\n",
    "        rec(x + 1)\n",
    "        print(x)\n",
    "\n",
    "\n",
    "rec(1)"
   ]
  },
  {
   "cell_type": "code",
   "execution_count": 2,
   "outputs": [
    {
     "name": "stdout",
     "output_type": "stream",
     "text": [
      "24\n"
     ]
    }
   ],
   "source": [
    "def fact(x):\n",
    "    if x == 1:\n",
    "        return 1\n",
    "    return fact(x - 1) * x\n",
    "\n",
    "\n",
    "print(fact(4))\n",
    "print(fact(10))"
   ],
   "metadata": {
    "collapsed": false,
    "pycharm": {
     "name": "#%%\n"
    }
   }
  },
  {
   "cell_type": "code",
   "execution_count": 3,
   "outputs": [
    {
     "name": "stdout",
     "output_type": "stream",
     "text": [
      "3\n",
      "5\n",
      "8\n"
     ]
    }
   ],
   "source": [
    "# Fibonacci\n",
    "def fib(n):\n",
    "    if n == 1:\n",
    "        return 0\n",
    "    if n == 2:\n",
    "        return 1\n",
    "    return fib(n - 1) + fib(n - 2)\n",
    "\n",
    "\n",
    "print(fib(5))\n",
    "print(fib(6))\n",
    "print(fib(7))"
   ],
   "metadata": {
    "collapsed": false,
    "pycharm": {
     "name": "#%%\n"
    }
   }
  },
  {
   "cell_type": "code",
   "execution_count": 6,
   "outputs": [
    {
     "name": "stdout",
     "output_type": "stream",
     "text": [
      "True\n",
      "True\n",
      "False\n",
      "True\n"
     ]
    }
   ],
   "source": [
    "# Palindrome\n",
    "def palindrome(s: str):\n",
    "    s = s.lower()\n",
    "    if len(s) <= 1:\n",
    "        return True\n",
    "    if s[0] != s[-1]:\n",
    "        return False\n",
    "    return palindrome(s[1:-1])\n",
    "\n",
    "\n",
    "print(palindrome(\"Шалаш\"))\n",
    "print(palindrome(\"шалаш\"))\n",
    "print(palindrome(\"привет\"))\n",
    "print(palindrome(\"010\"))"
   ],
   "metadata": {
    "collapsed": false,
    "pycharm": {
     "name": "#%%\n"
    }
   }
  },
  {
   "cell_type": "code",
   "execution_count": null,
   "outputs": [],
   "source": [
    "import sys\n",
    "\n",
    "# sys.setrecursionlimit() увеличить грубину рекурсии\n",
    "# Рекурсия все равно ограничена выделенное памятью в интерпритаторе под информацию о функциях"
   ],
   "metadata": {
    "collapsed": false,
    "pycharm": {
     "name": "#%%\n"
    }
   }
  },
  {
   "cell_type": "code",
   "execution_count": 3,
   "outputs": [
    {
     "name": "stdout",
     "output_type": "stream",
     "text": [
      "Hello world! 1\n",
      "Hello world! 2\n",
      "Hello world! 3\n",
      "Hello world! 4\n",
      "Hello world! 5\n",
      "Hello world! 6\n",
      "Hello world! 7\n",
      "Hello world! 8\n",
      "Hello world! 9\n",
      "Hello world! 10\n"
     ]
    }
   ],
   "source": [
    "def hi(n):\n",
    "    if n == 0:\n",
    "        return\n",
    "    hi(n - 1)\n",
    "    print(\"Hello world!\", n)\n",
    "\n",
    "\n",
    "hi(10)"
   ],
   "metadata": {
    "collapsed": false,
    "pycharm": {
     "name": "#%%\n"
    }
   }
  },
  {
   "cell_type": "code",
   "execution_count": 17,
   "outputs": [
    {
     "name": "stdout",
     "output_type": "stream",
     "text": [
      "summ(0) = 0\n",
      "summ(1) = 1\n",
      "summ(2) = 3\n",
      "summ(3) = 6\n",
      "summ(4) = 10\n",
      "summ(5) = 15\n"
     ]
    }
   ],
   "source": [
    "def summ(x):\n",
    "    if x == 0:\n",
    "        return 0\n",
    "    if x == 1:\n",
    "        return 1\n",
    "    return x + summ(x - 1)\n",
    "\n",
    "\n",
    "for i in range(6):\n",
    "    print(f\"summ({i}) = {summ(i)}\")"
   ],
   "metadata": {
    "collapsed": false,
    "pycharm": {
     "name": "#%%\n"
    }
   }
  },
  {
   "cell_type": "code",
   "execution_count": 23,
   "outputs": [
    {
     "name": "stdout",
     "output_type": "stream",
     "text": [
      "factorial(0) = 1\n",
      "factorial(1) = 1\n",
      "factorial(2) = 2\n",
      "factorial(3) = 6\n",
      "factorial(4) = 24\n",
      "factorial(5) = 120\n",
      "factorial(6) = 720\n",
      "factorial(7) = 5040\n",
      "factorial(8) = 40320\n",
      "factorial(9) = 362880\n",
      "factorial(10) = 3628800\n"
     ]
    }
   ],
   "source": [
    "# !5 = 5 x 4 x 3 x 2 x 1 = 120\n",
    "def factorial(x):\n",
    "    if x == 0: return 1\n",
    "    return x * factorial(x - 1)\n",
    "\n",
    "\n",
    "for i in range(11):\n",
    "    print(f\"factorial({i}) = {factorial(i)}\")"
   ],
   "metadata": {
    "collapsed": false,
    "pycharm": {
     "name": "#%%\n"
    }
   }
  },
  {
   "cell_type": "code",
   "execution_count": 3,
   "outputs": [
    {
     "name": "stdout",
     "output_type": "stream",
     "text": [
      "fido(0) = 0\n",
      "fido(1) = 1\n",
      "fido(2) = 1\n",
      "fido(3) = 2\n",
      "fido(4) = 3\n",
      "fido(5) = 5\n",
      "fido(6) = 8\n",
      "fido(7) = 13\n",
      "fido(8) = 21\n",
      "fido(9) = 34\n",
      "fido(10) = 55\n"
     ]
    }
   ],
   "source": [
    "# Fibonacci 0, 1, 1, 2, 3, 5, 8, 13, 21, 34, 55, 89\n",
    "def fido(position):\n",
    "    if position == 0: return 0\n",
    "    if position == 1: return 1\n",
    "    return fido(position - 1) + fido(position - 2)\n",
    "\n",
    "\n",
    "for i in range(11):\n",
    "    print(f\"fido({i}) = {fido(i)}\")"
   ],
   "metadata": {
    "collapsed": false,
    "pycharm": {
     "name": "#%%\n"
    }
   }
  }
 ],
 "metadata": {
  "kernelspec": {
   "display_name": "Python 3",
   "language": "python",
   "name": "python3"
  },
  "language_info": {
   "codemirror_mode": {
    "name": "ipython",
    "version": 2
   },
   "file_extension": ".py",
   "mimetype": "text/x-python",
   "name": "python",
   "nbconvert_exporter": "python",
   "pygments_lexer": "ipython2",
   "version": "2.7.6"
  }
 },
 "nbformat": 4,
 "nbformat_minor": 0
}