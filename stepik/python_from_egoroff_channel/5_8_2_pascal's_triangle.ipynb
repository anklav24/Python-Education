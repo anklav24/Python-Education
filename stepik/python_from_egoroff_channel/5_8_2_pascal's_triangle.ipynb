{
 "cells": [
  {
   "cell_type": "code",
   "execution_count": 5,
   "metadata": {
    "collapsed": true
   },
   "outputs": [
    {
     "name": "stdout",
     "output_type": "stream",
     "text": [
      "17\n"
     ]
    }
   ],
   "source": [
    "w, h = map(int, input().split())\n",
    "n = int(input())\n",
    "mas = [[0] * h for i in range(w)]\n",
    "\n",
    "for i in range(n):\n",
    "    x1, y1, x2, y2 = map(int, input().split())\n",
    "    for x in range(x1, x2):\n",
    "        for y in range(y1, y2):\n",
    "            mas[x][y] += 1\n",
    "\n",
    "count = 0\n",
    "for row in mas:\n",
    "    for i in row:\n",
    "        if i == 0:\n",
    "            count += 1\n",
    "print(count)"
   ]
  }
 ],
 "metadata": {
  "kernelspec": {
   "display_name": "Python 3",
   "language": "python",
   "name": "python3"
  },
  "language_info": {
   "codemirror_mode": {
    "name": "ipython",
    "version": 2
   },
   "file_extension": ".py",
   "mimetype": "text/x-python",
   "name": "python",
   "nbconvert_exporter": "python",
   "pygments_lexer": "ipython2",
   "version": "2.7.6"
  }
 },
 "nbformat": 4,
 "nbformat_minor": 0
}