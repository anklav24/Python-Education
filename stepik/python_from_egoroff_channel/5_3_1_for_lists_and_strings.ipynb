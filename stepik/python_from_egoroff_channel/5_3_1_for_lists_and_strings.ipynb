{
 "cells": [
  {
   "cell_type": "code",
   "execution_count": 1,
   "metadata": {
    "collapsed": true
   },
   "outputs": [
    {
     "name": "stdout",
     "output_type": "stream",
     "text": [
      "43\n",
      "65\n",
      "3\n",
      "54\n",
      "6\n"
     ]
    }
   ],
   "source": [
    "a = [43, 65, 3, 54, 6]\n",
    "\n",
    "for i in a:\n",
    "    print(i)"
   ]
  },
  {
   "cell_type": "code",
   "execution_count": 3,
   "outputs": [
    {
     "name": "stdout",
     "output_type": "stream",
     "text": [
      "43\n",
      "1 value override\n",
      "65\n",
      "2 value override\n",
      "3\n",
      "3 value override\n",
      "54\n",
      "4 value override\n",
      "6\n",
      "5 value override\n"
     ]
    }
   ],
   "source": [
    "a = [43, 65, 3, 54, 6]\n",
    "count = 0\n",
    "\n",
    "for i in a:\n",
    "    print(i)\n",
    "    count += 1\n",
    "    print(count, 'value override')\n",
    "    input()"
   ],
   "metadata": {
    "collapsed": false,
    "pycharm": {
     "name": "#%%\n"
    }
   }
  },
  {
   "cell_type": "code",
   "execution_count": 6,
   "outputs": [
    {
     "name": "stdout",
     "output_type": "stream",
     "text": [
      "48\n",
      "70\n",
      "8\n",
      "59\n",
      "11\n",
      "[43, 65, 3, 54, 6]\n"
     ]
    }
   ],
   "source": [
    "a = [43, 65, 3, 54, 6]\n",
    "\n",
    "for i in a:\n",
    "    i += 5\n",
    "    print(i)\n",
    "print(a)"
   ],
   "metadata": {
    "collapsed": false,
    "pycharm": {
     "name": "#%%\n"
    }
   }
  },
  {
   "cell_type": "code",
   "execution_count": null,
   "outputs": [],
   "source": [
    "a = [43, 65, 3, 54, 6]\n",
    "\n",
    "for i in a:\n",
    "    print(i, a.index(i))"
   ],
   "metadata": {
    "collapsed": false,
    "pycharm": {
     "name": "#%%\n"
    }
   }
  },
  {
   "cell_type": "code",
   "execution_count": 9,
   "outputs": [
    {
     "name": "stdout",
     "output_type": "stream",
     "text": [
      "43 0\n",
      "65 1\n",
      "43 0\n",
      "54 3\n",
      "6 4\n"
     ]
    }
   ],
   "source": [
    "# Получаем кривую инфу\n",
    "\n",
    "# Обход по значениям\n",
    "a = [43, 65, 43, 54, 6]\n",
    "\n",
    "for i in a:\n",
    "    print(i, a.index(i))"
   ],
   "metadata": {
    "collapsed": false,
    "pycharm": {
     "name": "#%%\n"
    }
   }
  },
  {
   "cell_type": "code",
   "execution_count": 14,
   "outputs": [
    {
     "name": "stdout",
     "output_type": "stream",
     "text": [
      "[43, 65, 3, 43, 6, 34]\n",
      "0 43\n",
      "1 65\n",
      "2 3\n",
      "3 43\n",
      "4 6\n",
      "5 34\n",
      "[48, 70, 8, 48, 11, 39]\n"
     ]
    }
   ],
   "source": [
    "# Обход по индексам\n",
    "\n",
    "a = [43, 65, 3, 43, 6, 34]\n",
    "print(a)\n",
    "n = len(a)\n",
    "\n",
    "for i in range(n):\n",
    "    print(i, a[i])\n",
    "    a[i] += 5\n",
    "print(a)"
   ],
   "metadata": {
    "collapsed": false,
    "pycharm": {
     "name": "#%%\n"
    }
   }
  },
  {
   "cell_type": "code",
   "execution_count": 15,
   "outputs": [
    {
     "name": "stdout",
     "output_type": "stream",
     "text": [
      "[1, 2, 3, 4, 5, 6]\n"
     ]
    }
   ],
   "source": [
    "# Список без дублей.\n",
    "# The list without duplicates.\n",
    "# The list without takes.\n",
    "\n",
    "a = [1, 2, 3, 4, 5, 6, 1, 2, 3]\n",
    "b = []\n",
    "for i in a:\n",
    "    if i not in b:\n",
    "        b.append(i)\n",
    "print(b)"
   ],
   "metadata": {
    "collapsed": false,
    "pycharm": {
     "name": "#%%\n"
    }
   }
  },
  {
   "cell_type": "code",
   "execution_count": 17,
   "outputs": [
    {
     "name": "stdout",
     "output_type": "stream",
     "text": [
      "[2, 4, 6, 8]\n",
      "[1, 3, 5, 7, 9]\n"
     ]
    }
   ],
   "source": [
    "a = [1, 2, 3, 4, 5, 6, 1, 2, 3]\n",
    "even = []\n",
    "odd = []\n",
    "n = len(a)\n",
    "\n",
    "for i in range(n):\n",
    "    if a[i] % 2 == 0:\n",
    "        even.append(i + 1)\n",
    "    else:\n",
    "        odd.append(i + 1)\n",
    "\n",
    "print(even)\n",
    "print(odd)"
   ],
   "metadata": {
    "collapsed": false,
    "pycharm": {
     "name": "#%%\n"
    }
   }
  },
  {
   "cell_type": "code",
   "execution_count": 18,
   "outputs": [
    {
     "name": "stdout",
     "output_type": "stream",
     "text": [
      "H big\n",
      "e small\n",
      "l small\n",
      "l small\n",
      "L big\n",
      "o small\n",
      " \n",
      "W big\n",
      "o small\n",
      "r small\n",
      "L big\n",
      "D big\n"
     ]
    }
   ],
   "source": [
    "s = 'HellLo WorLD'\n",
    "for i in s:\n",
    "    if i >= 'a' and i <= 'z':\n",
    "        print(i, 'small')\n",
    "    elif 'A' <= i <= 'Z':\n",
    "        print(i, 'big')\n",
    "    else:\n",
    "        print(i)"
   ],
   "metadata": {
    "collapsed": false,
    "pycharm": {
     "name": "#%%\n"
    }
   }
  },
  {
   "cell_type": "code",
   "execution_count": 27,
   "outputs": [
    {
     "name": "stdout",
     "output_type": "stream",
     "text": [
      "a e\n",
      "i o\n",
      "o o\n",
      "o i\n",
      "o a\n"
     ]
    }
   ],
   "source": [
    "vowels = 'aeiou'\n",
    "s = 'aertiooikjoalk'\n",
    "n = len(s)\n",
    "\n",
    "# if s[i] its right neighbourhood --> s[i + 1]\n",
    "\n",
    "for i in range(n - 1):\n",
    "    if s[i] in vowels and s[i + 1] in vowels:\n",
    "        print(s[i], s[i + 1])"
   ],
   "metadata": {
    "collapsed": false,
    "pycharm": {
     "name": "#%%\n"
    }
   }
  },
  {
   "cell_type": "code",
   "execution_count": null,
   "outputs": [],
   "source": [],
   "metadata": {
    "collapsed": false,
    "pycharm": {
     "name": "#%%\n"
    }
   }
  }
 ],
 "metadata": {
  "kernelspec": {
   "display_name": "Python 3",
   "language": "python",
   "name": "python3"
  },
  "language_info": {
   "codemirror_mode": {
    "name": "ipython",
    "version": 2
   },
   "file_extension": ".py",
   "mimetype": "text/x-python",
   "name": "python",
   "nbconvert_exporter": "python",
   "pygments_lexer": "ipython2",
   "version": "2.7.6"
  }
 },
 "nbformat": 4,
 "nbformat_minor": 0
}