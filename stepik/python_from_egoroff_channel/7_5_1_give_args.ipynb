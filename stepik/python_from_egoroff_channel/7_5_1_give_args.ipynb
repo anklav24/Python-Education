{
 "cells": [
  {
   "cell_type": "code",
   "execution_count": null,
   "outputs": [],
   "source": [
    "# https://docs.python.org/3/faq/index.html\n",
    "# https://docs.python.org/3.3/glossary.html\n",
    "# https://docs.python.org/3.8/reference/expressions.html#index-46\n",
    "# https://docs.python.org/3.8/glossary.html  see parameter\n",
    "# https://docs.python.org/3.3/faq/programming.html#faq-argument-vs-parameter\n"
   ],
   "metadata": {
    "collapsed": false,
    "pycharm": {
     "name": "#%%\n"
    }
   }
  },
  {
   "cell_type": "code",
   "execution_count": null,
   "metadata": {
    "collapsed": true
   },
   "outputs": [],
   "source": [
    "def f(a, b):\n",
    "    print(f\"{a=} {id(a)=}, {b=} {id(b)=}. Local before.\")\n",
    "    a = 100\n",
    "    b = 200\n",
    "    print(f\"{a=} {id(a)=}, {b=} {id(b)=}. Local after.\")\n",
    "\n",
    "\n",
    "c = 20\n",
    "d = 50\n",
    "\n",
    "f(c, d)\n",
    "print(f\"{c=} {id(c)=}, {d=} {id(d)=}. Global.\")"
   ]
  },
  {
   "cell_type": "code",
   "execution_count": 2,
   "outputs": [
    {
     "name": "stdout",
     "output_type": "stream",
     "text": [
      "a='qwerty' id(a)=2539837635504, b=[1, 2, 3] id(b)=2539837582464. Local before.\n",
      "a=100 id(a)=140732501304064, b=200 id(b)=140732501307264. Local after.\n",
      "c='qwerty' id(c)=2539837635504, d=[1, 2, 3] id(d)=2539837582464. Global.\n"
     ]
    }
   ],
   "source": [
    "def f(a, b):\n",
    "    print(f\"{a=} {id(a)=}, {b=} {id(b)=}. Local before.\")\n",
    "    a = 100\n",
    "    b = 200\n",
    "    print(f\"{a=} {id(a)=}, {b=} {id(b)=}. Local after.\")\n",
    "\n",
    "\n",
    "c = \"qwerty\"\n",
    "d = [1, 2, 3]\n",
    "\n",
    "f(c, d)\n",
    "print(f\"{c=} {id(c)=}, {d=} {id(d)=}. Global.\")\n"
   ],
   "metadata": {
    "collapsed": false,
    "pycharm": {
     "name": "#%%\n"
    }
   }
  },
  {
   "cell_type": "code",
   "execution_count": 3,
   "outputs": [
    {
     "name": "stdout",
     "output_type": "stream",
     "text": [
      "a='qwerty' id(a)=2539837635504, b=[1, 2, 3] id(b)=2539837327040. Local before.\n",
      "a=100 id(a)=140732501304064, b=[1, 'Hi', 3, 100] id(b)=2539837327040. Local after.\n",
      "c='qwerty' id(c)=2539837635504, d=[1, 'Hi', 3, 100] id(d)=2539837327040. Global.\n"
     ]
    }
   ],
   "source": [
    "# Variable b has the same id in the global and local scope.\n",
    "def f(a, b):\n",
    "    print(f\"{a=} {id(a)=}, {b=} {id(b)=}. Local before.\")\n",
    "    a = 100\n",
    "    b.append(100)\n",
    "    b[1] = \"Hi\"\n",
    "    print(f\"{a=} {id(a)=}, {b=} {id(b)=}. Local after.\")\n",
    "\n",
    "\n",
    "c = \"qwerty\"\n",
    "d = [1, 2, 3]\n",
    "\n",
    "f(c, d)\n",
    "print(f\"{c=} {id(c)=}, {d=} {id(d)=}. Global.\")"
   ],
   "metadata": {
    "collapsed": false,
    "pycharm": {
     "name": "#%%\n"
    }
   }
  },
  {
   "cell_type": "code",
   "execution_count": 4,
   "outputs": [
    {
     "name": "stdout",
     "output_type": "stream",
     "text": [
      "a='qwerty' id(a)=2539837635504, b=[1, 2, 3] id(b)=2539854210176. Local before.\n",
      "a=100 id(a)=140732501304064, b=[1, 'Hi', 3, 100] id(b)=2539854210176. Local after.\n",
      "c='qwerty' id(c)=2539837635504, d=[1, 2, 3] id(d)=2539852706240. Global.\n"
     ]
    }
   ],
   "source": [
    "# Variable b has different identifiers in the global and local scope.\n",
    "\"\"\"\n",
    "При передаче в функцию изменяемого объекта есть вероятность его\n",
    "изменения внутри функции в локальной области видимости.\n",
    "Чтобы этого избежать мы можем передать копию списка в функцию при помощи\n",
    "слайсов. Тогда все действия будут производиться над копией списка.\n",
    "list[:]\n",
    "\"\"\"\n",
    "def f(a, b):\n",
    "    print(f\"{a=} {id(a)=}, {b=} {id(b)=}. Local before.\")\n",
    "    a = 100\n",
    "    b.append(100)\n",
    "    b[1] = \"Hi\"\n",
    "    print(f\"{a=} {id(a)=}, {b=} {id(b)=}. Local after.\")\n",
    "\n",
    "\n",
    "c = \"qwerty\"\n",
    "d = [1, 2, 3]\n",
    "\n",
    "f(c, d[:])\n",
    "print(f\"{c=} {id(c)=}, {d=} {id(d)=}. Global.\")\n"
   ],
   "metadata": {
    "collapsed": false,
    "pycharm": {
     "name": "#%%\n"
    }
   }
  },
  {
   "cell_type": "code",
   "execution_count": 24,
   "outputs": [
    {
     "ename": "SyntaxError",
     "evalue": "positional argument follows keyword argument (<ipython-input-24-8d56be73b7d6>, line 13)",
     "output_type": "error",
     "traceback": [
      "\u001B[1;36m  File \u001B[1;32m\"<ipython-input-24-8d56be73b7d6>\"\u001B[1;36m, line \u001B[1;32m13\u001B[0m\n\u001B[1;33m    print(f(c=2, 10, b=20))\u001B[0m\n\u001B[1;37m                 ^\u001B[0m\n\u001B[1;31mSyntaxError\u001B[0m\u001B[1;31m:\u001B[0m positional argument follows keyword argument\n"
     ]
    }
   ],
   "source": [
    "# Передача аргументов.\n",
    "def f(a, b, c):\n",
    "    print(a, b, c)\n",
    "\n",
    "\n",
    "# По имени.\n",
    "print(f(c=20, a=4, b=6))\n",
    "\n",
    "# Позиционный.\n",
    "print(f(1, 2, 3))\n",
    "\n",
    "# Комбинированный\n",
    "print(f(2, c=10, b=20))\n",
    "print(f(2, b=10, c=20))\n",
    "# print(f(c=2, 10, b=20))  Doesn't work!"
   ],
   "metadata": {
    "collapsed": false,
    "pycharm": {
     "name": "#%%\n"
    }
   }
  },
  {
   "cell_type": "code",
   "execution_count": null,
   "outputs": [],
   "source": [
    "# Default values.\n",
    "def f(a=\"Hi\", b=\"Hello\", c=\"Unknown\"):\n",
    "    print(a, b, c)\n",
    "\n",
    "\n",
    "f()\n",
    "f(1)\n",
    "f(2, 3)\n",
    "f(2, 3, 4)"
   ],
   "metadata": {
    "collapsed": false,
    "pycharm": {
     "name": "#%%\n"
    }
   }
  },
  {
   "cell_type": "code",
   "execution_count": 27,
   "outputs": [
    {
     "name": "stdout",
     "output_type": "stream",
     "text": [
      "Hi Hello Unknown\n",
      "1 Hello Unknown\n",
      "2 3 Unknown\n",
      "2 3 4\n",
      "Hi 111 Unknown\n"
     ]
    }
   ],
   "source": [
    "# Default values.\n",
    "def f(a=\"Hi\", b=\"Hello\", c=\"Unknown\"):\n",
    "    print(a, b, c)\n",
    "\n",
    "\n",
    "f()\n",
    "f(1)\n",
    "f(2, 3)\n",
    "f(2, 3, 4)\n",
    "f(b=111)"
   ],
   "metadata": {
    "collapsed": false,
    "pycharm": {
     "name": "#%%\n"
    }
   }
  },
  {
   "cell_type": "code",
   "execution_count": 30,
   "outputs": [
    {
     "name": "stdout",
     "output_type": "stream",
     "text": [
      "1 2 3\n"
     ]
    }
   ],
   "source": [
    "# В функциях сначала идут обязательные аргументы, а потом только по умолчанию.\n",
    "# Иначе будет вызвана ошибка.\n",
    "def f(a, b, c=\"Unknown\"):\n",
    "    print(a, b, c)\n",
    "\n",
    "\n",
    "f(1, 2, 3)"
   ],
   "metadata": {
    "collapsed": false,
    "pycharm": {
     "name": "#%%\n"
    }
   }
  },
  {
   "cell_type": "code",
   "execution_count": null,
   "outputs": [],
   "source": [],
   "metadata": {
    "collapsed": false,
    "pycharm": {
     "name": "#%%\n"
    }
   }
  }
 ],
 "metadata": {
  "kernelspec": {
   "display_name": "Python 3",
   "language": "python",
   "name": "python3"
  },
  "language_info": {
   "codemirror_mode": {
    "name": "ipython",
    "version": 2
   },
   "file_extension": ".py",
   "mimetype": "text/x-python",
   "name": "python",
   "nbconvert_exporter": "python",
   "pygments_lexer": "ipython2",
   "version": "2.7.6"
  }
 },
 "nbformat": 4,
 "nbformat_minor": 0
}