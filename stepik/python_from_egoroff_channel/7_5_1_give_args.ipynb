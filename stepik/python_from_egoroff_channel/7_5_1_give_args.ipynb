{
 "cells": [
  {
   "cell_type": "code",
   "execution_count": null,
   "outputs": [],
   "source": [
    "# https://docs.python.org/3/faq/index.html\n",
    "# https://docs.python.org/3.3/glossary.html\n",
    "# https://docs.python.org/3.8/reference/expressions.html#index-46\n",
    "# https://docs.python.org/3.8/glossary.html  see parameter\n",
    "# https://docs.python.org/3.3/faq/programming.html#faq-argument-vs-parameter\n"
   ],
   "metadata": {
    "collapsed": false,
    "pycharm": {
     "name": "#%%\n"
    }
   }
  },
  {
   "cell_type": "code",
   "execution_count": 47,
   "metadata": {
    "collapsed": true
   },
   "outputs": [
    {
     "name": "stdout",
     "output_type": "stream",
     "text": [
      "a=20 id(a)=140719920158976, b=50 id(b)=140719920159936. Local before.\n",
      "a=100 id(a)=140719920161536, b=200 id(b)=140719920164736. Local after.\n",
      "c=20 id(c)=140719920158976, d=50 id(d)=140719920159936. Global.\n"
     ]
    }
   ],
   "source": [
    "def f(a, b):\n",
    "    print(f\"{a=} {id(a)=}, {b=} {id(b)=}. Local before.\")\n",
    "    a = 100\n",
    "    b = 200\n",
    "    print(f\"{a=} {id(a)=}, {b=} {id(b)=}. Local after.\")\n",
    "\n",
    "\n",
    "c = 20\n",
    "d = 50\n",
    "\n",
    "f(c, d)\n",
    "print(f\"{c=} {id(c)=}, {d=} {id(d)=}. Global.\")"
   ]
  },
  {
   "cell_type": "code",
   "execution_count": 2,
   "outputs": [
    {
     "name": "stdout",
     "output_type": "stream",
     "text": [
      "a='qwerty' id(a)=2539837635504, b=[1, 2, 3] id(b)=2539837582464. Local before.\n",
      "a=100 id(a)=140732501304064, b=200 id(b)=140732501307264. Local after.\n",
      "c='qwerty' id(c)=2539837635504, d=[1, 2, 3] id(d)=2539837582464. Global.\n"
     ]
    }
   ],
   "source": [
    "def f(a, b):\n",
    "    print(f\"{a=} {id(a)=}, {b=} {id(b)=}. Local before.\")\n",
    "    a = 100\n",
    "    b = 200\n",
    "    print(f\"{a=} {id(a)=}, {b=} {id(b)=}. Local after.\")\n",
    "\n",
    "\n",
    "c = \"qwerty\"\n",
    "d = [1, 2, 3]\n",
    "\n",
    "f(c, d)\n",
    "print(f\"{c=} {id(c)=}, {d=} {id(d)=}. Global.\")\n"
   ],
   "metadata": {
    "collapsed": false,
    "pycharm": {
     "name": "#%%\n"
    }
   }
  },
  {
   "cell_type": "code",
   "execution_count": 3,
   "outputs": [
    {
     "name": "stdout",
     "output_type": "stream",
     "text": [
      "a='qwerty' id(a)=2539837635504, b=[1, 2, 3] id(b)=2539837327040. Local before.\n",
      "a=100 id(a)=140732501304064, b=[1, 'Hi', 3, 100] id(b)=2539837327040. Local after.\n",
      "c='qwerty' id(c)=2539837635504, d=[1, 'Hi', 3, 100] id(d)=2539837327040. Global.\n"
     ]
    }
   ],
   "source": [
    "# Variable b has the same id in the global and local scope.\n",
    "def f(a, b):\n",
    "    print(f\"{a=} {id(a)=}, {b=} {id(b)=}. Local before.\")\n",
    "    a = 100\n",
    "    b.append(100)\n",
    "    b[1] = \"Hi\"\n",
    "    print(f\"{a=} {id(a)=}, {b=} {id(b)=}. Local after.\")\n",
    "\n",
    "\n",
    "c = \"qwerty\"\n",
    "d = [1, 2, 3]\n",
    "\n",
    "f(c, d)\n",
    "print(f\"{c=} {id(c)=}, {d=} {id(d)=}. Global.\")"
   ],
   "metadata": {
    "collapsed": false,
    "pycharm": {
     "name": "#%%\n"
    }
   }
  },
  {
   "cell_type": "code",
   "execution_count": 4,
   "outputs": [
    {
     "name": "stdout",
     "output_type": "stream",
     "text": [
      "a='qwerty' id(a)=2539837635504, b=[1, 2, 3] id(b)=2539854210176. Local before.\n",
      "a=100 id(a)=140732501304064, b=[1, 'Hi', 3, 100] id(b)=2539854210176. Local after.\n",
      "c='qwerty' id(c)=2539837635504, d=[1, 2, 3] id(d)=2539852706240. Global.\n"
     ]
    }
   ],
   "source": [
    "# Variable b has different identifiers in the global and local scope.\n",
    "\"\"\"\n",
    "При передаче в функцию изменяемого объекта есть вероятность его\n",
    "изменения внутри функции в локальной области видимости.\n",
    "Чтобы этого избежать мы можем передать копию списка в функцию при помощи\n",
    "слайсов. Тогда все действия будут производиться над копией списка.\n",
    "list[:]\n",
    "\"\"\"\n",
    "def f(a, b):\n",
    "    print(f\"{a=} {id(a)=}, {b=} {id(b)=}. Local before.\")\n",
    "    a = 100\n",
    "    b.append(100)\n",
    "    b[1] = \"Hi\"\n",
    "    print(f\"{a=} {id(a)=}, {b=} {id(b)=}. Local after.\")\n",
    "\n",
    "\n",
    "c = \"qwerty\"\n",
    "d = [1, 2, 3]\n",
    "\n",
    "f(c, d[:])\n",
    "print(f\"{c=} {id(c)=}, {d=} {id(d)=}. Global.\")\n"
   ],
   "metadata": {
    "collapsed": false,
    "pycharm": {
     "name": "#%%\n"
    }
   }
  },
  {
   "cell_type": "code",
   "execution_count": 48,
   "outputs": [
    {
     "name": "stdout",
     "output_type": "stream",
     "text": [
      "4 6 20\n",
      "None\n",
      "1 2 3\n",
      "None\n",
      "2 20 10\n",
      "None\n",
      "2 10 20\n",
      "None\n"
     ]
    }
   ],
   "source": [
    "# Передача аргументов.\n",
    "def f(a, b, c):\n",
    "    print(a, b, c)\n",
    "\n",
    "\n",
    "# По имени.\n",
    "print(f(c=20, a=4, b=6))\n",
    "\n",
    "# Позиционный.\n",
    "print(f(1, 2, 3))\n",
    "\n",
    "# Комбинированный\n",
    "print(f(2, c=10, b=20))\n",
    "print(f(2, b=10, c=20))\n",
    "# print(f(c=2, 10, b=20))  Doesn't work!"
   ],
   "metadata": {
    "collapsed": false,
    "pycharm": {
     "name": "#%%\n"
    }
   }
  },
  {
   "cell_type": "code",
   "execution_count": 50,
   "outputs": [
    {
     "name": "stdout",
     "output_type": "stream",
     "text": [
      "a='Hi', b='Hello', c='Unknown'\n",
      "a=1, b='Hello', c='Unknown'\n",
      "a=2, b=3, c='Unknown'\n",
      "a=2, b=3, c=4\n"
     ]
    }
   ],
   "source": [
    "# Default values.\n",
    "def f(a=\"Hi\", b=\"Hello\", c=\"Unknown\"):\n",
    "    print(f'{a=}, {b=}, {c=}')\n",
    "\n",
    "\n",
    "f()\n",
    "f(1)\n",
    "f(2, 3)\n",
    "f(2, 3, 4)"
   ],
   "metadata": {
    "collapsed": false,
    "pycharm": {
     "name": "#%%\n"
    }
   }
  },
  {
   "cell_type": "code",
   "execution_count": 54,
   "outputs": [
    {
     "name": "stdout",
     "output_type": "stream",
     "text": [
      "Hi Hello Unknown\n",
      "1 Hello Unknown\n",
      "2 3 Unknown\n",
      "2 3 4\n",
      "Hi 111 Unknown\n",
      "Hi 111 222\n"
     ]
    }
   ],
   "source": [
    "# Default values.\n",
    "def f(a=\"Hi\", b=\"Hello\", c=\"Unknown\"):\n",
    "    print(a, b, c)\n",
    "\n",
    "\n",
    "f()\n",
    "f(1)\n",
    "f(2, 3)\n",
    "f(2, 3, 4)\n",
    "f(b=111)\n",
    "f(c=222, b=111)\n",
    "f(b=111)"
   ],
   "metadata": {
    "collapsed": false,
    "pycharm": {
     "name": "#%%\n"
    }
   }
  },
  {
   "cell_type": "code",
   "execution_count": 55,
   "outputs": [
    {
     "name": "stdout",
     "output_type": "stream",
     "text": [
      "1 2 3\n"
     ]
    }
   ],
   "source": [
    "# В функциях сначала идут обязательные аргументы, а потом только по умолчанию.\n",
    "# Иначе будет вызвана ошибка.\n",
    "def f(a, b, some=\"Unknown\"):\n",
    "    print(a, b, some)\n",
    "\n",
    "\n",
    "f(1, 2, 3)"
   ],
   "metadata": {
    "collapsed": false,
    "pycharm": {
     "name": "#%%\n"
    }
   }
  },
  {
   "cell_type": "code",
   "execution_count": 19,
   "outputs": [
    {
     "name": "stdout",
     "output_type": "stream",
     "text": [
      "x=1<class 'int'>, args=(2, 3, 4, 5)<class 'tuple'>, kwargs={}\n"
     ]
    }
   ],
   "source": [
    "def foo(x, *args, **kwargs):\n",
    "    print(f\"{x=}{type(x)}, {args=}{type(args)}, {kwargs=}\")\n",
    "\n",
    "\n",
    "foo(1, 2, 3, 4, 5)"
   ],
   "metadata": {
    "collapsed": false,
    "pycharm": {
     "name": "#%%\n"
    }
   }
  },
  {
   "cell_type": "code",
   "execution_count": 22,
   "outputs": [
    {
     "name": "stdout",
     "output_type": "stream",
     "text": [
      "(3+5j)\n",
      "(3+5j)\n",
      "(3+5j)\n",
      "(3+5j)\n"
     ]
    }
   ],
   "source": [
    "# https://docs.python.org/3.3/glossary.html#term-parameter\n",
    "# var-positional: specifies that an arbitrary sequence of positional arguments can be provided (in addition to any positional arguments already accepted by other parameters). Such a parameter can be defined by prepending the parameter name with *, for example args in the following:\n",
    "#\n",
    "def func(*args, **kwargs): ...\n",
    "# var-keyword: specifies that arbitrarily many keyword arguments can be provided (in addition to any keyword arguments already accepted by other parameters). Such a parameter can be defined by prepending the parameter name with **, for example kwargs in the example above.\n",
    "\n",
    "\n",
    "print(complex(real=3, imag=5))\n",
    "print(complex(**{'real': 3, 'imag': 5}))\n",
    "\n",
    "# positional argument: an argument that is not a keyword argument. Positional arguments can appear at the beginning of an argument list and/or be passed as elements of an iterable preceded by *. For example, 3 and 5 are both positional arguments in the following calls:\n",
    "\n",
    "print(complex(3, 5))\n",
    "print(complex(*(3, 5)))\n",
    "\n",
    "# A call always returns some value, possibly None, unless it raises an exception.\n",
    "# 6.3.4. Calls\n",
    "# https://docs.python.org/3.8/reference/expressions.html#index-46"
   ],
   "metadata": {
    "collapsed": false,
    "pycharm": {
     "name": "#%%\n"
    }
   }
  },
  {
   "cell_type": "code",
   "execution_count": 45,
   "outputs": [
    {
     "name": "stdout",
     "output_type": "stream",
     "text": [
      "1 2 3\n",
      "{'x': 1, 'y': 2, 'z': 3}\n",
      "(0, 1, 2, 3, 4)\n",
      "[0, 1, 2, 3, 4]\n",
      "{0, 1, 2, 3, 4}\n",
      "{'x': 1, 'y': 2}\n"
     ]
    }
   ],
   "source": [
    "# PEP 448 -- Additional Unpacking Generalizations\n",
    "# https://www.python.org/dev/peps/pep-0448/\n",
    "print(*[1], *[2], 3)\n",
    "print(dict(**{'x': 1}, y = 2, **{'z': 3}))"
   ],
   "metadata": {
    "collapsed": false,
    "pycharm": {
     "name": "#%%\n"
    }
   }
  },
  {
   "cell_type": "code",
   "execution_count": null,
   "outputs": [],
   "source": [
    "# Unpacking is proposed to be allowed inside tuple, list, set, and dictionary displays:\n",
    "print((*range(4), 4))  # tuple\n",
    "print([*range(4), 4])  # list\n",
    "print({*range(4), 4})  # set\n",
    "print({'x': 1, **{'y': 2}})  # dict"
   ],
   "metadata": {
    "collapsed": false,
    "pycharm": {
     "name": "#%%\n"
    }
   }
  },
  {
   "cell_type": "code",
   "execution_count": 46,
   "outputs": [
    {
     "name": "stdout",
     "output_type": "stream",
     "text": [
      "{'x': 2}\n",
      "{'x': 1}\n"
     ]
    }
   ],
   "source": [
    "# In dictionaries, later values will always override earlier ones:\n",
    "print({'x': 1, **{'x': 2}})\n",
    "print({**{'x': 2}, 'x': 1})\n"
   ],
   "metadata": {
    "collapsed": false,
    "pycharm": {
     "name": "#%%\n"
    }
   }
  }
 ],
 "metadata": {
  "kernelspec": {
   "display_name": "Python 3",
   "language": "python",
   "name": "python3"
  },
  "language_info": {
   "codemirror_mode": {
    "name": "ipython",
    "version": 2
   },
   "file_extension": ".py",
   "mimetype": "text/x-python",
   "name": "python",
   "nbconvert_exporter": "python",
   "pygments_lexer": "ipython2",
   "version": "2.7.6"
  }
 },
 "nbformat": 4,
 "nbformat_minor": 0
}