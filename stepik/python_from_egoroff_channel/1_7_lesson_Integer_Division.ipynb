{
 "cells": [
  {
   "cell_type": "markdown",
   "metadata": {
    "collapsed": true,
    "pycharm": {
     "name": "#%% md\n"
    }
   },
   "source": [
    "Деление нацело и деление по остатку.\n",
    "\n",
    "### Integer division and remainder of division (modulo)."
   ]
  },
  {
   "cell_type": "markdown",
   "source": [
    "Получаем последнюю цифру числа или 2."
   ],
   "metadata": {
    "collapsed": false,
    "pycharm": {
     "name": "#%% md\n"
    }
   }
  },
  {
   "cell_type": "code",
   "execution_count": 8,
   "outputs": [
    {
     "name": "stdout",
     "text": [
      "8\n",
      "3\n",
      "2\n",
      "5\n",
      "~~~~~~\n",
      "26\n",
      "65\n"
     ],
     "output_type": "stream"
    }
   ],
   "source": [
    "print(8 % 10)\n",
    "print(13 % 10)\n",
    "print(122 % 10)\n",
    "print(5265 % 10)\n",
    "print('~~~~~~')\n",
    "print(526 % 100)\n",
    "print(5265 % 100)"
   ],
   "metadata": {
    "collapsed": false,
    "pycharm": {
     "name": "#%%\n",
     "is_executing": false
    }
   }
  },
  {
   "cell_type": "markdown",
   "source": [
    "Убираем последнюю цифру из числа или два."
   ],
   "metadata": {
    "collapsed": false,
    "pycharm": {
     "name": "#%% md\n"
    }
   }
  },
  {
   "cell_type": "code",
   "source": [
    "print(1234 // 10)\n",
    "print(123 // 10)\n",
    "print(23 // 10)\n",
    "print(5 // 10)\n",
    "print('~~~~~~')\n",
    "print(1234 // 100)\n",
    "print(123 // 100)\n",
    "print(14 // 100)"
   ],
   "metadata": {
    "collapsed": false,
    "pycharm": {
     "name": "#%%\n",
     "is_executing": false
    }
   },
   "execution_count": 9,
   "outputs": [
    {
     "name": "stdout",
     "text": [
      "123\n",
      "12\n",
      "2\n",
      "0\n",
      "~~~~~~\n",
      "12\n",
      "1\n",
      "0\n"
     ],
     "output_type": "stream"
    }
   ]
  },
  {
   "cell_type": "markdown",
   "source": [
    "Разберем число на разряды."
   ],
   "metadata": {
    "collapsed": false,
    "pycharm": {
     "name": "#%% md\n"
    }
   }
  },
  {
   "cell_type": "code",
   "execution_count": 16,
   "outputs": [
    {
     "name": "stdout",
     "text": [
      "4,7,8,6,5."
     ],
     "output_type": "stream"
    }
   ],
   "source": [
    "x = 47865\n",
    "a = x // 10000\n",
    "b = x // 1000 % 10\n",
    "c = x // 100 % 10\n",
    "d = x // 10 % 10\n",
    "e = x % 10\n",
    "\n",
    "print(a, b, c, d, e, sep=',', end='.')"
   ],
   "metadata": {
    "collapsed": false,
    "pycharm": {
     "name": "#%%\n",
     "is_executing": false
    }
   }
  }
 ],
 "metadata": {
  "kernelspec": {
   "display_name": "Python 3",
   "language": "python",
   "name": "python3"
  },
  "language_info": {
   "codemirror_mode": {
    "name": "ipython",
    "version": 2
   },
   "file_extension": ".py",
   "mimetype": "text/x-python",
   "name": "python",
   "nbconvert_exporter": "python",
   "pygments_lexer": "ipython2",
   "version": "2.7.6"
  },
  "pycharm": {
   "stem_cell": {
    "cell_type": "raw",
    "source": [],
    "metadata": {
     "collapsed": false
    }
   }
  }
 },
 "nbformat": 4,
 "nbformat_minor": 0
}