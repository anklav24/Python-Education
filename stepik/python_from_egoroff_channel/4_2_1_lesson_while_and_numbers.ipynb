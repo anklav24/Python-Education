{
 "cells": [
  {
   "cell_type": "code",
   "execution_count": null,
   "outputs": [],
   "source": [
    "n = 4782\n",
    "\n",
    "while n > 0:\n",
    "    print(n % 10)\n",
    "    n = n // 10"
   ],
   "metadata": {
    "collapsed": false,
    "pycharm": {
     "name": "#%%\n"
    }
   }
  },
  {
   "cell_type": "code",
   "execution_count": null,
   "outputs": [],
   "source": [
    "n = int(input())\n",
    "\n",
    "while n > 0:\n",
    "    print(n % 10)\n",
    "    n = n // 10"
   ],
   "metadata": {
    "collapsed": false,
    "pycharm": {
     "name": "#%%\n"
    }
   }
  },
  {
   "cell_type": "code",
   "execution_count": 11,
   "outputs": [
    {
     "name": "stdout",
     "output_type": "stream",
     "text": [
      "Total digits 3\n",
      "Total even digits 1\n",
      "Total sum 16\n",
      "Total product of numbers 140\n",
      "Max digit 7\n",
      "Min digit 4\n"
     ]
    }
   ],
   "source": [
    "n = int(input())\n",
    "qty = 0\n",
    "qty_even = 0\n",
    "summ = 0\n",
    "pr = 1\n",
    "max_digit = 0\n",
    "min_digit = 9\n",
    "while n > 0:\n",
    "    last_digit = n % 10\n",
    "    qty += 1\n",
    "    if n % 2 == 0:\n",
    "        qty_even += 1\n",
    "    summ += last_digit\n",
    "    pr *= last_digit\n",
    "    if last_digit > max_digit:\n",
    "        max_digit = last_digit\n",
    "    if last_digit < min_digit:\n",
    "        min_digit = last_digit\n",
    "    n = n // 10\n",
    "\n",
    "print('Total digits', qty)\n",
    "print('Total even digits', qty_even)\n",
    "print('Total sum', summ)\n",
    "print('Total product of numbers', pr)\n",
    "print('Max digit', max_digit)\n",
    "print('Min digit', min_digit)"
   ],
   "metadata": {
    "collapsed": false,
    "pycharm": {
     "name": "#%%\n"
    }
   }
  },
  {
   "cell_type": "code",
   "execution_count": 13,
   "outputs": [
    {
     "name": "stdout",
     "output_type": "stream",
     "text": [
      "0\n",
      "1\n",
      "1\n",
      "1\n"
     ]
    }
   ],
   "source": [
    "# Переведем 10-е число в 2-е. Только результат будет в обратном порядке.\n",
    "# Берем степени 2-ки\n",
    "#  8 4 2 1\n",
    "#  1 1 1 0\n",
    "x = 14\n",
    "\n",
    "while x > 0:\n",
    "    last = x % 2\n",
    "    print(last)\n",
    "    x = x // 2"
   ],
   "metadata": {
    "collapsed": false,
    "pycharm": {
     "name": "#%%\n"
    }
   }
  },
  {
   "cell_type": "code",
   "execution_count": 18,
   "outputs": [
    {
     "name": "stdout",
     "output_type": "stream",
     "text": [
      "3\n",
      "1\n",
      "0\n",
      "0\n",
      "2\n",
      "1\n"
     ]
    }
   ],
   "source": [
    "# Переведем 10-е число в 5-е. Только результат будет в обратном порядке.\n",
    "# Берем степени 5-ки\n",
    "# 25 5 1\n",
    "#  1 3 3\n",
    "x = 43\n",
    "\n",
    "while x > 0:\n",
    "    last = x % 5\n",
    "    print(last)\n",
    "    x = x // 2\n",
    "    "
   ],
   "metadata": {
    "collapsed": false,
    "pycharm": {
     "name": "#%%\n"
    }
   }
  }
 ],
 "metadata": {
  "kernelspec": {
   "display_name": "Python 3",
   "language": "python",
   "name": "python3"
  },
  "language_info": {
   "codemirror_mode": {
    "name": "ipython",
    "version": 2
   },
   "file_extension": ".py",
   "mimetype": "text/x-python",
   "name": "python",
   "nbconvert_exporter": "python",
   "pygments_lexer": "ipython2",
   "version": "2.7.6"
  }
 },
 "nbformat": 4,
 "nbformat_minor": 0
}