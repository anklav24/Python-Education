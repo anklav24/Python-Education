{
 "cells": [
  {
   "cell_type": "code",
   "execution_count": 7,
   "metadata": {
    "collapsed": true
   },
   "outputs": [
    {
     "name": "stdout",
     "output_type": "stream",
     "text": [
      "{1: 1, 2: 4}\n"
     ]
    }
   ],
   "source": [
    "n = int(input())\n",
    "print({x: x ** 2 for x in range(1, n + 1)})"
   ]
  },
  {
   "cell_type": "code",
   "execution_count": 9,
   "outputs": [
    {
     "name": "stdout",
     "output_type": "stream",
     "text": [
      "{1: 1, 2: 4, 3: 9, 4: 16}\n"
     ]
    }
   ],
   "source": [
    "n = int(input())\n",
    "d = dict.fromkeys(range(1, n + 1))\n",
    "for x in d:\n",
    "    d[x] = x ** 2\n",
    "print(d)"
   ],
   "metadata": {
    "collapsed": false,
    "pycharm": {
     "name": "#%%\n"
    }
   }
  },
  {
   "cell_type": "code",
   "execution_count": null,
   "outputs": [],
   "source": [
    "from string import ascii_lowercase\n",
    "alphabet, count = dict.fromkeys(ascii_lowercase), 1\n",
    "\n",
    "for key in alphabet:\n",
    "    alphabet[key] = count\n",
    "    count += 1\n",
    "\n",
    "for key, values in alphabet.items():\n",
    "    print(key, values)"
   ],
   "metadata": {
    "collapsed": false,
    "pycharm": {
     "name": "#%%\n"
    }
   }
  },
  {
   "cell_type": "code",
   "execution_count": 35,
   "outputs": [
    {
     "name": "stdout",
     "output_type": "stream",
     "text": [
      "a 1\n",
      "b 2\n",
      "c 3\n",
      "d 4\n",
      "e 5\n",
      "f 6\n",
      "g 7\n",
      "h 8\n",
      "i 9\n",
      "j 10\n",
      "k 11\n",
      "l 12\n",
      "m 13\n",
      "n 14\n",
      "o 15\n",
      "p 16\n",
      "q 17\n",
      "r 18\n",
      "s 19\n",
      "t 20\n",
      "u 21\n",
      "v 22\n",
      "w 23\n",
      "x 24\n",
      "y 25\n",
      "z 26\n"
     ]
    }
   ],
   "source": [
    "from string import ascii_lowercase\n",
    "\n",
    "for i in range(26):\n",
    "    alphabet[ascii_lowercase[i]] = i + 1\n",
    "\n",
    "for key, values in alphabet.items():\n",
    "    print(key, values)\n"
   ],
   "metadata": {
    "collapsed": false,
    "pycharm": {
     "name": "#%%\n"
    }
   }
  },
  {
   "cell_type": "code",
   "execution_count": 46,
   "outputs": [
    {
     "name": "stdout",
     "output_type": "stream",
     "text": [
      "{'a': 100, 'b': 200, 'c': 333, 'x': 300, 'y': 200, 'z': 777}\n"
     ]
    }
   ],
   "source": [
    "d1 = {'a': 100, 'b': 200, 'c': 333}\n",
    "d2 = {'x': 300, 'y': 200, 'z': 777}\n",
    "rez = dict(list(d1.items()) + list(d2.items()))\n",
    "print(rez)"
   ],
   "metadata": {
    "collapsed": false,
    "pycharm": {
     "name": "#%%\n"
    }
   }
  },
  {
   "cell_type": "code",
   "execution_count": 52,
   "outputs": [
    {
     "name": "stdout",
     "output_type": "stream",
     "text": [
      "{'a': 100, 'b': 200, 'c': 333, 'x': 300, 'y': 200, 'z': 777}\n"
     ]
    }
   ],
   "source": [
    "d1 = {'a': 100, 'b': 200, 'c': 333}\n",
    "d2 = {'x': 300, 'y': 200, 'z': 777}\n",
    "rez = {}\n",
    "rez.update(d1)\n",
    "rez.update(d2)\n",
    "print(rez)"
   ],
   "metadata": {
    "collapsed": false,
    "pycharm": {
     "name": "#%%\n"
    }
   }
  },
  {
   "cell_type": "code",
   "execution_count": 53,
   "outputs": [
    {
     "name": "stdout",
     "output_type": "stream",
     "text": [
      "{'a': 100, 'b': 200, 'c': 333, 'x': 300, 'y': 200, 'z': 777}\n"
     ]
    }
   ],
   "source": [
    "d1 = {'a': 100, 'b': 200, 'c': 333}\n",
    "d2 = {'x': 300, 'y': 200, 'z': 777}\n",
    "d1.update(d2)\n",
    "rez = d1\n",
    "print(rez)"
   ],
   "metadata": {
    "collapsed": false,
    "pycharm": {
     "name": "#%%\n"
    }
   }
  },
  {
   "cell_type": "code",
   "execution_count": 51,
   "outputs": [
    {
     "name": "stdout",
     "output_type": "stream",
     "text": [
      "{'a': 100, 'b': 200, 'c': 333, 'x': 300, 'y': 200, 'z': 777}\n"
     ]
    }
   ],
   "source": [
    "d1 = {'a': 100, 'b': 200, 'c': 333}\n",
    "d2 = {'x': 300, 'y': 200, 'z': 777}\n",
    "d1.update(d2)\n",
    "rez = d1\n",
    "print(rez)"
   ],
   "metadata": {
    "collapsed": false,
    "pycharm": {
     "name": "#%%\n"
    }
   }
  },
  {
   "cell_type": "code",
   "execution_count": 57,
   "outputs": [
    {
     "name": "stdout",
     "output_type": "stream",
     "text": [
      "{'a': 100, 'b': 200, 'c': 333, 'x': 300, 'y': 200, 'z': 777}\n"
     ]
    }
   ],
   "source": [
    "d1 = {'a': 100, 'b': 200, 'c': 333}\n",
    "d2 = {'x': 300, 'y': 200, 'z': 777}\n",
    "rez = {**d1, **d2}\n",
    "print(rez)"
   ],
   "metadata": {
    "collapsed": false,
    "pycharm": {
     "name": "#%%\n"
    }
   }
  },
  {
   "cell_type": "code",
   "execution_count": 58,
   "outputs": [
    {
     "name": "stdout",
     "output_type": "stream",
     "text": [
      "{'a': 100, 'b': 200, 'c': 333, 'x': 300, 'y': 200, 'z': 777}\n"
     ]
    }
   ],
   "source": [
    "d1 = {'a': 100, 'b': 200, 'c': 333}\n",
    "d2 = {'x': 300, 'y': 200, 'z': 777}\n",
    "rez = dict(**d1, **d2)\n",
    "print(rez)"
   ],
   "metadata": {
    "collapsed": false,
    "pycharm": {
     "name": "#%%\n"
    }
   }
  },
  {
   "cell_type": "code",
   "execution_count": 59,
   "outputs": [
    {
     "name": "stdout",
     "output_type": "stream",
     "text": [
      "{'moskva': 495, 'piter': 812, 'penza': 8412}\n"
     ]
    }
   ],
   "source": [
    "a = {'moskva': 495,\n",
    "     'piter': 812,\n",
    "     'penza': 8412\n",
    "}\n",
    "\n",
    "print(a)"
   ],
   "metadata": {
    "collapsed": false,
    "pycharm": {
     "name": "#%%\n"
    }
   }
  },
  {
   "cell_type": "code",
   "execution_count": 60,
   "outputs": [
    {
     "name": "stdout",
     "output_type": "stream",
     "text": [
      "{'moskva': 495, 'piter': 812, 'penza': 8412}\n"
     ]
    }
   ],
   "source": [
    "# Только для ключей в str\n",
    "r = dict(moskva=495, piter=812, penza=8412)\n",
    "print(r)"
   ],
   "metadata": {
    "collapsed": false,
    "pycharm": {
     "name": "#%%\n"
    }
   }
  },
  {
   "cell_type": "code",
   "execution_count": 66,
   "outputs": [
    {
     "name": "stdout",
     "output_type": "stream",
     "text": [
      "{'moskva': 495, 'piter': 812, 'penza': 8412}\n",
      "{'a': 100, 'b': 100, 'c': 100}\n",
      "{} <class 'dict'>\n",
      "{}\n"
     ]
    }
   ],
   "source": [
    "a = [['moskva', 495], ['piter', 812], ['penza', 8412]]\n",
    "t = dict(a)\n",
    "print(t)\n",
    "q = dict.fromkeys(['a', 'b', 'c'], 100)\n",
    "print(q)\n",
    "v = {}\n",
    "print(v, type(v))\n",
    "z = dict()\n",
    "print(z)"
   ],
   "metadata": {
    "collapsed": false,
    "pycharm": {
     "name": "#%%\n"
    }
   }
  },
  {
   "cell_type": "code",
   "execution_count": 73,
   "outputs": [
    {
     "name": "stdout",
     "output_type": "stream",
     "text": [
      "{'moskva': '4', 'piter': 812, 'penza': 8412, 4: 'four', 'four': '4'}\n"
     ]
    }
   ],
   "source": [
    "d = {\n",
    "    'moskva': 495,\n",
    "    'piter': 812,\n",
    "    'penza': 8412\n",
    "}\n",
    "\n",
    "d[4] = 'four'\n",
    "d['four'] = '4'\n",
    "d['moskva'] = '4'\n",
    "print(d)\n"
   ],
   "metadata": {
    "collapsed": false,
    "pycharm": {
     "name": "#%%\n"
    }
   }
  },
  {
   "cell_type": "code",
   "execution_count": 77,
   "outputs": [
    {
     "name": "stdout",
     "output_type": "stream",
     "text": [
      "['IVANOV', 'IVAN', 'Samara', 'SGU', '5', '4', '5', '5', '4', '3', '5']\n",
      "{'lastName': 'IVANOV', 'firstName': 'IVAN', 'city': 'Samara', 'university': 'SGU', 'marks': [5, 4, 5, 5, 4, 3, 5]}\n"
     ]
    }
   ],
   "source": [
    "person = {}\n",
    "s = \"IVANOV IVAN Samara SGU 5 4 5 5 4 3 5\"\n",
    "s = s.split()\n",
    "person['lastName'] = s[0]\n",
    "person['firstName'] = s[1]\n",
    "person['city'] = s[2]\n",
    "person['university'] = s[3]\n",
    "person['marks'] = []\n",
    "for i in s[4:]:\n",
    "    person['marks'].append(int(i))\n",
    "print(s)\n",
    "print(person)"
   ],
   "metadata": {
    "collapsed": false,
    "pycharm": {
     "name": "#%%\n"
    }
   }
  },
  {
   "cell_type": "code",
   "execution_count": 79,
   "outputs": [
    {
     "name": "stdout",
     "output_type": "stream",
     "text": [
      "{'moskva': 495, 'piter': 812, 'penza': 8412}\n",
      "{'moskva': 495, 'penza': 8412}\n"
     ]
    },
    {
     "ename": "KeyError",
     "evalue": "'p'",
     "output_type": "error",
     "traceback": [
      "\u001B[1;31m---------------------------------------------------------------------------\u001B[0m",
      "\u001B[1;31mKeyError\u001B[0m                                  Traceback (most recent call last)",
      "\u001B[1;32m<ipython-input-79-558bcf4bc74c>\u001B[0m in \u001B[0;36m<module>\u001B[1;34m\u001B[0m\n\u001B[0;32m      8\u001B[0m \u001B[1;32mdel\u001B[0m \u001B[0md\u001B[0m\u001B[1;33m[\u001B[0m\u001B[1;34m'piter'\u001B[0m\u001B[1;33m]\u001B[0m\u001B[1;33m\u001B[0m\u001B[1;33m\u001B[0m\u001B[0m\n\u001B[0;32m      9\u001B[0m \u001B[0mprint\u001B[0m\u001B[1;33m(\u001B[0m\u001B[0md\u001B[0m\u001B[1;33m)\u001B[0m\u001B[1;33m\u001B[0m\u001B[1;33m\u001B[0m\u001B[0m\n\u001B[1;32m---> 10\u001B[1;33m \u001B[1;32mdel\u001B[0m \u001B[0md\u001B[0m\u001B[1;33m[\u001B[0m\u001B[1;34m'p'\u001B[0m\u001B[1;33m]\u001B[0m\u001B[1;33m\u001B[0m\u001B[1;33m\u001B[0m\u001B[0m\n\u001B[0m",
      "\u001B[1;31mKeyError\u001B[0m: 'p'"
     ]
    }
   ],
   "source": [
    "d = {\n",
    "    'moskva': 495,\n",
    "    'piter': 812,\n",
    "    'penza': 8412\n",
    "}\n",
    "\n",
    "print(d)\n",
    "del d['piter']\n",
    "print(d)\n",
    "del d['p']"
   ],
   "metadata": {
    "collapsed": false,
    "pycharm": {
     "name": "#%%\n"
    }
   }
  },
  {
   "cell_type": "code",
   "execution_count": 83,
   "outputs": [
    {
     "name": "stdout",
     "output_type": "stream",
     "text": [
      "{'moskva': 495, 'piter': 812, 'penza': 8412}\n",
      "3\n",
      "False\n",
      "True\n",
      "False\n",
      "{'moskva': 495, 'piter': 812, 'penza': 8412, 5: 'five'}\n"
     ]
    }
   ],
   "source": [
    "d = {\n",
    "    'moskva': 495,\n",
    "    'piter': 812,\n",
    "    'penza': 8412\n",
    "}\n",
    "\n",
    "print(d)\n",
    "print(len(d))\n",
    "print(1 in d)\n",
    "print('piter' in d)\n",
    "print('piter' not in d)\n",
    "if '5' in d:\n",
    "    print(d[5])\n",
    "else:\n",
    "    d[5] = 'five'\n",
    "\n",
    "print(d)"
   ],
   "metadata": {
    "collapsed": false,
    "pycharm": {
     "name": "#%%\n"
    }
   }
  },
  {
   "cell_type": "code",
   "execution_count": 84,
   "outputs": [
    {
     "name": "stdout",
     "output_type": "stream",
     "text": [
      "moskva 495\n",
      "piter 812\n",
      "penza 8412\n"
     ]
    }
   ],
   "source": [
    "d = {\n",
    "    'moskva': 495,\n",
    "    'piter': 812,\n",
    "    'penza': 8412\n",
    "}\n",
    "\n",
    "for key in d:\n",
    "    print(key, d[key])"
   ],
   "metadata": {
    "collapsed": false,
    "pycharm": {
     "name": "#%%\n"
    }
   }
  },
  {
   "cell_type": "code",
   "execution_count": 85,
   "outputs": [
    {
     "name": "stdout",
     "output_type": "stream",
     "text": [
      "{}\n"
     ]
    }
   ],
   "source": [
    "d = {\n",
    "    'moskva': 495,\n",
    "    'piter': 812,\n",
    "    'penza': 8412\n",
    "}\n",
    "\n",
    "d.clear()\n",
    "print(d)"
   ],
   "metadata": {
    "collapsed": false,
    "pycharm": {
     "name": "#%%\n"
    }
   }
  },
  {
   "cell_type": "code",
   "execution_count": 87,
   "outputs": [
    {
     "name": "stdout",
     "output_type": "stream",
     "text": [
      "{'moskva': 495, 'piter': 812, 'penza': 8412}\n",
      "The key does not exists\n",
      "812\n",
      "{'moskva': 495, 'piter': 812, 'penza': 8412}\n"
     ]
    }
   ],
   "source": [
    "d = {\n",
    "    'moskva': 495,\n",
    "    'piter': 812,\n",
    "    'penza': 8412\n",
    "}\n",
    "\n",
    "print(d)\n",
    "print(d.get(5, 'The key does not exists'))\n",
    "print(d.get('piter', 'The key does not exists'))\n",
    "print(d)"
   ],
   "metadata": {
    "collapsed": false,
    "pycharm": {
     "name": "#%%\n"
    }
   }
  },
  {
   "cell_type": "code",
   "execution_count": 93,
   "outputs": [
    {
     "name": "stdout",
     "output_type": "stream",
     "text": [
      "{'moskva': 495, 'piter': 812, 'penza': 8412}\n",
      "six\n",
      "None\n",
      "812\n",
      "{'moskva': 495, 'piter': 812, 'penza': 8412, 6: 'six', 7: None}\n"
     ]
    }
   ],
   "source": [
    "d = {\n",
    "    'moskva': 495,\n",
    "    'piter': 812,\n",
    "    'penza': 8412\n",
    "}\n",
    "\n",
    "print(d)\n",
    "print(d.setdefault(6, 'six'))\n",
    "print(d.setdefault(7))\n",
    "print(d.setdefault('piter'))\n",
    "print(d)"
   ],
   "metadata": {
    "collapsed": false,
    "pycharm": {
     "name": "#%%\n"
    }
   }
  },
  {
   "cell_type": "code",
   "execution_count": 95,
   "outputs": [
    {
     "name": "stdout",
     "output_type": "stream",
     "text": [
      "{'moskva': 495, 'piter': 812, 'penza': 8412}\n",
      "495\n",
      "{'piter': 812, 'penza': 8412}\n"
     ]
    }
   ],
   "source": [
    "d = {\n",
    "    'moskva': 495,\n",
    "    'piter': 812,\n",
    "    'penza': 8412\n",
    "}\n",
    "\n",
    "print(d)\n",
    "print(d.pop('moskva'))\n",
    "print(d)"
   ],
   "metadata": {
    "collapsed": false,
    "pycharm": {
     "name": "#%%\n"
    }
   }
  },
  {
   "cell_type": "code",
   "execution_count": 97,
   "outputs": [
    {
     "name": "stdout",
     "output_type": "stream",
     "text": [
      "{'moskva': 495, 'piter': 812, 'penza': 8412}\n",
      "('penza', 8412)\n",
      "{'moskva': 495, 'piter': 812}\n",
      "('piter', 812)\n",
      "{'moskva': 495}\n"
     ]
    }
   ],
   "source": [
    "d = {\n",
    "    'moskva': 495,\n",
    "    'piter': 812,\n",
    "    'penza': 8412\n",
    "}\n",
    "\n",
    "print(d)\n",
    "print(d.popitem())\n",
    "print(d)\n",
    "print(d.popitem())\n",
    "print(d)"
   ],
   "metadata": {
    "collapsed": false,
    "pycharm": {
     "name": "#%%\n"
    }
   }
  },
  {
   "cell_type": "code",
   "execution_count": 105,
   "outputs": [
    {
     "name": "stdout",
     "output_type": "stream",
     "text": [
      "dict_keys(['moskva', 'piter', 'penza'])\n",
      "\n",
      "moskva\n",
      "piter\n",
      "penza\n",
      "\n",
      "495\n",
      "812\n",
      "8412\n",
      "\n",
      "moskva 495\n",
      "piter 812\n",
      "penza 8412\n",
      "\n",
      "moskva 495\n",
      "piter 812\n",
      "penza 8412\n",
      "\n"
     ]
    }
   ],
   "source": [
    "d = {\n",
    "    'moskva': 495,\n",
    "    'piter': 812,\n",
    "    'penza': 8412\n",
    "}\n",
    "\n",
    "print(d.keys())\n",
    "print()\n",
    "\n",
    "for key in d.keys():\n",
    "    print(key)\n",
    "print()\n",
    "\n",
    "for values in d.values():\n",
    "    print(values)\n",
    "print()\n",
    "\n",
    "for key, values in d.items():\n",
    "    print(key, values)\n",
    "print()\n",
    "\n",
    "for items in d.items():\n",
    "    print(items[0], items[1])\n",
    "print()"
   ],
   "metadata": {
    "collapsed": false,
    "pycharm": {
     "name": "#%%\n"
    }
   }
  }
 ],
 "metadata": {
  "kernelspec": {
   "display_name": "Python 3",
   "language": "python",
   "name": "python3"
  },
  "language_info": {
   "codemirror_mode": {
    "name": "ipython",
    "version": 2
   },
   "file_extension": ".py",
   "mimetype": "text/x-python",
   "name": "python",
   "nbconvert_exporter": "python",
   "pygments_lexer": "ipython2",
   "version": "2.7.6"
  }
 },
 "nbformat": 4,
 "nbformat_minor": 0
}