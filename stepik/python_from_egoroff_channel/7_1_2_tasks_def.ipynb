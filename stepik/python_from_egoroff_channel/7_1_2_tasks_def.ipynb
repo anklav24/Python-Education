{
 "cells": [
  {
   "cell_type": "code",
   "execution_count": null,
   "metadata": {
    "collapsed": true
   },
   "outputs": [],
   "source": [
    "def keanu_reeves():\n",
    "    print(\"YOU'RE BREATHTAKING\")"
   ]
  },
  {
   "cell_type": "code",
   "execution_count": 8,
   "outputs": [
    {
     "name": "stdout",
     "output_type": "stream",
     "text": [
      "Я знаю, что сумма чисел от 1 до 5 равна 15\n",
      "None\n"
     ]
    }
   ],
   "source": [
    "def summa_n(t: int) -> str:\n",
    "    \"\"\"Finds sum of numbers from 1 till t.\"\"\"\n",
    "    summ = 0\n",
    "    for n in range(1, t + 1):\n",
    "        summ += n\n",
    "    print(f'Я знаю, что сумма чисел от 1 до {t} равна {summ}')\n",
    "\n",
    "print(summa_n(5))"
   ],
   "metadata": {
    "collapsed": false,
    "pycharm": {
     "name": "#%%\n"
    }
   }
  },
  {
   "cell_type": "code",
   "execution_count": 10,
   "outputs": [
    {
     "name": "stdout",
     "output_type": "stream",
     "text": [
      "Я знаю, что сумма чисел от 1 до 5 равна 15\n",
      "None\n"
     ]
    }
   ],
   "source": [
    "def summa_n(t: int) -> str:\n",
    "    \"\"\"Finds sum of numbers from 1 till t.\"\"\"\n",
    "    s = sum(range(1, t + 1))\n",
    "    print(f'Я знаю, что сумма чисел от 1 до {t} равна {s}')\n",
    "\n",
    "print(summa_n(5))"
   ],
   "metadata": {
    "collapsed": false,
    "pycharm": {
     "name": "#%%\n"
    }
   }
  },
  {
   "cell_type": "code",
   "execution_count": 96,
   "outputs": [
    {
     "name": "stdout",
     "output_type": "stream",
     "text": [
      "Perfect password\n",
      "None\n",
      "Perfect password\n",
      "None\n",
      "Easy peasy\n",
      "None\n",
      "Easy peasy\n",
      "None\n",
      "Easy peasy\n",
      "None\n",
      "Perfect password\n",
      "None\n",
      "Easy peasy\n",
      "None\n",
      "Easy peasy\n",
      "None\n"
     ]
    }
   ],
   "source": [
    "def check_password(password: str) -> str:\n",
    "    \"\"\"Check password\"\"\"\n",
    "    isdigit = isupper = issymbols = False\n",
    "    count_digits = 0\n",
    "    if len(password) >= 10:\n",
    "        for letter in password:\n",
    "            if letter.isupper(): isupper = True\n",
    "            if letter in \"!@#$%\": issymbols = True\n",
    "            if letter.isdigit():\n",
    "                count_digits += 1\n",
    "                if count_digits >= 3: isdigit = True\n",
    "\n",
    "    print(\"Perfect password\" if isdigit and isupper and issymbols else \"Easy peasy\")\n",
    "\n",
    "print(check_password(\"Abcd1234!@#$\"))\n",
    "print(check_password(\"aBcd1234!@#$\"))\n",
    "print(check_password(\"aBcd123411\"))\n",
    "print(check_password(\"aBcd1234\"))\n",
    "print(check_password(\"Abcd34!@#$\"))\n",
    "print(check_password(\"Abc234!@#$\"))\n",
    "print(check_password(\"abc234!@#$\"))\n",
    "print(check_password(\"qwerty\"))\n"
   ],
   "metadata": {
    "collapsed": false,
    "pycharm": {
     "name": "#%%\n"
    }
   }
  }
 ],
 "metadata": {
  "kernelspec": {
   "display_name": "Python 3",
   "language": "python",
   "name": "python3"
  },
  "language_info": {
   "codemirror_mode": {
    "name": "ipython",
    "version": 2
   },
   "file_extension": ".py",
   "mimetype": "text/x-python",
   "name": "python",
   "nbconvert_exporter": "python",
   "pygments_lexer": "ipython2",
   "version": "2.7.6"
  }
 },
 "nbformat": 4,
 "nbformat_minor": 0
}