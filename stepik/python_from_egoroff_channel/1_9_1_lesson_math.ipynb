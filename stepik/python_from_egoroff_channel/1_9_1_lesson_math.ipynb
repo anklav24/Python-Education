{
 "cells": [
  {
   "cell_type": "code",
   "execution_count": 5,
   "metadata": {
    "collapsed": true,
    "pycharm": {
     "is_executing": false
    }
   },
   "outputs": [
    {
     "name": "stdout",
     "text": [
      "32\n",
      "32\n",
      "32\n",
      "32\n",
      "32\n",
      "32\n"
     ],
     "output_type": "stream"
    }
   ],
   "source": [
    "# Отсечение дробной части. Любой.\n",
    "import math\n",
    "\n",
    "print(math.trunc(32.3))\n",
    "print(math.trunc(32.9))\n",
    "print(math.trunc(32.5))\n",
    "\n",
    "print(int(32.3))\n",
    "print(int(32.9))\n",
    "print(int(32.5))"
   ]
  },
  {
   "cell_type": "code",
   "execution_count": 11,
   "outputs": [
    {
     "name": "stdout",
     "text": [
      "32\n",
      "32\n",
      "32\n",
      "-4\n",
      "-4\n",
      "-4\n"
     ],
     "output_type": "stream"
    }
   ],
   "source": [
    "# Округление вниз.\n",
    "print(math.floor(32.1))\n",
    "print(math.floor(32.5))\n",
    "print(math.floor(32.9))\n",
    "# Внимательно с отрицательными\n",
    "print(math.floor(-3.2))\n",
    "print(math.floor(-3.9))\n",
    "print(math.floor(-3.5))"
   ],
   "metadata": {
    "collapsed": false,
    "pycharm": {
     "name": "#%%\n",
     "is_executing": false
    }
   }
  },
  {
   "cell_type": "code",
   "execution_count": 14,
   "outputs": [
    {
     "name": "stdout",
     "text": [
      "5\n",
      "5\n",
      "5\n",
      "-4\n",
      "-4\n",
      "-4\n"
     ],
     "output_type": "stream"
    }
   ],
   "source": [
    "# Округление вверх.\n",
    "print(math.ceil(4.5))\n",
    "print(math.ceil(4.1))\n",
    "print(math.ceil(4.9))\n",
    "# Внимательно с отрицательными\n",
    "print(math.ceil(-4.5))\n",
    "print(math.ceil(-4.9))\n",
    "print(math.ceil(-4.1))"
   ],
   "metadata": {
    "collapsed": false,
    "pycharm": {
     "name": "#%%\n",
     "is_executing": false
    }
   }
  },
  {
   "cell_type": "code",
   "execution_count": 17,
   "outputs": [
    {
     "name": "stdout",
     "text": [
      "5\n",
      "5\n",
      "4\n",
      "4\n"
     ],
     "output_type": "stream"
    }
   ],
   "source": [
    "print(round(4.9))\n",
    "print(round(4.501))\n",
    "print(round(4.5))\n",
    "print(round(4.3))\n"
   ],
   "metadata": {
    "collapsed": false,
    "pycharm": {
     "name": "#%%\n",
     "is_executing": false
    }
   }
  }
 ],
 "metadata": {
  "kernelspec": {
   "display_name": "Python 3",
   "language": "python",
   "name": "python3"
  },
  "language_info": {
   "codemirror_mode": {
    "name": "ipython",
    "version": 2
   },
   "file_extension": ".py",
   "mimetype": "text/x-python",
   "name": "python",
   "nbconvert_exporter": "python",
   "pygments_lexer": "ipython2",
   "version": "2.7.6"
  },
  "pycharm": {
   "stem_cell": {
    "cell_type": "raw",
    "source": [],
    "metadata": {
     "collapsed": false
    }
   }
  }
 },
 "nbformat": 4,
 "nbformat_minor": 0
}