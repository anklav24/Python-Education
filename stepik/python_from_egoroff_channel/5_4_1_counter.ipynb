{
 "cells": [
  {
   "cell_type": "code",
   "execution_count": 3,
   "outputs": [
    {
     "name": "stdout",
     "output_type": "stream",
     "text": [
      "[1, 2, 2, 2, 2, 3]\n",
      "0 1\n",
      "1 2\n",
      "2 2\n",
      "3 2\n",
      "4 2\n",
      "5 3\n"
     ]
    }
   ],
   "source": [
    "a = [0, 1, 2, 3, 5, 5, 4, 5, 1, 2, 3, 4]\n",
    "count = [0] * 6\n",
    "for i in a:\n",
    "    count[i] += 1\n",
    "print(count)\n",
    "\n",
    "for i in range(6):\n",
    "    if count[i] > 0:\n",
    "        print(i, count[i])"
   ],
   "metadata": {
    "collapsed": false,
    "pycharm": {
     "name": "#%%\n"
    }
   }
  },
  {
   "cell_type": "code",
   "execution_count": 11,
   "metadata": {
    "collapsed": true
   },
   "outputs": [
    {
     "name": "stdout",
     "output_type": "stream",
     "text": [
      "[1, 2, 2, 2, 2, 3]\n",
      "0 1 1 2 2 3 3 4 4 5 5 5 "
     ]
    }
   ],
   "source": [
    "# Сортировка методом подсчета\n",
    "a = [0, 1, 2, 3, 5, 5, 4, 5, 1, 2, 3, 4]\n",
    "count = [0] * 6\n",
    "for i in a:\n",
    "    count[i] += 1\n",
    "print(count)\n",
    "\n",
    "for i in range(6):\n",
    "    if count[i] > 0:\n",
    "        print((str(i) + ' ') * count[i], end='')"
   ]
  },
  {
   "cell_type": "code",
   "execution_count": null,
   "outputs": [],
   "source": [
    "s = 'abcz aaajhdf HG jgkfYGg jhgkdf 543 *(^($&*#'\n",
    "letters = [0] * 26\n",
    "for i in s.lower():\n",
    "    if 'a' <= i <= 'z':\n",
    "        number = ord(i) - 97\n",
    "        letters[number] += 1\n",
    "\n",
    "for i in range(26):\n",
    "    if letters[i] > 0:\n",
    "        print(chr(i + 97), letters[i])"
   ],
   "metadata": {
    "collapsed": false,
    "pycharm": {
     "name": "#%%\n"
    }
   }
  },
  {
   "cell_type": "code",
   "execution_count": 8,
   "outputs": [
    {
     "name": "stdout",
     "output_type": "stream",
     "text": [
      "aaaabcddfffggggghhhjjjkkyz"
     ]
    }
   ],
   "source": [
    "s = 'abcz aaajhdf HG jgkfYGg jhgkdf 543 *(^($&*#'\n",
    "letters = [0] * 26\n",
    "for i in s.lower():\n",
    "    if 'a' <= i <= 'z':\n",
    "        number = ord(i) - 97\n",
    "        letters[number] += 1\n",
    "\n",
    "for i in range(26):\n",
    "    if letters[i] > 0:\n",
    "        print(chr(i + 97) * letters[i], end='')"
   ],
   "metadata": {
    "collapsed": false,
    "pycharm": {
     "name": "#%%\n"
    }
   }
  },
  {
   "cell_type": "code",
   "execution_count": 19,
   "outputs": [
    {
     "name": "stdout",
     "output_type": "stream",
     "text": [
      "[-1, 4, 3, 5, -6, 4, -8, 0, 7, -6]\n",
      "-10 0\n",
      "-9 0\n",
      "-8 1\n",
      "-7 0\n",
      "-6 2\n",
      "-5 0\n",
      "-4 0\n",
      "-3 0\n",
      "-2 0\n",
      "-1 1\n",
      "0 1\n",
      "1 0\n",
      "2 0\n",
      "3 1\n",
      "4 2\n",
      "5 1\n",
      "6 0\n",
      "7 1\n",
      "8 0\n",
      "9 0\n",
      "10 0\n"
     ]
    }
   ],
   "source": [
    "a = []\n",
    "import random\n",
    "for i in range(10):\n",
    "    a.append(random.randint(-10, 10))\n",
    "\n",
    "count = [0] * 21\n",
    "\n",
    "for i in a:\n",
    "    count[i + 10] += 1\n",
    "\n",
    "print(a)\n",
    "\n",
    "for i in range(21):\n",
    "    print(i - 10, count[i])"
   ],
   "metadata": {
    "collapsed": false,
    "pycharm": {
     "name": "#%%\n"
    }
   }
  },
  {
   "cell_type": "code",
   "execution_count": 2,
   "outputs": [],
   "source": [
    "a = [3, 4, 3, 3, 5, 4, 6, 3]\n",
    "while 3 in a:\n",
    "    a.remove(3)"
   ],
   "metadata": {
    "collapsed": false,
    "pycharm": {
     "name": "#%%\n"
    }
   }
  }
 ],
 "metadata": {
  "kernelspec": {
   "display_name": "Python 3",
   "language": "python",
   "name": "python3"
  },
  "language_info": {
   "codemirror_mode": {
    "name": "ipython",
    "version": 2
   },
   "file_extension": ".py",
   "mimetype": "text/x-python",
   "name": "python",
   "nbconvert_exporter": "python",
   "pygments_lexer": "ipython2",
   "version": "2.7.6"
  }
 },
 "nbformat": 4,
 "nbformat_minor": 0
}