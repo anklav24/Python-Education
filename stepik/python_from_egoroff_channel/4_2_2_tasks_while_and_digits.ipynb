{
 "cells": [
  {
   "cell_type": "code",
   "execution_count": 11,
   "metadata": {
    "collapsed": true,
    "pycharm": {
     "name": "#%%\n"
    }
   },
   "outputs": [
    {
     "name": "stdout",
     "output_type": "stream",
     "text": [
      "20\n"
     ]
    }
   ],
   "source": [
    "n, last_digit, summ = int(input()), 0, 0\n",
    "\n",
    "while n > 0:\n",
    "    last_digit = n % 10\n",
    "    summ += last_digit\n",
    "    n = n // 10\n",
    "\n",
    "print(summ)"
   ]
  },
  {
   "cell_type": "code",
   "execution_count": 17,
   "outputs": [
    {
     "name": "stdout",
     "output_type": "stream",
     "text": [
      "6\n"
     ]
    }
   ],
   "source": [
    "n, s = int(input()), 0\n",
    "\n",
    "while n > 0:\n",
    "    s += n % 10\n",
    "    n //= 10\n",
    "\n",
    "print(s)"
   ],
   "metadata": {
    "collapsed": false,
    "pycharm": {
     "name": "#%%\n"
    }
   }
  },
  {
   "cell_type": "code",
   "execution_count": 21,
   "outputs": [
    {
     "name": "stdout",
     "output_type": "stream",
     "text": [
      "0\n"
     ]
    }
   ],
   "source": [
    "# pr - product_of_numbers\n",
    "n, pr = int(input()), 1\n",
    "\n",
    "while n > 0:\n",
    "    pr *= n % 10\n",
    "    n //= 10\n",
    "\n",
    "print(pr)"
   ],
   "metadata": {
    "collapsed": false,
    "pycharm": {
     "name": "#%%\n"
    }
   }
  },
  {
   "cell_type": "code",
   "execution_count": null,
   "outputs": [],
   "source": [
    "# n - number\n",
    "# count - counter\n",
    "n, count = int(input()), 0\n",
    "\n",
    "while n > 0:\n",
    "    if n % 10 == 7:\n",
    "        count += 1\n",
    "    n //= 10\n",
    "\n",
    "print(count)\n"
   ],
   "metadata": {
    "collapsed": false,
    "pycharm": {
     "name": "#%%\n",
     "is_executing": true
    }
   }
  }
 ],
 "metadata": {
  "kernelspec": {
   "display_name": "Python 3",
   "language": "python",
   "name": "python3"
  },
  "language_info": {
   "codemirror_mode": {
    "name": "ipython",
    "version": 2
   },
   "file_extension": ".py",
   "mimetype": "text/x-python",
   "name": "python",
   "nbconvert_exporter": "python",
   "pygments_lexer": "ipython2",
   "version": "2.7.6"
  }
 },
 "nbformat": 4,
 "nbformat_minor": 0
}