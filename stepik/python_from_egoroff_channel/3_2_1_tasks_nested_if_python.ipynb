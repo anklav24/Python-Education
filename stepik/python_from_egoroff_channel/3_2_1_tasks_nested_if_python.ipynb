{
 "cells": [
  {
   "cell_type": "code",
   "execution_count": null,
   "outputs": [],
   "source": [
    "a, b = int(input()), int(input())\n",
    "\n",
    "if a < b:\n",
    "    print('<')\n",
    "else:\n",
    "    print('>')"
   ],
   "metadata": {
    "collapsed": false,
    "pycharm": {
     "name": "#%%\n"
    }
   }
  },
  {
   "cell_type": "code",
   "execution_count": 2,
   "outputs": [
    {
     "name": "stdout",
     "output_type": "stream",
     "text": [
      "<\n"
     ]
    }
   ],
   "source": [
    "print('<' if int(input()) < int(input()) else '>')"
   ],
   "metadata": {
    "collapsed": false,
    "pycharm": {
     "name": "#%%\n"
    }
   }
  },
  {
   "cell_type": "code",
   "execution_count": 4,
   "outputs": [
    {
     "name": "stdout",
     "output_type": "stream",
     "text": [
      "<\n"
     ]
    }
   ],
   "source": [
    "a, b = int(input()), int(input())\n",
    "print('<' if a < b else '>')"
   ],
   "metadata": {
    "collapsed": false,
    "pycharm": {
     "name": "#%%\n"
    }
   }
  },
  {
   "cell_type": "code",
   "execution_count": 9,
   "outputs": [
    {
     "name": "stdout",
     "output_type": "stream",
     "text": [
      "=\n"
     ]
    }
   ],
   "source": [
    "a, b = int(input()), int(input())\n",
    "print('<' if a < b else '>' if a != b else '=')"
   ],
   "metadata": {
    "collapsed": false,
    "pycharm": {
     "name": "#%%\n"
    }
   }
  },
  {
   "cell_type": "code",
   "execution_count": 6,
   "outputs": [
    {
     "name": "stdout",
     "output_type": "stream",
     "text": [
      "<\n"
     ]
    }
   ],
   "source": [
    "a, b = int(input()), int(input())\n",
    "\n",
    "if a == b:\n",
    "    print('=')\n",
    "else:\n",
    "    if a < b:\n",
    "        print('<')\n",
    "    else:\n",
    "        print('>')"
   ],
   "metadata": {
    "collapsed": false,
    "pycharm": {
     "name": "#%%\n"
    }
   }
  },
  {
   "cell_type": "code",
   "execution_count": 13,
   "outputs": [
    {
     "name": "stdout",
     "output_type": "stream",
     "text": [
      "3\n"
     ]
    }
   ],
   "source": [
    "a, b, c = int(input()), int(input()), int(input())\n",
    "if a > b:\n",
    "    if a > c:\n",
    "        print(a)\n",
    "    else:\n",
    "        print(c)\n",
    "else:\n",
    "    if b > c:\n",
    "        print(b)\n",
    "    else:\n",
    "        print(c)"
   ],
   "metadata": {
    "collapsed": false,
    "pycharm": {
     "name": "#%%\n"
    }
   }
  },
  {
   "cell_type": "code",
   "execution_count": null,
   "outputs": [],
   "source": [
    "N = int(input())\n",
    "if N % 2 == 0:\n",
    "    print(int(N / 2))\n",
    "else:\n",
    "    print(N)"
   ],
   "metadata": {
    "collapsed": false,
    "pycharm": {
     "name": "#%%\n"
    }
   }
  },
  {
   "cell_type": "code",
   "execution_count": 19,
   "outputs": [
    {
     "name": "stdout",
     "output_type": "stream",
     "text": [
      "10\n"
     ]
    }
   ],
   "source": [
    "first, second, third = [int(i) for i in input().split()]\n",
    "max_pay, min_pay = 0, 0\n",
    "\n",
    "if first > second:\n",
    "    if first >= third:\n",
    "        max_pay = first\n",
    "    else:\n",
    "        max_pay = second\n",
    "else:\n",
    "    if second >= third:\n",
    "        max_pay = second\n",
    "    else:\n",
    "        max_pay = third\n",
    "\n",
    "if first < second:\n",
    "    if first <= third:\n",
    "        min_pay = first\n",
    "    else:\n",
    "        if second <= third:\n",
    "            min_pay = second\n",
    "        else:\n",
    "            min_pay = third\n",
    "else:\n",
    "    if second <= third:\n",
    "        min_pay = second\n",
    "    else:\n",
    "        min_pay = third\n",
    "print(max_pay - min_pay)"
   ],
   "metadata": {
    "collapsed": false,
    "pycharm": {
     "name": "#%%\n"
    }
   }
  },
  {
   "cell_type": "code",
   "execution_count": 20,
   "outputs": [
    {
     "name": "stdout",
     "output_type": "stream",
     "text": [
      "1\n"
     ]
    }
   ],
   "source": [
    "a, b, c = [int(i) for i in input().split()]\n",
    "min = a\n",
    "max = a\n",
    "if c > a:\n",
    "    if c > b:\n",
    "        max = c\n",
    "    else:\n",
    "        max = b\n",
    "else:\n",
    "    if b > a:\n",
    "        max = b\n",
    "    else:\n",
    "        max = a\n",
    "if c < a:\n",
    "    if c < b:\n",
    "        min = c\n",
    "    else:\n",
    "        min = b\n",
    "else:\n",
    "    if b < a:\n",
    "        min = b\n",
    "    else:\n",
    "        min = a\n",
    "print(max - min)"
   ],
   "metadata": {
    "collapsed": false,
    "pycharm": {
     "name": "#%%\n"
    }
   }
  },
  {
   "cell_type": "code",
   "execution_count": 25,
   "outputs": [
    {
     "name": "stdout",
     "output_type": "stream",
     "text": [
      "0\n"
     ]
    }
   ],
   "source": [
    "str1, str2 = [input().lower() for i in range(2)]\n",
    "print('-1' if str1 < str2 else '1' if str1 != str2 else '0')"
   ],
   "metadata": {
    "collapsed": false,
    "pycharm": {
     "name": "#%%\n"
    }
   }
  },
  {
   "cell_type": "code",
   "execution_count": 26,
   "outputs": [
    {
     "name": "stdout",
     "output_type": "stream",
     "text": [
      "0\n"
     ]
    }
   ],
   "source": [
    "# Community solve\n",
    "\n",
    "a, b = input().lower(), input().lower()\n",
    "print(int(a > b) - int(b > a))"
   ],
   "metadata": {
    "collapsed": false,
    "pycharm": {
     "name": "#%%\n"
    }
   }
  },
  {
   "cell_type": "code",
   "execution_count": 35,
   "outputs": [
    {
     "name": "stdout",
     "output_type": "stream",
     "text": [
      "7 14\n",
      "First\n"
     ]
    }
   ],
   "source": [
    "s, v1, v2, t1, t2 = [int(i) for i in input().split()]\n",
    "First = t1 + s * v1 + t1\n",
    "Second = t2 + s * v2 + t2\n",
    "print('First' if First < Second else 'Second' if First != Second else 'Friendship')"
   ],
   "metadata": {
    "collapsed": false,
    "pycharm": {
     "name": "#%%\n"
    }
   }
  },
  {
   "cell_type": "code",
   "execution_count": 37,
   "outputs": [
    {
     "name": "stdout",
     "output_type": "stream",
     "text": [
      "Good\n"
     ]
    }
   ],
   "source": [
    "word1, word2 = [input().lower() for i in range(2)]\n",
    "if word1[-1] == 'ь':\n",
    "    print('Good' if word1[-2] == word2[0] else 'Bad')\n",
    "else:\n",
    "    print('Good' if word1[-1] == word2[0] else 'Bad')\n",
    "\n",
    "\n",
    "\n"
   ],
   "metadata": {
    "collapsed": false,
    "pycharm": {
     "name": "#%%\n"
    }
   }
  }
 ],
 "metadata": {
  "kernelspec": {
   "display_name": "Python 3",
   "language": "python",
   "name": "python3"
  },
  "language_info": {
   "codemirror_mode": {
    "name": "ipython",
    "version": 2
   },
   "file_extension": ".py",
   "mimetype": "text/x-python",
   "name": "python",
   "nbconvert_exporter": "python",
   "pygments_lexer": "ipython2",
   "version": "2.7.6"
  }
 },
 "nbformat": 4,
 "nbformat_minor": 0
}