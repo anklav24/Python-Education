{
 "cells": [
  {
   "cell_type": "code",
   "execution_count": 3,
   "metadata": {
    "collapsed": true
   },
   "outputs": [
    {
     "name": "stdout",
     "output_type": "stream",
     "text": [
      "Hello\n",
      "World\n",
      "and everybody\n",
      "pause\n",
      "\n",
      "Hello\n",
      "World\n",
      "and everybody\n",
      "Квадрат числа 2 = 4\n",
      "Квадрат числа 4 = 16\n",
      "Квадрат числа 1 = 1\n",
      "Квадрат числа 2 = 4\n",
      "Квадрат числа 3 = 9\n",
      "Квадрат числа 4 = 16\n",
      "Квадрат числа 5 = 25\n",
      "Квадрат числа 6 = 36\n",
      "Квадрат числа 7 = 49\n",
      "Квадрат числа 8 = 64\n",
      "Квадрат числа 9 = 81\n",
      "Квадрат числа 10 = 100\n"
     ]
    }
   ],
   "source": [
    "def say_hello():\n",
    "    print('Hello')\n",
    "    print('World')\n",
    "    print('and everybody')\n",
    "\n",
    "\n",
    "def square(x):\n",
    "    print(\"Квадрат числа\", x, \"=\", x ** 2)\n",
    "\n",
    "\n",
    "say_hello()\n",
    "print('pause')\n",
    "print()\n",
    "say_hello()\n",
    "square(2)\n",
    "square(4)\n",
    "\n",
    "for i in range(1, 11):\n",
    "    square(i)"
   ]
  },
  {
   "cell_type": "code",
   "execution_count": 5,
   "outputs": [
    {
     "name": "stdout",
     "output_type": "stream",
     "text": [
      "15\n",
      "25\n",
      "7000\n"
     ]
    }
   ],
   "source": [
    "def multiply(a, b):\n",
    "    print(a * b)\n",
    "\n",
    "\n",
    "multiply(3, 5)\n",
    "multiply(5, 5)\n",
    "multiply(70, 100)"
   ],
   "metadata": {
    "collapsed": false,
    "pycharm": {
     "name": "#%%\n"
    }
   }
  },
  {
   "cell_type": "code",
   "execution_count": 8,
   "outputs": [
    {
     "name": "stdout",
     "output_type": "stream",
     "text": [
      "2 the even number.\n",
      "73 the odd number.\n",
      "20 the even number.\n",
      "21 the odd number.\n",
      "22 the even number.\n",
      "23 the odd number.\n",
      "24 the even number.\n",
      "25 the odd number.\n",
      "26 the even number.\n"
     ]
    }
   ],
   "source": [
    "def even(a):\n",
    "    if a % 2 == 0:\n",
    "        print(a, \"the even number.\")\n",
    "    else:\n",
    "        print(a, \"the odd number.\")\n",
    "\n",
    "\n",
    "even(2)\n",
    "even(73)\n",
    "\n",
    "for i in range(20, 27):\n",
    "    even(i)"
   ],
   "metadata": {
    "collapsed": false,
    "pycharm": {
     "name": "#%%\n"
    }
   }
  },
  {
   "cell_type": "code",
   "execution_count": 13,
   "outputs": [
    {
     "name": "stdout",
     "output_type": "stream",
     "text": [
      "1\n",
      "2\n",
      "6\n",
      "24\n",
      "120\n"
     ]
    }
   ],
   "source": [
    "def factorial(n):\n",
    "    pr = 1\n",
    "    for i in range(2, n + 1):\n",
    "        pr = pr * i\n",
    "    print(pr)\n",
    "\n",
    "\n",
    "factorial(1)\n",
    "factorial(2)\n",
    "factorial(3)\n",
    "factorial(4)\n",
    "factorial(5)"
   ],
   "metadata": {
    "collapsed": false,
    "pycharm": {
     "name": "#%%\n"
    }
   }
  },
  {
   "cell_type": "code",
   "execution_count": 16,
   "outputs": [
    {
     "name": "stdout",
     "output_type": "stream",
     "text": [
      "hello\n"
     ]
    }
   ],
   "source": [
    "if 5 > 1:\n",
    "    def example():\n",
    "        print('hello')\n",
    "else:\n",
    "    def example():\n",
    "        print('HELLO')\n",
    "\n",
    "\n",
    "example()"
   ],
   "metadata": {
    "collapsed": false,
    "pycharm": {
     "name": "#%%\n"
    }
   }
  },
  {
   "cell_type": "code",
   "execution_count": 17,
   "outputs": [
    {
     "name": "stdout",
     "output_type": "stream",
     "text": [
      "HELLO\n"
     ]
    }
   ],
   "source": [
    "def example():\n",
    "    print('hello')\n",
    "def example():\n",
    "    print('HELLO')\n",
    "\n",
    "\n",
    "example()"
   ],
   "metadata": {
    "collapsed": false,
    "pycharm": {
     "name": "#%%\n"
    }
   }
  },
  {
   "cell_type": "code",
   "execution_count": null,
   "outputs": [],
   "source": [],
   "metadata": {
    "collapsed": false,
    "pycharm": {
     "name": "#%%\n"
    }
   }
  }
 ],
 "metadata": {
  "kernelspec": {
   "display_name": "Python 3",
   "language": "python",
   "name": "python3"
  },
  "language_info": {
   "codemirror_mode": {
    "name": "ipython",
    "version": 2
   },
   "file_extension": ".py",
   "mimetype": "text/x-python",
   "name": "python",
   "nbconvert_exporter": "python",
   "pygments_lexer": "ipython2",
   "version": "2.7.6"
  }
 },
 "nbformat": 4,
 "nbformat_minor": 0
}