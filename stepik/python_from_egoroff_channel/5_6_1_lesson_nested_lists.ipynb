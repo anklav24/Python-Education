{
 "cells": [
  {
   "cell_type": "code",
   "execution_count": null,
   "outputs": [],
   "source": [
    "a = [[0, 2, 4, 6], [1, 5, 9, 13], [3, 10, 17, 19]]\n",
    "print(len(a))\n",
    "print(a[2])\n",
    "print(a[2][3])\n",
    "print(a[0][1])\n"
   ],
   "metadata": {
    "collapsed": false,
    "pycharm": {
     "name": "#%%\n"
    }
   }
  },
  {
   "cell_type": "code",
   "execution_count": 5,
   "metadata": {
    "collapsed": true
   },
   "outputs": [
    {
     "name": "stdout",
     "output_type": "stream",
     "text": [
      "3\n",
      "5\n"
     ]
    }
   ],
   "source": [
    "a = [[0, 2, 4, 6], [1, 5, 9, 13], [3, 10, [4, 5, 7, 11], 17, 19]]\n",
    "print(len(a))\n",
    "print(a[2][2][1])"
   ]
  },
  {
   "cell_type": "code",
   "execution_count": 6,
   "outputs": [
    {
     "name": "stdout",
     "output_type": "stream",
     "text": [
      "w\n"
     ]
    }
   ],
   "source": [
    "a = [[0, 2, 4, 6], [1, 5, 9, 13], [3, 10, 17, 19]]\n",
    "# Строка внутри списка является вложенным элементом.\n",
    "# The string inside the list is a nested element.\n",
    "b = ['hello', 'hi', 'world']\n",
    "print(b[2][0])"
   ],
   "metadata": {
    "collapsed": false,
    "pycharm": {
     "name": "#%%\n"
    }
   }
  },
  {
   "cell_type": "code",
   "execution_count": 4,
   "outputs": [
    {
     "name": "stdout",
     "output_type": "stream",
     "text": [
      "0 2 4 6 \n",
      "1 5 9 13 \n",
      "3 10 17 19 \n",
      "0 2 4 6 \n",
      "1 5 9 13 \n",
      "3 10 17 19 \n",
      "\n"
     ]
    }
   ],
   "source": [
    "a = [\n",
    "    [0, 2, 4, 6],\n",
    "    [1, 5, 9, 13],\n",
    "    [3, 10, 17, 19]\n",
    "]\n",
    "\n",
    "# Обход по значения элементов\n",
    "\n",
    "for i in a:\n",
    "    for j in i:\n",
    "        print(j, end=' ')\n",
    "    print()"
   ],
   "metadata": {
    "collapsed": false,
    "pycharm": {
     "name": "#%%\n"
    }
   }
  },
  {
   "cell_type": "code",
   "execution_count": null,
   "outputs": [],
   "source": [
    "# Обход по индексам\n",
    "\n",
    "a = [\n",
    "    [0, 2, 4, 6],\n",
    "    [1, 5, 9, 13],\n",
    "    [3, 10, 17, 19]\n",
    "]\n",
    "\n",
    "for i in range(3):\n",
    "    for j in range(4):\n",
    "        a[i][j] += 10\n",
    "        print(a[i][j], end=' ')\n",
    "    print()\n",
    "print(a)"
   ],
   "metadata": {
    "collapsed": false,
    "pycharm": {
     "name": "#%%\n"
    }
   }
  },
  {
   "cell_type": "code",
   "execution_count": 21,
   "outputs": [
    {
     "name": "stdout",
     "output_type": "stream",
     "text": [
      "0 1 3 \n",
      "2 5 10 \n",
      "4 9 17 \n",
      "6 13 19 \n"
     ]
    }
   ],
   "source": [
    "# Обход по индексам в другом направлении\n",
    "\n",
    "a = [\n",
    "    [0, 2, 4, 6],\n",
    "    [1, 5, 9, 13],\n",
    "    [3, 10, 17, 19]\n",
    "]\n",
    "\n",
    "for j in range(4):\n",
    "    for i in range(3):\n",
    "        print(a[i][j], end=' ')\n",
    "    print()"
   ],
   "metadata": {
    "collapsed": false,
    "pycharm": {
     "name": "#%%\n"
    }
   }
  },
  {
   "cell_type": "code",
   "execution_count": 10,
   "outputs": [
    {
     "name": "stdout",
     "output_type": "stream",
     "text": [
      "19 17 10 3 \n",
      "13 9 5 1 \n",
      "6 4 2 0 \n",
      "12\n",
      "28\n",
      "49\n"
     ]
    }
   ],
   "source": [
    "# Обход по индексам в другом направлении\n",
    "\n",
    "a = [\n",
    "    [0, 2, 4, 6],\n",
    "    [1, 5, 9, 13],\n",
    "    [3, 10, 17, 19]\n",
    "]\n",
    "\n",
    "for i in range(2, -1, -1):\n",
    "    for j in range(3, -1, -1):\n",
    "        print(a[i][j], end=' ')\n",
    "    print()"
   ],
   "metadata": {
    "collapsed": false,
    "pycharm": {
     "name": "#%%\n"
    }
   }
  },
  {
   "cell_type": "code",
   "execution_count": null,
   "outputs": [],
   "source": [
    "# Сумма строк\n",
    "\n",
    "a = [\n",
    "    [0, 2, 4, 6],\n",
    "    [1, 5, 9, 13],\n",
    "    [3, 10, 17, 19]\n",
    "]\n",
    "\n",
    "for i in range(3):\n",
    "    s = 0\n",
    "    for j in range(4):\n",
    "        s += a[i][j]\n",
    "    print(s)"
   ],
   "metadata": {
    "collapsed": false,
    "pycharm": {
     "name": "#%%\n"
    }
   }
  },
  {
   "cell_type": "code",
   "execution_count": 12,
   "outputs": [
    {
     "name": "stdout",
     "output_type": "stream",
     "text": [
      "4\n",
      "17\n",
      "30\n",
      "38\n"
     ]
    }
   ],
   "source": [
    "# Сумма по столбцам\n",
    "\n",
    "a = [\n",
    "    [0, 2, 4, 6],\n",
    "    [1, 5, 9, 13],\n",
    "    [3, 10, 17, 19]\n",
    "]\n",
    "\n",
    "for j in range(4):\n",
    "    s = 0\n",
    "    for i in range(3):\n",
    "        s += a[i][j]\n",
    "    print(s)"
   ],
   "metadata": {
    "collapsed": false,
    "pycharm": {
     "name": "#%%\n"
    }
   }
  },
  {
   "cell_type": "code",
   "execution_count": null,
   "outputs": [],
   "source": [
    "# Заполняем массив\n",
    "a = []\n",
    "n = int(input())\n",
    "m = int(input())\n",
    "\n",
    "for i in range(n):\n",
    "    a.append([0] * m)\n",
    "for i in a:\n",
    "    print(i)"
   ],
   "metadata": {
    "collapsed": false,
    "pycharm": {
     "name": "#%%\n"
    }
   }
  },
  {
   "cell_type": "code",
   "execution_count": 16,
   "outputs": [
    {
     "name": "stdout",
     "output_type": "stream",
     "text": [
      "[17, 28, 36]\n",
      "[3, 2, 1]\n"
     ]
    }
   ],
   "source": [
    "# Заполняем массив\n",
    "a = []\n",
    "n = int(input())\n",
    "m = int(input())\n",
    "\n",
    "for i in range(n):\n",
    "    b = []\n",
    "    for j in range(m):\n",
    "        b.append(int(input()))\n",
    "    a.append(b)\n",
    "\n",
    "for i in a:\n",
    "    print(i)"
   ],
   "metadata": {
    "collapsed": false,
    "pycharm": {
     "name": "#%%\n"
    }
   }
  },
  {
   "cell_type": "code",
   "execution_count": 20,
   "outputs": [
    {
     "name": "stdout",
     "output_type": "stream",
     "text": [
      "[0, 0, 0, 0, 0]\n",
      "[0, 0, 0, 0, 0]\n",
      "[0, 0, 0, 0, 0]\n",
      "[0, 0, 0, 0, 0]\n",
      "[0, 0, 0, 0, 0]\n",
      "\n",
      "[10, 5, 5, 5, 5]\n",
      "[3, 10, 5, 5, 5]\n",
      "[3, 3, 10, 5, 5]\n",
      "[3, 3, 3, 10, 5]\n",
      "[3, 3, 3, 3, 10]\n"
     ]
    }
   ],
   "source": [
    "a = []\n",
    "n = int(input())\n",
    "for i in range(n):\n",
    "    a.append([0] *n)\n",
    "\n",
    "for i in a:\n",
    "    print(i)\n",
    "print()\n",
    "\n",
    "for i in range(n):\n",
    "    for j in range(n):\n",
    "        if i == j:\n",
    "            a[i][j] = 10\n",
    "        elif i > j:\n",
    "            a[i][j] = 3\n",
    "        else:\n",
    "            a[i][j] = 5\n",
    "\n",
    "for i in a:\n",
    "    print(i)\n"
   ],
   "metadata": {
    "collapsed": false,
    "pycharm": {
     "name": "#%%\n"
    }
   }
  }
 ],
 "metadata": {
  "kernelspec": {
   "display_name": "Python 3",
   "language": "python",
   "name": "python3"
  },
  "language_info": {
   "codemirror_mode": {
    "name": "ipython",
    "version": 2
   },
   "file_extension": ".py",
   "mimetype": "text/x-python",
   "name": "python",
   "nbconvert_exporter": "python",
   "pygments_lexer": "ipython2",
   "version": "2.7.6"
  }
 },
 "nbformat": 4,
 "nbformat_minor": 0
}