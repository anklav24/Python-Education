{
 "cells": [
  {
   "cell_type": "code",
   "execution_count": 4,
   "metadata": {
    "collapsed": true,
    "pycharm": {
     "is_executing": false
    }
   },
   "outputs": [
    {
     "name": "stdout",
     "text": [
      "Я стану крутым программистом!\n",
      "Я стану крутым программистом!\n",
      "Я стану крутым программистом!\n",
      "\n"
     ],
     "output_type": "stream"
    }
   ],
   "source": [
    "print('Я стану крутым программистом!\\n' * 3)\n",
    "print(\"I'll be a cool programmer\\n\" * 3)"
   ]
  },
  {
   "cell_type": "code",
   "execution_count": 7,
   "outputs": [
    {
     "name": "stdout",
     "text": [
      "qwer\n",
      "asdf\n",
      "\n"
     ],
     "output_type": "stream"
    }
   ],
   "source": [
    "print(input() + '\\n', input() + '\\n', sep='')"
   ],
   "metadata": {
    "collapsed": false,
    "pycharm": {
     "name": "#%%\n",
     "is_executing": false
    }
   }
  },
  {
   "cell_type": "code",
   "execution_count": 8,
   "outputs": [
    {
     "name": "stdout",
     "text": [
      "1234\n",
      "qwer\n"
     ],
     "output_type": "stream"
    }
   ],
   "source": [
    "# Community decision.\n",
    "\n",
    "print(input(), input(), sep='\\n')"
   ],
   "metadata": {
    "collapsed": false,
    "pycharm": {
     "name": "#%%\n",
     "is_executing": false
    }
   }
  },
  {
   "cell_type": "code",
   "execution_count": 14,
   "outputs": [
    {
     "name": "stdout",
     "text": [
      "3\n",
      "2\n",
      "1\n"
     ],
     "output_type": "stream"
    }
   ],
   "source": [
    "a, b, c = input(), input(), input()\n",
    "print(c, b, a, sep='\\n')"
   ],
   "metadata": {
    "collapsed": false,
    "pycharm": {
     "name": "#%%\n",
     "is_executing": false
    }
   }
  },
  {
   "cell_type": "code",
   "execution_count": 13,
   "outputs": [
    {
     "name": "stdout",
     "text": [
      "3\n",
      "2\n",
      "1\n"
     ],
     "output_type": "stream"
    }
   ],
   "source": [
    "a, b, c = [input() for i in range(3)]\n",
    "print(c, b, a, sep='\\n')"
   ],
   "metadata": {
    "collapsed": false,
    "pycharm": {
     "name": "#%%\n",
     "is_executing": false
    }
   }
  },
  {
   "cell_type": "code",
   "execution_count": 17,
   "outputs": [
    {
     "name": "stdout",
     "text": [
      "123 123 123 123 \n"
     ],
     "output_type": "stream"
    }
   ],
   "source": [
    "print((input() + ' ') * 4)"
   ],
   "metadata": {
    "collapsed": false,
    "pycharm": {
     "name": "#%%\n",
     "is_executing": false
    }
   }
  },
  {
   "cell_type": "code",
   "execution_count": 19,
   "outputs": [
    {
     "name": "stdout",
     "text": [
      "23 23 23 23\n"
     ],
     "output_type": "stream"
    }
   ],
   "source": [
    "print(\"{0} {0} {0} {0}\".format(input()))"
   ],
   "metadata": {
    "collapsed": false,
    "pycharm": {
     "name": "#%%\n",
     "is_executing": false
    }
   }
  },
  {
   "cell_type": "code",
   "execution_count": null,
   "outputs": [],
   "source": [],
   "metadata": {
    "collapsed": false,
    "pycharm": {
     "name": "#%%\n"
    }
   }
  }
 ],
 "metadata": {
  "kernelspec": {
   "display_name": "Python 3",
   "language": "python",
   "name": "python3"
  },
  "language_info": {
   "codemirror_mode": {
    "name": "ipython",
    "version": 2
   },
   "file_extension": ".py",
   "mimetype": "text/x-python",
   "name": "python",
   "nbconvert_exporter": "python",
   "pygments_lexer": "ipython2",
   "version": "2.7.6"
  },
  "pycharm": {
   "stem_cell": {
    "cell_type": "raw",
    "source": [],
    "metadata": {
     "collapsed": false
    }
   }
  }
 },
 "nbformat": 4,
 "nbformat_minor": 0
}