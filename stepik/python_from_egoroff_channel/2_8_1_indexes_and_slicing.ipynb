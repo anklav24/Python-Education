{
 "cells": [
  {
   "cell_type": "code",
   "execution_count": 6,
   "metadata": {
    "collapsed": true
   },
   "outputs": [
    {
     "name": "stdout",
     "output_type": "stream",
     "text": [
      "34\n",
      "43\n"
     ]
    }
   ],
   "source": [
    "a = [34, 53, 232, 234 ,43]\n",
    "print(a[0])\n",
    "print(a[4])\n",
    "print(a[-1]) # Получаем последний элемент"
   ]
  },
  {
   "cell_type": "code",
   "execution_count": 18,
   "outputs": [
    {
     "name": "stdout",
     "output_type": "stream",
     "text": [
      "5\n",
      "[]\n",
      "[2, 3, 4]\n",
      "5\n",
      "[1, 2, 3, 4]\n",
      "[1, 3, 5]\n",
      "[5, 4, 3, 2, 1]\n",
      "[3, 4, 5]\n"
     ]
    }
   ],
   "source": [
    "b = [1, 2, 3, 4, 5]\n",
    "print(b[-1])\n",
    "print(b[1:4:-1])  # Отрицательный шаг похоже не работает только по части списка\n",
    "print(b[1:4:1]) # С положительным шагом все ок.\n",
    "print(b[-1])  # Последний элемент\n",
    "print(b[:-1])  # От начала до предпоследнего элемента\n",
    "print(b[::2])  # Весь список с шагом 2\n",
    "print(b[::-1])  # Весь список задом наперёд.\n",
    "print(b[2:999999]) # Очень длинный список влезет в этот срез\n",
    "print(b[:])  # Срез всего списка"
   ],
   "metadata": {
    "collapsed": false,
    "pycharm": {
     "name": "#%%\n"
    }
   }
  },
  {
   "cell_type": "markdown",
   "source": [
    "Список это изменяемый объект!"
   ],
   "metadata": {
    "collapsed": false,
    "pycharm": {
     "name": "#%% md\n"
    }
   }
  },
  {
   "cell_type": "code",
   "execution_count": 27,
   "outputs": [
    {
     "name": "stdout",
     "output_type": "stream",
     "text": [
      "['nothing', 2, 3, 4, 5]\n",
      "[0, 1, 'two', 4, 5]\n",
      "['Add only one value in slice', 4, 5]\n",
      "[4, 5]\n"
     ]
    }
   ],
   "source": [
    "a = [34, 53, 232, 234 ,43]\n",
    "b = [1, 2, 3, 4, 5]\n",
    "\n",
    "b[0] = 'nothing'\n",
    "print(b)\n",
    "\n",
    "b[0:3] = 0, 1, 'two'\n",
    "print(b)\n",
    "\n",
    "b[0:3] = ['Add only one value in slice']  # Таким образом мы уменьшили список.\n",
    "print(b)\n",
    "\n",
    "del b[0]  # Удаляем значение под индексом 0 в списке b\n",
    "print(b)\n"
   ],
   "metadata": {
    "collapsed": false,
    "pycharm": {
     "name": "#%%\n"
    }
   }
  },
  {
   "cell_type": "markdown",
   "source": [
    "### Shallow and deep copy operations\n",
    "\n",
    "### Поверхностное копирование и полная копия.\n",
    "\n",
    "При shallow copy создается только ссылка (\"Ref\") на объект, а при\n",
    "полном копировании создается новый объект."
   ],
   "metadata": {
    "collapsed": false,
    "pycharm": {
     "name": "#%% md\n"
    }
   }
  },
  {
   "cell_type": "code",
   "execution_count": 31,
   "outputs": [
    {
     "name": "stdout",
     "output_type": "stream",
     "text": [
      "[1, 2, 3] [1, 2, 3]\n",
      "['Zero', 2, 3] ['Zero', 2, 3]\n"
     ]
    }
   ],
   "source": [
    "a = [1, 2, 3]\n",
    "b = a  # Shallow copy\n",
    "print(a, b)\n",
    "\n",
    "b[0] = 'Zero'\n",
    "print(a, b)  # We have the same result."
   ],
   "metadata": {
    "collapsed": false,
    "pycharm": {
     "name": "#%%\n"
    }
   }
  },
  {
   "cell_type": "code",
   "execution_count": 32,
   "outputs": [
    {
     "name": "stdout",
     "output_type": "stream",
     "text": [
      "[1, 2, 3] ['Zero', 2, 3]\n"
     ]
    }
   ],
   "source": [
    "a = [1, 2, 3]\n",
    "b = a[:]  # The deep copy with the slice.\n",
    "\n",
    "b[0] = 'Zero'\n",
    "print(a, b)  # We have the different result.\n"
   ],
   "metadata": {
    "collapsed": false,
    "pycharm": {
     "name": "#%%\n"
    }
   }
  }
 ],
 "metadata": {
  "kernelspec": {
   "display_name": "Python 3",
   "language": "python",
   "name": "python3"
  },
  "language_info": {
   "codemirror_mode": {
    "name": "ipython",
    "version": 2
   },
   "file_extension": ".py",
   "mimetype": "text/x-python",
   "name": "python",
   "nbconvert_exporter": "python",
   "pygments_lexer": "ipython2",
   "version": "2.7.6"
  }
 },
 "nbformat": 4,
 "nbformat_minor": 0
}