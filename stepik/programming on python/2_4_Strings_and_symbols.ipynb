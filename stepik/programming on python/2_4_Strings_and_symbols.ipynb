{
 "cells": [
  {
   "cell_type": "code",
   "execution_count": 18,
   "outputs": [
    {
     "name": "stdout",
     "text": [
      "A\n",
      "T\n",
      "G\n",
      "G\n"
     ],
     "output_type": "stream"
    }
   ],
   "source": [
    "genome = 'ATGG'\n",
    "i = 0\n",
    "while i < len(genome):\n",
    "    print(genome[i])\n",
    "    i += 1    "
   ],
   "metadata": {
    "collapsed": false,
    "pycharm": {
     "name": "#%%\n",
     "is_executing": false
    }
   }
  },
  {
   "cell_type": "code",
   "execution_count": 3,
   "outputs": [
    {
     "name": "stdout",
     "text": [
      "T\n"
     ],
     "output_type": "stream"
    }
   ],
   "source": [
    "genome = 'ATGG'\n",
    "i = 1\n",
    "print(genome[i])"
   ],
   "metadata": {
    "collapsed": false,
    "pycharm": {
     "name": "#%%\n",
     "is_executing": false
    }
   }
  },
  {
   "cell_type": "code",
   "execution_count": 12,
   "outputs": [
    {
     "name": "stdout",
     "text": [
      "A\tT\tG\tG\t"
     ],
     "output_type": "stream"
    }
   ],
   "source": [
    "# Самый нормальный символ\n",
    "genome = 'ATGG'\n",
    "for c in genome:\n",
    "    print(c, end='\\t')"
   ],
   "metadata": {
    "collapsed": false,
    "pycharm": {
     "name": "#%%\n",
     "is_executing": false
    }
   }
  },
  {
   "cell_type": "code",
   "execution_count": 15,
   "outputs": [
    {
     "name": "stdout",
     "text": [
      "5\n"
     ],
     "output_type": "stream"
    }
   ],
   "source": [
    "genome = input()\n",
    "count = 0\n",
    "for nuclear in genome:\n",
    "    if nuclear == 'C':\n",
    "        count += 1\n",
    "print(count)"
   ],
   "metadata": {
    "collapsed": false,
    "pycharm": {
     "name": "#%%\n",
     "is_executing": false
    }
   }
  },
  {
   "cell_type": "code",
   "execution_count": 19,
   "outputs": [
    {
     "name": "stdout",
     "text": [
      "6\n"
     ],
     "output_type": "stream"
    }
   ],
   "source": [
    "genome = input()\n",
    "print(genome.count('C'))"
   ],
   "metadata": {
    "collapsed": false,
    "pycharm": {
     "name": "#%%\n",
     "is_executing": false
    }
   }
  },
  {
   "cell_type": "code",
   "execution_count": 28,
   "outputs": [
    {
     "name": "stdout",
     "text": [
      "atgcc\n",
      "ATGCC\n",
      "2\n",
      "3\n",
      "-1\n",
      "True\n",
      "aTGCC\n",
      "2\n"
     ],
     "output_type": "stream"
    }
   ],
   "source": [
    "s = 'aTGcc'\n",
    "p = 'cc'\n",
    "print(s.lower())\n",
    "print(s.upper())\n",
    "print(s.count('c'))  # Найти сколько раз встречается c в строке s\n",
    "print(s.find('c'))  # Найти позицию первого вхождения с в строке s\n",
    "print(s.find('A'))\n",
    "if 'TG' in s:  # Проверка вхождения\n",
    "    print(True)\n",
    "print(s.replace('c', 'C'))  # Заменяем все вхождения с c на C\n",
    "s = 'agTtcAGtc'\n",
    "print(s.upper().count('gt'.upper()))"
   ],
   "metadata": {
    "collapsed": false,
    "pycharm": {
     "name": "#%%\n",
     "is_executing": false
    }
   }
  },
  {
   "cell_type": "markdown",
   "source": [
    "GC-состав является важной характеристикой геномных последовательностей и определяется как процентное соотношение суммы всех гуанинов и цитозинов к общему числу нуклеиновых оснований в геномной последовательности.\n",
    "\n",
    "Напишите программу, которая вычисляет процентное содержание символов G (гуанин) и C (цитозин) в введенной строке (программа не должна зависеть от регистра вводимых символов).\n",
    "\n",
    "Например, в строке \"acggtgttat\" процентное содержание символов G и C равно \\dfrac4{10} \\cdot 100 = 40.0 \n",
    "10\n",
    "4\n",
    "​\t\n",
    " ⋅100=40.0, где 4 -- это количество символов G и C,  а 10 -- это длина строки.\n"
   ],
   "metadata": {
    "collapsed": false
   }
  },
  {
   "cell_type": "code",
   "execution_count": 50,
   "outputs": [
    {
     "name": "stdout",
     "text": [
      "40.0\n"
     ],
     "output_type": "stream"
    }
   ],
   "source": [
    "s = input().lower()\n",
    "print((s.count('g') + s.count('c')) / len(s) * 100)"
   ],
   "metadata": {
    "collapsed": false,
    "pycharm": {
     "name": "#%%\n",
     "is_executing": false
    }
   }
  },
  {
   "cell_type": "code",
   "execution_count": 53,
   "outputs": [
    {
     "name": "stdout",
     "text": [
      "T\n",
      "TTC\n",
      "ATTC\n",
      "GGAGCT\n",
      "AGCT\n",
      "TTCGGAGC\n",
      "TCGG\n",
      "TCGAGGCTTA\n"
     ],
     "output_type": "stream"
    }
   ],
   "source": [
    "# Slices / Слайсы\n",
    "dna = 'ATTCGGAGCT' \n",
    "print(dna[1])\n",
    "print(dna[1:4])\n",
    "print(dna[:4])\n",
    "print(dna[4:])\n",
    "print(dna[-4:])\n",
    "print(dna[1:-1])\n",
    "print(dna[1:-1:2])  # С шагом 2\n",
    "print(dna[::-1])  # Берем все символы строки от : до : в обратном порядке справа налево"
   ],
   "metadata": {
    "collapsed": false,
    "pycharm": {
     "name": "#%%\n",
     "is_executing": false
    }
   }
  },
  {
   "cell_type": "code",
   "execution_count": 67,
   "outputs": [
    {
     "name": "stdout",
     "text": [
      "YES\n"
     ],
     "output_type": "stream"
    }
   ],
   "source": [
    "# Проверка полиндрома\n",
    "\n",
    "s = input()\n",
    "i = 0\n",
    "j = len(s) - 1\n",
    "is_palindrom = True\n",
    "while i < j:\n",
    "    if s[i] != s[j]:\n",
    "        is_palindrom = False\n",
    "    i += 1\n",
    "    j -= 1\n",
    "if is_palindrom:\n",
    "    print('YES')\n",
    "else:\n",
    "    print('NO')\n"
   ],
   "metadata": {
    "collapsed": false,
    "pycharm": {
     "name": "#%%\n",
     "is_executing": false
    }
   }
  },
  {
   "cell_type": "code",
   "execution_count": 69,
   "outputs": [
    {
     "name": "stdout",
     "text": [
      "YES\n"
     ],
     "output_type": "stream"
    }
   ],
   "source": [
    "s = input()\n",
    "r = s[::-1]\n",
    "if s == r:\n",
    "    print('YES')\n",
    "else:\n",
    "    print('NO')"
   ],
   "metadata": {
    "collapsed": false,
    "pycharm": {
     "name": "#%%\n",
     "is_executing": false
    }
   }
  },
  {
   "cell_type": "code",
   "execution_count": 36,
   "outputs": [
    {
     "name": "stdout",
     "text": [
      "132"
     ],
     "output_type": "stream"
    }
   ],
   "source": [
    "s = input()\n",
    "j = 1\n",
    "count = 1\n",
    "\n",
    "for i in s:\n",
    "    if j == len(s):\n",
    "        print(i, end='')\n",
    "    elif i == s[j]:\n",
    "        print('', end='')\n",
    "        count += 1\n",
    "    else:\n",
    "        print(i, count, sep='', end='')\n",
    "    j += 1"
   ],
   "metadata": {
    "collapsed": false,
    "pycharm": {
     "name": "#%%\n",
     "is_executing": false
    }
   }
  },
  {
   "cell_type": "code",
   "execution_count": 2,
   "outputs": [
    {
     "name": "stdout",
     "text": [
      "a3ba1ba1ba1ba1ba1b"
     ],
     "output_type": "stream"
    }
   ],
   "source": [
    "s = input()\n",
    "i = 0\n",
    "j = 0\n",
    "c = 0\n",
    "count = 0\n",
    "while c < len(s):\n",
    "    while s[i] == s[j + 1]:\n",
    "        count += 1\n",
    "        i += 1\n",
    "        j += 1\n",
    "    print(s[i], count + 1, sep='', end='')\n",
    "    if s[i] != s[j + 1]: \n",
    "        count = 0\n",
    "        print(s[i + 1], sep='', end='')\n",
    "    c += 1"
   ],
   "metadata": {
    "collapsed": false,
    "pycharm": {
     "name": "#%%\n",
     "is_executing": false
    }
   }
  },
  {
   "cell_type": "code",
   "execution_count": 28,
   "outputs": [
    {
     "name": "stdout",
     "text": [
      "aaabb6\n",
      "7\n"
     ],
     "output_type": "stream"
    }
   ],
   "source": [
    "s = input()\n",
    "j = 0\n",
    "i = 0\n",
    "c = 0\n",
    "wi = 0\n",
    "wj = 1\n",
    "count = 0\n",
    "while s[wi] == s[wj]:\n",
    "    for i in s:\n",
    "        if i == s[j]:\n",
    "            count += 1\n",
    "            if j == len(s) - 1:\n",
    "                break\n",
    "            print(s[j], sep='', end='')\n",
    "            j += 1   \n",
    "    print(count)        \n",
    "    wi += 1\n",
    "    wj += 1"
   ],
   "metadata": {
    "collapsed": false,
    "pycharm": {
     "name": "#%%\n",
     "is_executing": false
    }
   }
  },
  {
   "cell_type": "code",
   "execution_count": 3,
   "outputs": [
    {
     "name": "stdout",
     "text": [
      "a3b4c1b1c2"
     ],
     "output_type": "stream"
    }
   ],
   "source": [
    "s = input() \n",
    "i = 0\n",
    "j = 1\n",
    "count = 1\n",
    "while j < len(s):\n",
    "    if s[i] == s[j]:\n",
    "        count += 1\n",
    "    else:\n",
    "        print(s[i], count, sep='', end='')\n",
    "        count = 1\n",
    "    i += 1\n",
    "    j += 1\n",
    "print(s[i], count, sep='', end='')"
   ],
   "metadata": {
    "collapsed": false,
    "pycharm": {
     "name": "#%%\n",
     "is_executing": false
    }
   }
  },
  {
   "cell_type": "code",
   "execution_count": 9,
   "outputs": [
    {
     "name": "stdout",
     "text": [
      "Hello, Ivan!\n",
      "Hello, Masha!\n",
      "Hello, Sasha!\n"
     ],
     "output_type": "stream"
    }
   ],
   "source": [],
   "metadata": {
    "collapsed": false,
    "pycharm": {
     "name": "#%%\n",
     "is_executing": false
    }
   }
  }
 ],
 "metadata": {
  "kernelspec": {
   "display_name": "Python 3",
   "language": "python",
   "name": "python3"
  },
  "language_info": {
   "codemirror_mode": {
    "name": "ipython",
    "version": 2
   },
   "file_extension": ".py",
   "mimetype": "text/x-python",
   "name": "python",
   "nbconvert_exporter": "python",
   "pygments_lexer": "ipython2",
   "version": "2.7.6"
  },
  "pycharm": {
   "stem_cell": {
    "cell_type": "raw",
    "source": [],
    "metadata": {
     "collapsed": false
    }
   }
  }
 },
 "nbformat": 4,
 "nbformat_minor": 0
}