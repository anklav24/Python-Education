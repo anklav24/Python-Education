{
 "cells": [
  {
   "cell_type": "code",
   "execution_count": 4,
   "metadata": {
    "collapsed": true,
    "pycharm": {
     "is_executing": false
    }
   },
   "outputs": [
    {
     "name": "stdout",
     "text": [
      "Hello, Ivan!\n",
      "Hello, Masha!\n",
      "Hello, Sasha!\n"
     ],
     "output_type": "stream"
    }
   ],
   "source": [
    "students = ['Ivan', 'Masha', 'Sasha']\n",
    "for student in students:\n",
    "    print('Hello,', student + '!')"
   ]
  },
  {
   "cell_type": "code",
   "execution_count": 13,
   "outputs": [
    {
     "name": "stdout",
     "text": [
      "['Ivan', 'Masha', 'Sasha']\n",
      "['Ivan', 'Masha']\n",
      "['Masha', 'Sasha']\n",
      "['Ivan', 'Masha', 'Sasha']\n",
      "['Sasha', 'Masha', 'Ivan']\n",
      "['Sasha']\n"
     ],
     "output_type": "stream"
    }
   ],
   "source": [
    "# Слайсы списков похожи на слайсы строк Slises\n",
    "students = ['Ivan', 'Masha', 'Sasha']\n",
    "print(students[:3])\n",
    "print(students[:-1])\n",
    "print(students[1:])\n",
    "print(students[::])\n",
    "print(students[::-1])  # В обратном порядке\n",
    "print(students[-1:])\n"
   ],
   "metadata": {
    "collapsed": false,
    "pycharm": {
     "name": "#%%\n",
     "is_executing": false
    }
   }
  },
  {
   "cell_type": "code",
   "execution_count": 14,
   "outputs": [
    {
     "name": "stdout",
     "text": [
      "['Ivan', 'Masha', 'Sasha', 'Oleg', 'Alex']\n"
     ],
     "output_type": "stream"
    }
   ],
   "source": [
    "students = ['Ivan', 'Masha', 'Sasha']\n",
    "teachers = ['Oleg', 'Alex']\n",
    "print(students + teachers)"
   ],
   "metadata": {
    "collapsed": false,
    "pycharm": {
     "name": "#%%\n",
     "is_executing": false
    }
   }
  },
  {
   "cell_type": "code",
   "execution_count": 15,
   "outputs": [
    {
     "name": "stdout",
     "text": [
      "['Ivan', 'Oleg', 'Sasha']\n"
     ],
     "output_type": "stream"
    }
   ],
   "source": [
    "# Изменение елемента списка Changing an element of a list.\n",
    "students = ['Ivan', 'Masha', 'Sasha']\n",
    "students[1] = 'Oleg'\n",
    "print(students)\n"
   ],
   "metadata": {
    "collapsed": false,
    "pycharm": {
     "name": "#%%\n",
     "is_executing": false
    }
   }
  },
  {
   "cell_type": "code",
   "execution_count": 16,
   "outputs": [
    {
     "name": "stdout",
     "text": [
      "['Ivan', 'Masha', 'Sasha', 'Olga']\n"
     ],
     "output_type": "stream"
    }
   ],
   "source": [
    "students = ['Ivan', 'Masha', 'Sasha']\n",
    "students.append('Olga')\n",
    "print(students)"
   ],
   "metadata": {
    "collapsed": false,
    "pycharm": {
     "name": "#%%\n",
     "is_executing": false
    }
   }
  },
  {
   "cell_type": "code",
   "execution_count": 20,
   "outputs": [
    {
     "name": "stdout",
     "text": [
      "['Ivan', 'Masha', 'Sasha', 'Olga']\n",
      "['Ivan', 'Masha', 'Sasha', 'Olga', 'Olga']\n",
      "['Ivan', 'Masha', 'Sasha', 'Olga', 'Olga', 'Boris', 'Sergey']\n"
     ],
     "output_type": "stream"
    }
   ],
   "source": [
    "# Добавление элементов в список. Adding items to the list.\n",
    "students = []  # Создать пустой список. Create an empty list.\n",
    "\n",
    "students = ['Ivan', 'Masha', 'Sasha']\n",
    "\n",
    "students.append('Olga')\n",
    "print(students)\n",
    "\n",
    "students += ['Olga']\n",
    "print(students)\n",
    "\n",
    "students += ['Boris', 'Sergey']\n",
    "print(students)\n"
   ],
   "metadata": {
    "collapsed": false,
    "pycharm": {
     "name": "#%%\n",
     "is_executing": false
    }
   }
  },
  {
   "cell_type": "code",
   "execution_count": 25,
   "outputs": [
    {
     "name": "stdout",
     "text": [
      "['Ivan', 'Olga', 'Masha', 'Sasha']\n"
     ],
     "output_type": "stream"
    }
   ],
   "source": [
    "# Вставка элемента в список. Insert an item into a list.\n",
    "students = ['Ivan', 'Masha', 'Sasha']\n",
    "students.insert(1, 'Olga')\n",
    "print(students)"
   ],
   "metadata": {
    "collapsed": false,
    "pycharm": {
     "name": "#%%\n",
     "is_executing": false
    }
   }
  },
  {
   "cell_type": "code",
   "execution_count": 27,
   "outputs": [
    {
     "name": "stdout",
     "text": [
      "['Ivan', 'Masha', 'Sasha', 'O', 'l', 'g', 'a']\n"
     ],
     "output_type": "stream"
    }
   ],
   "source": [
    "students = ['Ivan', 'Masha', 'Sasha']\n",
    "students += 'Olga'# добавим к списку последовательность элементов \n",
    "print(students)\n"
   ],
   "metadata": {
    "collapsed": false,
    "pycharm": {
     "name": "#%%\n",
     "is_executing": false
    }
   }
  },
  {
   "cell_type": "code",
   "execution_count": 29,
   "outputs": [
    {
     "name": "stdout",
     "text": [
      "['Ivan', 'Masha']\n",
      "['Masha']\n"
     ],
     "output_type": "stream"
    }
   ],
   "source": [
    "# Удаление элементов из списка. Removing items from a list.\n",
    "students = ['Ivan', 'Masha', 'Sasha']\n",
    "\n",
    "students.remove('Sasha')\n",
    "print(students)\n",
    "\n",
    "del students[0]\n",
    "print(students)"
   ],
   "metadata": {
    "collapsed": false,
    "pycharm": {
     "name": "#%%\n",
     "is_executing": false
    }
   }
  },
  {
   "cell_type": "code",
   "execution_count": 32,
   "outputs": [
    {
     "name": "stdout",
     "text": [
      "Ivan is here!\n",
      "And is out!\n",
      "2\n"
     ],
     "output_type": "stream"
    },
    {
     "traceback": [
      "\u001b[1;31m---------------------------------------------------------------------------\u001b[0m",
      "\u001b[1;31mValueError\u001b[0m                                Traceback (most recent call last)",
      "\u001b[1;32m<ipython-input-32-80ae204f0d3a>\u001b[0m in \u001b[0;36m<module>\u001b[1;34m\u001b[0m\n\u001b[0;32m      9\u001b[0m \u001b[0mprint\u001b[0m\u001b[1;33m(\u001b[0m\u001b[0mind\u001b[0m\u001b[1;33m)\u001b[0m\u001b[1;33m\u001b[0m\u001b[1;33m\u001b[0m\u001b[0m\n\u001b[0;32m     10\u001b[0m \u001b[1;33m\u001b[0m\u001b[0m\n\u001b[1;32m---> 11\u001b[1;33m \u001b[0mind\u001b[0m \u001b[1;33m=\u001b[0m \u001b[0mstudents\u001b[0m\u001b[1;33m.\u001b[0m\u001b[0mindex\u001b[0m\u001b[1;33m(\u001b[0m\u001b[1;34m'Ann'\u001b[0m\u001b[1;33m)\u001b[0m\u001b[1;33m\u001b[0m\u001b[1;33m\u001b[0m\u001b[0m\n\u001b[0m\u001b[0;32m     12\u001b[0m \u001b[0mprint\u001b[0m\u001b[1;33m(\u001b[0m\u001b[0mind\u001b[0m\u001b[1;33m)\u001b[0m\u001b[1;33m\u001b[0m\u001b[1;33m\u001b[0m\u001b[0m\n\u001b[0;32m     13\u001b[0m \u001b[1;33m\u001b[0m\u001b[0m\n",
      "\u001b[1;31mValueError\u001b[0m: 'Ann' is not in list"
     ],
     "ename": "ValueError",
     "evalue": "'Ann' is not in list",
     "output_type": "error"
    }
   ],
   "source": [
    "# Поиск элемента в списке. Search for an item in a list.\n",
    "students = ['Ivan', 'Masha', 'Sasha']\n",
    "if 'Ivan' in students:\n",
    "    print('Ivan is here!')\n",
    "if 'Ann' not in students:\n",
    "    print('And is out!')\n",
    "\n",
    "ind = students.index('Sasha')\n",
    "print(ind)\n",
    "\n",
    "ind = students.index('Ann')\n",
    "print(ind)"
   ],
   "metadata": {
    "collapsed": false,
    "pycharm": {
     "name": "#%%\n",
     "is_executing": false
    }
   }
  },
  {
   "cell_type": "code",
   "execution_count": 37,
   "outputs": [
    {
     "name": "stdout",
     "text": [
      "['Sasha', 'Ivan', 'Masha']\n",
      "['Ivan', 'Masha', 'Sasha']\n",
      "\n",
      "['Ivan', 'Masha', 'Sasha']\n",
      "['Ivan', 'Masha', 'Sasha']\n"
     ],
     "output_type": "stream"
    }
   ],
   "source": [
    "# Сортировка списка. Sort list.\n",
    " \n",
    "students = ['Sasha', 'Ivan', 'Masha']\n",
    "ordered_students = sorted(students) # Мы не изменяем первоначальный список\n",
    "# We don't change an original list. \n",
    "print(students)\n",
    "print(ordered_students)\n",
    "print()\n",
    "\n",
    "students.sort()\n",
    "print(students)\n",
    "print(students) # Мы меняем первоначальный список. We change an original list."
   ],
   "metadata": {
    "collapsed": false,
    "pycharm": {
     "name": "#%%\n",
     "is_executing": false
    }
   }
  },
  {
   "cell_type": "code",
   "execution_count": 40,
   "outputs": [
    {
     "name": "stdout",
     "text": [
      "['Masha', 'Ivan', 'Sasha']\n",
      "['Masha', 'Ivan', 'Sasha']\n",
      "['Sasha', 'Ivan', 'Masha']\n"
     ],
     "output_type": "stream"
    }
   ],
   "source": [
    "# Список в обратном порядке. A list is in reverse order.\n",
    "students = ['Sasha', 'Ivan', 'Masha']\n",
    "students.reverse()\n",
    "print(students)\n",
    "\n",
    "reversed(students)\n",
    "print(students)\n",
    "\n",
    "print(students[::-1])"
   ],
   "metadata": {
    "collapsed": false,
    "pycharm": {
     "name": "#%%\n",
     "is_executing": false
    }
   }
  },
  {
   "cell_type": "code",
   "execution_count": 51,
   "outputs": [
    {
     "name": "stdout",
     "text": [
      "[1, 2, 3]\n",
      "[1, 10, 3]\n",
      "[20, 10, 3]\n",
      "[20, 10, 3]\n"
     ],
     "output_type": "stream"
    }
   ],
   "source": [
    "a = [1, 2, 3]\n",
    "b = a\n",
    "print(b)\n",
    "\n",
    "a[1] = 10\n",
    "print(b)\n",
    "\n",
    "b[0] = 20\n",
    "print(b)\n",
    "\n",
    "a = [5, 6]\n",
    "print(b)"
   ],
   "metadata": {
    "collapsed": false,
    "pycharm": {
     "name": "#%%\n",
     "is_executing": false
    }
   }
  },
  {
   "cell_type": "code",
   "execution_count": 59,
   "outputs": [
    {
     "name": "stdout",
     "text": [
      "[0, 0, 0, 0, 0]\n",
      "[0, 0, 0, 0, 0]\n",
      "[1, 4, 9, 16, 25]\n",
      "[1, 3, 4, 5, 6]\n"
     ],
     "output_type": "stream"
    }
   ],
   "source": [
    "# Генерация списков. Generation of lists.\n",
    "a = [0] * 5\n",
    "print(a)\n",
    "\n",
    "a = [0 for i in range(5)]\n",
    "print(a)\n",
    "\n",
    "a = [i * i for i in range(1, 5 + 1)]\n",
    "print(a)\n",
    "\n",
    "a = [int(i) for i in input().split()]\n",
    "print(a)"
   ],
   "metadata": {
    "collapsed": false,
    "pycharm": {
     "name": "#%%\n",
     "is_executing": false
    }
   }
  },
  {
   "cell_type": "code",
   "execution_count": null,
   "outputs": [],
   "source": [
    "\n"
   ],
   "metadata": {
    "collapsed": false,
    "pycharm": {
     "name": "#%%\n"
    }
   }
  }
 ],
 "metadata": {
  "kernelspec": {
   "display_name": "Python 3",
   "language": "python",
   "name": "python3"
  },
  "language_info": {
   "codemirror_mode": {
    "name": "ipython",
    "version": 2
   },
   "file_extension": ".py",
   "mimetype": "text/x-python",
   "name": "python",
   "nbconvert_exporter": "python",
   "pygments_lexer": "ipython2",
   "version": "2.7.6"
  },
  "pycharm": {
   "stem_cell": {
    "cell_type": "raw",
    "source": [],
    "metadata": {
     "collapsed": false
    }
   }
  }
 },
 "nbformat": 4,
 "nbformat_minor": 0
}