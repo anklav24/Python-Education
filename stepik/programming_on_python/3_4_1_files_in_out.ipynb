{
 "cells": [
  {
   "cell_type": "markdown",
   "source": [
    "#### Read from file"
   ],
   "metadata": {
    "collapsed": false,
    "pycharm": {
     "name": "#%% md\n"
    }
   }
  },
  {
   "cell_type": "code",
   "execution_count": 6,
   "outputs": [
    {
     "name": "stdout",
     "text": [
      "This is first string.\n",
      "\n",
      "This is second string.\n",
      "\n"
     ],
     "output_type": "stream"
    }
   ],
   "source": [
    "inf = open('test_file.txt', 'r')\n",
    "s1 = inf.readline()\n",
    "s2 = inf.readline()\n",
    "inf.close()  # Закрываем файл. Close the file. \n",
    "print(s1)\n",
    "print(s2)"
   ],
   "metadata": {
    "collapsed": false,
    "pycharm": {
     "name": "#%%\n",
     "is_executing": false
    }
   }
  },
  {
   "cell_type": "code",
   "execution_count": 7,
   "outputs": [
    {
     "name": "stdout",
     "text": [
      "This is first string.\n",
      "\n",
      "This is second string.\n",
      "\n"
     ],
     "output_type": "stream"
    }
   ],
   "source": [
    "# Лучше использовать этот способ для работы с файлами.\n",
    "# It is better to use this method for working with files.\n",
    "with open('test_file.txt') as inf:\n",
    "    s1 = inf.readline()\n",
    "    s2 = inf.readline()\n",
    "    print(s1)\n",
    "    print(s2)\n",
    "# Здесь файл уже закрыт.\n",
    "# The file is already closed here."
   ],
   "metadata": {
    "collapsed": false,
    "pycharm": {
     "name": "#%%\n",
     "is_executing": false
    }
   }
  },
  {
   "cell_type": "code",
   "execution_count": 11,
   "outputs": [
    {
     "name": "stdout",
     "text": [
      "\\t This is first string. \\n\n",
      "This is second string.\n"
     ],
     "output_type": "stream"
    }
   ],
   "source": [
    "# функция .strip() позволяет удалить лишние табуляции и отступы и т.д.\n",
    "with open('test_file.txt') as inf:\n",
    "    s1 = inf.readline().strip()\n",
    "    s2 = inf.readline().strip()\n",
    "    print(s1)\n",
    "    print(s2)"
   ],
   "metadata": {
    "collapsed": false,
    "pycharm": {
     "name": "#%%\n",
     "is_executing": false
    }
   }
  },
  {
   "cell_type": "code",
   "execution_count": 4,
   "outputs": [
    {
     "data": {
      "text/plain": "'.\\\\dirname\\\\test_file.txt'"
     },
     "metadata": {},
     "output_type": "execute_result",
     "execution_count": 4
    }
   ],
   "source": [
    "import os\n",
    "\n",
    "os.path.join('.', 'dirname', 'test_file.txt')"
   ],
   "metadata": {
    "collapsed": false,
    "pycharm": {
     "name": "#%%\n",
     "is_executing": false
    }
   }
  },
  {
   "cell_type": "markdown",
   "source": [
    "#### Построчное чтение файла.\n",
    "#### Reading a file line by line."
   ],
   "metadata": {
    "collapsed": false,
    "pycharm": {
     "name": "#%% md\n"
    }
   }
  },
  {
   "cell_type": "code",
   "source": [
    "with open('test_file.txt') as inf:\n",
    "    for line in inf:\n",
    "        line = line.strip()  # Убираем перевод строки с помощью .strip()\n",
    "        print(line)\n",
    "        "
   ],
   "metadata": {
    "collapsed": false,
    "pycharm": {
     "name": "#%%\n",
     "is_executing": false
    }
   },
   "execution_count": 35,
   "outputs": [
    {
     "name": "stdout",
     "text": [
      "This is first string.\n",
      "This is second string.\n",
      "And this is last string.\n"
     ],
     "output_type": "stream"
    }
   ]
  },
  {
   "cell_type": "markdown",
   "source": [
    "#### Запись в файл\n"
   ],
   "metadata": {
    "collapsed": false,
    "pycharm": {
     "name": "#%% md\n",
     "is_executing": false
    }
   }
  },
  {
   "cell_type": "code",
   "execution_count": 60,
   "outputs": [],
   "source": [
    "ouf = open('test_writing_file.txt', 'w')\n",
    "ouf.write('Some text\\n')\n",
    "ouf.write(str(25))\n",
    "ouf.close()"
   ],
   "metadata": {
    "collapsed": false,
    "pycharm": {
     "name": "#%%\n",
     "is_executing": false
    }
   }
  },
  {
   "cell_type": "code",
   "execution_count": 59,
   "outputs": [],
   "source": [
    "# Стандартная конструкция для записи файла.\n",
    "with open('test_writing_file.txt', 'w') as ouf:\n",
    "    ouf.write('Some text right method\\n')\n",
    "    ouf.write(str(25))\n",
    "# Здесь файл уже закрыт\n",
    "# The file already close here.\n"
   ],
   "metadata": {
    "collapsed": false,
    "pycharm": {
     "name": "#%%\n",
     "is_executing": false
    }
   }
  }
 ],
 "metadata": {
  "kernelspec": {
   "display_name": "Python 3",
   "language": "python",
   "name": "python3"
  },
  "language_info": {
   "codemirror_mode": {
    "name": "ipython",
    "version": 2
   },
   "file_extension": ".py",
   "mimetype": "text/x-python",
   "name": "python",
   "nbconvert_exporter": "python",
   "pygments_lexer": "ipython2",
   "version": "2.7.6"
  },
  "pycharm": {
   "stem_cell": {
    "cell_type": "raw",
    "source": [],
    "metadata": {
     "collapsed": false
    }
   }
  }
 },
 "nbformat": 4,
 "nbformat_minor": 0
}