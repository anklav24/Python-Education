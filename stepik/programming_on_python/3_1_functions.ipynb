{
 "cells": [
  {
   "cell_type": "code",
   "execution_count": 28,
   "metadata": {
    "collapsed": true,
    "pycharm": {
     "is_executing": false
    }
   },
   "outputs": [
    {
     "name": "stdout",
     "text": [
      "12\n",
      "13\n"
     ],
     "output_type": "stream"
    }
   ],
   "source": [
    "def min2(a, b):\n",
    "    \"\"\"\n",
    "    Find minimal number.\n",
    "    :param a: \n",
    "    :param b: \n",
    "    :return: \n",
    "    \"\"\"\n",
    "    if a <= b:\n",
    "        return a\n",
    "    else:\n",
    "        return b\n",
    "    \n",
    "    \n",
    "m = min2(23, 12)\n",
    "print(m)\n",
    "\n",
    "m = min2(min2(23,13), 15)\n",
    "print(m)"
   ]
  },
  {
   "cell_type": "markdown",
   "source": [
    "#### Произвольное число параметров в функции"
   ],
   "metadata": {
    "collapsed": false
   }
  },
  {
   "cell_type": "code",
   "execution_count": 43,
   "outputs": [
    {
     "name": "stdout",
     "text": [
      "5\n",
      "3\n",
      "5\n",
      "[5, 5, 7, 10]\n"
     ],
     "output_type": "stream"
    }
   ],
   "source": [
    "def min(*a):\n",
    "    m = a[0]\n",
    "    for x in a:\n",
    "        if m > x:\n",
    "            m = x\n",
    "    return m\n",
    "\n",
    "print(min(5))\n",
    "print(min(5, 3))\n",
    "print(min(5, 5, 7, 10))\n",
    "print(min([5, 5, 7, 10]))"
   ],
   "metadata": {
    "collapsed": false,
    "pycharm": {
     "name": "#%%\n",
     "is_executing": false
    }
   }
  },
  {
   "cell_type": "markdown",
   "source": [
    "#### Значения параметров по умолчанию"
   ],
   "metadata": {
    "collapsed": false
   }
  },
  {
   "cell_type": "code",
   "execution_count": 59,
   "outputs": [
    {
     "name": "stdout",
     "text": [
      "[2, 3, 4]\n",
      "[2, 5, 8, 11, 14]\n",
      "[15, 12, 9, 6, 3]\n",
      "[2, 5, 8, 11, 14]\n"
     ],
     "output_type": "stream"
    }
   ],
   "source": [
    "def my_range(start, stop, step=1):\n",
    "    res =[]\n",
    "    if step > 0:\n",
    "        x = start\n",
    "        while x < stop:\n",
    "            res += [x]\n",
    "            x += step\n",
    "    elif step < 0:\n",
    "        x = start\n",
    "        while x > stop:\n",
    "            res += [x]\n",
    "            x += step\n",
    "    return res\n",
    "\n",
    "print(my_range(2, 5))\n",
    "print(my_range(2, 15, 3))\n",
    "print(my_range(15, 2, -3))\n",
    "# Можно явно указывать параметры функции если хотим изменить порядок агрументов\n",
    "print(my_range(stop=15, start=2, step=3))"
   ],
   "metadata": {
    "collapsed": false,
    "pycharm": {
     "name": "#%%\n",
     "is_executing": false
    }
   }
  },
  {
   "cell_type": "code",
   "execution_count": null,
   "outputs": [],
   "source": [],
   "metadata": {
    "collapsed": false,
    "pycharm": {
     "name": "#%%\n"
    }
   }
  },
  {
   "cell_type": "markdown",
   "source": [
    "#### Локальные переменные в функциях"
   ],
   "metadata": {
    "collapsed": false
   }
  },
  {
   "cell_type": "code",
   "execution_count": 64,
   "outputs": [
    {
     "traceback": [
      "\u001b[1;31m---------------------------------------------------------------------------\u001b[0m",
      "\u001b[1;31mNameError\u001b[0m                                 Traceback (most recent call last)",
      "\u001b[1;32m<ipython-input-64-db6fcd08e639>\u001b[0m in \u001b[0;36m<module>\u001b[1;34m\u001b[0m\n\u001b[0;32m      4\u001b[0m \u001b[1;33m\u001b[0m\u001b[0m\n\u001b[0;32m      5\u001b[0m \u001b[0minit_values\u001b[0m\u001b[1;33m(\u001b[0m\u001b[1;33m)\u001b[0m\u001b[1;33m\u001b[0m\u001b[1;33m\u001b[0m\u001b[0m\n\u001b[1;32m----> 6\u001b[1;33m \u001b[0mprint\u001b[0m\u001b[1;33m(\u001b[0m\u001b[0ma\u001b[0m \u001b[1;33m+\u001b[0m \u001b[0mb\u001b[0m\u001b[1;33m)\u001b[0m\u001b[1;33m\u001b[0m\u001b[1;33m\u001b[0m\u001b[0m\n\u001b[0m\u001b[0;32m      7\u001b[0m \u001b[1;33m\u001b[0m\u001b[0m\n",
      "\u001b[1;31mNameError\u001b[0m: name 'a' is not defined"
     ],
     "ename": "NameError",
     "evalue": "name 'a' is not defined",
     "output_type": "error"
    }
   ],
   "source": [
    "def init_values():\n",
    "    a = 100\n",
    "    b = 200\n",
    "    \n",
    "init_values()\n",
    "print(a + b)"
   ],
   "metadata": {
    "collapsed": false,
    "pycharm": {
     "name": "#%%\n",
     "is_executing": false
    }
   }
  },
  {
   "cell_type": "code",
   "execution_count": 66,
   "outputs": [
    {
     "name": "stdout",
     "text": [
      "0\n"
     ],
     "output_type": "stream"
    }
   ],
   "source": [
    "def init_values():\n",
    "    a = 100\n",
    "\n",
    "a = 0\n",
    "init_values()\n",
    "print(a)"
   ],
   "metadata": {
    "collapsed": false,
    "pycharm": {
     "name": "#%%\n",
     "is_executing": false
    }
   }
  },
  {
   "cell_type": "code",
   "execution_count": 68,
   "outputs": [
    {
     "name": "stdout",
     "text": [
      "0\n"
     ],
     "output_type": "stream"
    }
   ],
   "source": [
    "def init_values(a):\n",
    "    a = 100\n",
    "    \n",
    "b = 0\n",
    "init_values(b)\n",
    "print(b)"
   ],
   "metadata": {
    "collapsed": false,
    "pycharm": {
     "name": "#%%\n",
     "is_executing": false
    }
   }
  },
  {
   "cell_type": "markdown",
   "source": [
    "#### Изменение объектов, связанных с локальными переменными."
   ],
   "metadata": {
    "collapsed": false
   }
  },
  {
   "cell_type": "code",
   "execution_count": 71,
   "outputs": [
    {
     "name": "stdout",
     "text": [
      "[0]\n"
     ],
     "output_type": "stream"
    }
   ],
   "source": [
    "def append_zero(xs):\n",
    "    xs.append(0)\n",
    "    \n",
    "\n",
    "a = []\n",
    "append_zero(a)\n",
    "print(a)"
   ],
   "metadata": {
    "collapsed": false,
    "pycharm": {
     "name": "#%%\n",
     "is_executing": false
    }
   }
  },
  {
   "cell_type": "markdown",
   "source": [
    "#### Глобальные переменные"
   ],
   "metadata": {
    "collapsed": false
   }
  },
  {
   "cell_type": "code",
   "execution_count": 74,
   "outputs": [
    {
     "name": "stdout",
     "text": [
      "5\n"
     ],
     "output_type": "stream"
    }
   ],
   "source": [
    "def print_value():\n",
    "    print(a)\n",
    "    \n",
    "\n",
    "a = 5\n",
    "print_value()"
   ],
   "metadata": {
    "collapsed": false,
    "pycharm": {
     "name": "#%%\n",
     "is_executing": false
    }
   }
  },
  {
   "cell_type": "markdown",
   "source": [
    "#### Глобальные и локальные переменные"
   ],
   "metadata": {
    "collapsed": false,
    "pycharm": {
     "name": "#%% md\n"
    }
   }
  },
  {
   "cell_type": "code",
   "execution_count": 76,
   "outputs": [
    {
     "traceback": [
      "\u001b[1;31m---------------------------------------------------------------------------\u001b[0m",
      "\u001b[1;31mUnboundLocalError\u001b[0m                         Traceback (most recent call last)",
      "\u001b[1;32m<ipython-input-76-83865b32daab>\u001b[0m in \u001b[0;36m<module>\u001b[1;34m\u001b[0m\n\u001b[0;32m      5\u001b[0m \u001b[1;33m\u001b[0m\u001b[0m\n\u001b[0;32m      6\u001b[0m \u001b[0ma\u001b[0m \u001b[1;33m=\u001b[0m \u001b[1;36m5\u001b[0m\u001b[1;33m\u001b[0m\u001b[1;33m\u001b[0m\u001b[0m\n\u001b[1;32m----> 7\u001b[1;33m \u001b[0mprint_value\u001b[0m\u001b[1;33m(\u001b[0m\u001b[1;33m)\u001b[0m\u001b[1;33m\u001b[0m\u001b[1;33m\u001b[0m\u001b[0m\n\u001b[0m\u001b[0;32m      8\u001b[0m \u001b[1;33m\u001b[0m\u001b[0m\n",
      "\u001b[1;32m<ipython-input-76-83865b32daab>\u001b[0m in \u001b[0;36mprint_value\u001b[1;34m()\u001b[0m\n\u001b[0;32m      1\u001b[0m \u001b[1;32mdef\u001b[0m \u001b[0mprint_value\u001b[0m\u001b[1;33m(\u001b[0m\u001b[1;33m)\u001b[0m\u001b[1;33m:\u001b[0m\u001b[1;33m\u001b[0m\u001b[1;33m\u001b[0m\u001b[0m\n\u001b[1;32m----> 2\u001b[1;33m     \u001b[0mprint\u001b[0m\u001b[1;33m(\u001b[0m\u001b[0ma\u001b[0m\u001b[1;33m)\u001b[0m\u001b[1;33m\u001b[0m\u001b[1;33m\u001b[0m\u001b[0m\n\u001b[0m\u001b[0;32m      3\u001b[0m     \u001b[0ma\u001b[0m \u001b[1;33m=\u001b[0m \u001b[1;36m10\u001b[0m\u001b[1;33m\u001b[0m\u001b[1;33m\u001b[0m\u001b[0m\n\u001b[0;32m      4\u001b[0m     \u001b[0mprint\u001b[0m\u001b[1;33m(\u001b[0m\u001b[0ma\u001b[0m\u001b[1;33m)\u001b[0m\u001b[1;33m\u001b[0m\u001b[1;33m\u001b[0m\u001b[0m\n\u001b[0;32m      5\u001b[0m \u001b[1;33m\u001b[0m\u001b[0m\n",
      "\u001b[1;31mUnboundLocalError\u001b[0m: local variable 'a' referenced before assignment"
     ],
     "ename": "UnboundLocalError",
     "evalue": "local variable 'a' referenced before assignment",
     "output_type": "error"
    }
   ],
   "source": [
    "def print_value():\n",
    "    print(a)\n",
    "    a = 10\n",
    "    print(a)\n",
    "    \n",
    "a = 5\n",
    "print_value()"
   ],
   "metadata": {
    "collapsed": false,
    "pycharm": {
     "name": "#%%\n",
     "is_executing": false
    }
   }
  }
 ],
 "metadata": {
  "kernelspec": {
   "display_name": "Python 3",
   "language": "python",
   "name": "python3"
  },
  "language_info": {
   "codemirror_mode": {
    "name": "ipython",
    "version": 2
   },
   "file_extension": ".py",
   "mimetype": "text/x-python",
   "name": "python",
   "nbconvert_exporter": "python",
   "pygments_lexer": "ipython2",
   "version": "2.7.6"
  },
  "pycharm": {
   "stem_cell": {
    "cell_type": "raw",
    "source": [],
    "metadata": {
     "collapsed": false
    }
   }
  }
 },
 "nbformat": 4,
 "nbformat_minor": 0
}