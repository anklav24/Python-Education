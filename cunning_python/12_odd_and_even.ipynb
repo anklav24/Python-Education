{
 "cells": [
  {
   "cell_type": "code",
   "execution_count": 1,
   "metadata": {
    "collapsed": true
   },
   "outputs": [],
   "source": [
    "names = ['Вася', 'Маша', 'Даша', 'Миша', 'Дима', 'Вика']"
   ]
  },
  {
   "cell_type": "code",
   "execution_count": 2,
   "outputs": [
    {
     "name": "stdout",
     "output_type": "stream",
     "text": [
      "1 Вася\n",
      "2 Маша\n",
      "3 Даша\n",
      "4 Миша\n",
      "5 Дима\n",
      "6 Вика\n"
     ]
    }
   ],
   "source": [
    "index = 1\n",
    "for name in names:\n",
    "    print(index, name)\n",
    "    index += 1"
   ],
   "metadata": {
    "collapsed": false,
    "pycharm": {
     "name": "#%%\n"
    }
   }
  },
  {
   "cell_type": "code",
   "execution_count": 4,
   "outputs": [
    {
     "name": "stdout",
     "output_type": "stream",
     "text": [
      "1 Вася\n",
      "2 Маша\n",
      "3 Даша\n",
      "4 Миша\n",
      "5 Дима\n",
      "6 Вика\n"
     ]
    }
   ],
   "source": [
    "for index in range(len(names)):\n",
    "    print(index + 1, names[index])"
   ],
   "metadata": {
    "collapsed": false,
    "pycharm": {
     "name": "#%%\n"
    }
   }
  },
  {
   "cell_type": "code",
   "execution_count": 6,
   "outputs": [
    {
     "name": "stdout",
     "output_type": "stream",
     "text": [
      "1 Вася\n",
      "2 Маша\n",
      "3 Даша\n",
      "4 Миша\n",
      "5 Дима\n",
      "6 Вика\n"
     ]
    }
   ],
   "source": [
    "for index, name in enumerate(names, start=1):\n",
    "    print(index, name)"
   ],
   "metadata": {
    "collapsed": false,
    "pycharm": {
     "name": "#%%\n"
    }
   }
  },
  {
   "cell_type": "code",
   "execution_count": 8,
   "outputs": [
    {
     "name": "stdout",
     "output_type": "stream",
     "text": [
      "(0, 'Вася')\n",
      "(1, 'Маша')\n",
      "(2, 'Даша')\n",
      "(3, 'Миша')\n",
      "(4, 'Дима')\n",
      "(5, 'Вика')\n"
     ]
    }
   ],
   "source": [
    "# The right way.\n",
    "for tupl in enumerate(names):\n",
    "    print(tupl)"
   ],
   "metadata": {
    "collapsed": false,
    "pycharm": {
     "name": "#%%\n"
    }
   }
  },
  {
   "cell_type": "code",
   "execution_count": 9,
   "outputs": [
    {
     "name": "stdout",
     "output_type": "stream",
     "text": [
      "1 Red Вася\n",
      "2 Blue Маша\n",
      "3 Red Даша\n",
      "4 Blue Миша\n",
      "5 Red Дима\n",
      "6 Blue Вика\n"
     ]
    }
   ],
   "source": [
    "for index, name in enumerate(names, start=1):\n",
    "    team = 'Red' if index % 2 else \"Blue\"\n",
    "    print(index, team, name)"
   ],
   "metadata": {
    "collapsed": false,
    "pycharm": {
     "name": "#%%\n"
    }
   }
  },
  {
   "cell_type": "code",
   "execution_count": 10,
   "outputs": [],
   "source": [
    "def my_enumerate(sequence, start=0):\n",
    "    for item in sequence:\n",
    "        yield start, item\n",
    "        start += 1"
   ],
   "metadata": {
    "collapsed": false,
    "pycharm": {
     "name": "#%%\n"
    }
   }
  },
  {
   "cell_type": "code",
   "execution_count": null,
   "outputs": [],
   "source": [],
   "metadata": {
    "collapsed": false,
    "pycharm": {
     "name": "#%%\n"
    }
   }
  }
 ],
 "metadata": {
  "kernelspec": {
   "display_name": "Python 3",
   "language": "python",
   "name": "python3"
  },
  "language_info": {
   "codemirror_mode": {
    "name": "ipython",
    "version": 2
   },
   "file_extension": ".py",
   "mimetype": "text/x-python",
   "name": "python",
   "nbconvert_exporter": "python",
   "pygments_lexer": "ipython2",
   "version": "2.7.6"
  }
 },
 "nbformat": 4,
 "nbformat_minor": 0
}