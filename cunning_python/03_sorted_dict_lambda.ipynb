{
 "cells": [
  {
   "cell_type": "markdown",
   "metadata": {
    "collapsed": true,
    "pycharm": {
     "name": "#%% md\n"
    }
   },
   "source": [
    "Как отсортировать список словарей"
   ]
  },
  {
   "cell_type": "code",
   "execution_count": 1,
   "outputs": [
    {
     "data": {
      "text/plain": "[{'name': 'Alex', 'salary': 100, 'age': 33},\n {'name': 'Any', 'salary': 100, 'age': 18},\n {'name': 'Lex', 'salary': 100, 'age': 20},\n {'name': 'Sya', 'salary': 100, 'age': 30},\n {'name': 'Vasya', 'salary': 100, 'age': 50}]"
     },
     "execution_count": 1,
     "metadata": {},
     "output_type": "execute_result"
    }
   ],
   "source": [
    "users = [\n",
    "    {\"name\": \"Vasya\", \"salary\": 100, \"age\": 50},\n",
    "    {\"name\": \"Sya\", \"salary\": 100, \"age\": 30},\n",
    "    {\"name\": \"Alex\", \"salary\": 100, \"age\": 33},\n",
    "    {\"name\": \"Lex\", \"salary\": 100, \"age\": 20},\n",
    "    {\"name\": \"Any\", \"salary\": 100, \"age\": 18},\n",
    "]"
   ],
   "metadata": {
    "collapsed": false,
    "pycharm": {
     "name": "#%%\n"
    }
   }
  },
  {
   "cell_type": "code",
   "execution_count": 2,
   "outputs": [
    {
     "data": {
      "text/plain": "[{'name': 'Alex', 'salary': 100, 'age': 33},\n {'name': 'Any', 'salary': 100, 'age': 18},\n {'name': 'Lex', 'salary': 100, 'age': 20},\n {'name': 'Sya', 'salary': 100, 'age': 30},\n {'name': 'Vasya', 'salary': 100, 'age': 50}]"
     },
     "execution_count": 2,
     "metadata": {},
     "output_type": "execute_result"
    }
   ],
   "source": [
    "def get_date_for_sort(x):\n",
    "    return x[\"salary\"], x[\"name\"]\n",
    "\n",
    "sorted(users, key=get_date_for_sort)"
   ],
   "metadata": {
    "collapsed": false,
    "pycharm": {
     "name": "#%%\n"
    }
   }
  },
  {
   "cell_type": "code",
   "execution_count": 4,
   "outputs": [
    {
     "data": {
      "text/plain": "[{'name': 'Any', 'salary': 100, 'age': 18},\n {'name': 'Lex', 'salary': 100, 'age': 20},\n {'name': 'Sya', 'salary': 100, 'age': 30},\n {'name': 'Alex', 'salary': 100, 'age': 33},\n {'name': 'Vasya', 'salary': 100, 'age': 50}]"
     },
     "execution_count": 4,
     "metadata": {},
     "output_type": "execute_result"
    }
   ],
   "source": [
    "sorted(users, key=lambda x: x[\"age\"])"
   ],
   "metadata": {
    "collapsed": false,
    "pycharm": {
     "name": "#%%\n"
    }
   }
  },
  {
   "cell_type": "code",
   "execution_count": 9,
   "outputs": [
    {
     "data": {
      "text/plain": "[{'name': 'Alex', 'salary': 100, 'age': 33},\n {'name': 'Any', 'salary': 100, 'age': 18},\n {'name': 'Lex', 'salary': 100, 'age': 20},\n {'name': 'Sya', 'salary': 100, 'age': 30},\n {'name': 'Vasya', 'salary': 100, 'age': 50}]"
     },
     "execution_count": 9,
     "metadata": {},
     "output_type": "execute_result"
    }
   ],
   "source": [
    "import operator\n",
    "\n",
    "sorted(users, key=operator.itemgetter('name', 'age'))\n",
    "# Эффективней по памяти и быстрее.\n",
    "\n"
   ],
   "metadata": {
    "collapsed": false,
    "pycharm": {
     "name": "#%%\n"
    }
   }
  }
 ],
 "metadata": {
  "kernelspec": {
   "display_name": "Python 3",
   "language": "python",
   "name": "python3"
  },
  "language_info": {
   "codemirror_mode": {
    "name": "ipython",
    "version": 2
   },
   "file_extension": ".py",
   "mimetype": "text/x-python",
   "name": "python",
   "nbconvert_exporter": "python",
   "pygments_lexer": "ipython2",
   "version": "2.7.6"
  }
 },
 "nbformat": 4,
 "nbformat_minor": 0
}