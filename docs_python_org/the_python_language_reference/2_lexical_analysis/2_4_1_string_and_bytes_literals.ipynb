{
 "cells": [
  {
   "cell_type": "code",
   "execution_count": 27,
   "metadata": {
    "collapsed": true
   },
   "outputs": [
    {
     "name": "stdout",
     "output_type": "stream",
     "text": [
      "sometext \\n\n",
      "sometext \n",
      "\n",
      "newstring\n",
      "sometext\n",
      "Sometext-sometext\n",
      "Sometext-sometext\n",
      "Sometext-sometext\n",
      "b'sometext'\n",
      "\n",
      "{s}\n"
     ]
    }
   ],
   "source": [
    "\"\"\"\n",
    "This text write in modified BNF language.\n",
    "\n",
    "stringliteral   ::=  [stringprefix](shortstring | longstring)\n",
    "stringprefix    ::=  \"r\" | \"u\" | \"R\" | \"U\" | \"f\" | \"F\"\n",
    "                     | \"fr\" | \"Fr\" | \"fR\" | \"FR\" | \"rf\" | \"rF\" | \"Rf\" | \"RF\"\n",
    "shortstring     ::=  \"'\" shortstringitem* \"'\" | '\"' shortstringitem* '\"'\n",
    "longstring      ::=  \"'''\" longstringitem* \"'''\" | '\"\"\"' longstringitem* '\"\"\"'\n",
    "shortstringitem ::=  shortstringchar | stringescapeseq\n",
    "longstringitem  ::=  longstringchar | stringescapeseq\n",
    "shortstringchar ::=  <any source character except \"\\\" or newline or the quote>\n",
    "longstringchar  ::=  <any source character except \"\\\">\n",
    "stringescapeseq ::=  \"\\\" <any source character>\n",
    "\"\"\"\n",
    "s = \"Sometext\"\n",
    "print(r\"sometext \\n\")  # r - raw. We have a raw string.\n",
    "print(\"sometext \\n\")\n",
    "print('newstring')\n",
    "print(u\"sometext\")\n",
    "print(f\"{s}-sometext\")\n",
    "print(fr\"{s}-sometext\")\n",
    "print(rf\"{s}-sometext\")\n",
    "\n",
    "print(b\"sometext\")\n"
   ]
  }
 ],
 "metadata": {
  "kernelspec": {
   "display_name": "Python 3",
   "language": "python",
   "name": "python3"
  },
  "language_info": {
   "codemirror_mode": {
    "name": "ipython",
    "version": 2
   },
   "file_extension": ".py",
   "mimetype": "text/x-python",
   "name": "python",
   "nbconvert_exporter": "python",
   "pygments_lexer": "ipython2",
   "version": "2.7.6"
  }
 },
 "nbformat": 4,
 "nbformat_minor": 0
}