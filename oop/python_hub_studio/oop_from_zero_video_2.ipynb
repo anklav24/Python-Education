{
 "cells": [
  {
   "cell_type": "code",
   "execution_count": 1,
   "outputs": [],
   "source": [
    "# [Second video](https://www.youtube.com/watch?v=v8wekXR_oMw&list=PLNi5HdK6QEmX9fxp3_IBFx1O5tiTmKlYm&index=2&ab_channel=PythonHubStudio)"
   ],
   "metadata": {
    "collapsed": false,
    "pycharm": {
     "name": "#%%\n"
    }
   }
  },
  {
   "cell_type": "markdown",
   "source": [],
   "metadata": {
    "collapsed": false,
    "pycharm": {
     "name": "#%% md\n"
    }
   }
  },
  {
   "cell_type": "code",
   "execution_count": 8,
   "outputs": [
    {
     "data": {
      "text/plain": "<method-wrapper '__getattribute__' of V2 object at 0x000002A151CAFEB0>"
     },
     "execution_count": 8,
     "metadata": {},
     "output_type": "execute_result"
    }
   ],
   "source": [
    "from class_video_2 import Verification\n",
    "\n",
    "\n",
    "class V2(Verification):\n",
    "    pass\n",
    "\n",
    "\n",
    "login = 'Alex'\n",
    "password = '12345678'\n",
    "x = V2(login, password)\n",
    "x.save()"
   ],
   "metadata": {
    "collapsed": false,
    "pycharm": {
     "name": "#%%\n"
    }
   }
  },
  {
   "cell_type": "markdown",
   "source": [
    "### Расширение"
   ],
   "metadata": {
    "collapsed": false,
    "pycharm": {
     "name": "#%% md\n"
    }
   }
  },
  {
   "cell_type": "code",
   "execution_count": 11,
   "outputs": [
    {
     "name": "stdout",
     "output_type": "stream",
     "text": [
      "('Alex', '12345678')\n"
     ]
    }
   ],
   "source": [
    "from class_video_2 import Verification\n",
    "\n",
    "\n",
    "class V2(Verification):\n",
    "    def show(self):\n",
    "        return self.login, self.password\n",
    "\n",
    "\n",
    "login = 'Alex'\n",
    "password = '12345678'\n",
    "x = V2(login, password)\n",
    "print(x.show())"
   ],
   "metadata": {
    "collapsed": false,
    "pycharm": {
     "name": "#%%\n"
    }
   }
  },
  {
   "cell_type": "markdown",
   "source": [
    "### переопределение метода(method overriding)"
   ],
   "metadata": {
    "collapsed": false,
    "pycharm": {
     "name": "#%% md\n"
    }
   }
  },
  {
   "cell_type": "code",
   "execution_count": 25,
   "outputs": [
    {
     "name": "stdout",
     "output_type": "stream",
     "text": [
      "('Kenny', '12345678')\n"
     ]
    },
    {
     "ename": "ValueError",
     "evalue": "The user is in the file",
     "output_type": "error",
     "traceback": [
      "\u001B[1;31m---------------------------------------------------------------------------\u001B[0m",
      "\u001B[1;31mValueError\u001B[0m                                Traceback (most recent call last)",
      "\u001B[1;32m~\\AppData\\Local\\Temp/ipykernel_27808/781454980.py\u001B[0m in \u001B[0;36m<module>\u001B[1;34m\u001B[0m\n\u001B[0;32m     18\u001B[0m \u001B[0mx\u001B[0m \u001B[1;33m=\u001B[0m \u001B[0mV2\u001B[0m\u001B[1;33m(\u001B[0m\u001B[0mlogin\u001B[0m\u001B[1;33m,\u001B[0m \u001B[0mpassword\u001B[0m\u001B[1;33m)\u001B[0m\u001B[1;33m\u001B[0m\u001B[1;33m\u001B[0m\u001B[0m\n\u001B[0;32m     19\u001B[0m \u001B[0mprint\u001B[0m\u001B[1;33m(\u001B[0m\u001B[0mx\u001B[0m\u001B[1;33m.\u001B[0m\u001B[0mshow\u001B[0m\u001B[1;33m(\u001B[0m\u001B[1;33m)\u001B[0m\u001B[1;33m)\u001B[0m\u001B[1;33m\u001B[0m\u001B[1;33m\u001B[0m\u001B[0m\n\u001B[1;32m---> 20\u001B[1;33m \u001B[0mx\u001B[0m\u001B[1;33m.\u001B[0m\u001B[0msave\u001B[0m\u001B[1;33m(\u001B[0m\u001B[1;33m)\u001B[0m\u001B[1;33m\u001B[0m\u001B[1;33m\u001B[0m\u001B[0m\n\u001B[0m",
      "\u001B[1;32m~\\AppData\\Local\\Temp/ipykernel_27808/781454980.py\u001B[0m in \u001B[0;36msave\u001B[1;34m(self)\u001B[0m\n\u001B[0;32m      7\u001B[0m             \u001B[1;32mfor\u001B[0m \u001B[0mrow\u001B[0m \u001B[1;32min\u001B[0m \u001B[0mfile\u001B[0m\u001B[1;33m:\u001B[0m\u001B[1;33m\u001B[0m\u001B[1;33m\u001B[0m\u001B[0m\n\u001B[0;32m      8\u001B[0m                 \u001B[1;32mif\u001B[0m \u001B[1;34mf'{self.login, self.password}\\n'\u001B[0m \u001B[1;33m==\u001B[0m \u001B[0mrow\u001B[0m\u001B[1;33m:\u001B[0m\u001B[1;33m\u001B[0m\u001B[1;33m\u001B[0m\u001B[0m\n\u001B[1;32m----> 9\u001B[1;33m                     \u001B[1;32mraise\u001B[0m \u001B[0mValueError\u001B[0m\u001B[1;33m(\u001B[0m\u001B[1;34m'The user is in the file'\u001B[0m\u001B[1;33m)\u001B[0m\u001B[1;33m\u001B[0m\u001B[1;33m\u001B[0m\u001B[0m\n\u001B[0m\u001B[0;32m     10\u001B[0m         \u001B[0mVerification\u001B[0m\u001B[1;33m.\u001B[0m\u001B[0msave\u001B[0m\u001B[1;33m(\u001B[0m\u001B[0mself\u001B[0m\u001B[1;33m)\u001B[0m\u001B[1;33m\u001B[0m\u001B[1;33m\u001B[0m\u001B[0m\n\u001B[0;32m     11\u001B[0m \u001B[1;33m\u001B[0m\u001B[0m\n",
      "\u001B[1;31mValueError\u001B[0m: The user is in the file"
     ]
    }
   ],
   "source": [
    "from class_video_2 import Verification\n",
    "\n",
    "\n",
    "class V2(Verification):\n",
    "    def save(self):\n",
    "        with open('users_passwords.txt') as file:\n",
    "            for row in file:\n",
    "                if f'{self.login, self.password}\\n' == row:\n",
    "                    raise ValueError('The user is in the file')\n",
    "        Verification.save(self)\n",
    "\n",
    "    def show(self):\n",
    "        return self.login, self.password\n",
    "\n",
    "\n",
    "login = 'Kenny'\n",
    "password = '12345678'\n",
    "x = V2(login, password)\n",
    "print(x.show())\n",
    "x.save()"
   ],
   "metadata": {
    "collapsed": false,
    "pycharm": {
     "name": "#%%\n"
    }
   }
  },
  {
   "cell_type": "code",
   "execution_count": 33,
   "outputs": [
    {
     "ename": "ValueError",
     "evalue": "The user is in the file",
     "output_type": "error",
     "traceback": [
      "\u001B[1;31m---------------------------------------------------------------------------\u001B[0m",
      "\u001B[1;31mValueError\u001B[0m                                Traceback (most recent call last)",
      "\u001B[1;32m~\\AppData\\Local\\Temp/ipykernel_27808/1107766366.py\u001B[0m in \u001B[0;36m<module>\u001B[1;34m\u001B[0m\n\u001B[0;32m     21\u001B[0m \u001B[0mlogin\u001B[0m \u001B[1;33m=\u001B[0m \u001B[1;34m'Kenny1'\u001B[0m\u001B[1;33m\u001B[0m\u001B[1;33m\u001B[0m\u001B[0m\n\u001B[0;32m     22\u001B[0m \u001B[0mpassword\u001B[0m \u001B[1;33m=\u001B[0m \u001B[1;34m'12345678'\u001B[0m\u001B[1;33m\u001B[0m\u001B[1;33m\u001B[0m\u001B[0m\n\u001B[1;32m---> 23\u001B[1;33m \u001B[0mx\u001B[0m \u001B[1;33m=\u001B[0m \u001B[0mV2\u001B[0m\u001B[1;33m(\u001B[0m\u001B[0mlogin\u001B[0m\u001B[1;33m,\u001B[0m \u001B[0mpassword\u001B[0m\u001B[1;33m,\u001B[0m \u001B[1;36m12\u001B[0m\u001B[1;33m)\u001B[0m\u001B[1;33m\u001B[0m\u001B[1;33m\u001B[0m\u001B[0m\n\u001B[0m\u001B[0;32m     24\u001B[0m \u001B[0mprint\u001B[0m\u001B[1;33m(\u001B[0m\u001B[0mx\u001B[0m\u001B[1;33m.\u001B[0m\u001B[0mshow\u001B[0m\u001B[1;33m(\u001B[0m\u001B[1;33m)\u001B[0m\u001B[1;33m)\u001B[0m\u001B[1;33m\u001B[0m\u001B[1;33m\u001B[0m\u001B[0m\n\u001B[0;32m     25\u001B[0m \u001B[1;31m# x.save()\u001B[0m\u001B[1;33m\u001B[0m\u001B[1;33m\u001B[0m\u001B[0m\n",
      "\u001B[1;32m~\\AppData\\Local\\Temp/ipykernel_27808/1107766366.py\u001B[0m in \u001B[0;36m__init__\u001B[1;34m(self, login, password, age)\u001B[0m\n\u001B[0;32m      5\u001B[0m     \u001B[1;32mdef\u001B[0m \u001B[0m__init__\u001B[0m\u001B[1;33m(\u001B[0m\u001B[0mself\u001B[0m\u001B[1;33m,\u001B[0m \u001B[0mlogin\u001B[0m\u001B[1;33m,\u001B[0m \u001B[0mpassword\u001B[0m\u001B[1;33m,\u001B[0m \u001B[0mage\u001B[0m\u001B[1;33m)\u001B[0m\u001B[1;33m:\u001B[0m\u001B[1;33m\u001B[0m\u001B[1;33m\u001B[0m\u001B[0m\n\u001B[0;32m      6\u001B[0m         \u001B[0mVerification\u001B[0m\u001B[1;33m.\u001B[0m\u001B[0m__init__\u001B[0m\u001B[1;33m(\u001B[0m\u001B[0mself\u001B[0m\u001B[1;33m,\u001B[0m \u001B[0mlogin\u001B[0m\u001B[1;33m,\u001B[0m \u001B[0mpassword\u001B[0m\u001B[1;33m)\u001B[0m\u001B[1;33m\u001B[0m\u001B[1;33m\u001B[0m\u001B[0m\n\u001B[1;32m----> 7\u001B[1;33m         \u001B[0mself\u001B[0m\u001B[1;33m.\u001B[0m\u001B[0m__save\u001B[0m\u001B[1;33m(\u001B[0m\u001B[1;33m)\u001B[0m\u001B[1;33m\u001B[0m\u001B[1;33m\u001B[0m\u001B[0m\n\u001B[0m\u001B[0;32m      8\u001B[0m         \u001B[0mself\u001B[0m\u001B[1;33m.\u001B[0m\u001B[0mage\u001B[0m \u001B[1;33m=\u001B[0m \u001B[0mage\u001B[0m\u001B[1;33m\u001B[0m\u001B[1;33m\u001B[0m\u001B[0m\n\u001B[0;32m      9\u001B[0m \u001B[1;33m\u001B[0m\u001B[0m\n",
      "\u001B[1;32m~\\AppData\\Local\\Temp/ipykernel_27808/1107766366.py\u001B[0m in \u001B[0;36m__save\u001B[1;34m(self)\u001B[0m\n\u001B[0;32m     12\u001B[0m             \u001B[1;32mfor\u001B[0m \u001B[0mrow\u001B[0m \u001B[1;32min\u001B[0m \u001B[0mfile\u001B[0m\u001B[1;33m:\u001B[0m\u001B[1;33m\u001B[0m\u001B[1;33m\u001B[0m\u001B[0m\n\u001B[0;32m     13\u001B[0m                 \u001B[1;32mif\u001B[0m \u001B[1;34mf'{self.login, self.password}\\n'\u001B[0m \u001B[1;33m==\u001B[0m \u001B[0mrow\u001B[0m\u001B[1;33m:\u001B[0m\u001B[1;33m\u001B[0m\u001B[1;33m\u001B[0m\u001B[0m\n\u001B[1;32m---> 14\u001B[1;33m                     \u001B[1;32mraise\u001B[0m \u001B[0mValueError\u001B[0m\u001B[1;33m(\u001B[0m\u001B[1;34m'The user is in the file'\u001B[0m\u001B[1;33m)\u001B[0m\u001B[1;33m\u001B[0m\u001B[1;33m\u001B[0m\u001B[0m\n\u001B[0m\u001B[0;32m     15\u001B[0m         \u001B[0mVerification\u001B[0m\u001B[1;33m.\u001B[0m\u001B[0msave\u001B[0m\u001B[1;33m(\u001B[0m\u001B[0mself\u001B[0m\u001B[1;33m)\u001B[0m\u001B[1;33m\u001B[0m\u001B[1;33m\u001B[0m\u001B[0m\n\u001B[0;32m     16\u001B[0m \u001B[1;33m\u001B[0m\u001B[0m\n",
      "\u001B[1;31mValueError\u001B[0m: The user is in the file"
     ]
    }
   ],
   "source": [
    "from class_video_2 import Verification\n",
    "\n",
    "\n",
    "class V2(Verification):\n",
    "    def __init__(self, login, password, age):\n",
    "        Verification.__init__(self, login, password)\n",
    "        self.__save()\n",
    "        self.age = age\n",
    "\n",
    "    def __save(self):  # Приватный метод\n",
    "        with open('users_passwords.txt') as file:\n",
    "            for row in file:\n",
    "                if f'{self.login, self.password}\\n' == row:\n",
    "                    raise ValueError('The user is in the file')\n",
    "        Verification.save(self)\n",
    "\n",
    "    def show(self):\n",
    "        return self.login, self.password\n",
    "\n",
    "\n",
    "login = 'Kenny1'\n",
    "password = '12345678'\n",
    "x = V2(login, password, 12)\n",
    "print(x.show())"
   ],
   "metadata": {
    "collapsed": false,
    "pycharm": {
     "name": "#%%\n"
    }
   }
  },
  {
   "cell_type": "code",
   "execution_count": 37,
   "outputs": [],
   "source": [
    "from class_video_2 import Verification\n",
    "from tkinter import Tk, Button\n",
    "\n",
    "class MyApp(Tk):\n",
    "    def __init__(self):\n",
    "        Tk.__init__(self)\n",
    "        self.geometry('400x400')\n",
    "        self.set_ui()\n",
    "\n",
    "    def set_ui(self):\n",
    "       Button(self, text='OK').pack()  # Композиция, создание объектов другого класса в объекте\n",
    "\n",
    "app = MyApp()\n",
    "app.mainloop()"
   ],
   "metadata": {
    "collapsed": false,
    "pycharm": {
     "name": "#%%\n"
    }
   }
  },
  {
   "cell_type": "markdown",
   "source": [
    "### Super"
   ],
   "metadata": {
    "collapsed": false,
    "pycharm": {
     "name": "#%% md\n"
    }
   }
  },
  {
   "cell_type": "code",
   "execution_count": 95,
   "outputs": [
    {
     "name": "stdout",
     "output_type": "stream",
     "text": [
      "('Kenny123', '12345678')\n"
     ]
    }
   ],
   "source": [
    "from class_video_2 import Verification\n",
    "\n",
    "\n",
    "class V2(Verification):\n",
    "    def __init__(self, login, password, age):\n",
    "        super().__init__(login, password)\n",
    "        self.__save()\n",
    "        self.age = age\n",
    "\n",
    "    def __save(self):  # Приватный метод\n",
    "        with open('users_passwords.txt') as file:\n",
    "            for row in file:\n",
    "                if f'{self.login, self.password}\\n' == row:\n",
    "                    raise ValueError('The user is in the file')\n",
    "        super().save()\n",
    "\n",
    "    def show(self):\n",
    "        return self.login, self.password\n",
    "\n",
    "\n",
    "login = 'Kenny123'\n",
    "password = '12345678'\n",
    "x = V2(login, password, 12)\n",
    "print(x.show())"
   ],
   "metadata": {
    "collapsed": false,
    "pycharm": {
     "name": "#%%\n"
    }
   }
  },
  {
   "cell_type": "markdown",
   "source": [
    "### MRO"
   ],
   "metadata": {
    "collapsed": false,
    "pycharm": {
     "name": "#%% md\n"
    }
   }
  },
  {
   "cell_type": "code",
   "execution_count": 92,
   "outputs": [
    {
     "ename": "AttributeError",
     "evalue": "'D' object has no attribute 'a'",
     "output_type": "error",
     "traceback": [
      "\u001B[1;31m---------------------------------------------------------------------------\u001B[0m",
      "\u001B[1;31mAttributeError\u001B[0m                            Traceback (most recent call last)",
      "\u001B[1;32m~\\AppData\\Local\\Temp/ipykernel_27808/1272831996.py\u001B[0m in \u001B[0;36m<module>\u001B[1;34m\u001B[0m\n\u001B[0;32m      1\u001B[0m \u001B[1;32mfrom\u001B[0m \u001B[0mclass_video_2\u001B[0m \u001B[1;32mimport\u001B[0m \u001B[0mD\u001B[0m\u001B[1;33m\u001B[0m\u001B[1;33m\u001B[0m\u001B[0m\n\u001B[0;32m      2\u001B[0m \u001B[1;33m\u001B[0m\u001B[0m\n\u001B[1;32m----> 3\u001B[1;33m \u001B[0mD\u001B[0m\u001B[1;33m(\u001B[0m\u001B[1;33m)\u001B[0m\u001B[1;33m.\u001B[0m\u001B[0ma\u001B[0m\u001B[1;33m(\u001B[0m\u001B[1;33m)\u001B[0m\u001B[1;33m\u001B[0m\u001B[1;33m\u001B[0m\u001B[0m\n\u001B[0m",
      "\u001B[1;31mAttributeError\u001B[0m: 'D' object has no attribute 'a'"
     ]
    }
   ],
   "source": [
    "from class_video_2 import D\n",
    "\n",
    "D().a()"
   ],
   "metadata": {
    "collapsed": false,
    "pycharm": {
     "name": "#%%\n"
    }
   }
  }
 ],
 "metadata": {
  "kernelspec": {
   "display_name": "Python 3",
   "language": "python",
   "name": "python3"
  },
  "language_info": {
   "codemirror_mode": {
    "name": "ipython",
    "version": 2
   },
   "file_extension": ".py",
   "mimetype": "text/x-python",
   "name": "python",
   "nbconvert_exporter": "python",
   "pygments_lexer": "ipython2",
   "version": "2.7.6"
  }
 },
 "nbformat": 4,
 "nbformat_minor": 0
}