{
 "cells": [
  {
   "cell_type": "markdown",
   "source": [
    "# [Third video](https://www.youtube.com/watch?v=H323khQJL40&list=PLNi5HdK6QEmX9fxp3_IBFx1O5tiTmKlYm&index=7&ab_channel=PythonHubStudio\n",
    "\n",
    ")"
   ],
   "metadata": {
    "collapsed": false,
    "pycharm": {
     "name": "#%% md\n"
    }
   }
  },
  {
   "cell_type": "markdown",
   "source": [
    "### Manual"
   ],
   "metadata": {
    "collapsed": false,
    "pycharm": {
     "name": "#%% md\n"
    }
   }
  },
  {
   "cell_type": "code",
   "execution_count": 9,
   "outputs": [
    {
     "name": "stdout",
     "output_type": "stream",
     "text": [
      "1\n",
      "None\n",
      "2\n"
     ]
    }
   ],
   "source": [
    "from datetime import datetime as dt\n",
    "\n",
    "\n",
    "class Player:\n",
    "    __LEVEL, __HEALTH = 1, 100\n",
    "    __slots__ = ['__level', '__health', '__born']  # Новых свойств добавить в экземпляр будет нельзя\n",
    "\n",
    "    def __init__(self):\n",
    "        self.__level = Player.__LEVEL\n",
    "        self.__health = Player.__HEALTH\n",
    "        self.__born = dt.now()\n",
    "\n",
    "    def get_level(self):\n",
    "        return self.__level\n",
    "\n",
    "    def set_level(self, number):\n",
    "        self.__level += number\n",
    "\n",
    "\n",
    "player_1 = Player()\n",
    "print(player_1.get_level())\n",
    "print(player_1.set_level(1))\n",
    "print(player_1.get_level())\n",
    "\n"
   ],
   "metadata": {
    "collapsed": false,
    "pycharm": {
     "name": "#%%\n"
    }
   }
  },
  {
   "cell_type": "markdown",
   "source": [
    "### Decorators property, setter"
   ],
   "metadata": {
    "collapsed": false,
    "pycharm": {
     "name": "#%% md\n"
    }
   }
  },
  {
   "cell_type": "code",
   "execution_count": 5,
   "outputs": [
    {
     "name": "stdout",
     "output_type": "stream",
     "text": [
      "1\n",
      "2\n"
     ]
    }
   ],
   "source": [
    "from datetime import datetime as dt\n",
    "\n",
    "\n",
    "class Player:\n",
    "    __LEVEL, __HEALTH = 1, 100\n",
    "    __slots__ = ['__level', '__health', '__born']  # Новых свойств добавить в экземпляр будет нельзя\n",
    "\n",
    "    def __init__(self):\n",
    "        self.__level = Player.__LEVEL\n",
    "        self.__health = Player.__HEALTH\n",
    "        self.__born = dt.now()\n",
    "\n",
    "    @property\n",
    "    def level(self):\n",
    "        return self.__level\n",
    "\n",
    "    @level.setter\n",
    "    def level(self, number):\n",
    "        self.__level += number\n",
    "\n",
    "\n",
    "player_1 = Player()\n",
    "print(player_1.level)\n",
    "player_1.level = 1\n",
    "print(player_1.level)\n"
   ],
   "metadata": {
    "collapsed": false,
    "pycharm": {
     "name": "#%%\n"
    }
   }
  },
  {
   "cell_type": "markdown",
   "source": [
    "#### Усложняем предудущее"
   ],
   "metadata": {
    "collapsed": false,
    "pycharm": {
     "name": "#%% md\n"
    }
   }
  },
  {
   "cell_type": "code",
   "execution_count": 5,
   "outputs": [
    {
     "name": "stdout",
     "output_type": "stream",
     "text": [
      "(1, '0:00:00')\n",
      "(11, '0:00:00.001002')\n"
     ]
    }
   ],
   "source": [
    "from datetime import datetime as dt\n",
    "\n",
    "\n",
    "class Player:\n",
    "    __LEVEL, __HEALTH = 1, 100\n",
    "    __slots__ = ['__level', '__health', '__born']  # Новых свойств добавить в экземпляр будет нельзя\n",
    "\n",
    "    def __init__(self):\n",
    "        self.__level = Player.__LEVEL\n",
    "        self.__health = Player.__HEALTH\n",
    "        self.__born = dt.now()\n",
    "\n",
    "    @property\n",
    "    def level(self):\n",
    "        return self.__level, f'{dt.now() - self.__born}'\n",
    "\n",
    "    @level.setter\n",
    "    def level(self, number):\n",
    "        self.__level += number\n",
    "        if self.__level >= 100: self.level = 100\n",
    "\n",
    "\n",
    "player_1 = Player()\n",
    "print(player_1.level)\n",
    "player_1.level = 10\n",
    "print(player_1.level)"
   ],
   "metadata": {
    "collapsed": false,
    "pycharm": {
     "name": "#%%\n"
    }
   }
  },
  {
   "cell_type": "markdown",
   "source": [
    "### classmethod"
   ],
   "metadata": {
    "collapsed": false,
    "pycharm": {
     "name": "#%% md\n"
    }
   }
  },
  {
   "cell_type": "code",
   "execution_count": 31,
   "outputs": [
    {
     "name": "stdout",
     "output_type": "stream",
     "text": [
      "(10, '0:00:00')\n",
      "player_1.level = (20, '0:00:00')\n",
      "player_2.level = (1, '0:00:00')\n"
     ]
    },
    {
     "ename": "TypeError",
     "evalue": "Must be int",
     "output_type": "error",
     "traceback": [
      "\u001B[1;31m---------------------------------------------------------------------------\u001B[0m",
      "\u001B[1;31mTypeError\u001B[0m                                 Traceback (most recent call last)",
      "\u001B[1;32m~\\AppData\\Local\\Temp/ipykernel_10812/3076770671.py\u001B[0m in \u001B[0;36m<module>\u001B[1;34m\u001B[0m\n\u001B[0;32m     44\u001B[0m \u001B[1;33m\u001B[0m\u001B[0m\n\u001B[0;32m     45\u001B[0m \u001B[1;31m# Raise error\u001B[0m\u001B[1;33m\u001B[0m\u001B[1;33m\u001B[0m\u001B[0m\n\u001B[1;32m---> 46\u001B[1;33m \u001B[0mplayer_2\u001B[0m\u001B[1;33m.\u001B[0m\u001B[0mlevel\u001B[0m \u001B[1;33m=\u001B[0m \u001B[1;34m'qwe'\u001B[0m\u001B[1;33m\u001B[0m\u001B[1;33m\u001B[0m\u001B[0m\n\u001B[0m\u001B[0;32m     47\u001B[0m \u001B[1;33m\u001B[0m\u001B[0m\n",
      "\u001B[1;32m~\\AppData\\Local\\Temp/ipykernel_10812/3076770671.py\u001B[0m in \u001B[0;36mlevel\u001B[1;34m(self, number)\u001B[0m\n\u001B[0;32m     17\u001B[0m     \u001B[1;33m@\u001B[0m\u001B[0mlevel\u001B[0m\u001B[1;33m.\u001B[0m\u001B[0msetter\u001B[0m\u001B[1;33m\u001B[0m\u001B[1;33m\u001B[0m\u001B[0m\n\u001B[0;32m     18\u001B[0m     \u001B[1;32mdef\u001B[0m \u001B[0mlevel\u001B[0m\u001B[1;33m(\u001B[0m\u001B[0mself\u001B[0m\u001B[1;33m,\u001B[0m \u001B[0mnumber\u001B[0m\u001B[1;33m)\u001B[0m\u001B[1;33m:\u001B[0m\u001B[1;33m\u001B[0m\u001B[1;33m\u001B[0m\u001B[0m\n\u001B[1;32m---> 19\u001B[1;33m         \u001B[0mself\u001B[0m\u001B[1;33m.\u001B[0m\u001B[0m__level\u001B[0m \u001B[1;33m+=\u001B[0m \u001B[0mPlayer\u001B[0m\u001B[1;33m.\u001B[0m\u001B[0m__type_test\u001B[0m\u001B[1;33m(\u001B[0m\u001B[0mnumber\u001B[0m\u001B[1;33m)\u001B[0m\u001B[1;33m\u001B[0m\u001B[1;33m\u001B[0m\u001B[0m\n\u001B[0m\u001B[0;32m     20\u001B[0m         \u001B[1;32mif\u001B[0m \u001B[0mself\u001B[0m\u001B[1;33m.\u001B[0m\u001B[0m__level\u001B[0m \u001B[1;33m>=\u001B[0m \u001B[1;36m100\u001B[0m\u001B[1;33m:\u001B[0m \u001B[0mself\u001B[0m\u001B[1;33m.\u001B[0m\u001B[0mlevel\u001B[0m \u001B[1;33m=\u001B[0m \u001B[1;36m100\u001B[0m\u001B[1;33m\u001B[0m\u001B[1;33m\u001B[0m\u001B[0m\n\u001B[0;32m     21\u001B[0m \u001B[1;33m\u001B[0m\u001B[0m\n",
      "\u001B[1;32m~\\AppData\\Local\\Temp/ipykernel_10812/3076770671.py\u001B[0m in \u001B[0;36m__type_test\u001B[1;34m(value)\u001B[0m\n\u001B[0;32m     30\u001B[0m             \u001B[1;32mreturn\u001B[0m \u001B[0mvalue\u001B[0m\u001B[1;33m\u001B[0m\u001B[1;33m\u001B[0m\u001B[0m\n\u001B[0;32m     31\u001B[0m         \u001B[1;32melse\u001B[0m\u001B[1;33m:\u001B[0m\u001B[1;33m\u001B[0m\u001B[1;33m\u001B[0m\u001B[0m\n\u001B[1;32m---> 32\u001B[1;33m             \u001B[1;32mraise\u001B[0m \u001B[0mTypeError\u001B[0m\u001B[1;33m(\u001B[0m\u001B[1;34m'Must be int'\u001B[0m\u001B[1;33m)\u001B[0m\u001B[1;33m\u001B[0m\u001B[1;33m\u001B[0m\u001B[0m\n\u001B[0m\u001B[0;32m     33\u001B[0m \u001B[1;33m\u001B[0m\u001B[0m\n\u001B[0;32m     34\u001B[0m \u001B[1;33m\u001B[0m\u001B[0m\n",
      "\u001B[1;31mTypeError\u001B[0m: Must be int"
     ]
    }
   ],
   "source": [
    "from datetime import datetime as dt\n",
    "\n",
    "\n",
    "class Player:\n",
    "    __LEVEL, __HEALTH = 1, 100\n",
    "    __slots__ = ['__level', '__health', '__born']  # Новых свойств добавить в экземпляр будет нельзя\n",
    "\n",
    "    def __init__(self):\n",
    "        self.__level = Player.__LEVEL\n",
    "        self.__health = Player.__HEALTH\n",
    "        self.__born = dt.now()\n",
    "\n",
    "    @property\n",
    "    def level(self):\n",
    "        return self.__level, f'{dt.now() - self.__born}'\n",
    "\n",
    "    @level.setter\n",
    "    def level(self, number):\n",
    "        self.__level += Player.__type_test(number)\n",
    "        if self.__level >= 100: self.level = 100\n",
    "\n",
    "    @classmethod\n",
    "    def set_cls_field(cls, level=1, health=100):\n",
    "        cls.__LEVEL = Player.__type_test(level)\n",
    "        cls.__HEALTH = Player.__type_test(health)\n",
    "\n",
    "    @staticmethod\n",
    "    def __type_test(value):\n",
    "        if isinstance(value, int):\n",
    "            return value\n",
    "        else:\n",
    "            raise TypeError('Must be int')\n",
    "\n",
    "\n",
    "Player.set_cls_field(10, 50)\n",
    "player_1 = Player()\n",
    "print(player_1.level)\n",
    "player_1.level = 10\n",
    "print(f'{player_1.level = }')\n",
    "\n",
    "Player.set_cls_field()\n",
    "player_2 = Player()\n",
    "print(f'{player_2.level = }')\n",
    "\n",
    "# Raise error\n",
    "player_2.level = 'qwe'\n",
    "\n"
   ],
   "metadata": {
    "collapsed": false,
    "pycharm": {
     "name": "#%%\n"
    }
   }
  }
 ],
 "metadata": {
  "kernelspec": {
   "display_name": "Python 3",
   "language": "python",
   "name": "python3"
  },
  "language_info": {
   "codemirror_mode": {
    "name": "ipython",
    "version": 2
   },
   "file_extension": ".py",
   "mimetype": "text/x-python",
   "name": "python",
   "nbconvert_exporter": "python",
   "pygments_lexer": "ipython2",
   "version": "2.7.6"
  }
 },
 "nbformat": 4,
 "nbformat_minor": 0
}