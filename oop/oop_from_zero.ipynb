{
 "cells": [
  {
   "cell_type": "markdown",
   "metadata": {
    "collapsed": true,
    "pycharm": {
     "name": "#%% md\n"
    }
   },
   "source": [
    "[Полный курс уроков обучения ООП Python с нуля до Junior и выше с написанием профессиональной программы](https://www.youtube.com/watch?v=-Zdu4ntX_DU&list=PLNi5HdK6QEmX9fxp3_IBFx1O5tiTmKlYm&ab_channel=PythonHubStudio)"
   ]
  },
  {
   "cell_type": "code",
   "execution_count": 9,
   "outputs": [
    {
     "name": "stdout",
     "output_type": "stream",
     "text": [
      "<class 'list'> <class 'list'>\n"
     ]
    }
   ],
   "source": [
    "x = [7, 8]  # По факту класс типа лист\n",
    "x.append(9)  # Использование метода класса\n",
    "y = [8, 9]\n",
    "print(type(x), type(y))"
   ],
   "metadata": {
    "collapsed": false,
    "pycharm": {
     "name": "#%%\n"
    }
   }
  },
  {
   "cell_type": "code",
   "execution_count": 12,
   "outputs": [],
   "source": [
    "from tkinter import Tk\n",
    "\n",
    "\"\"\"\n",
    "объект - единица информации в памяти\n",
    "экземпляр - конкрентный объект какого-то класса\n",
    "класс - инструкция по созданию объектов определенного типа\n",
    "метод - функция в классе для воздействия на объект\n",
    "поля или свойства - переменные в классе\n",
    "атрибуты - все имена в классе: переменных и методов\n",
    "\n",
    "\"\"\"\n",
    "\n",
    "root = Tk()\n",
    "root.mainloop()"
   ],
   "metadata": {
    "collapsed": false,
    "pycharm": {
     "name": "#%%\n"
    }
   }
  },
  {
   "cell_type": "code",
   "execution_count": 16,
   "outputs": [
    {
     "name": "stdout",
     "output_type": "stream",
     "text": [
      "<__main__.Purse object at 0x000001E5E902C040>\n",
      "Hello Unknown\n",
      "Hello Alice\n"
     ]
    }
   ],
   "source": [
    "class Purse:\n",
    "    def show(self, name='Unknown'):\n",
    "        print(f'Hello {name}')\n",
    "\n",
    "\n",
    "x = Purse()\n",
    "y = Purse()\n",
    "print(x)\n",
    "x.show()\n",
    "y.show('Alice')"
   ],
   "metadata": {
    "collapsed": false,
    "pycharm": {
     "name": "#%%\n"
    }
   }
  },
  {
   "cell_type": "code",
   "execution_count": 68,
   "outputs": [
    {
     "name": "stdout",
     "output_type": "stream",
     "text": [
      "The wallet's been deleted\n",
      "50.0\n",
      "The wallet's been deleted\n",
      "50.0\n",
      "100.0 USD\n",
      "0.0 USDT\n",
      "Transfer money\n",
      "Before\n",
      "100.0 USD\n",
      "0.0 USDT\n",
      "After\n",
      "50.0 USD\n",
      "50.0 USDT\n"
     ]
    }
   ],
   "source": [
    "class Purse:\n",
    "    def __init__(self, currency, name='Unknown'):  # Конструктор объекта\n",
    "        self.__money = 0.00  # Свойство money приватное (Инкопсуляция данных, защита от редактирования) Вообще никак не достать переменную.\n",
    "        self._currency = currency  # Менее жесткая инкопсуляция, данные можно достать через _\n",
    "        self.name = name\n",
    "\n",
    "    def top_up_balance(self, amount):\n",
    "        self.__money += amount\n",
    "        return amount\n",
    "\n",
    "    def top_down_balance(self, amount):\n",
    "        if self.__money - amount < 0:\n",
    "            error = 'Not enough money'\n",
    "            print(error)\n",
    "            raise ValueError(error)\n",
    "        self.__money -= amount\n",
    "        return amount\n",
    "\n",
    "    def info(self):\n",
    "        print(self.__money, self._currency)\n",
    "\n",
    "    def __del__(self):  # Деструктор\n",
    "        print(\"The wallet's been deleted\")\n",
    "        print(self.__money)\n",
    "\n",
    "x = Purse('BTC')\n",
    "y = Purse('USDT', 'Bill')\n",
    "\n",
    "x._currency = 'USD'  # Антипаттерн, так не делать?\n",
    "\n",
    "x.top_up_balance(100)\n",
    "x.info()\n",
    "\n",
    "y.money = - 200  # Пытаемся вызвать ошибку, путём вызова приватного поля\n",
    "y.__money = - 200  # Пытаемся вызвать ошибку, путём вызова приватного поля\n",
    "y.info()\n",
    "\n",
    "print('Transfer money')\n",
    "print('Before')\n",
    "x.info()\n",
    "y.info()\n",
    "print('After')\n",
    "y.top_up_balance(x.top_down_balance(50))\n",
    "x.info()\n",
    "y.info()\n"
   ],
   "metadata": {
    "collapsed": false,
    "pycharm": {
     "name": "#%%\n"
    }
   }
  },
  {
   "cell_type": "code",
   "execution_count": 40,
   "outputs": [
    {
     "name": "stdout",
     "output_type": "stream",
     "text": [
      "Not enough money\n"
     ]
    },
    {
     "ename": "ValueError",
     "evalue": "Not enough money",
     "output_type": "error",
     "traceback": [
      "\u001B[1;31m---------------------------------------------------------------------------\u001B[0m",
      "\u001B[1;31mValueError\u001B[0m                                Traceback (most recent call last)",
      "\u001B[1;32m~\\AppData\\Local\\Temp/ipykernel_10416/3710843208.py\u001B[0m in \u001B[0;36m<module>\u001B[1;34m\u001B[0m\n\u001B[0;32m      1\u001B[0m \u001B[1;31m# Получим ошибку\u001B[0m\u001B[1;33m\u001B[0m\u001B[1;33m\u001B[0m\u001B[0m\n\u001B[1;32m----> 2\u001B[1;33m \u001B[0mx\u001B[0m\u001B[1;33m.\u001B[0m\u001B[0mtop_down_balance\u001B[0m\u001B[1;33m(\u001B[0m\u001B[1;36m100000000\u001B[0m\u001B[1;33m)\u001B[0m\u001B[1;33m\u001B[0m\u001B[1;33m\u001B[0m\u001B[0m\n\u001B[0m",
      "\u001B[1;32m~\\AppData\\Local\\Temp/ipykernel_10416/2555868577.py\u001B[0m in \u001B[0;36mtop_down_balance\u001B[1;34m(self, amount)\u001B[0m\n\u001B[0;32m     12\u001B[0m             \u001B[0merror\u001B[0m \u001B[1;33m=\u001B[0m \u001B[1;34m'Not enough money'\u001B[0m\u001B[1;33m\u001B[0m\u001B[1;33m\u001B[0m\u001B[0m\n\u001B[0;32m     13\u001B[0m             \u001B[0mprint\u001B[0m\u001B[1;33m(\u001B[0m\u001B[0merror\u001B[0m\u001B[1;33m)\u001B[0m\u001B[1;33m\u001B[0m\u001B[1;33m\u001B[0m\u001B[0m\n\u001B[1;32m---> 14\u001B[1;33m             \u001B[1;32mraise\u001B[0m \u001B[0mValueError\u001B[0m\u001B[1;33m(\u001B[0m\u001B[0merror\u001B[0m\u001B[1;33m)\u001B[0m\u001B[1;33m\u001B[0m\u001B[1;33m\u001B[0m\u001B[0m\n\u001B[0m\u001B[0;32m     15\u001B[0m         \u001B[0mself\u001B[0m\u001B[1;33m.\u001B[0m\u001B[0m__money\u001B[0m \u001B[1;33m-=\u001B[0m \u001B[0mamount\u001B[0m\u001B[1;33m\u001B[0m\u001B[1;33m\u001B[0m\u001B[0m\n\u001B[0;32m     16\u001B[0m \u001B[1;33m\u001B[0m\u001B[0m\n",
      "\u001B[1;31mValueError\u001B[0m: Not enough money"
     ]
    }
   ],
   "source": [
    "# Получим ошибку\n",
    "x.top_down_balance(100000000)"
   ],
   "metadata": {
    "collapsed": false,
    "pycharm": {
     "name": "#%%\n"
    }
   }
  },
  {
   "cell_type": "code",
   "source": [
    "del x"
   ],
   "metadata": {
    "collapsed": false,
    "pycharm": {
     "name": "#%%\n"
    }
   },
   "execution_count": 69,
   "outputs": [
    {
     "name": "stdout",
     "output_type": "stream",
     "text": [
      "The wallet's been deleted\n",
      "50.0\n"
     ]
    }
   ]
  },
  {
   "cell_type": "markdown",
   "source": [
    "# [Second video](https://www.youtube.com/watch?v=v8wekXR_oMw&list=PLNi5HdK6QEmX9fxp3_IBFx1O5tiTmKlYm&index=2&ab_channel=PythonHubStudio)"
   ],
   "metadata": {
    "collapsed": false,
    "pycharm": {
     "name": "#%% md\n"
    }
   }
  },
  {
   "cell_type": "code",
   "execution_count": null,
   "outputs": [],
   "source": [],
   "metadata": {
    "collapsed": false,
    "pycharm": {
     "name": "#%%\n"
    }
   }
  }
 ],
 "metadata": {
  "kernelspec": {
   "display_name": "Python 3",
   "language": "python",
   "name": "python3"
  },
  "language_info": {
   "codemirror_mode": {
    "name": "ipython",
    "version": 2
   },
   "file_extension": ".py",
   "mimetype": "text/x-python",
   "name": "python",
   "nbconvert_exporter": "python",
   "pygments_lexer": "ipython2",
   "version": "2.7.6"
  }
 },
 "nbformat": 4,
 "nbformat_minor": 0
}