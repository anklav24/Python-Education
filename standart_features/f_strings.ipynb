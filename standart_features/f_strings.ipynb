{
 "cells": [
  {
   "cell_type": "markdown",
   "metadata": {
    "collapsed": true,
    "pycharm": {
     "name": "#%% md\n"
    }
   },
   "source": [
    "[Python f-strings Are More Powerful Than You Might Think](https://towardsdatascience.com/python-f-strings-are-more-powerful-than-you-might-think-8271d3efbd7d)"
   ]
  },
  {
   "cell_type": "markdown",
   "source": [
    "### Date and Time Formatting"
   ],
   "metadata": {
    "collapsed": false,
    "pycharm": {
     "name": "#%% md\n"
    }
   }
  },
  {
   "cell_type": "code",
   "execution_count": 10,
   "outputs": [
    {
     "name": "stdout",
     "output_type": "stream",
     "text": [
      "2022-04-13 19:34:58.186071\n",
      "today = 2022_04_13\n",
      "2022_04_13\n",
      "2022\n",
      "2022-04-13\n",
      "19:34:58\n",
      "Wed\n"
     ]
    }
   ],
   "source": [
    "import datetime\n",
    "today = datetime.datetime.today()\n",
    "print(today)\n",
    "print(f'{today = :%Y_%m_%d}')\n",
    "print(f'{today:%Y_%m_%d}')\n",
    "print(f'{today:%Y}')\n",
    "print(f'{today:%F}')\n",
    "print(f'{today:%T}')\n",
    "print(f'{today:%a}')\n",
    "\n",
    "# Refer to the Linux manpages for full list of formats.\n",
    "# https://manpages.debian.org/bullseye/manpages-dev/strftime.3.en.html\n"
   ],
   "metadata": {
    "collapsed": false,
    "pycharm": {
     "name": "#%%\n"
    }
   }
  },
  {
   "cell_type": "markdown",
   "source": [
    "### Variable Names and Debugging"
   ],
   "metadata": {
    "collapsed": false,
    "pycharm": {
     "name": "#%% md\n"
    }
   }
  },
  {
   "cell_type": "code",
   "execution_count": 13,
   "outputs": [
    {
     "name": "stdout",
     "output_type": "stream",
     "text": [
      "x = 15, y = 25\n",
      "x = 15.000\n"
     ]
    }
   ],
   "source": [
    "\n",
    "x = 15\n",
    "y = 25\n",
    "print(f'{x = }, {y = }')\n",
    "print(f'{x = :.3f}')"
   ],
   "metadata": {
    "collapsed": false,
    "pycharm": {
     "name": "#%%\n"
    }
   }
  },
  {
   "cell_type": "markdown",
   "source": [
    "### String Representation"
   ],
   "metadata": {
    "collapsed": false,
    "pycharm": {
     "name": "#%% md\n"
    }
   }
  }
 ],
 "metadata": {
  "kernelspec": {
   "display_name": "Python 3",
   "language": "python",
   "name": "python3"
  },
  "language_info": {
   "codemirror_mode": {
    "name": "ipython",
    "version": 2
   },
   "file_extension": ".py",
   "mimetype": "text/x-python",
   "name": "python",
   "nbconvert_exporter": "python",
   "pygments_lexer": "ipython2",
   "version": "2.7.6"
  }
 },
 "nbformat": 4,
 "nbformat_minor": 0
}