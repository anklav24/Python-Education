{
 "cells": [
  {
   "cell_type": "markdown",
   "source": [
    "https://devpractice.ru/python-lesson-14-classes-and-objects/"
   ],
   "metadata": {
    "collapsed": false,
    "pycharm": {
     "name": "#%% md\n"
    }
   }
  },
  {
   "cell_type": "code",
   "execution_count": 1,
   "metadata": {
    "collapsed": true
   },
   "outputs": [],
   "source": [
    "class C:\n",
    "    pass"
   ]
  },
  {
   "cell_type": "code",
   "execution_count": 2,
   "outputs": [],
   "source": [
    "class Rectangle:\n",
    "    default_color = \"green\"  # Статический атрибут.\n",
    "\n",
    "    # width and height  это динамические атрибуты.\n",
    "    def __init__(self, width, height):\n",
    "        self.width = width\n",
    "        self.height = height"
   ],
   "metadata": {
    "collapsed": false,
    "pycharm": {
     "name": "#%%\n"
    }
   }
  },
  {
   "cell_type": "code",
   "execution_count": 7,
   "outputs": [
    {
     "name": "stdout",
     "output_type": "stream",
     "text": [
      "green\n"
     ]
    }
   ],
   "source": [
    "# Можем обратиться\n",
    "print(Rectangle.default_color)"
   ],
   "metadata": {
    "collapsed": false,
    "pycharm": {
     "name": "#%%\n"
    }
   }
  },
  {
   "cell_type": "code",
   "execution_count": 16,
   "outputs": [
    {
     "name": "stdout",
     "output_type": "stream",
     "text": [
      "red\n",
      "red\n",
      "blue\n"
     ]
    }
   ],
   "source": [
    "Rectangle.default_color = \"red\"\n",
    "print(Rectangle.default_color)\n",
    "\n",
    "r1 = Rectangle(1, 2)\n",
    "r2 = Rectangle(10, 20)\n",
    "print(r1.default_color)\n",
    "r2.default_color = \"blue\"\n",
    "print(r2.default_color)"
   ],
   "metadata": {
    "collapsed": false,
    "pycharm": {
     "name": "#%%\n"
    }
   }
  },
  {
   "cell_type": "code",
   "execution_count": 8,
   "outputs": [
    {
     "ename": "AttributeError",
     "evalue": "type object 'Rectangle' has no attribute 'width'",
     "output_type": "error",
     "traceback": [
      "\u001B[1;31m---------------------------------------------------------------------------\u001B[0m",
      "\u001B[1;31mAttributeError\u001B[0m                            Traceback (most recent call last)",
      "\u001B[1;32m<ipython-input-8-5165d136c58f>\u001B[0m in \u001B[0;36m<module>\u001B[1;34m\u001B[0m\n\u001B[1;32m----> 1\u001B[1;33m \u001B[0mprint\u001B[0m\u001B[1;33m(\u001B[0m\u001B[0mRectangle\u001B[0m\u001B[1;33m.\u001B[0m\u001B[0mwidth\u001B[0m\u001B[1;33m)\u001B[0m\u001B[1;33m\u001B[0m\u001B[1;33m\u001B[0m\u001B[0m\n\u001B[0m\u001B[0;32m      2\u001B[0m \u001B[1;33m\u001B[0m\u001B[0m\n",
      "\u001B[1;31mAttributeError\u001B[0m: type object 'Rectangle' has no attribute 'width'"
     ]
    }
   ],
   "source": [
    "# Так получим ошибку, нужно создавать экземпляр класса.\n",
    "print(Rectangle.width)"
   ],
   "metadata": {
    "collapsed": false,
    "pycharm": {
     "name": "#%%\n"
    }
   }
  },
  {
   "cell_type": "code",
   "execution_count": 6,
   "outputs": [
    {
     "name": "stdout",
     "output_type": "stream",
     "text": [
      "10\n",
      "20\n"
     ]
    }
   ],
   "source": [
    "rect = Rectangle(10, 20)\n",
    "print(rect.width)\n",
    "print(rect.height)"
   ],
   "metadata": {
    "collapsed": false,
    "pycharm": {
     "name": "#%%\n"
    }
   }
  },
  {
   "cell_type": "code",
   "execution_count": 19,
   "outputs": [],
   "source": [
    "# Метод – это функция, находящаяся внутри класса и выполняющая определенную работу.\n",
    "\n",
    "class MyClass:\n",
    "    @staticmethod\n",
    "    def ex_static_method():\n",
    "        print(\"static method\")\n",
    "\n",
    "    @classmethod\n",
    "    def ex_class_method(cls):\n",
    "        print(\"class method\")\n",
    "\n",
    "    def ex_method(self):\n",
    "        print(\"method\")"
   ],
   "metadata": {
    "collapsed": false,
    "pycharm": {
     "name": "#%%\n"
    }
   }
  },
  {
   "cell_type": "code",
   "execution_count": 22,
   "outputs": [
    {
     "name": "stdout",
     "output_type": "stream",
     "text": [
      "static method\n",
      "class method\n"
     ]
    },
    {
     "ename": "TypeError",
     "evalue": "ex_method() missing 1 required positional argument: 'self'",
     "output_type": "error",
     "traceback": [
      "\u001B[1;31m---------------------------------------------------------------------------\u001B[0m",
      "\u001B[1;31mTypeError\u001B[0m                                 Traceback (most recent call last)",
      "\u001B[1;32m<ipython-input-22-74431125a7a3>\u001B[0m in \u001B[0;36m<module>\u001B[1;34m\u001B[0m\n\u001B[0;32m      4\u001B[0m \u001B[0mMyClass\u001B[0m\u001B[1;33m.\u001B[0m\u001B[0mex_static_method\u001B[0m\u001B[1;33m(\u001B[0m\u001B[1;33m)\u001B[0m\u001B[1;33m\u001B[0m\u001B[1;33m\u001B[0m\u001B[0m\n\u001B[0;32m      5\u001B[0m \u001B[0mMyClass\u001B[0m\u001B[1;33m.\u001B[0m\u001B[0mex_class_method\u001B[0m\u001B[1;33m(\u001B[0m\u001B[1;33m)\u001B[0m\u001B[1;33m\u001B[0m\u001B[1;33m\u001B[0m\u001B[0m\n\u001B[1;32m----> 6\u001B[1;33m \u001B[0mMyClass\u001B[0m\u001B[1;33m.\u001B[0m\u001B[0mex_method\u001B[0m\u001B[1;33m(\u001B[0m\u001B[1;33m)\u001B[0m\u001B[1;33m\u001B[0m\u001B[1;33m\u001B[0m\u001B[0m\n\u001B[0m\u001B[0;32m      7\u001B[0m \u001B[1;33m\u001B[0m\u001B[0m\n",
      "\u001B[1;31mTypeError\u001B[0m: ex_method() missing 1 required positional argument: 'self'"
     ]
    }
   ],
   "source": [
    "# Статический и классовый метод можно вызвать, не создавая\n",
    "# экземпляр класса, для вызова ex_method() нужен объект:\n",
    "\n",
    "MyClass.ex_static_method()\n",
    "MyClass.ex_class_method()\n",
    "MyClass.ex_method()"
   ],
   "metadata": {
    "collapsed": false,
    "pycharm": {
     "name": "#%%\n"
    }
   }
  },
  {
   "cell_type": "code",
   "execution_count": 23,
   "outputs": [
    {
     "name": "stdout",
     "output_type": "stream",
     "text": [
      "method\n"
     ]
    }
   ],
   "source": [
    "m = MyClass()\n",
    "m.ex_method()"
   ],
   "metadata": {
    "collapsed": false,
    "pycharm": {
     "name": "#%%\n"
    }
   }
  },
  {
   "cell_type": "markdown",
   "source": [
    "Конструктор класса и инициализация экземпляра класса"
   ],
   "metadata": {
    "collapsed": false,
    "pycharm": {
     "name": "#%% md\n"
    }
   }
  },
  {
   "cell_type": "code",
   "execution_count": 25,
   "outputs": [
    {
     "name": "stdout",
     "output_type": "stream",
     "text": [
      "Hello from __new__\n",
      "Hello from __init__\n"
     ]
    }
   ],
   "source": [
    "class Rectangle:\n",
    "    def __new__(cls, *args, **kwargs):\n",
    "        print('Hello from __new__')\n",
    "        return super().__new__(cls)\n",
    "\n",
    "    def __init__(self, width, height):\n",
    "        print('Hello from __init__')\n",
    "        self.width = width\n",
    "        self.height = height\n",
    "\n",
    "\n",
    "rect = Rectangle(10, 20)"
   ],
   "metadata": {
    "collapsed": false,
    "pycharm": {
     "name": "#%%\n"
    }
   }
  },
  {
   "cell_type": "code",
   "execution_count": 28,
   "outputs": [
    {
     "name": "stdout",
     "output_type": "stream",
     "text": [
      "area = 90\n"
     ]
    }
   ],
   "source": [
    "class Rectangle:\n",
    "    def __init__(self, width: int, height: int):\n",
    "        self.width = width\n",
    "        self.height = height\n",
    "\n",
    "    def area(self):\n",
    "        return print('area', '=', self.width * self.height)\n",
    "\n",
    "\n",
    "rect2 = Rectangle(10, 9)\n",
    "rect2.area()"
   ],
   "metadata": {
    "collapsed": false,
    "pycharm": {
     "name": "#%%\n"
    }
   }
  },
  {
   "cell_type": "code",
   "execution_count": 31,
   "outputs": [
    {
     "name": "stdout",
     "output_type": "stream",
     "text": [
      "20\n"
     ]
    }
   ],
   "source": [
    "class Rectangle:\n",
    "    def __init__(self, width, height):\n",
    "        self._width = width\n",
    "        self._height = height\n",
    "\n",
    "    def get_width(self):\n",
    "        return self._width\n",
    "\n",
    "    def set_width(self, w):\n",
    "        self._width = w\n",
    "\n",
    "    def get_height(self):\n",
    "        return self._height\n",
    "\n",
    "    def set_height(self, h):\n",
    "        self._height = h\n",
    "\n",
    "    def area(self):\n",
    "        return self._width * self._height\n",
    "\n",
    "rect = Rectangle(10, 20)\n",
    "print(rect.get_height())\n",
    "print(rect._height, \"This is a really bad way to get a protected variable.\")"
   ],
   "metadata": {
    "collapsed": false,
    "pycharm": {
     "name": "#%%\n"
    }
   }
  },
  {
   "cell_type": "code",
   "execution_count": 33,
   "outputs": [],
   "source": [
    "# Если же атрибут или метод начинается с двух подчеркиваний,\n",
    "# то тут напрямую вы к нему уже не обратитесь (простым образом).\n",
    "# Модифицируем наш класс Rectangle:\n",
    "\n",
    "class Rectangle:\n",
    "    def __init__(self, width, height):\n",
    "        self.__width = width\n",
    "        self.__height = height\n",
    "\n",
    "    def get_width(self):\n",
    "        return self.__width\n",
    "\n",
    "    def set_width(self, w):\n",
    "        self.__width = w\n",
    "\n",
    "    def get_height(self):\n",
    "        return self.__height\n",
    "\n",
    "    def set_height(self, h):\n",
    "        self.__height = h\n",
    "\n",
    "    def area(self):\n",
    "        return self.__width * self.__height\n",
    "\n",
    "rect = Rectangle(10, 20)"
   ],
   "metadata": {
    "collapsed": false,
    "pycharm": {
     "name": "#%%\n"
    }
   }
  },
  {
   "cell_type": "code",
   "execution_count": 34,
   "outputs": [
    {
     "ename": "AttributeError",
     "evalue": "'Rectangle' object has no attribute '__width'",
     "output_type": "error",
     "traceback": [
      "\u001B[1;31m---------------------------------------------------------------------------\u001B[0m",
      "\u001B[1;31mAttributeError\u001B[0m                            Traceback (most recent call last)",
      "\u001B[1;32m<ipython-input-34-54a1f5cf5170>\u001B[0m in \u001B[0;36m<module>\u001B[1;34m\u001B[0m\n\u001B[0;32m      1\u001B[0m \u001B[1;31m# Попытка обратиться к __width напрямую вызовет ошибку, нужно работать только через get_width():\u001B[0m\u001B[1;33m\u001B[0m\u001B[1;33m\u001B[0m\u001B[1;33m\u001B[0m\u001B[0m\n\u001B[1;32m----> 2\u001B[1;33m \u001B[0mrect\u001B[0m\u001B[1;33m.\u001B[0m\u001B[0m__width\u001B[0m\u001B[1;33m\u001B[0m\u001B[1;33m\u001B[0m\u001B[0m\n\u001B[0m",
      "\u001B[1;31mAttributeError\u001B[0m: 'Rectangle' object has no attribute '__width'"
     ]
    }
   ],
   "source": [
    "# Попытка обратиться к __width напрямую вызовет ошибку, нужно работать только через get_width():\n",
    "rect.__width"
   ],
   "metadata": {
    "collapsed": false,
    "pycharm": {
     "name": "#%%\n"
    }
   }
  },
  {
   "cell_type": "code",
   "execution_count": 36,
   "outputs": [
    {
     "data": {
      "text/plain": "10"
     },
     "execution_count": 36,
     "metadata": {},
     "output_type": "execute_result"
    }
   ],
   "source": [
    "rect.get_width()\n"
   ],
   "metadata": {
    "collapsed": false,
    "pycharm": {
     "name": "#%%\n"
    }
   }
  },
  {
   "cell_type": "code",
   "execution_count": 43,
   "outputs": [
    {
     "name": "stdout",
     "output_type": "stream",
     "text": [
      "The bad way!\n"
     ]
    },
    {
     "data": {
      "text/plain": "10"
     },
     "execution_count": 43,
     "metadata": {},
     "output_type": "execute_result"
    }
   ],
   "source": [
    "# Но на самом деле это сделать можно, просто этот атрибут теперь для внешнего использования носит название: _Rectangle__width:\n",
    "print(\"The bad way!\")\n",
    "rect._Rectangle__width"
   ],
   "metadata": {
    "collapsed": false,
    "pycharm": {
     "name": "#%%\n"
    }
   }
  },
  {
   "cell_type": "markdown",
   "source": [
    "Свойства\n",
    "Свойством называется такой метод класса, работа с которым подобна работе с атрибутом. Для объявления метода свойством необходимо использовать декоратор @property.\n",
    "\n",
    "Важным преимуществом работы через свойства является то, что вы можете осуществлять проверку входных значений, перед тем как присвоить их атрибутам."
   ],
   "metadata": {
    "collapsed": false,
    "pycharm": {
     "name": "#%% md\n"
    }
   }
  },
  {
   "cell_type": "code",
   "execution_count": 49,
   "outputs": [],
   "source": [
    "class Rectangle:\n",
    "    def __init__(self, width, height):\n",
    "        self.__width = width\n",
    "        self.__height = height\n",
    "\n",
    "    @property\n",
    "    def width(self):\n",
    "        return self.__width\n",
    "\n",
    "    @width.setter\n",
    "    def width(self, w):\n",
    "        if w > 0:\n",
    "            self.__width = w\n",
    "        else:\n",
    "            raise ValueError\n",
    "\n",
    "    @property\n",
    "    def height(self):\n",
    "        return self.__height\n",
    "\n",
    "    @height.setter\n",
    "    def height(self, h):\n",
    "        if h > 0:\n",
    "            self.__height = h\n",
    "        else:\n",
    "            raise ValueError\n",
    "\n",
    "    @height.getter\n",
    "    def height(self):\n",
    "        return f\"{self.__height}, it's a getter\"\n",
    "\n",
    "    def area(self):\n",
    "        return self.__width * self.__height"
   ],
   "metadata": {
    "collapsed": false,
    "pycharm": {
     "name": "#%%\n"
    }
   }
  },
  {
   "cell_type": "code",
   "execution_count": 52,
   "outputs": [
    {
     "name": "stdout",
     "output_type": "stream",
     "text": [
      "10\n",
      "20, it's a getter\n",
      "50\n",
      "70, it's a getter\n"
     ]
    }
   ],
   "source": [
    "rect = Rectangle(10, 20)\n",
    "print(rect.width)\n",
    "print(rect.height)\n",
    "\n",
    "rect.width = 50\n",
    "rect.height = 70\n",
    "\n",
    "print(rect.width)\n",
    "print(rect.height)"
   ],
   "metadata": {
    "collapsed": false,
    "pycharm": {
     "name": "#%%\n"
    }
   }
  },
  {
   "cell_type": "code",
   "execution_count": 51,
   "outputs": [
    {
     "ename": "ValueError",
     "evalue": "",
     "output_type": "error",
     "traceback": [
      "\u001B[1;31m---------------------------------------------------------------------------\u001B[0m",
      "\u001B[1;31mValueError\u001B[0m                                Traceback (most recent call last)",
      "\u001B[1;32m<ipython-input-51-c09a081d00a0>\u001B[0m in \u001B[0;36m<module>\u001B[1;34m\u001B[0m\n\u001B[0;32m      1\u001B[0m \u001B[1;31m# Если вы обратили внимание: в setter’ах этих свойств осуществляется проверка входных значений, если значение меньше нуля, то будет выброшено исключение ValueError:\u001B[0m\u001B[1;33m\u001B[0m\u001B[1;33m\u001B[0m\u001B[1;33m\u001B[0m\u001B[0m\n\u001B[1;32m----> 2\u001B[1;33m \u001B[0mrect\u001B[0m\u001B[1;33m.\u001B[0m\u001B[0mwidth\u001B[0m \u001B[1;33m=\u001B[0m \u001B[1;33m-\u001B[0m\u001B[1;36m10\u001B[0m\u001B[1;33m\u001B[0m\u001B[1;33m\u001B[0m\u001B[0m\n\u001B[0m\u001B[0;32m      3\u001B[0m \u001B[1;33m\u001B[0m\u001B[0m\n",
      "\u001B[1;32m<ipython-input-49-60e0f0d419f1>\u001B[0m in \u001B[0;36mwidth\u001B[1;34m(self, w)\u001B[0m\n\u001B[0;32m     13\u001B[0m             \u001B[0mself\u001B[0m\u001B[1;33m.\u001B[0m\u001B[0m__width\u001B[0m \u001B[1;33m=\u001B[0m \u001B[0mw\u001B[0m\u001B[1;33m\u001B[0m\u001B[1;33m\u001B[0m\u001B[0m\n\u001B[0;32m     14\u001B[0m         \u001B[1;32melse\u001B[0m\u001B[1;33m:\u001B[0m\u001B[1;33m\u001B[0m\u001B[1;33m\u001B[0m\u001B[0m\n\u001B[1;32m---> 15\u001B[1;33m             \u001B[1;32mraise\u001B[0m \u001B[0mValueError\u001B[0m\u001B[1;33m\u001B[0m\u001B[1;33m\u001B[0m\u001B[0m\n\u001B[0m\u001B[0;32m     16\u001B[0m \u001B[1;33m\u001B[0m\u001B[0m\n\u001B[0;32m     17\u001B[0m     \u001B[1;33m@\u001B[0m\u001B[0mproperty\u001B[0m\u001B[1;33m\u001B[0m\u001B[1;33m\u001B[0m\u001B[0m\n",
      "\u001B[1;31mValueError\u001B[0m: "
     ]
    }
   ],
   "source": [
    "# Если вы обратили внимание: в setter’ах этих свойств осуществляется проверка входных значений, если значение меньше нуля, то будет выброшено исключение ValueError:\n",
    "rect.width = -10"
   ],
   "metadata": {
    "collapsed": false,
    "pycharm": {
     "name": "#%%\n"
    }
   }
  },
  {
   "cell_type": "code",
   "execution_count": 54,
   "outputs": [],
   "source": [
    "class Figure:\n",
    "    def __init__(self, color):\n",
    "        self.__color = color\n",
    "\n",
    "    @property\n",
    "    def color(self):\n",
    "        return self.__color\n",
    "\n",
    "    @color.setter\n",
    "    def color(self, c):\n",
    "        self.__color = c\n",
    "\n",
    "class Rectangle(Figure):\n",
    "    def __init__(self, width, height, color):\n",
    "        # super – это ключевое слово, которое используется для обращения к родительскому классу.\n",
    "        super().__init__(color)\n",
    "        self.__width = width\n",
    "        self.__height = height\n",
    "\n",
    "    @property\n",
    "    def width(self):\n",
    "        return self.__width\n",
    "\n",
    "    @width.setter\n",
    "    def width(self, w):\n",
    "        if w > 0:\n",
    "            self.__width = w\n",
    "        else:\n",
    "            raise ValueError\n",
    "\n",
    "    @property\n",
    "    def height(self):\n",
    "        return self.__height\n",
    "\n",
    "    @height.setter\n",
    "    def height(self, h):\n",
    "        if h > 0:\n",
    "            self.__height = h\n",
    "        else:\n",
    "            raise ValueError\n",
    "\n",
    "    def area(self):\n",
    "        return self.__width * self.__height"
   ],
   "metadata": {
    "collapsed": false,
    "pycharm": {
     "name": "#%% Наследование\n"
    }
   }
  },
  {
   "cell_type": "code",
   "execution_count": 62,
   "outputs": [
    {
     "name": "stdout",
     "output_type": "stream",
     "text": [
      "10\n",
      "20\n",
      "green\n",
      "red\n"
     ]
    }
   ],
   "source": [
    "rect = Rectangle(10, 20, \"green\")\n",
    "print(rect.width)\n",
    "print(rect.height)\n",
    "print(rect.color)\n",
    "rect.color = \"red\"\n",
    "print(rect.color)"
   ],
   "metadata": {
    "collapsed": false,
    "pycharm": {
     "name": "#%%\n"
    }
   }
  },
  {
   "cell_type": "markdown",
   "source": [
    "Полиморфизм"
   ],
   "metadata": {
    "collapsed": false,
    "pycharm": {
     "name": "#%% md\n"
    }
   }
  },
  {
   "cell_type": "code",
   "execution_count": 83,
   "outputs": [],
   "source": [
    "class Figure:\n",
    "    def __init__(self, color):\n",
    "        self.__color = color\n",
    "\n",
    "    @property\n",
    "    def color(self):\n",
    "        return self.__color\n",
    "\n",
    "    @color.setter\n",
    "    def color(self, c):\n",
    "        self.__color = c\n",
    "\n",
    "    def info(self):\n",
    "        print(\"Figure\")\n",
    "        print(\"Color: \" + self.__color)\n",
    "\n",
    "class Rectangle(Figure):\n",
    "    def __init__(self, width, height, color):\n",
    "        # super – это ключевое слово, которое используется для обращения к родительскому классу.\n",
    "        super().__init__(color)\n",
    "        self.__width = width\n",
    "        self.__height = height\n",
    "\n",
    "    @property\n",
    "    def width(self):\n",
    "        return self.__width\n",
    "\n",
    "    @width.setter\n",
    "    def width(self, w):\n",
    "        if w > 0:\n",
    "            self.__width = w\n",
    "        else:\n",
    "            raise ValueError\n",
    "\n",
    "    @property\n",
    "    def height(self):\n",
    "        return self.__height\n",
    "\n",
    "    @height.setter\n",
    "    def height(self, h):\n",
    "        if h > 0:\n",
    "            self.__height = h\n",
    "        else:\n",
    "            raise ValueError\n",
    "\n",
    "    def area(self):\n",
    "        return self.__width * self.__height\n",
    "\n",
    "    def info(self):\n",
    "        print(\"Rectangle\")\n",
    "        print(\"Color: \" + self.color)\n",
    "        print(\"Width: \" + str(self.width))\n",
    "        print(\"Height \" + str(self.height))\n",
    "        print(\"Area: \" + str(self.area()))"
   ],
   "metadata": {
    "collapsed": false,
    "pycharm": {
     "name": "#%%\n"
    }
   }
  },
  {
   "cell_type": "code",
   "execution_count": 86,
   "outputs": [
    {
     "name": "stdout",
     "output_type": "stream",
     "text": [
      "Figure\n",
      "Color: orange\n",
      "\n",
      "Rectangle\n",
      "Color: red\n",
      "Width: 10\n",
      "Height 20\n",
      "Area: 200\n"
     ]
    }
   ],
   "source": [
    "fig = Figure(\"orange\")\n",
    "fig.info()\n",
    "print()\n",
    "\n",
    "rect = Rectangle(10, 20, 'red')\n",
    "rect.info()"
   ],
   "metadata": {
    "collapsed": false,
    "pycharm": {
     "name": "#%%\n"
    }
   }
  }
 ],
 "metadata": {
  "kernelspec": {
   "display_name": "Python 3",
   "language": "python",
   "name": "python3"
  },
  "language_info": {
   "codemirror_mode": {
    "name": "ipython",
    "version": 2
   },
   "file_extension": ".py",
   "mimetype": "text/x-python",
   "name": "python",
   "nbconvert_exporter": "python",
   "pygments_lexer": "ipython2",
   "version": "2.7.6"
  }
 },
 "nbformat": 4,
 "nbformat_minor": 0
}