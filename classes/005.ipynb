{
 "cells": [
  {
   "cell_type": "code",
   "execution_count": 108,
   "metadata": {
    "collapsed": true
   },
   "outputs": [
    {
     "name": "stdout",
     "output_type": "stream",
     "text": [
      "<__main__.A object at 0x000002017E060880>\n",
      "1 4\n",
      "\n",
      "2 8\n"
     ]
    }
   ],
   "source": [
    "class A:\n",
    "    a = 1\n",
    "\n",
    "    def method(self, c):\n",
    "        return c * 2 * self.a\n",
    "\n",
    "\n",
    "a = A()\n",
    "b = A()\n",
    "\n",
    "b.a = 2\n",
    "\n",
    "print(a)\n",
    "print(a.a, a.method(2))\n",
    "print()\n",
    "\n",
    "print(b.a, b.method(2))"
   ]
  },
  {
   "cell_type": "code",
   "execution_count": 109,
   "outputs": [],
   "source": [
    "class B:\n",
    "    n = 5\n",
    "    def adder(self, v):\n",
    "        return v + self.n"
   ],
   "metadata": {
    "collapsed": false,
    "pycharm": {
     "name": "#%%\n"
    }
   }
  },
  {
   "cell_type": "code",
   "execution_count": 110,
   "outputs": [
    {
     "data": {
      "text/plain": "{}"
     },
     "execution_count": 110,
     "metadata": {},
     "output_type": "execute_result"
    }
   ],
   "source": [
    "w = B()\n",
    "w.__dict__"
   ],
   "metadata": {
    "collapsed": false,
    "pycharm": {
     "name": "#%%\n"
    }
   }
  },
  {
   "cell_type": "code",
   "execution_count": 111,
   "outputs": [
    {
     "data": {
      "text/plain": "{'n': 8}"
     },
     "execution_count": 111,
     "metadata": {},
     "output_type": "execute_result"
    }
   ],
   "source": [
    "w.n = 8\n",
    "w.__dict__"
   ],
   "metadata": {
    "collapsed": false,
    "pycharm": {
     "name": "#%%\n"
    }
   }
  },
  {
   "cell_type": "code",
   "execution_count": 112,
   "outputs": [
    {
     "name": "stdout",
     "output_type": "stream",
     "text": [
      "Max is German Shepherd\n"
     ]
    }
   ],
   "source": [
    "class Dog:\n",
    "    def __init__(self, name, breed):\n",
    "        self.name = name\n",
    "        self.breed = breed\n",
    "\n",
    "\n",
    "dog = Dog(\"Max\", \"German Shepherd\")\n",
    "print(dog.name + \" is \" + dog.breed)"
   ],
   "metadata": {
    "collapsed": false,
    "pycharm": {
     "name": "#%%\n"
    }
   }
  },
  {
   "cell_type": "code",
   "execution_count": 113,
   "outputs": [
    {
     "name": "stdout",
     "output_type": "stream",
     "text": [
      "The object is destroyed\n"
     ]
    }
   ],
   "source": [
    "class Data:\n",
    "    def __del__(self):\n",
    "        print(\"The object is destroyed\")\n",
    "data = Data()\n",
    "del data"
   ],
   "metadata": {
    "collapsed": false,
    "pycharm": {
     "name": "#%%\n"
    }
   }
  },
  {
   "cell_type": "code",
   "execution_count": 114,
   "outputs": [
    {
     "name": "stdout",
     "output_type": "stream",
     "text": [
      "John earns $2000\n"
     ]
    }
   ],
   "source": [
    "class Person:\n",
    "    name = \"John\"\n",
    "\n",
    "class Worker(Person):\n",
    "    wage = 2000\n",
    "\n",
    "\n",
    "human = Worker()\n",
    "print(human.name + \" earns $\" + str(human.wage))"
   ],
   "metadata": {
    "collapsed": false,
    "pycharm": {
     "name": "#%%\n"
    }
   }
  },
  {
   "cell_type": "code",
   "execution_count": 115,
   "outputs": [
    {
     "name": "stdout",
     "output_type": "stream",
     "text": [
      "Buddy is sleeping\n",
      "Buddy is playing\n",
      "Buddy is barking\n"
     ]
    }
   ],
   "source": [
    "class Creature:\n",
    "    def __init__(self, name):\n",
    "        self.name = name\n",
    "\n",
    "class Animal(Creature):\n",
    "    def sleep(self):\n",
    "        print(self.name + \" is sleeping\")\n",
    "\n",
    "class Pet(Creature):\n",
    "    def play(self):\n",
    "        print(self.name + \" is playing\")\n",
    "\n",
    "class Dog(Animal, Pet):\n",
    "    def bark(self):\n",
    "        print(self.name + \" is barking\")\n",
    "\n",
    "beast = Dog(\"Buddy\")\n",
    "beast.sleep()\n",
    "beast.play()\n",
    "beast.bark()"
   ],
   "metadata": {
    "collapsed": false,
    "pycharm": {
     "name": "#%%\n"
    }
   }
  },
  {
   "cell_type": "code",
   "execution_count": 116,
   "outputs": [
    {
     "name": "stdout",
     "output_type": "stream",
     "text": [
      "Roxy says: Frrr\n",
      "Buddy says: Woof!\n",
      "Lisa says: Meow!\n"
     ]
    }
   ],
   "source": [
    "class Animal:\n",
    "    def __init__(self, this_is_name):\n",
    "        self.name = this_is_name\n",
    "    def makeNoise(self):\n",
    "        pass\n",
    "\n",
    "class Dog(Animal):\n",
    "    def makeNoise(self):\n",
    "        print(self.name + \" says: Woof!\")\n",
    "\n",
    "class Cat(Animal):\n",
    "    def makeNoise(self):\n",
    "        print(self.name + \" says: Meow!\")\n",
    "\n",
    "class Fox(Animal):\n",
    "    def makeNoise(self):\n",
    "        print(self.name + \" says: Frrr\")\n",
    "\n",
    "fox = Fox(\"Roxy\")\n",
    "dog = Dog(\"Buddy\")\n",
    "cat = Cat(\"Lisa\")\n",
    "\n",
    "fox.makeNoise()\n",
    "dog.makeNoise()\n",
    "cat.makeNoise()"
   ],
   "metadata": {
    "collapsed": false,
    "pycharm": {
     "name": "#%%\n"
    }
   }
  },
  {
   "cell_type": "code",
   "execution_count": 117,
   "outputs": [],
   "source": [
    "class Math:\n",
    "    @staticmethod\n",
    "    def inc(x):\n",
    "        return x + 1\n",
    "\n",
    "    @staticmethod\n",
    "    def dec(x):\n",
    "        return x - 1"
   ],
   "metadata": {
    "collapsed": false,
    "pycharm": {
     "name": "#%%\n"
    }
   }
  },
  {
   "cell_type": "code",
   "execution_count": 118,
   "outputs": [
    {
     "name": "stdout",
     "output_type": "stream",
     "text": [
      "11 9\n"
     ]
    }
   ],
   "source": [
    "print(Math.inc(10), Math.dec(10))"
   ],
   "metadata": {
    "collapsed": false,
    "pycharm": {
     "name": "#%%\n"
    }
   }
  },
  {
   "cell_type": "code",
   "execution_count": 119,
   "outputs": [],
   "source": [
    "class Cat:\n",
    "    name_non_private = \"Buddy\"\n",
    "    __name_private = \"Kitty\"\n",
    "    def get_name(self):\n",
    "        return self.__name_private\n",
    "\n",
    "    def set_name(self, name):\n",
    "        self.__name_private = name"
   ],
   "metadata": {
    "collapsed": false,
    "pycharm": {
     "name": "#%%\n"
    }
   }
  },
  {
   "cell_type": "code",
   "execution_count": 120,
   "outputs": [
    {
     "name": "stdout",
     "output_type": "stream",
     "text": [
      "Kitty\n",
      "Lisa\n"
     ]
    }
   ],
   "source": [
    "cat = Cat()\n",
    "\n",
    "print(cat.get_name())\n",
    "\n",
    "cat.set_name(\"Lisa\")\n",
    "print(cat.get_name())"
   ],
   "metadata": {
    "collapsed": false,
    "pycharm": {
     "name": "#%%\n"
    }
   }
  },
  {
   "cell_type": "code",
   "execution_count": 121,
   "outputs": [
    {
     "ename": "AttributeError",
     "evalue": "'Cat' object has no attribute '__name_private'",
     "output_type": "error",
     "traceback": [
      "\u001B[1;31m---------------------------------------------------------------------------\u001B[0m",
      "\u001B[1;31mAttributeError\u001B[0m                            Traceback (most recent call last)",
      "\u001B[1;32m<ipython-input-121-93b878fc223e>\u001B[0m in \u001B[0;36m<module>\u001B[1;34m\u001B[0m\n\u001B[1;32m----> 1\u001B[1;33m \u001B[0mprint\u001B[0m\u001B[1;33m(\u001B[0m\u001B[0mcat\u001B[0m\u001B[1;33m.\u001B[0m\u001B[0m__name_private\u001B[0m\u001B[1;33m)\u001B[0m\u001B[1;33m\u001B[0m\u001B[1;33m\u001B[0m\u001B[0m\n\u001B[0m\u001B[0;32m      2\u001B[0m \u001B[1;33m\u001B[0m\u001B[0m\n\u001B[0;32m      3\u001B[0m \u001B[1;33m\u001B[0m\u001B[0m\n",
      "\u001B[1;31mAttributeError\u001B[0m: 'Cat' object has no attribute '__name_private'"
     ]
    }
   ],
   "source": [
    "print(cat.__name_private)\n"
   ],
   "metadata": {
    "collapsed": false,
    "pycharm": {
     "name": "#%%\n"
    }
   }
  },
  {
   "cell_type": "code",
   "execution_count": 122,
   "outputs": [
    {
     "name": "stdout",
     "output_type": "stream",
     "text": [
      "Buddy\n"
     ]
    }
   ],
   "source": [
    "print(cat.name_non_private)"
   ],
   "metadata": {
    "collapsed": false,
    "pycharm": {
     "name": "#%%\n"
    }
   }
  },
  {
   "cell_type": "code",
   "execution_count": 12,
   "outputs": [],
   "source": [
    "class Data:\n",
    "    def __init__(self, x):\n",
    "        self.__set_x(x)\n",
    "\n",
    "    def __get_x(self):\n",
    "        print(\"Get X\")\n",
    "        return self.__x\n",
    "\n",
    "    def __set_x(self, x):\n",
    "        self.__x = x\n",
    "        print(\"Set X\")\n",
    "\n",
    "    x = property(__get_x, __set_x)"
   ],
   "metadata": {
    "collapsed": false,
    "pycharm": {
     "name": "#%%\n"
    }
   }
  },
  {
   "cell_type": "code",
   "execution_count": 14,
   "outputs": [
    {
     "name": "stdout",
     "output_type": "stream",
     "text": [
      "Set X\n",
      "Get X\n",
      "10\n",
      "Set X\n",
      "Get X\n",
      "20\n"
     ]
    }
   ],
   "source": [
    "data = Data(10)\n",
    "print(data.x)\n",
    "\n",
    "data.x = 20\n",
    "print(data.x)"
   ],
   "metadata": {
    "collapsed": false,
    "pycharm": {
     "name": "#%%\n"
    }
   }
  },
  {
   "cell_type": "code",
   "execution_count": 19,
   "outputs": [],
   "source": [
    "class Point:\n",
    "    def __init__(self, x, y):\n",
    "        self.x = x\n",
    "        self.y = y\n",
    "\n",
    "    def __eq__(self, other):\n",
    "        return self.x == other.x and self.y == other.y"
   ],
   "metadata": {
    "collapsed": false,
    "pycharm": {
     "name": "#%%\n"
    }
   }
  },
  {
   "cell_type": "code",
   "execution_count": 20,
   "outputs": [
    {
     "name": "stdout",
     "output_type": "stream",
     "text": [
      "True\n",
      "False\n"
     ]
    }
   ],
   "source": [
    "print(Point(2, 5) == Point(2, 5))\n",
    "print(Point(3, 8) == Point(4, 6))"
   ],
   "metadata": {
    "collapsed": false,
    "pycharm": {
     "name": "#%%\n"
    }
   }
  }
 ],
 "metadata": {
  "kernelspec": {
   "display_name": "Python 3",
   "language": "python",
   "name": "python3"
  },
  "language_info": {
   "codemirror_mode": {
    "name": "ipython",
    "version": 2
   },
   "file_extension": ".py",
   "mimetype": "text/x-python",
   "name": "python",
   "nbconvert_exporter": "python",
   "pygments_lexer": "ipython2",
   "version": "2.7.6"
  }
 },
 "nbformat": 4,
 "nbformat_minor": 0
}