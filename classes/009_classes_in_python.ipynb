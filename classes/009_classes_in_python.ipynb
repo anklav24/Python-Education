{
 "cells": [
  {
   "cell_type": "markdown",
   "metadata": {
    "collapsed": true,
    "pycharm": {
     "name": "#%% md\n"
    }
   },
   "source": [
    "https://pythonist.ru/klassy-v-python/?utm_source=telegram&utm_medium=pythonist"
   ]
  },
  {
   "cell_type": "code",
   "execution_count": 4,
   "outputs": [
    {
     "name": "stdout",
     "output_type": "stream",
     "text": [
      "Loco\n",
      "John\n"
     ]
    }
   ],
   "source": [
    "class Employee:\n",
    "    def __init__(self, name: str='Alex'):\n",
    "        self.name = name\n",
    "\n",
    "emp = Employee('Loco')\n",
    "print(emp.name)\n",
    "\n",
    "emp.name = 'John'\n",
    "print(emp.name)\n"
   ],
   "metadata": {
    "collapsed": false,
    "pycharm": {
     "name": "#%%\n"
    }
   }
  }
 ],
 "metadata": {
  "kernelspec": {
   "display_name": "Python 3",
   "language": "python",
   "name": "python3"
  },
  "language_info": {
   "codemirror_mode": {
    "name": "ipython",
    "version": 2
   },
   "file_extension": ".py",
   "mimetype": "text/x-python",
   "name": "python",
   "nbconvert_exporter": "python",
   "pygments_lexer": "ipython2",
   "version": "2.7.6"
  }
 },
 "nbformat": 4,
 "nbformat_minor": 0
}