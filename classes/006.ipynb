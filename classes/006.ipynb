{
 "cells": [
  {
   "cell_type": "code",
   "execution_count": 3,
   "metadata": {
    "collapsed": true
   },
   "outputs": [],
   "source": [
    "class Employee:\n",
    "    \"\"\"Basic class\"\"\"\n",
    "    emp_count = 0\n",
    "\n",
    "    def __init__(self, name, salary):\n",
    "        self.name = name\n",
    "        self.salary = salary\n",
    "        Employee.emp_count += 1\n",
    "\n",
    "    def display_count(self):\n",
    "        print(\"Total employees: %d\" % Employee.emp_count)\n",
    "\n",
    "    def display_employee(self):\n",
    "        print(\"Name: {}. Salary: {}\".format(self.name, self.salary))"
   ]
  },
  {
   "cell_type": "code",
   "execution_count": 4,
   "outputs": [],
   "source": [
    "emp1 = Employee(\"Andrey\", 2000)\n",
    "emp2 = Employee(\"Alex\", 5000)"
   ],
   "metadata": {
    "collapsed": false,
    "pycharm": {
     "name": "#%%\n"
    }
   }
  },
  {
   "cell_type": "code",
   "execution_count": 22,
   "outputs": [
    {
     "name": "stdout",
     "output_type": "stream",
     "text": [
      "Name: Adrey. Salary: 2000\n",
      "Name: Alex. Salary: 5000\n",
      "Employee.emp_count=2\n"
     ]
    }
   ],
   "source": [
    "emp1.display_employee()\n",
    "emp2.display_employee()\n",
    "print(f\"{Employee.emp_count=}\")"
   ],
   "metadata": {
    "collapsed": false,
    "pycharm": {
     "name": "#%%\n"
    }
   }
  },
  {
   "cell_type": "code",
   "execution_count": 24,
   "outputs": [
    {
     "name": "stdout",
     "output_type": "stream",
     "text": [
      "Employee.__doc__='Basic class'\n",
      "Employee.__name__='Employee'\n",
      "Employee.__module__='__main__'\n",
      "Employee.__bases__=(<class 'object'>,)\n",
      "Employee.__dict__=mappingproxy({'__module__': '__main__', '__doc__': 'Basic class', 'emp_count': 2, '__init__': <function Employee.__init__ at 0x0000024C580D5EE0>, 'display_count': <function Employee.display_count at 0x0000024C58797040>, 'display_employee': <function Employee.display_employee at 0x0000024C587970D0>, '__dict__': <attribute '__dict__' of 'Employee' objects>, '__weakref__': <attribute '__weakref__' of 'Employee' objects>})\n"
     ]
    }
   ],
   "source": [
    "print(f\"{Employee.__doc__=}\")\n",
    "print(f\"{Employee.__name__=}\")\n",
    "print(f\"{Employee.__module__=}\")\n",
    "print(f\"{Employee.__bases__=}\")\n",
    "print(f\"{Employee.__dict__=}\")"
   ],
   "metadata": {
    "collapsed": false,
    "pycharm": {
     "name": "#%%\n"
    }
   }
  },
  {
   "cell_type": "code",
   "execution_count": 28,
   "outputs": [
    {
     "name": "stdout",
     "output_type": "stream",
     "text": [
      "2526930630928 2526930630928 2526930630928\n"
     ]
    }
   ],
   "source": [
    "class Point:\n",
    "    def __init__(self, x=0, y=0):\n",
    "        self.x = x\n",
    "        self.y = y\n",
    "\n",
    "    def __del__(self):\n",
    "        class_name = self.__class__.__name__\n",
    "        print(\"{} destroyed\".format(class_name))\n",
    "\n",
    "\n",
    "pt1 = Point()\n",
    "pt2 = pt1\n",
    "pt3 = pt1\n",
    "print(id(pt1), id(pt2), id(pt3))"
   ],
   "metadata": {
    "collapsed": false,
    "pycharm": {
     "name": "#%%\n"
    }
   }
  },
  {
   "cell_type": "code",
   "execution_count": 29,
   "outputs": [
    {
     "name": "stdout",
     "output_type": "stream",
     "text": [
      "Point destroyed\n"
     ]
    }
   ],
   "source": [
    "del pt1\n",
    "del pt2\n",
    "del pt3"
   ],
   "metadata": {
    "collapsed": false,
    "pycharm": {
     "name": "#%%\n"
    }
   }
  },
  {
   "cell_type": "code",
   "execution_count": null,
   "outputs": [],
   "source": [],
   "metadata": {
    "collapsed": false,
    "pycharm": {
     "name": "#%%\n"
    }
   }
  }
 ],
 "metadata": {
  "kernelspec": {
   "display_name": "Python 3",
   "language": "python",
   "name": "python3"
  },
  "language_info": {
   "codemirror_mode": {
    "name": "ipython",
    "version": 2
   },
   "file_extension": ".py",
   "mimetype": "text/x-python",
   "name": "python",
   "nbconvert_exporter": "python",
   "pygments_lexer": "ipython2",
   "version": "2.7.6"
  }
 },
 "nbformat": 4,
 "nbformat_minor": 0
}