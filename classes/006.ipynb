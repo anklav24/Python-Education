{
 "cells": [
  {
   "cell_type": "code",
   "execution_count": 3,
   "metadata": {
    "collapsed": true
   },
   "outputs": [],
   "source": [
    "class Employee:\n",
    "    \"\"\"Basic class\"\"\"\n",
    "    emp_count = 0\n",
    "\n",
    "    def __init__(self, name, salary):\n",
    "        self.name = name\n",
    "        self.salary = salary\n",
    "        Employee.emp_count += 1\n",
    "\n",
    "    def display_count(self):\n",
    "        print(\"Total employees: %d\" % Employee.emp_count)\n",
    "\n",
    "    def display_employee(self):\n",
    "        print(\"Name: {}. Salary: {}\".format(self.name, self.salary))"
   ]
  },
  {
   "cell_type": "code",
   "execution_count": 4,
   "outputs": [],
   "source": [
    "emp1 = Employee(\"Andrey\", 2000)\n",
    "emp2 = Employee(\"Alex\", 5000)"
   ],
   "metadata": {
    "collapsed": false,
    "pycharm": {
     "name": "#%%\n"
    }
   }
  },
  {
   "cell_type": "code",
   "execution_count": 22,
   "outputs": [
    {
     "name": "stdout",
     "output_type": "stream",
     "text": [
      "Name: Adrey. Salary: 2000\n",
      "Name: Alex. Salary: 5000\n",
      "Employee.emp_count=2\n"
     ]
    }
   ],
   "source": [
    "emp1.display_employee()\n",
    "emp2.display_employee()\n",
    "print(f\"{Employee.emp_count=}\")"
   ],
   "metadata": {
    "collapsed": false,
    "pycharm": {
     "name": "#%%\n"
    }
   }
  },
  {
   "cell_type": "code",
   "execution_count": 24,
   "outputs": [
    {
     "name": "stdout",
     "output_type": "stream",
     "text": [
      "Employee.__doc__='Basic class'\n",
      "Employee.__name__='Employee'\n",
      "Employee.__module__='__main__'\n",
      "Employee.__bases__=(<class 'object'>,)\n",
      "Employee.__dict__=mappingproxy({'__module__': '__main__', '__doc__': 'Basic class', 'emp_count': 2, '__init__': <function Employee.__init__ at 0x0000024C580D5EE0>, 'display_count': <function Employee.display_count at 0x0000024C58797040>, 'display_employee': <function Employee.display_employee at 0x0000024C587970D0>, '__dict__': <attribute '__dict__' of 'Employee' objects>, '__weakref__': <attribute '__weakref__' of 'Employee' objects>})\n"
     ]
    }
   ],
   "source": [
    "print(f\"{Employee.__doc__=}\")\n",
    "print(f\"{Employee.__name__=}\")\n",
    "print(f\"{Employee.__module__=}\")\n",
    "print(f\"{Employee.__bases__=}\")\n",
    "print(f\"{Employee.__dict__=}\")"
   ],
   "metadata": {
    "collapsed": false,
    "pycharm": {
     "name": "#%%\n"
    }
   }
  },
  {
   "cell_type": "code",
   "execution_count": 28,
   "outputs": [
    {
     "name": "stdout",
     "output_type": "stream",
     "text": [
      "2526930630928 2526930630928 2526930630928\n"
     ]
    }
   ],
   "source": [
    "class Point:\n",
    "    def __init__(self, x=0, y=0):\n",
    "        self.x = x\n",
    "        self.y = y\n",
    "\n",
    "    def __del__(self):\n",
    "        class_name = self.__class__.__name__\n",
    "        print(\"{} destroyed\".format(class_name))\n",
    "\n",
    "\n",
    "pt1 = Point()\n",
    "pt2 = pt1\n",
    "pt3 = pt1\n",
    "print(id(pt1), id(pt2), id(pt3))"
   ],
   "metadata": {
    "collapsed": false,
    "pycharm": {
     "name": "#%%\n"
    }
   }
  },
  {
   "cell_type": "code",
   "execution_count": 29,
   "outputs": [
    {
     "name": "stdout",
     "output_type": "stream",
     "text": [
      "Point destroyed\n"
     ]
    }
   ],
   "source": [
    "del pt1\n",
    "del pt2\n",
    "del pt3"
   ],
   "metadata": {
    "collapsed": false,
    "pycharm": {
     "name": "#%%\n"
    }
   }
  },
  {
   "cell_type": "markdown",
   "source": [
    "class SubClassName(ParentClass1[, ParentClass2, ...]):\n",
    "    \"\"\"Необязательная строка документации класса.\"\"\"\n",
    "    class_suite"
   ],
   "metadata": {
    "collapsed": false,
    "pycharm": {
     "name": "#%% md\n"
    }
   }
  },
  {
   "cell_type": "code",
   "execution_count": 8,
   "outputs": [
    {
     "name": "stdout",
     "output_type": "stream",
     "text": [
      "Вызов конструктора класса наследника.\n",
      "Вызов метода класса наследника.\n",
      "Вызов родительского метода.\n",
      "Атрибут родителя: 200\n"
     ]
    }
   ],
   "source": [
    "class Parent:  # Объявляем родительский класс.\n",
    "    parent_attr = 100\n",
    "\n",
    "    def __init__(self):\n",
    "        print('Вызов родительского конструктора.')\n",
    "\n",
    "    def parent_method(self):\n",
    "        print('Вызов родительского метода.')\n",
    "\n",
    "    def set_attr(self, attr):\n",
    "        Parent.parent_attr = attr\n",
    "\n",
    "    def get_attr(self):\n",
    "        print('Атрибут родителя: {}'.format(Parent.parent_attr))\n",
    "\n",
    "\n",
    "class Child(Parent):  # Объявляем класс наследник.\n",
    "    def __init__(self):\n",
    "        print('Вызов конструктора класса наследника.')\n",
    "\n",
    "    def child_method(self):\n",
    "        print('Вызов метода класса наследника.')\n",
    "\n",
    "\n",
    "c = Child()  # Экземпляр класса Child\n",
    "c.child_method()  # Вызов метода child_method\n",
    "c.parent_method()  # Вызов родительского метода parent_method.\n",
    "c.set_attr(200)  # Ещё раз вызов родительского метода.\n",
    "c.get_attr()  # Снова вызов родительского метода."
   ],
   "metadata": {
    "collapsed": false,
    "pycharm": {
     "name": "#%%\n"
    }
   }
  },
  {
   "cell_type": "markdown",
   "source": [
    "Переопределение методов"
   ],
   "metadata": {
    "collapsed": false,
    "pycharm": {
     "name": "#%% md\n"
    }
   }
  },
  {
   "cell_type": "code",
   "execution_count": 11,
   "outputs": [
    {
     "name": "stdout",
     "output_type": "stream",
     "text": [
      "Вызов метода наследника.\n"
     ]
    }
   ],
   "source": [
    "class Parent:  # Объявите родительский класс.\n",
    "    def my_method(self):\n",
    "        print('Вызов родительского метода.')\n",
    "\n",
    "\n",
    "class Child(Parent):\n",
    "    def my_method(self):\n",
    "        print('Вызов метода наследника.')\n",
    "\n",
    "\n",
    "c = Child()  # Создаем экземпляр класса Child\n",
    "c.my_method()  # Метод переопределён классом наследником."
   ],
   "metadata": {
    "collapsed": false,
    "pycharm": {
     "name": "#%%\n"
    }
   }
  },
  {
   "cell_type": "code",
   "execution_count": 13,
   "outputs": [
    {
     "name": "stdout",
     "output_type": "stream",
     "text": [
      "Vector (7, 8)\n"
     ]
    }
   ],
   "source": [
    "class Vector:\n",
    "    def __init__(self, a, b):\n",
    "        self.a = a\n",
    "        self.b = b\n",
    "\n",
    "    def __str__(self):\n",
    "        return 'Vector ({}, {})'.format(self.a, self.b)\n",
    "\n",
    "    def __add__(self, other):\n",
    "        return Vector(self.a + other.a, self.b + other.b)\n",
    "\n",
    "\n",
    "v1 = Vector(2, 10)\n",
    "v2 = Vector(5, -2)\n",
    "print(v1 + v2)"
   ],
   "metadata": {
    "collapsed": false,
    "pycharm": {
     "name": "#%%\n"
    }
   }
  },
  {
   "cell_type": "code",
   "execution_count": 19,
   "outputs": [
    {
     "name": "stdout",
     "output_type": "stream",
     "text": [
      "1\n",
      "2\n",
      "counter._JustCounter__secret_count=2 this in the bad way.\n"
     ]
    },
    {
     "ename": "AttributeError",
     "evalue": "'JustCounter' object has no attribute '__secret_count'",
     "output_type": "error",
     "traceback": [
      "\u001B[1;31m---------------------------------------------------------------------------\u001B[0m",
      "\u001B[1;31mAttributeError\u001B[0m                            Traceback (most recent call last)",
      "\u001B[1;32m<ipython-input-19-b65dc95bc975>\u001B[0m in \u001B[0;36m<module>\u001B[1;34m\u001B[0m\n\u001B[0;32m     11\u001B[0m \u001B[0mcounter\u001B[0m\u001B[1;33m.\u001B[0m\u001B[0mcount\u001B[0m\u001B[1;33m(\u001B[0m\u001B[1;33m)\u001B[0m\u001B[1;33m\u001B[0m\u001B[1;33m\u001B[0m\u001B[0m\n\u001B[0;32m     12\u001B[0m \u001B[0mprint\u001B[0m\u001B[1;33m(\u001B[0m\u001B[1;34mf\"{counter._JustCounter__secret_count=} this in the bad way.\"\u001B[0m\u001B[1;33m)\u001B[0m\u001B[1;33m\u001B[0m\u001B[1;33m\u001B[0m\u001B[0m\n\u001B[1;32m---> 13\u001B[1;33m \u001B[0mprint\u001B[0m\u001B[1;33m(\u001B[0m\u001B[0mcounter\u001B[0m\u001B[1;33m.\u001B[0m\u001B[0m__secret_count\u001B[0m\u001B[1;33m)\u001B[0m\u001B[1;33m\u001B[0m\u001B[1;33m\u001B[0m\u001B[0m\n\u001B[0m",
      "\u001B[1;31mAttributeError\u001B[0m: 'JustCounter' object has no attribute '__secret_count'"
     ]
    }
   ],
   "source": [
    "class JustCounter:\n",
    "    __secret_count = 0\n",
    "\n",
    "    def count(self):\n",
    "        self.__secret_count += 1\n",
    "        print(self.__secret_count)\n",
    "\n",
    "\n",
    "counter = JustCounter()\n",
    "counter.count()\n",
    "counter.count()\n",
    "print(f\"{counter._JustCounter__secret_count=} this in the bad way.\")\n",
    "print(counter.__secret_count)"
   ],
   "metadata": {
    "collapsed": false,
    "pycharm": {
     "name": "#%%\n"
    }
   }
  }
 ],
 "metadata": {
  "kernelspec": {
   "display_name": "Python 3",
   "language": "python",
   "name": "python3"
  },
  "language_info": {
   "codemirror_mode": {
    "name": "ipython",
    "version": 2
   },
   "file_extension": ".py",
   "mimetype": "text/x-python",
   "name": "python",
   "nbconvert_exporter": "python",
   "pygments_lexer": "ipython2",
   "version": "2.7.6"
  }
 },
 "nbformat": 4,
 "nbformat_minor": 0
}