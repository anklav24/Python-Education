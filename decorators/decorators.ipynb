{
 "cells": [
  {
   "cell_type": "code",
   "execution_count": 25,
   "metadata": {
    "collapsed": true
   },
   "outputs": [
    {
     "name": "stdout",
     "output_type": "stream",
     "text": [
      "First line\n",
      "First line\n",
      "VK\n",
      "Inst\n",
      "TG\n",
      "Last line\n",
      "Last line\n",
      "\n",
      "First line\n",
      "VK\n",
      "Inst\n",
      "TG\n",
      "Last line\n"
     ]
    }
   ],
   "source": [
    "def pylounge_decorator(func):\n",
    "    def wrapper():\n",
    "        print(\"First line\")\n",
    "        func()\n",
    "        print(\"Last line\")\n",
    "\n",
    "    return wrapper\n",
    "\n",
    "\n",
    "@pylounge_decorator\n",
    "def get_pylounge_links():\n",
    "    print(\"VK\")\n",
    "    print(\"Inst\")\n",
    "    print(\"TG\")\n",
    "\n",
    "\n",
    "# Можно скостылить вызов декоратора\n",
    "pylounge_decorator(get_pylounge_links)()\n",
    "\n",
    "# Можно по-человечески\n",
    "print()\n",
    "get_pylounge_links()"
   ]
  },
  {
   "cell_type": "code",
   "execution_count": 27,
   "outputs": [
    {
     "name": "stdout",
     "output_type": "stream",
     "text": [
      "First line\n",
      "VK: vk_link\n",
      "Inst: inst_link\n",
      "TG: tg_link\n",
      "Last line\n"
     ]
    }
   ],
   "source": [
    "def pylounge_decorator(func):\n",
    "    def wrapper(*args, **kwargs):\n",
    "        print(\"First line\")\n",
    "        func(*args, **kwargs)\n",
    "        print(\"Last line\")\n",
    "\n",
    "    return wrapper\n",
    "\n",
    "\n",
    "@pylounge_decorator\n",
    "def get_pylounge_links(vk, inst, tg):\n",
    "    print(f\"VK: {vk}\")\n",
    "    print(f\"Inst: {inst}\")\n",
    "    print(f\"TG: {tg}\")\n",
    "\n",
    "\n",
    "get_pylounge_links('vk_link', 'inst_link', 'tg_link')\n"
   ],
   "metadata": {
    "collapsed": false,
    "pycharm": {
     "name": "#%%\n"
    }
   }
  },
  {
   "cell_type": "markdown",
   "source": [
    "### Decorator with args\n"
   ],
   "metadata": {
    "collapsed": false
   }
  },
  {
   "cell_type": "code",
   "execution_count": 4,
   "outputs": [
    {
     "name": "stdout",
     "output_type": "stream",
     "text": [
      "First line\n",
      "VK: vk_link\n",
      "Inst: inst_link\n",
      "TG: tg_link\n",
      "End line\n"
     ]
    }
   ],
   "source": [
    "def pylounge_decorator(hi_msg, bye_msg):\n",
    "    def inner_decorator(func):\n",
    "        def wrapper(*args, **kwargs):\n",
    "            print(hi_msg)\n",
    "            func(*args, **kwargs)\n",
    "            print(bye_msg)\n",
    "        return wrapper\n",
    "    return inner_decorator\n",
    "\n",
    "\n",
    "@pylounge_decorator('First line', 'End line')\n",
    "def get_pylounge_links(vk, inst, tg):\n",
    "    print(f\"VK: {vk}\")\n",
    "    print(f\"Inst: {inst}\")\n",
    "    print(f\"TG: {tg}\")\n",
    "\n",
    "\n",
    "get_pylounge_links('vk_link', 'inst_link', 'tg_link')"
   ],
   "metadata": {
    "collapsed": false,
    "pycharm": {
     "name": "#%%\n"
    }
   }
  },
  {
   "cell_type": "code",
   "execution_count": 11,
   "outputs": [
    {
     "name": "stdout",
     "output_type": "stream",
     "text": [
      "The result is (0, 2, 4, 6, 8)\n"
     ]
    },
    {
     "data": {
      "text/plain": "(0, 2, 4, 6, 8)"
     },
     "execution_count": 11,
     "metadata": {},
     "output_type": "execute_result"
    }
   ],
   "source": [
    "def log_result(func):\n",
    "    def inner():\n",
    "        res = func()\n",
    "        print(f'The result is {res}')\n",
    "        return res\n",
    "    return inner\n",
    "\n",
    "@log_result\n",
    "def get_even_digits() -> tuple:\n",
    "    return 0, 2, 4, 6, 8\n",
    "\n",
    "get_even_digits()"
   ],
   "metadata": {
    "collapsed": false,
    "pycharm": {
     "name": "#%%\n"
    }
   }
  },
  {
   "cell_type": "code",
   "source": [
    "def log_result(func):\n",
    "    def inner(*args, **kwargs):\n",
    "        res = func(*args, **kwargs)\n",
    "        print(f'The result is {res}')\n",
    "        return res\n",
    "    return inner\n",
    "\n",
    "@log_result\n",
    "def hello_world(number: int) -> str:\n",
    "    return 'Hello' * number\n",
    "\n",
    "hello_world(3)"
   ],
   "metadata": {
    "collapsed": false,
    "pycharm": {
     "name": "#%%\n"
    }
   },
   "execution_count": 19,
   "outputs": [
    {
     "name": "stdout",
     "output_type": "stream",
     "text": [
      "The result is HelloHelloHello\n"
     ]
    },
    {
     "data": {
      "text/plain": "'HelloHelloHello'"
     },
     "execution_count": 19,
     "metadata": {},
     "output_type": "execute_result"
    }
   ]
  }
 ],
 "metadata": {
  "kernelspec": {
   "display_name": "Python 3",
   "language": "python",
   "name": "python3"
  },
  "language_info": {
   "codemirror_mode": {
    "name": "ipython",
    "version": 2
   },
   "file_extension": ".py",
   "mimetype": "text/x-python",
   "name": "python",
   "nbconvert_exporter": "python",
   "pygments_lexer": "ipython2",
   "version": "2.7.6"
  }
 },
 "nbformat": 4,
 "nbformat_minor": 0
}