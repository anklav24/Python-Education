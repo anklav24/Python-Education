{
 "cells": [
  {
   "cell_type": "code",
   "execution_count": 1,
   "metadata": {
    "collapsed": true
   },
   "outputs": [],
   "source": [
    "# https://realpython.com/python-bitwise-operators/"
   ]
  },
  {
   "cell_type": "code",
   "execution_count": 6,
   "outputs": [
    {
     "name": "stdout",
     "output_type": "stream",
     "text": [
      "a=121\n",
      "bin(a)='0b1111001'\n",
      "~a=-122\n"
     ]
    }
   ],
   "source": [
    "a = 121\n",
    "print(f'{a=}')\n",
    "print(f'{bin(a)=}')\n",
    "print(f'{~a=}')"
   ],
   "metadata": {
    "collapsed": false,
    "pycharm": {
     "name": "#%%\n"
    }
   }
  },
  {
   "cell_type": "code",
   "execution_count": 8,
   "outputs": [
    {
     "name": "stdout",
     "output_type": "stream",
     "text": [
      "4\n"
     ]
    }
   ],
   "source": [
    "# AND\n",
    "\n",
    "flags = 5\n",
    "mask = 4\n",
    "res = flags & mask\n",
    "print(res)"
   ],
   "metadata": {
    "collapsed": false,
    "pycharm": {
     "name": "#%%\n"
    }
   }
  },
  {
   "cell_type": "code",
   "execution_count": 11,
   "outputs": [
    {
     "name": "stdout",
     "output_type": "stream",
     "text": [
      "Second bit enabled\n"
     ]
    }
   ],
   "source": [
    "flags = 5\n",
    "mask = 4\n",
    "if flags & mask == mask:\n",
    "    print(\"Second bit enabled\")\n",
    "else:\n",
    "    print(\"Second bit disabled\")"
   ],
   "metadata": {
    "collapsed": false,
    "pycharm": {
     "name": "#%%\n"
    }
   }
  },
  {
   "cell_type": "code",
   "execution_count": 16,
   "outputs": [
    {
     "name": "stdout",
     "output_type": "stream",
     "text": [
      "8\n"
     ]
    }
   ],
   "source": [
    "flags = 13\n",
    "mask = 5\n",
    "flags = flags & ~mask\n",
    "print(flags)"
   ],
   "metadata": {
    "collapsed": false,
    "pycharm": {
     "name": "#%%\n"
    }
   }
  },
  {
   "cell_type": "code",
   "execution_count": 18,
   "outputs": [
    {
     "name": "stdout",
     "output_type": "stream",
     "text": [
      "13\n"
     ]
    }
   ],
   "source": [
    "# or\n",
    "\n",
    "flags = 8\n",
    "mask = 5\n",
    "flags = flags | mask\n",
    "print(flags)"
   ],
   "metadata": {
    "collapsed": false,
    "pycharm": {
     "name": "#%%\n"
    }
   }
  },
  {
   "cell_type": "code",
   "execution_count": 32,
   "outputs": [
    {
     "name": "stdout",
     "output_type": "stream",
     "text": [
      "8\n"
     ]
    }
   ],
   "source": [
    "# XOR\n",
    "\n",
    "flags = 9\n",
    "mask = 1\n",
    "flags = flags ^ mask\n",
    "print(flags)"
   ],
   "metadata": {
    "collapsed": false,
    "pycharm": {
     "name": "#%%\n"
    }
   }
  },
  {
   "cell_type": "code",
   "execution_count": 37,
   "outputs": [
    {
     "name": "stdout",
     "output_type": "stream",
     "text": [
      "0b10100000\n",
      "\n",
      "0b101000\n",
      "\n",
      "0b10100000\n"
     ]
    }
   ],
   "source": [
    "# Сдвиг битов\n",
    "\n",
    "x = 160\n",
    "print(bin(x))\n",
    "\n",
    "print()\n",
    "x = x >> 2\n",
    "print(bin(x))\n",
    "\n",
    "print()\n",
    "x = x << 2\n",
    "print(bin(x))"
   ],
   "metadata": {
    "collapsed": false,
    "pycharm": {
     "name": "#%%\n"
    }
   }
  }
 ],
 "metadata": {
  "kernelspec": {
   "display_name": "Python 3",
   "language": "python",
   "name": "python3"
  },
  "language_info": {
   "codemirror_mode": {
    "name": "ipython",
    "version": 2
   },
   "file_extension": ".py",
   "mimetype": "text/x-python",
   "name": "python",
   "nbconvert_exporter": "python",
   "pygments_lexer": "ipython2",
   "version": "2.7.6"
  }
 },
 "nbformat": 4,
 "nbformat_minor": 0
}